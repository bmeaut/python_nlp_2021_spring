{
 "cells": [
  {
   "cell_type": "markdown",
   "metadata": {
    "id": "cH6JGnuPaYwD"
   },
   "source": [
    "# Introduction to Python and Natural Language Technologies\n",
    "\n",
    "__Lecture 10 - NLP applications, Dependency parsing__\n",
    "\n",
    "__April 20, 2021__\n",
    "\n",
    "__Kinga Gémes__"
   ]
  },
  {
   "cell_type": "markdown",
   "metadata": {},
   "source": [
    "Today we are going to look at some NLP applications. If you are interested in the packages used during the lecture, you can check out their websites:\n",
    "\n",
    " - [Huggingface transformer pipelines](https://huggingface.co/transformers/main_classes/pipelines.html)\n",
    " - [Spacy](https://spacy.io/usage/linguistic-features)\n",
    " - [NLTK](https://www.nltk.org/book/)\n",
    " - [AllenNLP](https://docs.allennlp.org/main/)\n",
    " - [Gensim](https://radimrehurek.com/gensim_3.8.3/auto_examples/index.html)\n",
    " - [Stanza](https://stanfordnlp.github.io/stanza/)\n",
    " - [WordNet](https://wordnet.princeton.edu/documentation)\n",
    " - [ConceptNet](https://conceptnet.io/)"
   ]
  },
  {
   "cell_type": "markdown",
   "metadata": {},
   "source": [
    "# NLP Applications"
   ]
  },
  {
   "cell_type": "code",
   "execution_count": null,
   "metadata": {},
   "outputs": [],
   "source": [
    "!python3 -m pip install tensorflow\n",
    "!python3 -m pip install transformers==4.0.0\n",
    "!python3 -m pip install spacy==3.0\n",
    "!python3 -m spacy download en_core_web_sm\n",
    "!python3 -m spacy download de_core_news_sm\n",
    "!python3 -m pip install allennlp==2.1.0 allennlp-models==2.1.0\n",
    "!python3 -m pip install nltk\n",
    "!python3 -m pip install gensim\n",
    "!python3 -m pip install stanza\n",
    "!python3 -m pip install conllu\n",
    "!python3 -m pip install graphviz"
   ]
  },
  {
   "cell_type": "code",
   "execution_count": null,
   "metadata": {
    "id": "2lttWO0obBB0",
    "scrolled": true
   },
   "outputs": [],
   "source": [
    "import tensorflow as tf\n",
    "from transformers import TFGPT2LMHeadModel, GPT2Tokenizer, pipeline"
   ]
  },
  {
   "cell_type": "code",
   "execution_count": null,
   "metadata": {
    "id": "-PiJO1_YtuXg"
   },
   "outputs": [],
   "source": [
    "from gensim.summarization import summarizer as gensim_summarizer"
   ]
  },
  {
   "cell_type": "code",
   "execution_count": null,
   "metadata": {},
   "outputs": [],
   "source": [
    "import spacy\n",
    "\n",
    "spacy_nlp = spacy.load('en_core_web_sm')\n",
    "spacy_nlp_de = spacy.load('de_core_news_sm')"
   ]
  },
  {
   "cell_type": "code",
   "execution_count": null,
   "metadata": {},
   "outputs": [],
   "source": [
    "from allennlp.predictors.predictor import Predictor\n",
    "import allennlp_models.tagging"
   ]
  },
  {
   "cell_type": "code",
   "execution_count": null,
   "metadata": {
    "colab": {
     "base_uri": "https://localhost:8080/"
    },
    "id": "6oXO7_YKz6hG",
    "outputId": "49ba4a29-e77e-4583-9314-4a5bd1c9bf13",
    "scrolled": true
   },
   "outputs": [],
   "source": [
    "import nltk\n",
    "from nltk.corpus import wordnet as wn\n",
    "\n",
    "nltk.download(\"wordnet\")\n",
    "nltk.download('averaged_perceptron_tagger')"
   ]
  },
  {
   "cell_type": "code",
   "execution_count": null,
   "metadata": {
    "scrolled": true
   },
   "outputs": [],
   "source": [
    "import stanza\n",
    "\n",
    "stanza.download('en', package='default', processors='tokenize,mwt,pos,lemma,depparse,ner,sentiment', verbose=True)\n",
    "stanza.download('de', package='default', processors='tokenize,mwt,pos,lemma,depparse,ner,sentiment', verbose=True)\n",
    "stanza_nlp = stanza.Pipeline(lang='en', processors='tokenize,mwt,pos,lemma,depparse,ner,sentiment')\n",
    "stanza_nlp_de = stanza.Pipeline(lang='de', processors='tokenize,mwt,pos,lemma,depparse,ner,sentiment')"
   ]
  },
  {
   "cell_type": "markdown",
   "metadata": {
    "id": "WTV--CWTbBlg"
   },
   "source": [
    "## Sentiment and Emotion analysis"
   ]
  },
  {
   "cell_type": "markdown",
   "metadata": {
    "id": "jcVs2-UIrjaX"
   },
   "source": [
    "Sentiment analysis is the task of identifying the general sentiment (positive, neutral, negative) of texts.\n",
    "\n",
    "Emotion detection on the other hand is classifying the specific emotion recognized in the text, such as happiness, anger, surprise, etc."
   ]
  },
  {
   "cell_type": "code",
   "execution_count": 7,
   "metadata": {},
   "outputs": [],
   "source": [
    "sentence = \"I really like this class.\""
   ]
  },
  {
   "cell_type": "markdown",
   "metadata": {},
   "source": [
    "__AllenNLP__"
   ]
  },
  {
   "cell_type": "code",
   "execution_count": 8,
   "metadata": {
    "colab": {
     "base_uri": "https://localhost:8080/",
     "height": 164
    },
    "id": "moxs0alG7AXp",
    "outputId": "6c9f0567-b144-439a-ae42-a5790fa57f7e"
   },
   "outputs": [
    {
     "name": "stderr",
     "output_type": "stream",
     "text": [
      "[W108] The rule-based lemmatizer did not find POS annotation for the token 'I'. Check that your pipeline includes components that assign token.pos, typically 'tagger'+'attribute_ruler' or 'morphologizer'.\n",
      "[W108] The rule-based lemmatizer did not find POS annotation for the token 'really'. Check that your pipeline includes components that assign token.pos, typically 'tagger'+'attribute_ruler' or 'morphologizer'.\n",
      "[W108] The rule-based lemmatizer did not find POS annotation for the token 'like'. Check that your pipeline includes components that assign token.pos, typically 'tagger'+'attribute_ruler' or 'morphologizer'.\n",
      "[W108] The rule-based lemmatizer did not find POS annotation for the token 'this'. Check that your pipeline includes components that assign token.pos, typically 'tagger'+'attribute_ruler' or 'morphologizer'.\n",
      "[W108] The rule-based lemmatizer did not find POS annotation for the token 'class'. Check that your pipeline includes components that assign token.pos, typically 'tagger'+'attribute_ruler' or 'morphologizer'.\n",
      "[W108] The rule-based lemmatizer did not find POS annotation for the token '.'. Check that your pipeline includes components that assign token.pos, typically 'tagger'+'attribute_ruler' or 'morphologizer'.\n"
     ]
    },
    {
     "data": {
      "text/plain": [
       "{'logits': [0.6455011367797852, -0.6195871829986572],\n",
       " 'probs': [0.7799007892608643, 0.22009921073913574],\n",
       " 'token_ids': [63, 118, 43, 21, 810, 7],\n",
       " 'label': '1',\n",
       " 'tokens': ['I', 'really', 'like', 'this', 'class', '.']}"
      ]
     },
     "execution_count": 8,
     "metadata": {},
     "output_type": "execute_result"
    }
   ],
   "source": [
    "predictor = Predictor.from_path(\"https://storage.googleapis.com/allennlp-public-models/basic_stanford_sentiment_treebank-2020.06.09.tar.gz\")\n",
    "predictor.predict(sentence)"
   ]
  },
  {
   "cell_type": "markdown",
   "metadata": {},
   "source": [
    "__Huggingface__"
   ]
  },
  {
   "cell_type": "code",
   "execution_count": 9,
   "metadata": {
    "colab": {
     "base_uri": "https://localhost:8080/",
     "height": 232,
     "referenced_widgets": [
      "b6cb5309e97d48b092662e098f59bf08",
      "a7277978f85b4ed7bcc2026bd27291d7",
      "21b94d40a7de45a083278484183252bc",
      "1ae5a6c4aa2b446fbd841d7c4ea3e2b5",
      "d17901280a67414bb45be6b5f1b8db30",
      "d30edb3ce29f4acba482021fcf0c071e",
      "e585d1d1af23458faf8f27baeb0113f7",
      "0d0fae031a71499dac12c192257b64ba",
      "c865d21f29a748e6b360a8e2c151b676",
      "45eeb6cfa68d44c78d9e6e9e09ed29b4",
      "c004dad262114153925af5ffa13f84eb",
      "8c7b9873f16e4ddf91c7897de6b18aaf",
      "6bdc4417d8674294b7ba77d929b769e3",
      "033f3e0053c3427aa43201858c168408",
      "6138492c1c0240ab8430bdfdeb7e3945",
      "d8bf4445fb6044c1b8bc705707f2f834",
      "ddd5ccdc731c44e591993a730c520d61",
      "49f886c021bc4fc28dc732cfc27b7ebb",
      "352e152e946c49c2948659bd9bb3b5c5",
      "9e1e992178dc4a28aea0ae2943f645c0",
      "9c96bdd6b37e47d985e99b7ff31b9ffb",
      "f2dca8dd2ded40728cb038d66692551e",
      "372a52cf96224606ac91536b3c66633f",
      "9757fe3eda5e415f92d4c7770ccbf77a",
      "067e0b0452af4a8faa6622b2f5baa0dd",
      "7507f31dcc7d4b9789b2c647118d5e9a",
      "e506c3d7bc144a60b94a0d4df09f4c72",
      "06e3bd8276264deca3d21cad08de9c49",
      "f13bf2af688c429f8275d031df2b8834",
      "1603208ab31041dfa72960a54b7be569",
      "9825a71f8da7425896248e608276ae61",
      "955f30671bd2455d98453574bb170e8a"
     ]
    },
    "id": "htbD7sLuvNvf",
    "outputId": "f88602fc-0bd3-470e-9fb1-c660789f2756"
   },
   "outputs": [
    {
     "data": {
      "text/plain": [
       "[{'label': 'POSITIVE', 'score': 0.9998129606246948}]"
      ]
     },
     "execution_count": 9,
     "metadata": {},
     "output_type": "execute_result"
    }
   ],
   "source": [
    "sentiment = pipeline('sentiment-analysis')\n",
    "sentiment(sentence)"
   ]
  },
  {
   "cell_type": "markdown",
   "metadata": {},
   "source": [
    "__Stanza__"
   ]
  },
  {
   "cell_type": "code",
   "execution_count": 10,
   "metadata": {},
   "outputs": [
    {
     "name": "stdout",
     "output_type": "stream",
     "text": [
      "I really like this class.\tpositive\n"
     ]
    }
   ],
   "source": [
    "stanza_sentiments = {0: 'negative', 1: 'neutral', 2: 'positive'}\n",
    "doc = stanza_nlp(sentence)\n",
    "for sent in doc.sentences:\n",
    "    print(f'{sent.text}\\t{stanza_sentiments[sent.sentiment]}')"
   ]
  },
  {
   "cell_type": "markdown",
   "metadata": {
    "id": "2_R9YNc_KXz7"
   },
   "source": [
    "### Evaluation\n",
    "\n",
    "Sentiment and emotion recognition is a classification task and as such can be evaluated by accuracy, F-score and a classification report."
   ]
  },
  {
   "cell_type": "markdown",
   "metadata": {
    "id": "r8eviOABqvZ7"
   },
   "source": [
    "### SOTA\n",
    "\n",
    "Evaluation dataset: [IMDb dataset](https://ai.stanford.edu/~ang/papers/acl11-WordVectorsSentimentAnalysis.pdf) (categories: positive, negative evenly distributed)\n",
    "\n",
    "The current SOTA (state-of-the-art) on sentiment analysis is a [system](https://arxiv.org/pdf/1906.08237.pdf), that utilizes XLNet, which is a contextual language model similarly to BERT. This model's accuracy is 96.21%."
   ]
  },
  {
   "cell_type": "markdown",
   "metadata": {
    "id": "5P5rG14fZNCZ"
   },
   "source": [
    "## Summarization\n",
    "\n",
    "Can be:\n",
    "- Abstractive: we take the text and summerize it with our own words/expressions.\n",
    "- Extractive: we choose the sentences/expessions, that best summarize the given text."
   ]
  },
  {
   "cell_type": "code",
   "execution_count": 11,
   "metadata": {
    "id": "Q-ihaEjuaVTh"
   },
   "outputs": [],
   "source": [
    "ARTICLE = \"\"\"The Duke of Edinburgh has been laid to rest in an intimate funeral at St George's Chapel at Windsor Castle. \n",
    "The Dean of Windsor paid tribute to Prince Philip's \\\"kindness, humour and humanity\\\" during the ceremony. \n",
    "The congregation wore masks and was socially distanced in line with Covid rules, with the Queen seated alone. \n",
    "Ahead of the service, the duke's children walked behind his coffin in a funeral procession and there was a national minute's silence.\n",
    "His coffin was carried the short distance to St George's Chapel on a modified Land Rover, which the duke himself helped to design.\n",
    "Princess Anne and Prince Charles made up the front row behind the vehicle, followed by Prince Edward and Prince Andrew.\n",
    "In the third row, Prince William and Prince Harry walked either side of their cousin Peter Phillips.\n",
    "More than 730 members of the armed forces took part in the event, but there was a limit of 30 mourners inside St George's Chapel, under coronavirus rules.\n",
    "Prince Philip died at Windsor Castle on Friday 9 April, aged 99.\n",
    "The funeral procession from the castle to the chapel was headed by the Band of the Grenadier Guards, the Major General's party, and military service chiefs.\n",
    "Vice Admiral Sir Timothy Laurence and the Earl of Snowdon also walked behind the coffin, trailed by members of the duke's household staff.\n",
    "The Queen, 94, travelled with a lady-in-waiting in the state Bentley at the end of the procession.\"\"\""
   ]
  },
  {
   "cell_type": "markdown",
   "metadata": {
    "id": "ETqjAQ41Nt7f"
   },
   "source": [
    "### Abstractive"
   ]
  },
  {
   "cell_type": "markdown",
   "metadata": {},
   "source": [
    "__Huggingface__"
   ]
  },
  {
   "cell_type": "code",
   "execution_count": 12,
   "metadata": {
    "colab": {
     "base_uri": "https://localhost:8080/",
     "height": 264,
     "referenced_widgets": [
      "33184ed92a684f30bd0235e4fa8b011b",
      "7d3de57007b547cd9f65ee9639185496",
      "7ed281a8a8134f9d845a9f9803f57624",
      "faa0ad5f8afd42ed84ad206bc9226774",
      "03c6f6779ba64fada02a3005dbcacc7a",
      "0fa0418a84f04c7f9870ad1d172e118d",
      "08b8b564042042209a501a7ba131d164",
      "82388758e1bb4842b5a87e1172ebeac6",
      "2ecd487aad514a3db7add2b7562d88e3",
      "1ff47706095a47d7af1a2ae6df457bd5",
      "9e19d05ec354464bb09c696e9bb0487e",
      "f76e18189b9e48a38c835d4e1739145c",
      "f91d9186d93043dba64114b3b7eb60e8",
      "fb03daedca36485598fe337e67709685",
      "71761c00862b421db4650e9e93a23aa0",
      "00e684c72ce24c3c95b5372939a76228",
      "900d038c79994e8abde3293d6f21e4c2",
      "649ec9d0808f4af5a1a49202e6f87dda",
      "089a01ace9fa4d309379ed48c03ee64f",
      "bc99f3fd8eea4149af1c8ff82578a3f0",
      "9d2bb106292b4d8bbea0154315a759b9",
      "8df0be3f7f504dacb20dcc2da14a0fee",
      "80a74b4098b440dc9260f1e2b1e39b0e",
      "ee63e6bd46e6419e8aff291f292a3083",
      "780879deb0824b0a943e8e81c0a9e44d",
      "42ca272de98742e5b9db7d1e7e832202",
      "786971d470a0426cbdf8234799cf0c89",
      "bf1e6638b5dc44dbbc72ae5695d8f204",
      "2320f4e3b4074163a60bb17b59d238d8",
      "c290ef1b28594f66a1f1fd88393f49e1",
      "5b5532f61e054884a8b29e2d480a8906",
      "1ea30a2c33434160957f4fdd535686b0",
      "7694d962870e451291e752c9fb63d092",
      "19450cddea8845509ae726e2a011469c",
      "95ce1e8b7a1742b6b0adc65e3982bcce",
      "bfbef03e393b4f258fb2ed7f487c2bba",
      "b8450d9f9ba947cdb05a8e717a964f96",
      "26df443d7b7645c8acbd6ffa53510b00",
      "c6b0a7a105cf4eb18d3d680667032418",
      "521441ca29094734ade05d40d80b183d"
     ]
    },
    "id": "2w5bwbjwZTFD",
    "outputId": "c1a61a83-7551-4cbc-b86a-141bef108861"
   },
   "outputs": [
    {
     "name": "stdout",
     "output_type": "stream",
     "text": [
      "[{'summary_text': \" The Queen was laid to rest in St George's Chapel at Windsor Castle . Her coffin was carried out in a modified Land Rover by the Queen . More than 730 members of the public attended the service .\"}]\n"
     ]
    }
   ],
   "source": [
    "summarizer = pipeline(\"summarization\")\n",
    "print(summarizer(ARTICLE, max_length=130, min_length=30, do_sample=False))"
   ]
  },
  {
   "cell_type": "markdown",
   "metadata": {
    "id": "K1MR7se4Nzwj"
   },
   "source": [
    "### Extractive"
   ]
  },
  {
   "cell_type": "markdown",
   "metadata": {},
   "source": [
    "__Gensim__"
   ]
  },
  {
   "cell_type": "code",
   "execution_count": 13,
   "metadata": {
    "colab": {
     "base_uri": "https://localhost:8080/"
    },
    "id": "2tCa0wdxNUh6",
    "outputId": "b67958f4-afc0-45a9-f73f-dfb1b127aa2d"
   },
   "outputs": [
    {
     "name": "stdout",
     "output_type": "stream",
     "text": [
      "The Duke of Edinburgh has been laid to rest in an intimate funeral at St George's Chapel at Windsor Castle.\n",
      "Ahead of the service, the duke's children walked behind his coffin in a funeral procession and there was a national minute's silence.\n"
     ]
    }
   ],
   "source": [
    "print(gensim_summarizer.summarize(ARTICLE))"
   ]
  },
  {
   "cell_type": "markdown",
   "metadata": {
    "id": "_pAzv-9DKubG"
   },
   "source": [
    "### Evaluation\n",
    "\n",
    "Generated summaries can be evaluated using ROUGE (Recall-Oriented Understudy for Gisting Evaluation) score.\n",
    "\n",
    " - ROUGE-N: Overlap of N-grams between the predicted and reference summaries.\n",
    " - ROUGE-L: Longest Common Subsequence based statistics.\n",
    " - ROUGE-W: Weighted LCS-based statistics that favors consecutive LCSes.\n",
    " - ROUGE-S: Skip-bigram based co-occurrence statistics. Skip-bigram is any pair of words in their sentence order.\n",
    " - ROUGE-SU: Skip-bigram plus unigram-based co-occurrence statistics."
   ]
  },
  {
   "cell_type": "markdown",
   "metadata": {
    "id": "2-OQZXISq61p"
   },
   "source": [
    "### SOTA\n",
    "\n",
    "Evaluation dataset: [CNN/Daily Mail dataset](https://arxiv.org/pdf/1506.03340.pdf) (there are anonymized and non-anonymized versions, the systems below are evaluated on the non-anonymized dataset)\n",
    "\n",
    "The current SOTA (state-of-the-art) on extractive summarization is a [system](https://arxiv.org/pdf/2004.08795.pdf), that utilizes BERT in a siamise (two BERTs with tied-weights and a cosine-similaritylayer during the inference phase) way. Its ROUGE-2 score is 20.86 and its ROUGE-L is 40.55.\n",
    "\n",
    "The best performing [model](https://arxiv.org/pdf/2010.08014.pdf) on the abstractive summarization task uses a transformer based approach, achieving 22.32 on the ROUGE-2 metric and 42.48 on the ROUGE-L metric."
   ]
  },
  {
   "cell_type": "markdown",
   "metadata": {
    "id": "skJSOCVBZksG"
   },
   "source": [
    "## Generation\n",
    "\n",
    "Generating a text from a given prompt. This can be as simple as a random name generator and as comlex as fake news generation."
   ]
  },
  {
   "cell_type": "code",
   "execution_count": 14,
   "metadata": {},
   "outputs": [],
   "source": [
    "sentence = \"The grade for my homework will be\""
   ]
  },
  {
   "cell_type": "markdown",
   "metadata": {},
   "source": [
    "__Huggingface__"
   ]
  },
  {
   "cell_type": "code",
   "execution_count": 15,
   "metadata": {
    "colab": {
     "base_uri": "https://localhost:8080/",
     "height": 403,
     "referenced_widgets": [
      "5670777d94e74bf8ab2eda5783715a6b",
      "95b8f0003b7244a6a0d28ae98bcb47c5",
      "8e8cc49dce0d4ebba618a8ca63a59173",
      "9b35197093624e7baf2aea0f9ffef8cb",
      "65d019c9dab94dc5879071d40ff2934e",
      "f7b018c0559640189cc3ce596c955de6",
      "baa5603b238847239c59ed9e17f24f64",
      "cc6d9b958c4942e4a26d7e76ecade8e6",
      "9438297009ea4cf7a30757fabc7a92c8",
      "8346fcafdbc04951af6ded3b56be1165",
      "2c8eb31a267049b7a1bae47a7e32cd23",
      "c0954692847f48ef832bb95a07598422",
      "0be4423d9cef4fe28ed06a2c1ab7e300",
      "97c2ec39597a4a2b8df32609aa1e8a16",
      "223e5f372d114d27a77962c5e2740623",
      "4f397fa027134568b687d7bbe310cd95",
      "2bf4a62663ab45969363c3e550d0441f",
      "a6f924a9b89847f2bab4e79443cc6e72",
      "9248c3ab7199424f8e3666c197fc481a",
      "b1577ecfc7654a319e210a792b403384",
      "3b9b1fa99e404f7399e8e170f6d6c9c4",
      "083e8a577d8a4a619f285545b73c5db6",
      "204a364f6400444baf54a2dd52a2fd16",
      "ce93d3cde8e0449d97da29d338305dc2",
      "2b5804def2474af88c74f85157c94994",
      "8d3d8230f65f49d48f0a652d3d072c6b",
      "e093a3b211be440da45b12e2ca7ccf12",
      "ef562db6031449f2bdba55424401fcfe",
      "a38eb93c2af741a1b7e041311c690529",
      "72587ff2941b462a8e66cf578050c92f",
      "c151a3907a1b47fb997f84912abfd86d",
      "6e6544730a364cd2b6b61b670dfec124",
      "a0002ad227b448fcbc4ce014c25df34d",
      "d5063035a2d64b09824dfc33cfc013dd",
      "62fc1eb504624ebc96bf17f8f2d87452",
      "4ef8d92f2b6a4f5ab8a60f2b300686eb",
      "f987ddd021554a3a8581643d280ec254",
      "7caf48ac13484eb884b9b4f2dec5375d",
      "969e60239d1e4055858669e7ba756cef",
      "9bdf6adf9be74d03b4e986f1194fa7e8",
      "c262a53bf11248cd975be343e64730f6",
      "e7e7e12415e240e58d9cd796e741ab93",
      "0ef5eb90d0fc46a9b8e2b8536afa4750",
      "cf53afad1c34420280cc6cd719add3ea",
      "8bd8d349e0c244d7b5089ac003b5ec44",
      "f7f0961e2c7e48eda6f60e31aadd6245",
      "668c9c235a4c4f699407b90d20ad98b0",
      "14cf0bfb2d3f4ec6b142989fb7d44551"
     ]
    },
    "id": "U3LZleXqZmNp",
    "outputId": "2845b776-0139-41b0-8398-8039b4bd8045"
   },
   "outputs": [
    {
     "name": "stderr",
     "output_type": "stream",
     "text": [
      "Some weights of GPT2Model were not initialized from the model checkpoint at gpt2 and are newly initialized: ['h.0.attn.masked_bias', 'h.1.attn.masked_bias', 'h.2.attn.masked_bias', 'h.3.attn.masked_bias', 'h.4.attn.masked_bias', 'h.5.attn.masked_bias', 'h.6.attn.masked_bias', 'h.7.attn.masked_bias', 'h.8.attn.masked_bias', 'h.9.attn.masked_bias', 'h.10.attn.masked_bias', 'h.11.attn.masked_bias']\n",
      "You should probably TRAIN this model on a down-stream task to be able to use it for predictions and inference.\n",
      "Setting `pad_token_id` to `eos_token_id`:50256 for open-end generation.\n"
     ]
    },
    {
     "name": "stdout",
     "output_type": "stream",
     "text": [
      "[{'generated_text': \"The grade for my homework will be a B.\\n\\nI'm going to be doing a lot of reading and writing. I'm going to be doing a lot of reading and writing. I'm going to be doing a lot of reading and writing\"}]\n"
     ]
    }
   ],
   "source": [
    "text_generator = pipeline(\"text-generation\")\n",
    "print(text_generator(sentence, max_length=50, do_sample=False))"
   ]
  },
  {
   "cell_type": "markdown",
   "metadata": {},
   "source": [
    "__GPT-2 (huggingface)__"
   ]
  },
  {
   "cell_type": "code",
   "execution_count": 16,
   "metadata": {
    "colab": {
     "base_uri": "https://localhost:8080/"
    },
    "id": "dztpc9yGajeB",
    "outputId": "9a26b744-8bd5-42d9-a5b9-d84860104e37"
   },
   "outputs": [
    {
     "name": "stderr",
     "output_type": "stream",
     "text": [
      "All model checkpoint layers were used when initializing TFGPT2LMHeadModel.\n",
      "\n",
      "All the layers of TFGPT2LMHeadModel were initialized from the model checkpoint at gpt2.\n",
      "If your task is similar to the task the model of the checkpoint was trained on, you can already use TFGPT2LMHeadModel for predictions without further training.\n"
     ]
    },
    {
     "name": "stdout",
     "output_type": "stream",
     "text": [
      "Output:\n",
      "----------------------------------------------------------------------------------------------------\n",
      "The grade for my homework will be about two minutes long and I need to finish reading at 9PM by 7AM. It will make me feel more comfortable when I know that we won't have to change.\n"
     ]
    }
   ],
   "source": [
    "tf.random.set_seed(0)\n",
    "\n",
    "tokenizer = GPT2Tokenizer.from_pretrained(\"gpt2\")\n",
    "model = TFGPT2LMHeadModel.from_pretrained(\"gpt2\", pad_token_id=tokenizer.eos_token_id)\n",
    "\n",
    "input_ids = tokenizer.encode(sentence, return_tensors='tf')\n",
    "\n",
    "sample_output = model.generate(\n",
    "    input_ids, \n",
    "    do_sample=True, \n",
    "    max_length=50, \n",
    "    top_k=50\n",
    ")\n",
    "\n",
    "print(\"Output:\\n\" + 100 * '-')\n",
    "print(tokenizer.decode(sample_output[0], skip_special_tokens=True))"
   ]
  },
  {
   "cell_type": "markdown",
   "metadata": {
    "id": "55BoPObLTujP"
   },
   "source": [
    "### Evaluation\n",
    "We usually use perplexity (or even accuracy) as the evaluation metric for text generation. Perplexity is the probability of a given sentence based on the dataset.\n",
    "\n",
    "If we have the necessary resources we can also apply human evaluation on this task. The measure here is the percentage of generated articles/texts that can \"fool\" a reader (making them think it is human written)."
   ]
  },
  {
   "cell_type": "markdown",
   "metadata": {
    "id": "Lq9qvVK5xxsh"
   },
   "source": [
    "### SOTA\n",
    "\n",
    "It is hard to pinpoint one exact state-of-the-art system on this task, but probably [GPT-3](https://arxiv.org/pdf/2005.14165.pdf) can be considered as such based on the low accuracy (52%) achieved by human evaluators on GPT-3 generated news articles."
   ]
  },
  {
   "cell_type": "markdown",
   "metadata": {
    "id": "DMC_zt-CaEMD"
   },
   "source": [
    "## Machine Translation\n",
    "\n",
    "Machine translation is the automatic translation of a text in one language to another language."
   ]
  },
  {
   "cell_type": "markdown",
   "metadata": {},
   "source": [
    "__Huggingface__"
   ]
  },
  {
   "cell_type": "code",
   "execution_count": 17,
   "metadata": {
    "colab": {
     "base_uri": "https://localhost:8080/",
     "height": 405,
     "referenced_widgets": [
      "5acd92a3243c44d1a2363783e55edfed",
      "ea220d8392ec4c449f9f63c90632d842",
      "443c1788161b4537a0a76dc711d253d9",
      "e294cc37192f4f70a157b823fb259ac6",
      "d68eb237ffc646a9acec6574cd3e88c6",
      "3b9c7d1ac2494ae4a670f25ff01bea7b",
      "6c82d1ad6e65475d879364ae28b113e8",
      "c988cb5791734723b262769ffb1d4a8f",
      "436d01b2af2f46d69af897df64fe90fa",
      "6c415b60693e43718e17b9be1387503b",
      "2f04a3af8b814495a3c3683eba31b26a",
      "5f1f881969a14ed49ae6183ca62d2bb8",
      "72e229f76aac4a46945b2000af4af73f",
      "e1ecc4ed2e48460c8bee6ee8780c0744",
      "e56f2f6f612a45218037388da3283db5",
      "8bc3e95dbcb14ed3be68e6289dedcb60",
      "91efab3a2e174b13a02f2eab74bd624a",
      "0350a96b8aa54502bb09f279bbb3f865",
      "eb2139d62b774a4c91e4e3d22c3882a5",
      "141a8f804d0f475a9ba18345519755ae",
      "60b4181d4f884dd1af9d6a1c6785e1e7",
      "86d8f58e294445428c92ea114652cc25",
      "8b8c4b3c29ce44b3a8bf3a33276755d4",
      "2ba09062cfd54d1694ea5863afecb72f",
      "9e815b859537476390b94a9eff58197f",
      "0c0d320e021a40fc94ec53c4b2c23ae9",
      "4325afbed9f7463ebebb4adb945c1257",
      "4345ddf615f14df08d84cd1389116786",
      "5bbf4d3aa35143ce9c8e8eec1f008980",
      "1cb292a30ac24ae990ce09027ed14178",
      "597e83a8a5b147bb91d48643a0fb1bcb",
      "ce21bd73dce146869d7e73556a5d768a",
      "90b429e06d0b461294df856e94e5f2a2",
      "6695bbbdebdb49c4acdcca585ff7d134",
      "6f33c8fc98e548d591ddf79ea4031f15",
      "22279a2b08474b63aa487b8902fadf86",
      "3c4fe1d595d04498ae93e97445f4a70f",
      "452bc843dc6d4c60829c456bba1cb789",
      "989a8b9532cd43bb89bc47270dee1e35",
      "0fbecdc4b0b04831b074f7852401d941"
     ]
    },
    "id": "XMteWIVoaFsf",
    "outputId": "1a4f5136-b5f4-4e07-9581-5d2192065b86"
   },
   "outputs": [
    {
     "name": "stdout",
     "output_type": "stream",
     "text": [
      "[{'translation_text': 'Diese Klasse befasst sich mit NLP-Anwendungen.'}]\n"
     ]
    }
   ],
   "source": [
    "translator = pipeline(\"translation_en_to_de\")\n",
    "print(translator(\"This class is about NLP applications.\", max_length=40))"
   ]
  },
  {
   "cell_type": "markdown",
   "metadata": {
    "id": "FyhxuISfQLuB"
   },
   "source": [
    "### Evaluation\n",
    "\n",
    "Machine translation can be evaluated using BLEU (BiLingual Evaluation Understudy) score. Similar to ROUGE score, but it is precision oriented instead of recall-oriented. We can also use METEOR (Metric for Evaluation of Translation with Explicit ORdering) for evaluation. The metric is based on the harmonic mean of unigram precision and recall, with recall weighted higher than precision."
   ]
  },
  {
   "cell_type": "markdown",
   "metadata": {
    "id": "-0aqei-Y3xxs"
   },
   "source": [
    "### SOTA\n",
    "\n",
    "Datasets: WMT 2014 EN-DE (English-German) and WMT 2014 EN-FR (English-French) both from the Ninth Workshop on Statistical Machine Translation.\n",
    "\n",
    "SOTA on en-de uses a [semi-supervised approach](https://arxiv.org/pdf/1808.09381.pdf) achieving 35.0 BLEU score.\n",
    "\n",
    "The SOTA on the en-fr is presented by the [DeepL](https://www.deepl.com/press.html) team achieveng 45.9 BLEU score."
   ]
  },
  {
   "cell_type": "markdown",
   "metadata": {
    "id": "XbkJloTIakJC"
   },
   "source": [
    "## Question Answering\n",
    "\n",
    "The system has to predict the answer to a question with a given context."
   ]
  },
  {
   "cell_type": "code",
   "execution_count": 18,
   "metadata": {},
   "outputs": [],
   "source": [
    "context = 'Adam went to the store yesterday.'\n",
    "question = 'Who went to the store?'"
   ]
  },
  {
   "cell_type": "markdown",
   "metadata": {},
   "source": [
    "__Huggingface__"
   ]
  },
  {
   "cell_type": "code",
   "execution_count": 19,
   "metadata": {
    "colab": {
     "base_uri": "https://localhost:8080/",
     "height": 646,
     "referenced_widgets": [
      "fca319d94a4c4ef98347c6a7b280f06f",
      "2f93e4161fed446e9ebecee99c748def",
      "79a4799eed224d4ab0443a3b61845cb1",
      "e10cd52886d44f67b38132468988fc3e",
      "924e2530b5d44b118ae2b4d1a0a24abb",
      "9a8d1350159f435d8133c11eceafd70b",
      "d1b0e838189d40cea7ec0da695c9e052",
      "821cf5b29a6f4bb791d64f4342e21c59",
      "188faa8ad3144019b2596417be5edeff",
      "e874133d32734e8387d4ed2be26749d7",
      "bae7ca28db0949a8b749e1f94e5b12e6",
      "464ba1d18f0540d4a5d8e9d13ace60ea",
      "09e84e2b7b24405ba3f2a4cd43bc3fc2",
      "c3145fa206854f26beff21ccbd95808c",
      "b8471a09a5fc4bef908205f0319ddc1a",
      "654c302d54a44303869ec20ebcf2c196",
      "04151018ca1b403b8e83808281d63805",
      "9fe34a2700234e16bac940b2b3916b51",
      "5c16c4febd8d420880ce89a6f96c543e",
      "18bc6f76d9f042c69b5c16526412332e",
      "42408cf451ab4b3d8ef0ed568f4d4dc3",
      "a12142496bdb4dc08feec1126cd35ef9",
      "3a4593b7e83f449593d6d22ce3927c35",
      "cb042101be51435586822e7082ffd346",
      "0f8e0e941e504e69a9656360c8cd91e0",
      "ad01f0008cd84adca4896d39f0169e3a",
      "18177819a9f649ac9d213d3c525aa620",
      "29b10fe951624ddb893d60637b804be8",
      "1d06c34083804e4fafc6f5713db31713",
      "2b10b247d6c947269155b7e5dbc39e7a",
      "b78be6eb1a6b42318d5ba55179acd9e3",
      "c6db452bc213453f8ddddfb398e73bf8",
      "603025401dce4d55a08ec49571932868",
      "b231551b5d14479cbd7f741da2e2672f",
      "ca1b5481966e402f86e1420210806010",
      "a7a37f4036184cd38bbb6e539e251650",
      "f81d84801b8b481b807bdd89adabccbc",
      "88d10766d6c74b45b68b626d7ac147a4",
      "281463ea32e54905a0f1016705808c4d",
      "1b699ff009984d44b8a07e672c769a8d"
     ]
    },
    "id": "nytw5yEi93yN",
    "outputId": "8139e298-6686-479a-cee3-17745981a3e8"
   },
   "outputs": [
    {
     "data": {
      "text/plain": [
       "{'score': 0.9957689642906189, 'start': 0, 'end': 4, 'answer': 'Adam'}"
      ]
     },
     "execution_count": 19,
     "metadata": {},
     "output_type": "execute_result"
    }
   ],
   "source": [
    "question_answerer = pipeline('question-answering')\n",
    "question_answerer({\n",
    "    'question': question,\n",
    "    'context': context})"
   ]
  },
  {
   "cell_type": "markdown",
   "metadata": {},
   "source": [
    "__AllenNLP__"
   ]
  },
  {
   "cell_type": "code",
   "execution_count": 20,
   "metadata": {
    "scrolled": true
   },
   "outputs": [
    {
     "name": "stderr",
     "output_type": "stream",
     "text": [
      "/home/kinga/.local/lib/python3.8/site-packages/torch/nn/modules/container.py:435: UserWarning: Setting attributes on ParameterList is not supported.\n",
      "  warnings.warn(\"Setting attributes on ParameterList is not supported.\")\n",
      "[W108] The rule-based lemmatizer did not find POS annotation for the token 'Adam'. Check that your pipeline includes components that assign token.pos, typically 'tagger'+'attribute_ruler' or 'morphologizer'.\n",
      "[W108] The rule-based lemmatizer did not find POS annotation for the token 'went'. Check that your pipeline includes components that assign token.pos, typically 'tagger'+'attribute_ruler' or 'morphologizer'.\n",
      "[W108] The rule-based lemmatizer did not find POS annotation for the token 'to'. Check that your pipeline includes components that assign token.pos, typically 'tagger'+'attribute_ruler' or 'morphologizer'.\n",
      "[W108] The rule-based lemmatizer did not find POS annotation for the token 'the'. Check that your pipeline includes components that assign token.pos, typically 'tagger'+'attribute_ruler' or 'morphologizer'.\n",
      "[W108] The rule-based lemmatizer did not find POS annotation for the token 'store'. Check that your pipeline includes components that assign token.pos, typically 'tagger'+'attribute_ruler' or 'morphologizer'.\n",
      "[W108] The rule-based lemmatizer did not find POS annotation for the token 'yesterday'. Check that your pipeline includes components that assign token.pos, typically 'tagger'+'attribute_ruler' or 'morphologizer'.\n",
      "[W108] The rule-based lemmatizer did not find POS annotation for the token '.'. Check that your pipeline includes components that assign token.pos, typically 'tagger'+'attribute_ruler' or 'morphologizer'.\n",
      "[W108] The rule-based lemmatizer did not find POS annotation for the token 'Who'. Check that your pipeline includes components that assign token.pos, typically 'tagger'+'attribute_ruler' or 'morphologizer'.\n",
      "[W108] The rule-based lemmatizer did not find POS annotation for the token 'went'. Check that your pipeline includes components that assign token.pos, typically 'tagger'+'attribute_ruler' or 'morphologizer'.\n",
      "[W108] The rule-based lemmatizer did not find POS annotation for the token 'to'. Check that your pipeline includes components that assign token.pos, typically 'tagger'+'attribute_ruler' or 'morphologizer'.\n",
      "[W108] The rule-based lemmatizer did not find POS annotation for the token 'the'. Check that your pipeline includes components that assign token.pos, typically 'tagger'+'attribute_ruler' or 'morphologizer'.\n",
      "[W108] The rule-based lemmatizer did not find POS annotation for the token 'store'. Check that your pipeline includes components that assign token.pos, typically 'tagger'+'attribute_ruler' or 'morphologizer'.\n",
      "[W108] The rule-based lemmatizer did not find POS annotation for the token '?'. Check that your pipeline includes components that assign token.pos, typically 'tagger'+'attribute_ruler' or 'morphologizer'.\n"
     ]
    },
    {
     "name": "stdout",
     "output_type": "stream",
     "text": [
      "Adam\n"
     ]
    }
   ],
   "source": [
    "predictor = Predictor.from_path(\"https://storage.googleapis.com/allennlp-public-models/bidaf-elmo.2021-02-11.tar.gz\")\n",
    "res = predictor.predict(\n",
    "    passage=context,\n",
    "    question=question\n",
    ")\n",
    "print(res['best_span_str'])"
   ]
  },
  {
   "cell_type": "markdown",
   "metadata": {
    "id": "4q9l4ZtEibxn"
   },
   "source": [
    "### Evaluation\n",
    "\n",
    "We can use EM (Exact Match) evaluation to evaluate answers for question answering tasks, which is a very conservative method. Since we are generating the answer (if the task is not multiple-choise answer selection, in which case F-score is adequate) we can also use ROUGE, BLEU or METEOR as well."
   ]
  },
  {
   "cell_type": "markdown",
   "metadata": {
    "id": "EmNMXkxNDLhi"
   },
   "source": [
    "### SOTA\n",
    "\n",
    "Dataset: [RACE](https://arxiv.org/pdf/1704.04683.pdf) dataset for reading comprechension and [SQuAD](https://arxiv.org/pdf/1606.05250.pdf).\n",
    "\n",
    "The state-of-the-art on the RACE dataset is an [ALBERT](https://arxiv.org/pdf/2011.03292.pdf) based approach with 91.4% RACE score. You can se the whole leaderboard [here](http://www.qizhexie.com//data/RACE_leaderboard).\n",
    "\n",
    "On the SQuAD dataset, the best performing model is currently an ensemble model with 93.183% F1 score (no available paper). You can se the whole leaderboard [here](https://rajpurkar.github.io/SQuAD-explorer/)."
   ]
  },
  {
   "cell_type": "markdown",
   "metadata": {
    "id": "g9IgVDlHfdQB"
   },
   "source": [
    "## Part-of-Speech (POS) tagging and Named Entity Recognition (NER)"
   ]
  },
  {
   "cell_type": "markdown",
   "metadata": {
    "id": "M89NP03r5q2J"
   },
   "source": [
    "__IOB format__\n",
    "\n",
    "| Tag | Meaning |\n",
    "|:--:|:--:|\n",
    "| I | token is inside an entity |\n",
    "| O | Token is outside an entity |\n",
    "| B | Token is the beginning of an entity |\n",
    "\n",
    "IOB format refers to the Inside-Outside-Beginning tags that we can assign at the beggining of a tag to specify the placement of the given token within one entity.\n",
    "\n",
    "For example the text \"Chuck Norris\" has the following IOB formatted NER tags: I-PER, I-PER.\n",
    "\n",
    "If we are using IOB2 it would be B-PER, I-PER.\n",
    "\n",
    "__BILUO format__\n",
    "\n",
    "| Tag | Meaning |\n",
    "|:--:|:--:|\n",
    "| B | token is the beginning of a multi-token entity |\n",
    "| I | token is inside a multi-token entity |\n",
    "| L | token is the last token of a multi-token entity |\n",
    "| U | token is a single-token unit entity |\n",
    "| O | toke is outside an entity |\n",
    "\n",
    "For example the text \"Chuck Norris\" has the following BILUO NER tags: B-PER, L-PER."
   ]
  },
  {
   "cell_type": "code",
   "execution_count": 7,
   "metadata": {},
   "outputs": [],
   "source": [
    "sentence = \"New York is a big city with Central Park in the middle.\""
   ]
  },
  {
   "cell_type": "markdown",
   "metadata": {
    "id": "eC-104dk6NRN"
   },
   "source": [
    "### POS"
   ]
  },
  {
   "cell_type": "markdown",
   "metadata": {},
   "source": [
    "__Spacy__"
   ]
  },
  {
   "cell_type": "code",
   "execution_count": 22,
   "metadata": {},
   "outputs": [
    {
     "name": "stdout",
     "output_type": "stream",
     "text": [
      "New\tPROPN\n",
      "York\tPROPN\n",
      "is\tAUX\n",
      "a\tDET\n",
      "big\tADJ\n",
      "city\tNOUN\n",
      "with\tADP\n",
      "Central\tPROPN\n",
      "Park\tPROPN\n",
      "in\tADP\n",
      "the\tDET\n",
      "middle\tNOUN\n",
      ".\tPUNCT\n"
     ]
    }
   ],
   "source": [
    "spacy_doc = spacy_nlp(sentence)\n",
    "for token in spacy_doc:\n",
    "    print(f'{token.text}\\t{token.pos_}')"
   ]
  },
  {
   "cell_type": "markdown",
   "metadata": {},
   "source": [
    "__NLTK__"
   ]
  },
  {
   "cell_type": "code",
   "execution_count": 23,
   "metadata": {
    "id": "57_MFHgo6P8Q"
   },
   "outputs": [
    {
     "name": "stdout",
     "output_type": "stream",
     "text": [
      "New\tNNP\n",
      "York\tNNP\n",
      "is\tVBZ\n",
      "a\tDT\n",
      "big\tJJ\n",
      "city\tNN\n",
      "with\tIN\n",
      "Central\tNNP\n",
      "Park\tNNP\n",
      "in\tIN\n",
      "the\tDT\n",
      "middle\tNN\n",
      ".\t.\n"
     ]
    }
   ],
   "source": [
    "tokens = nltk.word_tokenize(sentence)\n",
    "tags = nltk.pos_tag(tokens)\n",
    "for tag in tags:\n",
    "    print(f'{tag[0]}\\t{tag[1]}')"
   ]
  },
  {
   "cell_type": "markdown",
   "metadata": {},
   "source": [
    "__Stanza__"
   ]
  },
  {
   "cell_type": "code",
   "execution_count": 24,
   "metadata": {},
   "outputs": [
    {
     "name": "stdout",
     "output_type": "stream",
     "text": [
      "New\tPROPN\tNNP\n",
      "York\tPROPN\tNNP\n",
      "is\tAUX\tVBZ\n",
      "a\tDET\tDT\n",
      "big\tADJ\tJJ\n",
      "city\tNOUN\tNN\n",
      "with\tADP\tIN\n",
      "Central\tPROPN\tNNP\n",
      "Park\tPROPN\tNNP\n",
      "in\tADP\tIN\n",
      "the\tDET\tDT\n",
      "middle\tNOUN\tNN\n",
      ".\tPUNCT\t.\n"
     ]
    }
   ],
   "source": [
    "stanza_doc = stanza_nlp(sentence)\n",
    "for sent in stanza_doc.sentences:\n",
    "    for token in sent.words:\n",
    "        print(f'{token.text}\\t{token.upos}\\t{token.xpos}')"
   ]
  },
  {
   "cell_type": "markdown",
   "metadata": {
    "id": "SGTsVLTi4EyN"
   },
   "source": [
    "### NER"
   ]
  },
  {
   "cell_type": "markdown",
   "metadata": {},
   "source": [
    "__Spacy__"
   ]
  },
  {
   "cell_type": "code",
   "execution_count": 25,
   "metadata": {},
   "outputs": [
    {
     "name": "stdout",
     "output_type": "stream",
     "text": [
      "New\tB-GPE\n",
      "York\tI-GPE\n",
      "is\tO\n",
      "a\tO\n",
      "big\tO\n",
      "city\tO\n",
      "with\tO\n",
      "Central\tB-LOC\n",
      "Park\tI-LOC\n",
      "in\tO\n",
      "the\tO\n",
      "middle\tO\n",
      ".\tO\n"
     ]
    }
   ],
   "source": [
    "for token in spacy_doc:\n",
    "    dash = '-' if token.ent_type_ != '' else ''\n",
    "    print(f'{token.text}\\t{token.ent_iob_}{dash}{token.ent_type_}')"
   ]
  },
  {
   "cell_type": "markdown",
   "metadata": {},
   "source": [
    "__Huggingface__"
   ]
  },
  {
   "cell_type": "code",
   "execution_count": 8,
   "metadata": {
    "id": "o59Hxzfgg4aT"
   },
   "outputs": [
    {
     "data": {
      "text/plain": [
       "[{'word': 'New',\n",
       "  'score': 0.9995982050895691,\n",
       "  'entity': 'I-LOC',\n",
       "  'index': 1,\n",
       "  'start': 0,\n",
       "  'end': 3},\n",
       " {'word': 'York',\n",
       "  'score': 0.9995265007019043,\n",
       "  'entity': 'I-LOC',\n",
       "  'index': 2,\n",
       "  'start': 4,\n",
       "  'end': 8},\n",
       " {'word': 'Central',\n",
       "  'score': 0.9924962520599365,\n",
       "  'entity': 'I-LOC',\n",
       "  'index': 8,\n",
       "  'start': 28,\n",
       "  'end': 35},\n",
       " {'word': 'Park',\n",
       "  'score': 0.9970067739486694,\n",
       "  'entity': 'I-LOC',\n",
       "  'index': 9,\n",
       "  'start': 36,\n",
       "  'end': 40}]"
      ]
     },
     "execution_count": 8,
     "metadata": {},
     "output_type": "execute_result"
    }
   ],
   "source": [
    "ner = pipeline('ner')\n",
    "ner(sentence)"
   ]
  },
  {
   "cell_type": "markdown",
   "metadata": {},
   "source": [
    "__AllenNLP__"
   ]
  },
  {
   "cell_type": "code",
   "execution_count": 9,
   "metadata": {
    "id": "ipNrExC84Mqq"
   },
   "outputs": [
    {
     "name": "stderr",
     "output_type": "stream",
     "text": [
      "/home/kinga/.local/lib/python3.8/site-packages/torch/nn/modules/container.py:435: UserWarning: Setting attributes on ParameterList is not supported.\n",
      "  warnings.warn(\"Setting attributes on ParameterList is not supported.\")\n"
     ]
    },
    {
     "name": "stdout",
     "output_type": "stream",
     "text": [
      "New\tB-LOC\n",
      "York\tL-LOC\n",
      "is\tO\n",
      "a\tO\n",
      "big\tO\n",
      "city\tO\n",
      "with\tO\n",
      "Central\tB-LOC\n",
      "Park\tL-LOC\n",
      "in\tO\n",
      "the\tO\n",
      "middle\tO\n",
      ".\tO\n"
     ]
    }
   ],
   "source": [
    "predictor = Predictor.from_path(\"https://storage.googleapis.com/allennlp-public-models/ner-elmo.2021-02-12.tar.gz\")\n",
    "res = predictor.predict(sentence=sentence)\n",
    "for word, tag in zip(res['words'], res['tags']):\n",
    "    print(f'{word}\\t{tag}')"
   ]
  },
  {
   "cell_type": "markdown",
   "metadata": {
    "id": "IUfUOjADb9YJ"
   },
   "source": [
    "### Evaluation\n",
    "\n",
    "The tagging task is classification task and can be evaluated by the accuracy and the F-score achieved on the task."
   ]
  },
  {
   "cell_type": "markdown",
   "metadata": {
    "id": "IbOmO5kBGiXi"
   },
   "source": [
    "### SOTA\n",
    "\n",
    "Datasets: [Penn Treebank](https://www.aclweb.org/anthology/J93-2004.pdf) for POS and [CoNLL 2003](https://www.aclweb.org/anthology/W03-0419.pdf) for NER.\n",
    "\n",
    "The SOTA [model](https://arxiv.org/pdf/1805.08237.pdf) for POS tagging uses BiLSTMs and context sensitive token encodings achieveng 97.96% accuracy.\n",
    "\n",
    "On the NER task the best performing [system](https://www.aclweb.org/anthology/2020.emnlp-main.523.pdf) utilizes a multi-layer  bidirectional  transformer to achieve 94.3% F1 score."
   ]
  },
  {
   "cell_type": "markdown",
   "metadata": {},
   "source": [
    "## Morphological analysis"
   ]
  },
  {
   "cell_type": "markdown",
   "metadata": {},
   "source": [
    "\"Inflectional morphology is the process by which a root form of a word is modified by adding prefixes or suffixes that specify its grammatical function but do not change its part-of-speech. We say that a lemma (root form) is inflected (modified/combined) with one or more morphological features to create a surface form.\" ([from here](https://spacy.io/usage/linguistic-features#morphology))"
   ]
  },
  {
   "cell_type": "code",
   "execution_count": 10,
   "metadata": {},
   "outputs": [],
   "source": [
    "sentence_de = \"Wo bist du? Warum bist du nicht hier? Die Katze ist hier.\"\n",
    "# Where are you? Why are you not here? The cat is here."
   ]
  },
  {
   "cell_type": "markdown",
   "metadata": {},
   "source": [
    "__Spacy__"
   ]
  },
  {
   "cell_type": "code",
   "execution_count": 11,
   "metadata": {},
   "outputs": [
    {
     "name": "stdout",
     "output_type": "stream",
     "text": [
      "Wo\tPronType=Int\n",
      "bist\tMood=Ind|Number=Sing|Person=2|Tense=Pres|VerbForm=Fin\n",
      "du\tCase=Nom|Number=Sing|Person=2|PronType=Prs\n",
      "?\t\n",
      "Warum\tPronType=Int\n",
      "bist\tMood=Ind|Number=Sing|Person=2|Tense=Pres|VerbForm=Fin\n",
      "du\tCase=Nom|Number=Sing|Person=2|PronType=Prs\n",
      "nicht\t\n",
      "hier\t\n",
      "?\t\n",
      "Die\tCase=Nom|Definite=Def|Gender=Fem|Number=Sing|PronType=Art\n",
      "Katze\tCase=Nom|Gender=Fem|Number=Sing\n",
      "ist\tMood=Ind|Number=Sing|Person=3|Tense=Pres|VerbForm=Fin\n",
      "hier\t\n",
      ".\t\n"
     ]
    }
   ],
   "source": [
    "spacy_doc = spacy_nlp_de(sentence_de)\n",
    "for token in spacy_doc:\n",
    "    print(f'{token.text}\\t{token.morph}')"
   ]
  },
  {
   "cell_type": "markdown",
   "metadata": {},
   "source": [
    "__Stanza__"
   ]
  },
  {
   "cell_type": "code",
   "execution_count": 12,
   "metadata": {},
   "outputs": [
    {
     "name": "stdout",
     "output_type": "stream",
     "text": [
      "Wo\tPronType=Int\n",
      "bist\tMood=Ind|Number=Sing|Person=1|Tense=Pres|VerbForm=Fin\n",
      "du\tCase=Nom|Number=Sing|Person=2|PronType=Prs\n",
      "?\tNone\n",
      "Warum\tPronType=Int\n",
      "bist\tMood=Ind|Number=Sing|Person=1|Tense=Pres|VerbForm=Fin\n",
      "du\tCase=Nom|Number=Sing|Person=2|PronType=Prs\n",
      "nicht\tPolarity=Neg\n",
      "hier\tNone\n",
      "?\tNone\n",
      "Die\tCase=Nom|Definite=Def|Gender=Fem|Number=Sing|PronType=Art\n",
      "Katze\tCase=Nom|Gender=Fem|Number=Sing\n",
      "ist\tMood=Ind|Number=Sing|Person=3|Tense=Pres|VerbForm=Fin\n",
      "hier\tNone\n",
      ".\tNone\n"
     ]
    }
   ],
   "source": [
    "stanza_doc = stanza_nlp_de(sentence_de)\n",
    "for sent in stanza_doc.sentences:\n",
    "    for token in sent.words:\n",
    "        print(f'{token.text}\\t{token.feats}')"
   ]
  },
  {
   "cell_type": "markdown",
   "metadata": {
    "id": "mgqEId2Rhk-e"
   },
   "source": [
    "## Chatbots"
   ]
  },
  {
   "cell_type": "markdown",
   "metadata": {},
   "source": [
    "Important distinction between chit-chat bots (like [Cleverbot](https://www.cleverbot.com/)) and task specific chatbots (like [Ticketmaster](https://www.chatbotguide.org/ticketmaster-bot))."
   ]
  },
  {
   "cell_type": "markdown",
   "metadata": {},
   "source": [
    "__Huggingface__"
   ]
  },
  {
   "cell_type": "code",
   "execution_count": 13,
   "metadata": {
    "id": "RxBsG3eHhrYA"
   },
   "outputs": [
    {
     "name": "stderr",
     "output_type": "stream",
     "text": [
      "Some weights of GPT2Model were not initialized from the model checkpoint at microsoft/DialoGPT-medium and are newly initialized: ['transformer.h.0.attn.masked_bias', 'transformer.h.1.attn.masked_bias', 'transformer.h.2.attn.masked_bias', 'transformer.h.3.attn.masked_bias', 'transformer.h.4.attn.masked_bias', 'transformer.h.5.attn.masked_bias', 'transformer.h.6.attn.masked_bias', 'transformer.h.7.attn.masked_bias', 'transformer.h.8.attn.masked_bias', 'transformer.h.9.attn.masked_bias', 'transformer.h.10.attn.masked_bias', 'transformer.h.11.attn.masked_bias', 'transformer.h.12.attn.masked_bias', 'transformer.h.13.attn.masked_bias', 'transformer.h.14.attn.masked_bias', 'transformer.h.15.attn.masked_bias', 'transformer.h.16.attn.masked_bias', 'transformer.h.17.attn.masked_bias', 'transformer.h.18.attn.masked_bias', 'transformer.h.19.attn.masked_bias', 'transformer.h.20.attn.masked_bias', 'transformer.h.21.attn.masked_bias', 'transformer.h.22.attn.masked_bias', 'transformer.h.23.attn.masked_bias']\n",
      "You should probably TRAIN this model on a down-stream task to be able to use it for predictions and inference.\n",
      "Setting `pad_token_id` to `eos_token_id`:50256 for open-end generation.\n"
     ]
    },
    {
     "data": {
      "text/plain": [
       "[Conversation id: 06e6290f-2871-4d07-9143-189b4cd35c3b \n",
       " user >> Hi! How are you? \n",
       " bot >> I'm good, how are you? ,\n",
       " Conversation id: 31da97fd-acd8-4bd8-9139-d09f9041450c \n",
       " user >> Do you like movies? \n",
       " bot >> I like movies. ]"
      ]
     },
     "execution_count": 13,
     "metadata": {},
     "output_type": "execute_result"
    }
   ],
   "source": [
    "from transformers import Conversation\n",
    "\n",
    "chit_chat = pipeline('conversational')\n",
    "conversation_1 = Conversation(\"Hi! How are you?\")\n",
    "conversation_2 = Conversation(\"Do you like movies?\")\n",
    "chit_chat([conversation_1, conversation_2])"
   ]
  },
  {
   "cell_type": "markdown",
   "metadata": {
    "id": "RJJN1Fm168nG"
   },
   "source": [
    "### Frameworks\n",
    "\n",
    "There are already existing frameworks that make it easy to write chatbots for specific tasks. One of these frameworks is [rasa](https://rasa.com/)."
   ]
  },
  {
   "cell_type": "markdown",
   "metadata": {},
   "source": [
    "# Dependency Parsing"
   ]
  },
  {
   "cell_type": "code",
   "execution_count": 1,
   "metadata": {},
   "outputs": [],
   "source": [
    "from stanza.utils.conll import CoNLL\n",
    "from stanza.models.common.doc import Document\n",
    "from spacy import displacy\n",
    "import conllu\n",
    "import graphviz\n",
    "import os\n",
    "import requests"
   ]
  },
  {
   "cell_type": "code",
   "execution_count": 15,
   "metadata": {},
   "outputs": [],
   "source": [
    "# Some helper functions for visualization and conversion\n",
    "\n",
    "def visualize(parsed):\n",
    "    dot = graphviz.Digraph()\n",
    "    dot.node(\"0\", \"ROOT\", shape=\"box\")\n",
    "    for sentence in parsed.sentences:\n",
    "        for token in sentence.tokens:\n",
    "            for word in token.words:\n",
    "                dot.node(str(word.id), word.text)\n",
    "                dot.edge(str(word.head), str(word.id),\n",
    "                         label=word.deprel)\n",
    "    return dot\n",
    "\n",
    "def visualize_allen(parsed):\n",
    "    dot = graphviz.Digraph()\n",
    "    dot.node(\"0\", \"ROOT\", shape=\"box\")\n",
    "    for i, (word, dep, head) in \\\n",
    "    enumerate(zip(parsed['words'], parsed['predicted_dependencies'], parsed['predicted_heads'])):\n",
    "        id_ = str(i+1)\n",
    "        dot.node(id_, word)\n",
    "        dot.edge(str(head), id_, label=dep)\n",
    "    return dot\n",
    "\n",
    "def visualize_spacy(parsed):\n",
    "    dot = graphviz.Digraph()\n",
    "    dot.node(\"0\", \"ROOT\", shape=\"box\")\n",
    "    for token in parsed:\n",
    "        id_ = str(token.i+1)\n",
    "        head = token.head.i+1 if token.dep_ != 'ROOT' else 0\n",
    "        dot.node(id_, token.text)\n",
    "        dot.edge(str(head), id_, label=token.dep_)\n",
    "    return dot\n",
    "\n",
    "def print_conllu(parsed):\n",
    "    conll_sentence = CoNLL.convert_dict(parsed.to_dict())\n",
    "    for sent in conll_sentence:\n",
    "        for token in sent:\n",
    "            print(\"\\t\".join(token))\n",
    "\n",
    "def conll_to_stanza(conll):\n",
    "    lines = conll.serialize().strip().split('\\n')\n",
    "    tokenized = [line.strip().split(\"\\t\") for line in \n",
    "                 lines if not line.startswith(\"#\")]\n",
    "    return Document(CoNLL.convert_conll([tokenized]))"
   ]
  },
  {
   "cell_type": "code",
   "execution_count": 16,
   "metadata": {},
   "outputs": [],
   "source": [
    "# Print out the apple graph in the given step\n",
    "def apple(step=0):\n",
    "    color = 'blue' if step == 2 else 'black'\n",
    "    apple = graphviz.Digraph()\n",
    "    apple.edge(\"ROOT\", \"I\", label=\"a=2\")\n",
    "    if step % 2 == 0:\n",
    "        apple.edge(\"ROOT\", \"like\", label=\"b=4\", color=color)\n",
    "        apple.edge(\"like\", \"I\", label=\"d=3\", color=color)\n",
    "        apple.edge(\"like\", \"apples\", label=\"f=6\", color=color)\n",
    "        apple.edge(\"ROOT\", \"apples\", label=\"c=2\")\n",
    "        apple.edge(\"I\", \"like\", label=\"e=-1\")\n",
    "        apple.edge(\"apples\", \"like\", label=\"g=5\")\n",
    "        apple.edge(\"I\", \"apples\", label=\"h=-1\")\n",
    "        apple.edge(\"apples\", \"I\", label=\"i=-4\")\n",
    "    else:\n",
    "        apple.edge(\"ROOT\", \"l_a\", label=\"b=4-5\")\n",
    "        apple.edge(\"ROOT\", \"l_a\", label=\"c=2-6\")\n",
    "        apple.edge(\"l_a\", \"I\", label=\"d=3\", color=\"blue\")\n",
    "        apple.edge(\"I\", \"l_a\", label=\"e=-1-5\")\n",
    "        apple.edge(\"I\", \"l_a\", label=\"h=-1-6\")\n",
    "        apple.edge(\"l_a\", \"I\", label=\"i=-4\")\n",
    "    return apple"
   ]
  },
  {
   "cell_type": "markdown",
   "metadata": {},
   "source": [
    "## Grammar\n",
    "\n",
    "_Why do we need it?_ Information about the syntax of the sentence can enhance our natural language models.\n",
    "\n",
    "### Context free grammar\n",
    "\n",
    "_Definition:_ A context-free grammar G is defined by four parameters: N, $\\Sigma$, R, S.\n",
    "\n",
    " - N is a set of non-terminal symbols or variables\n",
    "\n",
    " - $\\Sigma$ is a set of terminal symbols\n",
    "\n",
    " - R is a set of rules or productions, each in the form of A -> B, where A is a non-terminal and B is a string of symbols from ($\\Sigma$ $\\cup$ N)*\n",
    "\n",
    " - S is the designated starting symbol\n",
    " \n",
    "### Constituency grammar\n",
    "\n",
    "Constituency is an abstraction, where groups of words behave as units. We usually use context free grammars for modeling constituent structures.\n",
    "\n",
    "We have the following syntactic categories (these are the non-terminals in CFG):\n",
    "\n",
    "| Symbol | Meaning |\n",
    "| :-: | :-: |\n",
    "| S | sentence |\n",
    "| NP | noun phrase |\n",
    "| VP | verb phrase |\n",
    "| PP | prepositional phrase |\n",
    "| Det | determiner |\n",
    "| N | noun |\n",
    "| V | verb |\n",
    "| P | preposition |\n"
   ]
  },
  {
   "cell_type": "markdown",
   "metadata": {},
   "source": [
    "## Dependency graphs\n",
    "\n",
    "Dependency structure shows which words depend on which other words in a sentence (or phrase). This is a binary asymmetric relation between a head and its dependents. The relations are typed with the grammatical relation that is between the pair of words.\n",
    "\n",
    "The dependencies form a tree, where the head is the root of the sentence (in english this is usually the tensed verb).\n",
    "\n",
    "A major advantage of dependency grammars is their ability to deal with languages that are morphologically rich and have a relatively free word order, which is very usefull with languages that have flexible word ordering.\n",
    "\n",
    "A dependency tree is a directed graph that satisfies the following constraints:\n",
    " - There is a single designated root node that has no incoming arcs.\n",
    " - With the exception of the root node, each vertex has exactly one incoming arc.\n",
    " - There is a unique path from the root node to each vertex in V.\n",
    "\n",
    "from: _[Speech and Language Processing by Daniel Jurafsky and James H. Martin.](https://web.stanford.edu/~jurafsky/slp3/)_\n",
    "\n",
    "![dep](https://nlp.stanford.edu/software/stanford-dependencies/brownback-uncollapsed.png)\n",
    "_Bills on ports and immigration were submitted by Senator Brownback, Republican of Kansas_"
   ]
  },
  {
   "cell_type": "markdown",
   "metadata": {},
   "source": [
    "__Projectivity__\n",
    "\n",
    "_Definition:_ There are no crossing dependency arcs when the words are laid out in their linear order, with all arcs above the words.\n",
    "\n",
    "Dependency grammars usually allow non-projective structures to account for a more free word order.\n",
    "\n",
    "![nonprojective](img/dl/nonprojective.png)\n",
    "\n",
    "image from: [Non-projective Dependency Parsing using Spanning Tree Algorithms by Ryan McDonald et. al.](https://www.seas.upenn.edu/~strctlrn/bib/PDF/nonprojectiveHLT-EMNLP2005.pdf)\n",
    "\n",
    "__Syntax ambiguity__\n",
    "\n",
    "Example: _One morning I shot an elephant in my pajamas. How he got into my pajamas I’ll never know._ - Groucho Marx\n",
    "\n",
    "The ambiguity in this sentence:\n",
    "\n",
    "is it:\n",
    "\n",
    " - One morning I shot an __elephant in my pajamas__\n",
    "\n",
    "or\n",
    "\n",
    " - One morning __I__ shot an elephant __in my pajamas__\n",
    "\n",
    "___CFG for this sentence___\n",
    "\n",
    " - S -> NP VP\n",
    " - PP -> P NP\n",
    " - NP -> Det N | Det N PP | 'I'\n",
    " - VP -> V NP | VP PP\n",
    " - Det -> 'an' | 'my'\n",
    " - N -> 'elephant' | 'pajamas'\n",
    " - V -> 'shot' | 'saw'\n",
    " - P -> 'in'\n",
    "\n",
    "One morning _I_ shot an elephant _in my pajamas_ |  One morning I shot an _elephant in my pajamas_\n",
    ":-------------------------:|:-------------------------:\n",
    "![elephant1](https://www.nltk.org/book/tree_images/ch08-tree-1.png) | ![elephant2](https://www.nltk.org/book/tree_images/ch08-tree-2.png)\n",
    "\n",
    "___Dependency graph for this sentence___\n",
    "\n",
    "One morning _I_ shot an elephant _in my pajamas_ |  One morning I shot an _elephant in my pajamas_\n",
    ":-------------------------:|:-------------------------:\n",
    "![elephant_dep1](https://www.nltk.org/book/tree_images/ch08-tree-11.png) | ![elephant_dep2](https://www.nltk.org/book/tree_images/ch08-tree-10.png)\n",
    "\n",
    "Images from the [NLT book](https://www.nltk.org/book/)."
   ]
  },
  {
   "cell_type": "markdown",
   "metadata": {},
   "source": [
    "## Universal Dependencies\n",
    "\n",
    "The structure of a sentence can be represented by a so called universal dependency (UD) graph.\n",
    "The universal in the name refers to the original goal: a consistent cross-lingual grammatic annotation.\n",
    "\n",
    "The full list of Universal Dependencies can be found on the [universal dependencies website](https://universaldependencies.org/u/dep/)\n",
    "\n",
    "|  | Nominals | Clauses | Modifier words | Function Words |\n",
    "| :-: | :-: | :-: | :-: | :-: |\n",
    "| **Core arguments** | nsubj (nominal subject), obj (object), iobj (indirect object) | csubj (clausal subject), ccomp (clausal complement), xcomp (open clausal complement) |  |  |\n",
    "| **Non-core dependents** | obl (oblique nominal), vocative, expl (expletive), dislocated (dislocated elements) | advcl (adverbial clause modifier) | advmod (adverbial modifier), discourse (discourse element) | aux (auxiliary), cop (copula), mark (marker) |\n",
    "| **Nominal dependents** | nmod (nominal modifier), appos (appositional modifier), nummod (numeric modifier) | acl (clausal modifier of noun (adjectival clause)) | amod (adjectival modifier) | det (determiner), clf (classifier), case (case marking) |\n",
    "\n",
    "| Coordination | MWE | Loose | Special | Other |\n",
    "| :-: | :-: | :-: | :-: | :-: |\n",
    "| conj (conjunct), cc (coordinating conjunction) | fixed (fixed multiword expression), flat (flat multiword expression), compound | list, parataxis | orphan, goeswith (goes with), reparandum (overridden disfluency) | punct (punctuation), root, dep (unspecified dependency) |\n",
    "\n",
    "\n",
    "__CoNLL-U format__\n",
    "\n",
    "| ID | FORM | LEMMA | UPOS | XPOS | FEATS | HEAD | DEPREL | DEPS | MISC |\n",
    "| :-: | :-: | :-: | :-: | :-: | :-: | :-: | :-: | :-: | :-: |\n",
    "| Word index, integer starting at 1 for each new sentence; may be a range for multiword tokens; may be a decimal number for empty nodes (decimal numbers can be lower than 1 but must be greater than 0). | Word form or punctuation symbol. | Lemma or stem of word form. | Universal part-of-speech tag. | Language-specific part-of-speech tag; underscore if not available. | List of morphological features from the universal feature inventory or from a defined language-specific extension; underscore if not available. | Head of the current word, which is either a value of ID or zero (0). | Universal dependency relation to the HEAD (root iff HEAD = 0) or a defined language-specific subtype of one. | Enhanced dependency graph in the form of a list of head-deprel pairs. | Any other annotation. |\n",
    "\n",
    "Example:\n",
    "\n",
    "| ID | FORM | LEMMA | UPOS | XPOS | FEATS | HEAD | DEPREL | DEPS | MISC |\n",
    "| :-: | :-: | :-: | :-: | :-: | :-: | :-: | :-: | :-: | :-: |\n",
    "| 1 | They | they | PRON | PRP | Case=Nom\\|Number=Plur | 2 | nsubj | 2:nsubj\\|4:nsubj | _ |\n",
    "| 2 | buy | buy | VERB | VBP | Number=Plur\\|Person=3\\|Tense=Pres | 0 | root | 0:root | _ |\n",
    "| 3 | and | and | CONJ | CC | _ | 4 | cc | 4:cc | _ |\n",
    "| 4 | sell | sell | VERB | VBP | Number=Plur\\|Person=3\\|Tense=Pres | 2 | conj | 0:root\\|2:conj | _ |\n",
    "| 5 | books | book | NOUN | NNS | Number=Plur | 2 | obj | 2:obj\\|4:obj | SpaceAfter=No |\n",
    "| 6 | . | . | PUNCT | . | _ | 2 | punct | 2:punct | _ |\n",
    "\n",
    "\n",
    "from https://universaldependencies.org/format.html\n",
    "\n",
    "__UD treebanks__\n",
    "\n",
    "We use UD Treebanks to train models that can predict the UD structure of sentences. There are 183 treebanks and 104 languages in version 2.7, which came out November 15, 2020. The next release (v2.8) is scheduled for May 15, 2021."
   ]
  },
  {
   "cell_type": "code",
   "execution_count": 17,
   "metadata": {},
   "outputs": [],
   "source": [
    "url = \"https://lindat.mff.cuni.cz/repository/xmlui/bitstream/handle/11234/1-3424/ud-treebanks-v2.7.tgz\"\n",
    "tgz = 'ud-treebanks-v2.7.tgz'\n",
    "directory = 'ud_treebanks'\n",
    "if not os.path.exists(directory):\n",
    "    import tarfile\n",
    "    response = requests.get(url, stream=True)\n",
    "    with open(tgz, 'wb') as ud:\n",
    "        ud.write(response.content)\n",
    "    os.mkdir(directory)\n",
    "    with tarfile.open(tgz, 'r:gz') as _tar:\n",
    "        for member in _tar:\n",
    "            if member.isdir():\n",
    "                continue\n",
    "            fname = member.name.rsplit('/',1)[1]\n",
    "            _tar.makefile(member, os.path.join(directory, fname))"
   ]
  },
  {
   "cell_type": "code",
   "execution_count": 18,
   "metadata": {},
   "outputs": [],
   "source": [
    "en = \"ud_treebanks/en_ewt-ud-train.conllu\"\n",
    "with open(en) as english:\n",
    "    trees = conllu.parse(english.read())"
   ]
  },
  {
   "cell_type": "code",
   "execution_count": 19,
   "metadata": {},
   "outputs": [
    {
     "data": {
      "text/plain": [
       "'[This killing of a respected cleric will be causing us trouble for years to come.]'"
      ]
     },
     "execution_count": 19,
     "metadata": {},
     "output_type": "execute_result"
    }
   ],
   "source": [
    "index = 1\n",
    "trees[index].metadata[\"text\"]"
   ]
  },
  {
   "cell_type": "code",
   "execution_count": 20,
   "metadata": {},
   "outputs": [
    {
     "name": "stdout",
     "output_type": "stream",
     "text": [
      "# sent_id = weblog-juancole.com_juancole_20051126063000_ENG_20051126_063000-0002\n",
      "# text = [This killing of a respected cleric will be causing us trouble for years to come.]\n",
      "1\t[\t[\tPUNCT\t-LRB-\t_\t10\tpunct\t10:punct\tSpaceAfter=No\n",
      "2\tThis\tthis\tDET\tDT\tNumber=Sing|PronType=Dem\t3\tdet\t3:det\t_\n",
      "3\tkilling\tkilling\tNOUN\tNN\tNumber=Sing\t10\tnsubj\t10:nsubj\t_\n",
      "4\tof\tof\tADP\tIN\t_\t7\tcase\t7:case\t_\n",
      "5\ta\ta\tDET\tDT\tDefinite=Ind|PronType=Art\t7\tdet\t7:det\t_\n",
      "6\trespected\trespected\tADJ\tJJ\tDegree=Pos\t7\tamod\t7:amod\t_\n",
      "7\tcleric\tcleric\tNOUN\tNN\tNumber=Sing\t3\tnmod\t3:nmod:of\t_\n",
      "8\twill\twill\tAUX\tMD\tVerbForm=Fin\t10\taux\t10:aux\t_\n",
      "9\tbe\tbe\tAUX\tVB\tVerbForm=Inf\t10\taux\t10:aux\t_\n",
      "10\tcausing\tcause\tVERB\tVBG\tVerbForm=Ger\t0\troot\t0:root\t_\n",
      "11\tus\twe\tPRON\tPRP\tCase=Acc|Number=Plur|Person=1|PronType=Prs\t10\tiobj\t10:iobj\t_\n",
      "12\ttrouble\ttrouble\tNOUN\tNN\tNumber=Sing\t10\tobj\t10:obj\t_\n",
      "13\tfor\tfor\tADP\tIN\t_\t14\tcase\t14:case\t_\n",
      "14\tyears\tyear\tNOUN\tNNS\tNumber=Plur\t10\tobl\t10:obl:for\t_\n",
      "15\tto\tto\tPART\tTO\t_\t16\tmark\t16:mark\t_\n",
      "16\tcome\tcome\tVERB\tVB\tVerbForm=Inf\t14\tacl\t14:acl:to\tSpaceAfter=No\n",
      "17\t.\t.\tPUNCT\t.\t_\t10\tpunct\t10:punct\tSpaceAfter=No\n",
      "18\t]\t]\tPUNCT\t-RRB-\t_\t10\tpunct\t10:punct\t_\n",
      "\n",
      "\n"
     ]
    }
   ],
   "source": [
    "print(trees[index].serialize())"
   ]
  },
  {
   "cell_type": "code",
   "execution_count": 21,
   "metadata": {},
   "outputs": [
    {
     "data": {
      "image/svg+xml": [
       "<?xml version=\"1.0\" encoding=\"UTF-8\" standalone=\"no\"?>\n",
       "<!DOCTYPE svg PUBLIC \"-//W3C//DTD SVG 1.1//EN\"\n",
       " \"http://www.w3.org/Graphics/SVG/1.1/DTD/svg11.dtd\">\n",
       "<!-- Generated by graphviz version 2.43.0 (0)\n",
       " -->\n",
       "<!-- Title: %3 Pages: 1 -->\n",
       "<svg width=\"717pt\" height=\"392pt\"\n",
       " viewBox=\"0.00 0.00 717.00 392.00\" xmlns=\"http://www.w3.org/2000/svg\" xmlns:xlink=\"http://www.w3.org/1999/xlink\">\n",
       "<g id=\"graph0\" class=\"graph\" transform=\"scale(1 1) rotate(0) translate(4 388)\">\n",
       "<title>%3</title>\n",
       "<polygon fill=\"white\" stroke=\"transparent\" points=\"-4,4 -4,-388 713,-388 713,4 -4,4\"/>\n",
       "<!-- 0 -->\n",
       "<g id=\"node1\" class=\"node\">\n",
       "<title>0</title>\n",
       "<polygon fill=\"none\" stroke=\"black\" points=\"370.5,-384 311.5,-384 311.5,-348 370.5,-348 370.5,-384\"/>\n",
       "<text text-anchor=\"middle\" x=\"341\" y=\"-362.3\" font-family=\"Times,serif\" font-size=\"14.00\">ROOT</text>\n",
       "</g>\n",
       "<!-- 10 -->\n",
       "<g id=\"node3\" class=\"node\">\n",
       "<title>10</title>\n",
       "<ellipse fill=\"none\" stroke=\"black\" cx=\"341\" cy=\"-279\" rx=\"46.29\" ry=\"18\"/>\n",
       "<text text-anchor=\"middle\" x=\"341\" y=\"-275.3\" font-family=\"Times,serif\" font-size=\"14.00\">causing</text>\n",
       "</g>\n",
       "<!-- 0&#45;&gt;10 -->\n",
       "<g id=\"edge10\" class=\"edge\">\n",
       "<title>0&#45;&gt;10</title>\n",
       "<path fill=\"none\" stroke=\"black\" d=\"M341,-347.8C341,-336.16 341,-320.55 341,-307.24\"/>\n",
       "<polygon fill=\"black\" stroke=\"black\" points=\"344.5,-307.18 341,-297.18 337.5,-307.18 344.5,-307.18\"/>\n",
       "<text text-anchor=\"middle\" x=\"356\" y=\"-318.8\" font-family=\"Times,serif\" font-size=\"14.00\">root</text>\n",
       "</g>\n",
       "<!-- 1 -->\n",
       "<g id=\"node2\" class=\"node\">\n",
       "<title>1</title>\n",
       "<ellipse fill=\"none\" stroke=\"black\" cx=\"27\" cy=\"-192\" rx=\"27\" ry=\"18\"/>\n",
       "<text text-anchor=\"middle\" x=\"27\" y=\"-188.3\" font-family=\"Times,serif\" font-size=\"14.00\">[</text>\n",
       "</g>\n",
       "<!-- 10&#45;&gt;1 -->\n",
       "<g id=\"edge1\" class=\"edge\">\n",
       "<title>10&#45;&gt;1</title>\n",
       "<path fill=\"none\" stroke=\"black\" d=\"M296.04,-274.51C252.29,-270.22 184.37,-261.13 128,-243 102.27,-234.72 74.91,-220.82 55.16,-209.78\"/>\n",
       "<polygon fill=\"black\" stroke=\"black\" points=\"56.81,-206.69 46.38,-204.78 53.34,-212.77 56.81,-206.69\"/>\n",
       "<text text-anchor=\"middle\" x=\"148.5\" y=\"-231.8\" font-family=\"Times,serif\" font-size=\"14.00\">punct</text>\n",
       "</g>\n",
       "<!-- 3 -->\n",
       "<g id=\"node5\" class=\"node\">\n",
       "<title>3</title>\n",
       "<ellipse fill=\"none\" stroke=\"black\" cx=\"112\" cy=\"-192\" rx=\"39.79\" ry=\"18\"/>\n",
       "<text text-anchor=\"middle\" x=\"112\" y=\"-188.3\" font-family=\"Times,serif\" font-size=\"14.00\">killing</text>\n",
       "</g>\n",
       "<!-- 10&#45;&gt;3 -->\n",
       "<g id=\"edge3\" class=\"edge\">\n",
       "<title>10&#45;&gt;3</title>\n",
       "<path fill=\"none\" stroke=\"black\" d=\"M300.31,-270.37C272.61,-264.51 235.42,-255.33 204,-243 182.82,-234.69 160.35,-222.55 142.92,-212.31\"/>\n",
       "<polygon fill=\"black\" stroke=\"black\" points=\"144.68,-209.29 134.3,-207.17 141.09,-215.3 144.68,-209.29\"/>\n",
       "<text text-anchor=\"middle\" x=\"224\" y=\"-231.8\" font-family=\"Times,serif\" font-size=\"14.00\">nsubj</text>\n",
       "</g>\n",
       "<!-- 8 -->\n",
       "<g id=\"node10\" class=\"node\">\n",
       "<title>8</title>\n",
       "<ellipse fill=\"none\" stroke=\"black\" cx=\"197\" cy=\"-192\" rx=\"27.1\" ry=\"18\"/>\n",
       "<text text-anchor=\"middle\" x=\"197\" y=\"-188.3\" font-family=\"Times,serif\" font-size=\"14.00\">will</text>\n",
       "</g>\n",
       "<!-- 10&#45;&gt;8 -->\n",
       "<g id=\"edge8\" class=\"edge\">\n",
       "<title>10&#45;&gt;8</title>\n",
       "<path fill=\"none\" stroke=\"black\" d=\"M312.18,-264.94C299.08,-258.72 283.52,-250.91 270,-243 253.9,-233.58 236.65,-221.85 222.97,-212.12\"/>\n",
       "<polygon fill=\"black\" stroke=\"black\" points=\"224.7,-209.06 214.54,-206.06 220.61,-214.74 224.7,-209.06\"/>\n",
       "<text text-anchor=\"middle\" x=\"283\" y=\"-231.8\" font-family=\"Times,serif\" font-size=\"14.00\">aux</text>\n",
       "</g>\n",
       "<!-- 9 -->\n",
       "<g id=\"node11\" class=\"node\">\n",
       "<title>9</title>\n",
       "<ellipse fill=\"none\" stroke=\"black\" cx=\"269\" cy=\"-192\" rx=\"27\" ry=\"18\"/>\n",
       "<text text-anchor=\"middle\" x=\"269\" y=\"-188.3\" font-family=\"Times,serif\" font-size=\"14.00\">be</text>\n",
       "</g>\n",
       "<!-- 10&#45;&gt;9 -->\n",
       "<g id=\"edge9\" class=\"edge\">\n",
       "<title>10&#45;&gt;9</title>\n",
       "<path fill=\"none\" stroke=\"black\" d=\"M326.92,-261.65C321.89,-255.78 316.18,-249.1 311,-243 303.55,-234.22 295.4,-224.54 288.28,-216.05\"/>\n",
       "<polygon fill=\"black\" stroke=\"black\" points=\"290.93,-213.77 281.83,-208.35 285.57,-218.26 290.93,-213.77\"/>\n",
       "<text text-anchor=\"middle\" x=\"324\" y=\"-231.8\" font-family=\"Times,serif\" font-size=\"14.00\">aux</text>\n",
       "</g>\n",
       "<!-- 11 -->\n",
       "<g id=\"node12\" class=\"node\">\n",
       "<title>11</title>\n",
       "<ellipse fill=\"none\" stroke=\"black\" cx=\"341\" cy=\"-192\" rx=\"27\" ry=\"18\"/>\n",
       "<text text-anchor=\"middle\" x=\"341\" y=\"-188.3\" font-family=\"Times,serif\" font-size=\"14.00\">us</text>\n",
       "</g>\n",
       "<!-- 10&#45;&gt;11 -->\n",
       "<g id=\"edge11\" class=\"edge\">\n",
       "<title>10&#45;&gt;11</title>\n",
       "<path fill=\"none\" stroke=\"black\" d=\"M341,-260.8C341,-249.16 341,-233.55 341,-220.24\"/>\n",
       "<polygon fill=\"black\" stroke=\"black\" points=\"344.5,-220.18 341,-210.18 337.5,-220.18 344.5,-220.18\"/>\n",
       "<text text-anchor=\"middle\" x=\"354.5\" y=\"-231.8\" font-family=\"Times,serif\" font-size=\"14.00\">iobj</text>\n",
       "</g>\n",
       "<!-- 12 -->\n",
       "<g id=\"node13\" class=\"node\">\n",
       "<title>12</title>\n",
       "<ellipse fill=\"none\" stroke=\"black\" cx=\"430\" cy=\"-192\" rx=\"44.39\" ry=\"18\"/>\n",
       "<text text-anchor=\"middle\" x=\"430\" y=\"-188.3\" font-family=\"Times,serif\" font-size=\"14.00\">trouble</text>\n",
       "</g>\n",
       "<!-- 10&#45;&gt;12 -->\n",
       "<g id=\"edge12\" class=\"edge\">\n",
       "<title>10&#45;&gt;12</title>\n",
       "<path fill=\"none\" stroke=\"black\" d=\"M357.74,-262.01C371.29,-249.07 390.56,-230.67 405.79,-216.12\"/>\n",
       "<polygon fill=\"black\" stroke=\"black\" points=\"408.52,-218.35 413.33,-208.92 403.69,-213.29 408.52,-218.35\"/>\n",
       "<text text-anchor=\"middle\" x=\"402\" y=\"-231.8\" font-family=\"Times,serif\" font-size=\"14.00\">obj</text>\n",
       "</g>\n",
       "<!-- 14 -->\n",
       "<g id=\"node15\" class=\"node\">\n",
       "<title>14</title>\n",
       "<ellipse fill=\"none\" stroke=\"black\" cx=\"529\" cy=\"-192\" rx=\"36.29\" ry=\"18\"/>\n",
       "<text text-anchor=\"middle\" x=\"529\" y=\"-188.3\" font-family=\"Times,serif\" font-size=\"14.00\">years</text>\n",
       "</g>\n",
       "<!-- 10&#45;&gt;14 -->\n",
       "<g id=\"edge14\" class=\"edge\">\n",
       "<title>10&#45;&gt;14</title>\n",
       "<path fill=\"none\" stroke=\"black\" d=\"M369.96,-264.91C403.2,-249.88 457.71,-225.23 493.47,-209.06\"/>\n",
       "<polygon fill=\"black\" stroke=\"black\" points=\"495.36,-212.05 503.03,-204.74 492.48,-205.67 495.36,-212.05\"/>\n",
       "<text text-anchor=\"middle\" x=\"458\" y=\"-231.8\" font-family=\"Times,serif\" font-size=\"14.00\">obl</text>\n",
       "</g>\n",
       "<!-- 17 -->\n",
       "<g id=\"node18\" class=\"node\">\n",
       "<title>17</title>\n",
       "<ellipse fill=\"none\" stroke=\"black\" cx=\"610\" cy=\"-192\" rx=\"27\" ry=\"18\"/>\n",
       "<text text-anchor=\"middle\" x=\"610\" y=\"-188.3\" font-family=\"Times,serif\" font-size=\"14.00\">.</text>\n",
       "</g>\n",
       "<!-- 10&#45;&gt;17 -->\n",
       "<g id=\"edge17\" class=\"edge\">\n",
       "<title>10&#45;&gt;17</title>\n",
       "<path fill=\"none\" stroke=\"black\" d=\"M379.68,-269.1C426.53,-257.77 507.43,-236.47 574,-210 575.83,-209.27 577.7,-208.5 579.58,-207.69\"/>\n",
       "<polygon fill=\"black\" stroke=\"black\" points=\"581.18,-210.8 588.87,-203.52 578.32,-204.42 581.18,-210.8\"/>\n",
       "<text text-anchor=\"middle\" x=\"545.5\" y=\"-231.8\" font-family=\"Times,serif\" font-size=\"14.00\">punct</text>\n",
       "</g>\n",
       "<!-- 18 -->\n",
       "<g id=\"node19\" class=\"node\">\n",
       "<title>18</title>\n",
       "<ellipse fill=\"none\" stroke=\"black\" cx=\"682\" cy=\"-192\" rx=\"27\" ry=\"18\"/>\n",
       "<text text-anchor=\"middle\" x=\"682\" y=\"-188.3\" font-family=\"Times,serif\" font-size=\"14.00\">]</text>\n",
       "</g>\n",
       "<!-- 10&#45;&gt;18 -->\n",
       "<g id=\"edge18\" class=\"edge\">\n",
       "<title>10&#45;&gt;18</title>\n",
       "<path fill=\"none\" stroke=\"black\" d=\"M386.06,-274.57C432.78,-270.21 507.59,-260.99 570,-243 599.05,-234.63 630.33,-220.16 652.43,-208.93\"/>\n",
       "<polygon fill=\"black\" stroke=\"black\" points=\"654.32,-211.9 661.6,-204.2 651.11,-205.68 654.32,-211.9\"/>\n",
       "<text text-anchor=\"middle\" x=\"632.5\" y=\"-231.8\" font-family=\"Times,serif\" font-size=\"14.00\">punct</text>\n",
       "</g>\n",
       "<!-- 2 -->\n",
       "<g id=\"node4\" class=\"node\">\n",
       "<title>2</title>\n",
       "<ellipse fill=\"none\" stroke=\"black\" cx=\"79\" cy=\"-105\" rx=\"30.59\" ry=\"18\"/>\n",
       "<text text-anchor=\"middle\" x=\"79\" y=\"-101.3\" font-family=\"Times,serif\" font-size=\"14.00\">This</text>\n",
       "</g>\n",
       "<!-- 3&#45;&gt;2 -->\n",
       "<g id=\"edge2\" class=\"edge\">\n",
       "<title>3&#45;&gt;2</title>\n",
       "<path fill=\"none\" stroke=\"black\" d=\"M105.48,-174.21C100.82,-162.22 94.47,-145.85 89.16,-132.16\"/>\n",
       "<polygon fill=\"black\" stroke=\"black\" points=\"92.39,-130.81 85.51,-122.76 85.86,-133.35 92.39,-130.81\"/>\n",
       "<text text-anchor=\"middle\" x=\"110\" y=\"-144.8\" font-family=\"Times,serif\" font-size=\"14.00\">det</text>\n",
       "</g>\n",
       "<!-- 7 -->\n",
       "<g id=\"node7\" class=\"node\">\n",
       "<title>7</title>\n",
       "<ellipse fill=\"none\" stroke=\"black\" cx=\"164\" cy=\"-105\" rx=\"36.29\" ry=\"18\"/>\n",
       "<text text-anchor=\"middle\" x=\"164\" y=\"-101.3\" font-family=\"Times,serif\" font-size=\"14.00\">cleric</text>\n",
       "</g>\n",
       "<!-- 3&#45;&gt;7 -->\n",
       "<g id=\"edge7\" class=\"edge\">\n",
       "<title>3&#45;&gt;7</title>\n",
       "<path fill=\"none\" stroke=\"black\" d=\"M122.27,-174.21C129.8,-161.9 140.14,-145 148.65,-131.09\"/>\n",
       "<polygon fill=\"black\" stroke=\"black\" points=\"151.69,-132.83 153.92,-122.47 145.72,-129.17 151.69,-132.83\"/>\n",
       "<text text-anchor=\"middle\" x=\"162\" y=\"-144.8\" font-family=\"Times,serif\" font-size=\"14.00\">nmod</text>\n",
       "</g>\n",
       "<!-- 4 -->\n",
       "<g id=\"node6\" class=\"node\">\n",
       "<title>4</title>\n",
       "<ellipse fill=\"none\" stroke=\"black\" cx=\"92\" cy=\"-18\" rx=\"27\" ry=\"18\"/>\n",
       "<text text-anchor=\"middle\" x=\"92\" y=\"-14.3\" font-family=\"Times,serif\" font-size=\"14.00\">of</text>\n",
       "</g>\n",
       "<!-- 7&#45;&gt;4 -->\n",
       "<g id=\"edge4\" class=\"edge\">\n",
       "<title>7&#45;&gt;4</title>\n",
       "<path fill=\"none\" stroke=\"black\" d=\"M147.26,-88.9C140.97,-82.93 133.92,-75.86 128,-69 121.05,-60.94 114.07,-51.6 108.13,-43.19\"/>\n",
       "<polygon fill=\"black\" stroke=\"black\" points=\"110.92,-41.08 102.36,-34.85 105.17,-45.06 110.92,-41.08\"/>\n",
       "<text text-anchor=\"middle\" x=\"144\" y=\"-57.8\" font-family=\"Times,serif\" font-size=\"14.00\">case</text>\n",
       "</g>\n",
       "<!-- 5 -->\n",
       "<g id=\"node8\" class=\"node\">\n",
       "<title>5</title>\n",
       "<ellipse fill=\"none\" stroke=\"black\" cx=\"164\" cy=\"-18\" rx=\"27\" ry=\"18\"/>\n",
       "<text text-anchor=\"middle\" x=\"164\" y=\"-14.3\" font-family=\"Times,serif\" font-size=\"14.00\">a</text>\n",
       "</g>\n",
       "<!-- 7&#45;&gt;5 -->\n",
       "<g id=\"edge5\" class=\"edge\">\n",
       "<title>7&#45;&gt;5</title>\n",
       "<path fill=\"none\" stroke=\"black\" d=\"M164,-86.8C164,-75.16 164,-59.55 164,-46.24\"/>\n",
       "<polygon fill=\"black\" stroke=\"black\" points=\"167.5,-46.18 164,-36.18 160.5,-46.18 167.5,-46.18\"/>\n",
       "<text text-anchor=\"middle\" x=\"176\" y=\"-57.8\" font-family=\"Times,serif\" font-size=\"14.00\">det</text>\n",
       "</g>\n",
       "<!-- 6 -->\n",
       "<g id=\"node9\" class=\"node\">\n",
       "<title>6</title>\n",
       "<ellipse fill=\"none\" stroke=\"black\" cx=\"266\" cy=\"-18\" rx=\"56.59\" ry=\"18\"/>\n",
       "<text text-anchor=\"middle\" x=\"266\" y=\"-14.3\" font-family=\"Times,serif\" font-size=\"14.00\">respected</text>\n",
       "</g>\n",
       "<!-- 7&#45;&gt;6 -->\n",
       "<g id=\"edge6\" class=\"edge\">\n",
       "<title>7&#45;&gt;6</title>\n",
       "<path fill=\"none\" stroke=\"black\" d=\"M181.77,-89.19C197.51,-76.08 220.73,-56.73 238.8,-41.66\"/>\n",
       "<polygon fill=\"black\" stroke=\"black\" points=\"241.26,-44.17 246.7,-35.08 236.78,-38.79 241.26,-44.17\"/>\n",
       "<text text-anchor=\"middle\" x=\"242\" y=\"-57.8\" font-family=\"Times,serif\" font-size=\"14.00\">amod</text>\n",
       "</g>\n",
       "<!-- 13 -->\n",
       "<g id=\"node14\" class=\"node\">\n",
       "<title>13</title>\n",
       "<ellipse fill=\"none\" stroke=\"black\" cx=\"495\" cy=\"-105\" rx=\"27\" ry=\"18\"/>\n",
       "<text text-anchor=\"middle\" x=\"495\" y=\"-101.3\" font-family=\"Times,serif\" font-size=\"14.00\">for</text>\n",
       "</g>\n",
       "<!-- 14&#45;&gt;13 -->\n",
       "<g id=\"edge13\" class=\"edge\">\n",
       "<title>14&#45;&gt;13</title>\n",
       "<path fill=\"none\" stroke=\"black\" d=\"M517.95,-174.78C514.4,-169.03 510.69,-162.4 508,-156 504.95,-148.72 502.45,-140.54 500.5,-132.93\"/>\n",
       "<polygon fill=\"black\" stroke=\"black\" points=\"503.87,-131.99 498.17,-123.06 497.06,-133.6 503.87,-131.99\"/>\n",
       "<text text-anchor=\"middle\" x=\"524\" y=\"-144.8\" font-family=\"Times,serif\" font-size=\"14.00\">case</text>\n",
       "</g>\n",
       "<!-- 16 -->\n",
       "<g id=\"node17\" class=\"node\">\n",
       "<title>16</title>\n",
       "<ellipse fill=\"none\" stroke=\"black\" cx=\"575\" cy=\"-105\" rx=\"35.19\" ry=\"18\"/>\n",
       "<text text-anchor=\"middle\" x=\"575\" y=\"-101.3\" font-family=\"Times,serif\" font-size=\"14.00\">come</text>\n",
       "</g>\n",
       "<!-- 14&#45;&gt;16 -->\n",
       "<g id=\"edge16\" class=\"edge\">\n",
       "<title>14&#45;&gt;16</title>\n",
       "<path fill=\"none\" stroke=\"black\" d=\"M538.09,-174.21C544.68,-162.02 553.72,-145.32 561.2,-131.49\"/>\n",
       "<polygon fill=\"black\" stroke=\"black\" points=\"564.41,-132.93 566.09,-122.47 558.25,-129.6 564.41,-132.93\"/>\n",
       "<text text-anchor=\"middle\" x=\"565.5\" y=\"-144.8\" font-family=\"Times,serif\" font-size=\"14.00\">acl</text>\n",
       "</g>\n",
       "<!-- 15 -->\n",
       "<g id=\"node16\" class=\"node\">\n",
       "<title>15</title>\n",
       "<ellipse fill=\"none\" stroke=\"black\" cx=\"575\" cy=\"-18\" rx=\"27\" ry=\"18\"/>\n",
       "<text text-anchor=\"middle\" x=\"575\" y=\"-14.3\" font-family=\"Times,serif\" font-size=\"14.00\">to</text>\n",
       "</g>\n",
       "<!-- 16&#45;&gt;15 -->\n",
       "<g id=\"edge15\" class=\"edge\">\n",
       "<title>16&#45;&gt;15</title>\n",
       "<path fill=\"none\" stroke=\"black\" d=\"M575,-86.8C575,-75.16 575,-59.55 575,-46.24\"/>\n",
       "<polygon fill=\"black\" stroke=\"black\" points=\"578.5,-46.18 575,-36.18 571.5,-46.18 578.5,-46.18\"/>\n",
       "<text text-anchor=\"middle\" x=\"593.5\" y=\"-57.8\" font-family=\"Times,serif\" font-size=\"14.00\">mark</text>\n",
       "</g>\n",
       "</g>\n",
       "</svg>\n"
      ],
      "text/plain": [
       "<graphviz.dot.Digraph at 0x7fb77489b100>"
      ]
     },
     "execution_count": 21,
     "metadata": {},
     "output_type": "execute_result"
    }
   ],
   "source": [
    "visualize(conll_to_stanza(trees[index]))"
   ]
  },
  {
   "cell_type": "markdown",
   "metadata": {},
   "source": [
    "## Dependency parsing\n",
    "\n",
    "Dependency parsing is the task of transforming a sentence into its corresponding dependency tree.\n",
    "\n",
    "We have two steps to be done:\n",
    "\n",
    " - Construct a model based on training sentences and their respective dependency trees, that can be used to parse other sentences the same way.\n",
    " - Given this model, find the most optimal dependency tree for the given sentence.\n",
    "\n",
    "_Possible solutions:_\n",
    "\n",
    " - Graph Based Dependency Parsing\n",
    " - Transition-Based Dependency Parsing\n",
    " - Neural Dependency Parsing\n",
    "   - Neural graph-based parser\n",
    "   - Neural transition-based parser\n",
    "\n",
    "_Evaluation metrics:_\n",
    "\n",
    " - Labeled attachment score (LAS): the percentage of words that are assigned both the correct syntactic head and the correct dependency label\n",
    " - Unlabeled attachment score (UAS): the percentage of words that are assigned both the correct syntactic head\n",
    "\n",
    "_SOTA:_\n",
    "\n",
    "Evaluation dataset: [Penn Treebank](https://ai.stanford.edu/~ang/papers/acl11-WordVectorsSentimentAnalysis.pdf).\n",
    "\n",
    "The current SOTA (state-of-the-art) on dependency parsing is a self-attention based [system](https://khalilmrini.github.io/Label_Attention_Layer.pdf) that has 97.42% UAS and 96.26% LAS. Their code is available on [github](https://github.com/KhalilMrini/LAL-Parser).\n",
    "\n",
    "[](https://downloads.cs.stanford.edu/nlp/software/dependencies_manual.pdf)\n",
    "\n",
    "_What do we use dependency parsing for?_\n",
    "\n",
    " - Relation and information extraction\n",
    " - Coreference or anaphora resolution\n",
    " - Synonym generation\n",
    " - Semantic parsing\n",
    " - Question answering\n",
    " \n",
    "### Graph Based Dependency Parsing\n",
    "\n",
    "Graph-based methods for creating dependency structures are based on the use of maximum spanning tree methods.\n",
    "\n",
    "1. Connect every word in a sentence with dependencies\n",
    "2. Every dependency is an edge\n",
    "3. Score each edge independently (usually using some ML method)\n",
    "4. Find maximum spanning tree using the Chu-Liu-Edmonds algorithm\n",
    "   1. Contracting Stage\n",
    "       1. Find the best incoming edge for each node in the graph.\n",
    "       2. If a cycle is formed, merge the nodes into a new node.\n",
    "   2. Expanding Stage\n",
    "       1. Every contracted node will have exactly one best incoming edge, kicking out the others. There is no need for that contraction anymore.\n",
    "\n",
    "### Transition-Based Dependency Parsing\n",
    "\n",
    "Transition-based parsing systems employ a greedy stack-based algorithm called shift-reduce to create dependency structures.\n",
    "\n",
    " 1. We initialize a state with input configuration, which consists of a stack, an input buffer of tokens, and a set of relations.\n",
    " 2. We go through the possible configurations using a sequence of transition operations.\n",
    " 3. We stop the iteration if we reached the final state.\n",
    " \n",
    "Transitions in shift-reduce parsing (a popular solution for transitions):\n",
    " - $Shift$: Remove the first word in the buffer and push it on top of the stack.\n",
    " - $Left-Arc_r$: Add a dependency arc (wj, r, wi) to the arc set A, where wi is the word second to the top of the stack and wj is the word at the top of the stack. Remove wi from the stack.\n",
    " - $Right-Arc_r$: Add a dependency arc (wi, r, wj) to the arc set A, where wi is the word second to the top of the stack and wj is the word at the top of the stack. Remove wj from the stack.\n",
    "\n",
    "### Neural Dependency Parsing\n",
    "\n",
    "Usually builds on transition based or graph based approach.\n",
    "![neural-transition](img/dl/neural-transition.png)\n",
    "Model from [A Fast and Accurate Dependency Parser using Neural Networks by Danqi Chen and Christopher D. Manning](https://nlp.stanford.edu/pubs/emnlp2014-depparser.pdf)\n",
    "\n",
    "![neural-graph](img/dl/neural-graph.png)\n",
    "Model from [Deep Biaffine Attention for Neural Dependency Parsing by Timothy Dozat and Christopher D. Manning](https://arxiv.org/pdf/1611.01734.pdf)"
   ]
  },
  {
   "cell_type": "markdown",
   "metadata": {},
   "source": [
    "### Examples\n",
    "\n",
    "Let's take a look at the \"I like apples\" sentence!"
   ]
  },
  {
   "cell_type": "markdown",
   "metadata": {},
   "source": [
    "#### Graph based dependency parsing using Chu-Liu-Edmonds"
   ]
  },
  {
   "cell_type": "code",
   "execution_count": 22,
   "metadata": {},
   "outputs": [
    {
     "data": {
      "image/svg+xml": [
       "<?xml version=\"1.0\" encoding=\"UTF-8\" standalone=\"no\"?>\n",
       "<!DOCTYPE svg PUBLIC \"-//W3C//DTD SVG 1.1//EN\"\n",
       " \"http://www.w3.org/Graphics/SVG/1.1/DTD/svg11.dtd\">\n",
       "<!-- Generated by graphviz version 2.43.0 (0)\n",
       " -->\n",
       "<!-- Title: %3 Pages: 1 -->\n",
       "<svg width=\"257pt\" height=\"305pt\"\n",
       " viewBox=\"0.00 0.00 257.31 305.00\" xmlns=\"http://www.w3.org/2000/svg\" xmlns:xlink=\"http://www.w3.org/1999/xlink\">\n",
       "<g id=\"graph0\" class=\"graph\" transform=\"scale(1 1) rotate(0) translate(4 301)\">\n",
       "<title>%3</title>\n",
       "<polygon fill=\"white\" stroke=\"transparent\" points=\"-4,4 -4,-301 253.31,-301 253.31,4 -4,4\"/>\n",
       "<!-- ROOT -->\n",
       "<g id=\"node1\" class=\"node\">\n",
       "<title>ROOT</title>\n",
       "<ellipse fill=\"none\" stroke=\"black\" cx=\"198.31\" cy=\"-279\" rx=\"38.19\" ry=\"18\"/>\n",
       "<text text-anchor=\"middle\" x=\"198.31\" y=\"-275.3\" font-family=\"Times,serif\" font-size=\"14.00\">ROOT</text>\n",
       "</g>\n",
       "<!-- I -->\n",
       "<g id=\"node2\" class=\"node\">\n",
       "<title>I</title>\n",
       "<ellipse fill=\"none\" stroke=\"black\" cx=\"95.31\" cy=\"-192\" rx=\"27\" ry=\"18\"/>\n",
       "<text text-anchor=\"middle\" x=\"95.31\" y=\"-188.3\" font-family=\"Times,serif\" font-size=\"14.00\">I</text>\n",
       "</g>\n",
       "<!-- ROOT&#45;&gt;I -->\n",
       "<g id=\"edge1\" class=\"edge\">\n",
       "<title>ROOT&#45;&gt;I</title>\n",
       "<path fill=\"none\" stroke=\"black\" d=\"M179.36,-263.14C171.56,-256.96 162.45,-249.69 154.31,-243 142.57,-233.36 129.68,-222.47 118.95,-213.32\"/>\n",
       "<polygon fill=\"black\" stroke=\"black\" points=\"121.1,-210.56 111.22,-206.72 116.55,-215.88 121.1,-210.56\"/>\n",
       "<text text-anchor=\"middle\" x=\"169.31\" y=\"-231.8\" font-family=\"Times,serif\" font-size=\"14.00\">a=2</text>\n",
       "</g>\n",
       "<!-- like -->\n",
       "<g id=\"node3\" class=\"node\">\n",
       "<title>like</title>\n",
       "<ellipse fill=\"none\" stroke=\"black\" cx=\"150.31\" cy=\"-105\" rx=\"27.1\" ry=\"18\"/>\n",
       "<text text-anchor=\"middle\" x=\"150.31\" y=\"-101.3\" font-family=\"Times,serif\" font-size=\"14.00\">like</text>\n",
       "</g>\n",
       "<!-- ROOT&#45;&gt;like -->\n",
       "<g id=\"edge2\" class=\"edge\">\n",
       "<title>ROOT&#45;&gt;like</title>\n",
       "<path fill=\"none\" stroke=\"black\" d=\"M197.12,-260.99C194.83,-234.52 188.51,-182.23 172.31,-141 170.84,-137.27 168.97,-133.51 166.94,-129.9\"/>\n",
       "<polygon fill=\"black\" stroke=\"black\" points=\"169.92,-128.06 161.71,-121.36 163.95,-131.72 169.92,-128.06\"/>\n",
       "<text text-anchor=\"middle\" x=\"204.81\" y=\"-188.3\" font-family=\"Times,serif\" font-size=\"14.00\">b=4</text>\n",
       "</g>\n",
       "<!-- apples -->\n",
       "<g id=\"node4\" class=\"node\">\n",
       "<title>apples</title>\n",
       "<ellipse fill=\"none\" stroke=\"black\" cx=\"96.31\" cy=\"-18\" rx=\"40.89\" ry=\"18\"/>\n",
       "<text text-anchor=\"middle\" x=\"96.31\" y=\"-14.3\" font-family=\"Times,serif\" font-size=\"14.00\">apples</text>\n",
       "</g>\n",
       "<!-- ROOT&#45;&gt;apples -->\n",
       "<g id=\"edge5\" class=\"edge\">\n",
       "<title>ROOT&#45;&gt;apples</title>\n",
       "<path fill=\"none\" stroke=\"black\" d=\"M207.33,-261.16C217.19,-240.67 230.78,-204.97 224.31,-174 212.24,-116.2 210.38,-94.38 167.31,-54 158.62,-45.86 147.69,-39.22 137.02,-34\"/>\n",
       "<polygon fill=\"black\" stroke=\"black\" points=\"138.32,-30.74 127.77,-29.77 135.41,-37.11 138.32,-30.74\"/>\n",
       "<text text-anchor=\"middle\" x=\"234.81\" y=\"-144.8\" font-family=\"Times,serif\" font-size=\"14.00\">c=2</text>\n",
       "</g>\n",
       "<!-- I&#45;&gt;like -->\n",
       "<g id=\"edge6\" class=\"edge\">\n",
       "<title>I&#45;&gt;like</title>\n",
       "<path fill=\"none\" stroke=\"black\" d=\"M89.91,-174.21C87.64,-163.98 86.66,-151 92.31,-141 97.83,-131.22 107.3,-123.87 117.01,-118.49\"/>\n",
       "<polygon fill=\"black\" stroke=\"black\" points=\"118.84,-121.49 126.26,-113.93 115.75,-115.21 118.84,-121.49\"/>\n",
       "<text text-anchor=\"middle\" x=\"109.31\" y=\"-144.8\" font-family=\"Times,serif\" font-size=\"14.00\">e=&#45;1</text>\n",
       "</g>\n",
       "<!-- I&#45;&gt;apples -->\n",
       "<g id=\"edge8\" class=\"edge\">\n",
       "<title>I&#45;&gt;apples</title>\n",
       "<path fill=\"none\" stroke=\"black\" d=\"M73.08,-181.54C51.25,-170.88 19.25,-151.28 5.31,-123 -1.77,-108.65 -1.77,-101.35 5.31,-87 16.43,-64.45 39.04,-47.5 58.94,-36.16\"/>\n",
       "<polygon fill=\"black\" stroke=\"black\" points=\"60.71,-39.18 67.84,-31.34 57.38,-33.02 60.71,-39.18\"/>\n",
       "<text text-anchor=\"middle\" x=\"22.81\" y=\"-101.3\" font-family=\"Times,serif\" font-size=\"14.00\">h=&#45;1</text>\n",
       "</g>\n",
       "<!-- like&#45;&gt;I -->\n",
       "<g id=\"edge3\" class=\"edge\">\n",
       "<title>like&#45;&gt;I</title>\n",
       "<path fill=\"none\" stroke=\"black\" d=\"M145.4,-123.04C142.05,-133.12 137,-145.85 130.31,-156 126.97,-161.06 122.82,-165.98 118.56,-170.46\"/>\n",
       "<polygon fill=\"black\" stroke=\"black\" points=\"116.05,-168.02 111.4,-177.53 120.97,-173 116.05,-168.02\"/>\n",
       "<text text-anchor=\"middle\" x=\"152.81\" y=\"-144.8\" font-family=\"Times,serif\" font-size=\"14.00\">d=3</text>\n",
       "</g>\n",
       "<!-- like&#45;&gt;apples -->\n",
       "<g id=\"edge4\" class=\"edge\">\n",
       "<title>like&#45;&gt;apples</title>\n",
       "<path fill=\"none\" stroke=\"black\" d=\"M144.46,-87.09C140.61,-77.06 135.04,-64.33 128.31,-54 125.76,-50.09 122.77,-46.2 119.67,-42.51\"/>\n",
       "<polygon fill=\"black\" stroke=\"black\" points=\"122.07,-39.94 112.79,-34.81 116.85,-44.6 122.07,-39.94\"/>\n",
       "<text text-anchor=\"middle\" x=\"149.81\" y=\"-57.8\" font-family=\"Times,serif\" font-size=\"14.00\">f=6</text>\n",
       "</g>\n",
       "<!-- apples&#45;&gt;I -->\n",
       "<g id=\"edge9\" class=\"edge\">\n",
       "<title>apples&#45;&gt;I</title>\n",
       "<path fill=\"none\" stroke=\"black\" d=\"M90.09,-35.88C88.24,-41.56 86.42,-47.99 85.31,-54 77.08,-98.59 75.85,-111.27 83.31,-156 83.79,-158.91 84.49,-161.9 85.31,-164.86\"/>\n",
       "<polygon fill=\"black\" stroke=\"black\" points=\"82.03,-166.1 88.42,-174.56 88.7,-163.97 82.03,-166.1\"/>\n",
       "<text text-anchor=\"middle\" x=\"94.81\" y=\"-101.3\" font-family=\"Times,serif\" font-size=\"14.00\">i=&#45;4</text>\n",
       "</g>\n",
       "<!-- apples&#45;&gt;like -->\n",
       "<g id=\"edge7\" class=\"edge\">\n",
       "<title>apples&#45;&gt;like</title>\n",
       "<path fill=\"none\" stroke=\"black\" d=\"M90.83,-36.24C88.65,-46.39 87.79,-59.13 93.31,-69 98.72,-78.68 108.03,-86 117.57,-91.39\"/>\n",
       "<polygon fill=\"black\" stroke=\"black\" points=\"116.16,-94.6 126.67,-95.97 119.31,-88.35 116.16,-94.6\"/>\n",
       "<text text-anchor=\"middle\" x=\"108.81\" y=\"-57.8\" font-family=\"Times,serif\" font-size=\"14.00\">g=5</text>\n",
       "</g>\n",
       "</g>\n",
       "</svg>\n"
      ],
      "text/plain": [
       "<graphviz.dot.Digraph at 0x7fb71b744610>"
      ]
     },
     "execution_count": 22,
     "metadata": {},
     "output_type": "execute_result"
    }
   ],
   "source": [
    "apple(0)"
   ]
  },
  {
   "cell_type": "markdown",
   "metadata": {},
   "source": [
    "| Node | Best in edge |\n",
    "| :-: | :-: |\n",
    "| I | d |\n",
    "| like | g |\n",
    "| apples | f |\n",
    "\n",
    "We need contraction! like + apples => l_a\n",
    "\n",
    "| Edge | Kicks out |\n",
    "| :-: | :-: |\n",
    "| a |  |\n",
    "| b | g |\n",
    "| c | f |\n",
    "| d |  |\n",
    "| e | g |\n",
    "| f |  |\n",
    "| g |  |\n",
    "| h | f |\n",
    "| i |  |"
   ]
  },
  {
   "cell_type": "code",
   "execution_count": 23,
   "metadata": {},
   "outputs": [
    {
     "data": {
      "image/svg+xml": [
       "<?xml version=\"1.0\" encoding=\"UTF-8\" standalone=\"no\"?>\n",
       "<!DOCTYPE svg PUBLIC \"-//W3C//DTD SVG 1.1//EN\"\n",
       " \"http://www.w3.org/Graphics/SVG/1.1/DTD/svg11.dtd\">\n",
       "<!-- Generated by graphviz version 2.43.0 (0)\n",
       " -->\n",
       "<!-- Title: %3 Pages: 1 -->\n",
       "<svg width=\"346pt\" height=\"218pt\"\n",
       " viewBox=\"0.00 0.00 345.55 218.00\" xmlns=\"http://www.w3.org/2000/svg\" xmlns:xlink=\"http://www.w3.org/1999/xlink\">\n",
       "<g id=\"graph0\" class=\"graph\" transform=\"scale(1 1) rotate(0) translate(4 214)\">\n",
       "<title>%3</title>\n",
       "<polygon fill=\"white\" stroke=\"transparent\" points=\"-4,4 -4,-214 341.55,-214 341.55,4 -4,4\"/>\n",
       "<!-- ROOT -->\n",
       "<g id=\"node1\" class=\"node\">\n",
       "<title>ROOT</title>\n",
       "<ellipse fill=\"none\" stroke=\"black\" cx=\"248.55\" cy=\"-192\" rx=\"38.19\" ry=\"18\"/>\n",
       "<text text-anchor=\"middle\" x=\"248.55\" y=\"-188.3\" font-family=\"Times,serif\" font-size=\"14.00\">ROOT</text>\n",
       "</g>\n",
       "<!-- I -->\n",
       "<g id=\"node2\" class=\"node\">\n",
       "<title>I</title>\n",
       "<ellipse fill=\"none\" stroke=\"black\" cx=\"148.55\" cy=\"-105\" rx=\"27\" ry=\"18\"/>\n",
       "<text text-anchor=\"middle\" x=\"148.55\" y=\"-101.3\" font-family=\"Times,serif\" font-size=\"14.00\">I</text>\n",
       "</g>\n",
       "<!-- ROOT&#45;&gt;I -->\n",
       "<g id=\"edge1\" class=\"edge\">\n",
       "<title>ROOT&#45;&gt;I</title>\n",
       "<path fill=\"none\" stroke=\"black\" d=\"M229.52,-176.24C221.7,-170.09 212.61,-162.79 204.55,-156 193.54,-146.72 181.6,-136.14 171.59,-127.11\"/>\n",
       "<polygon fill=\"black\" stroke=\"black\" points=\"173.79,-124.37 164.03,-120.25 169.09,-129.56 173.79,-124.37\"/>\n",
       "<text text-anchor=\"middle\" x=\"219.55\" y=\"-144.8\" font-family=\"Times,serif\" font-size=\"14.00\">a=2</text>\n",
       "</g>\n",
       "<!-- l_a -->\n",
       "<g id=\"node3\" class=\"node\">\n",
       "<title>l_a</title>\n",
       "<ellipse fill=\"none\" stroke=\"black\" cx=\"175.55\" cy=\"-18\" rx=\"27\" ry=\"18\"/>\n",
       "<text text-anchor=\"middle\" x=\"175.55\" y=\"-14.3\" font-family=\"Times,serif\" font-size=\"14.00\">l_a</text>\n",
       "</g>\n",
       "<!-- ROOT&#45;&gt;l_a -->\n",
       "<g id=\"edge2\" class=\"edge\">\n",
       "<title>ROOT&#45;&gt;l_a</title>\n",
       "<path fill=\"none\" stroke=\"black\" d=\"M248.13,-173.67C246.74,-146.3 240.97,-92.27 217.55,-54 213.75,-47.8 208.47,-42.18 202.93,-37.34\"/>\n",
       "<polygon fill=\"black\" stroke=\"black\" points=\"204.77,-34.33 194.77,-30.84 200.41,-39.81 204.77,-34.33\"/>\n",
       "<text text-anchor=\"middle\" x=\"263.55\" y=\"-101.3\" font-family=\"Times,serif\" font-size=\"14.00\">b=4&#45;5</text>\n",
       "</g>\n",
       "<!-- ROOT&#45;&gt;l_a -->\n",
       "<g id=\"edge3\" class=\"edge\">\n",
       "<title>ROOT&#45;&gt;l_a</title>\n",
       "<path fill=\"none\" stroke=\"black\" d=\"M263.29,-175.23C280.98,-154.3 306.28,-116.56 289.55,-87 272.66,-57.17 236.92,-39.05 209.93,-29.1\"/>\n",
       "<polygon fill=\"black\" stroke=\"black\" points=\"211.02,-25.78 200.43,-25.8 208.72,-32.39 211.02,-25.78\"/>\n",
       "<text text-anchor=\"middle\" x=\"316.05\" y=\"-101.3\" font-family=\"Times,serif\" font-size=\"14.00\">c=2&#45;6</text>\n",
       "</g>\n",
       "<!-- I&#45;&gt;l_a -->\n",
       "<g id=\"edge5\" class=\"edge\">\n",
       "<title>I&#45;&gt;l_a</title>\n",
       "<path fill=\"none\" stroke=\"black\" d=\"M121.58,-103.53C72.09,-101.72 -25.38,-93.22 6.55,-54 22.84,-33.99 93.67,-25.07 138.31,-21.36\"/>\n",
       "<polygon fill=\"black\" stroke=\"black\" points=\"138.8,-24.84 148.5,-20.57 138.26,-17.86 138.8,-24.84\"/>\n",
       "<text text-anchor=\"middle\" x=\"30.55\" y=\"-57.8\" font-family=\"Times,serif\" font-size=\"14.00\">e=&#45;1&#45;5</text>\n",
       "</g>\n",
       "<!-- I&#45;&gt;l_a -->\n",
       "<g id=\"edge6\" class=\"edge\">\n",
       "<title>I&#45;&gt;l_a</title>\n",
       "<path fill=\"none\" stroke=\"black\" d=\"M125.6,-95.11C105.9,-86.07 82.31,-71.01 93.55,-54 103.82,-38.45 122.56,-29.79 139.54,-24.97\"/>\n",
       "<polygon fill=\"black\" stroke=\"black\" points=\"140.39,-28.36 149.25,-22.56 138.7,-21.57 140.39,-28.36\"/>\n",
       "<text text-anchor=\"middle\" x=\"118.05\" y=\"-57.8\" font-family=\"Times,serif\" font-size=\"14.00\">h=&#45;1&#45;6</text>\n",
       "</g>\n",
       "<!-- l_a&#45;&gt;I -->\n",
       "<g id=\"edge4\" class=\"edge\">\n",
       "<title>l_a&#45;&gt;I</title>\n",
       "<path fill=\"none\" stroke=\"blue\" d=\"M161.63,-33.49C156.86,-39.38 152.1,-46.55 149.55,-54 147.1,-61.15 146.21,-69.21 146.09,-76.74\"/>\n",
       "<polygon fill=\"blue\" stroke=\"blue\" points=\"142.59,-76.98 146.35,-86.89 149.59,-76.8 142.59,-76.98\"/>\n",
       "<text text-anchor=\"middle\" x=\"165.05\" y=\"-57.8\" font-family=\"Times,serif\" font-size=\"14.00\">d=3</text>\n",
       "</g>\n",
       "<!-- l_a&#45;&gt;I -->\n",
       "<g id=\"edge7\" class=\"edge\">\n",
       "<title>l_a&#45;&gt;I</title>\n",
       "<path fill=\"none\" stroke=\"black\" d=\"M180.97,-35.73C183.3,-45.7 184.65,-58.43 180.55,-69 178.59,-74.05 175.52,-78.82 172.04,-83.11\"/>\n",
       "<polygon fill=\"black\" stroke=\"black\" points=\"169.23,-81.01 165.04,-90.74 174.38,-85.74 169.23,-81.01\"/>\n",
       "<text text-anchor=\"middle\" x=\"198.05\" y=\"-57.8\" font-family=\"Times,serif\" font-size=\"14.00\">i=&#45;4</text>\n",
       "</g>\n",
       "</g>\n",
       "</svg>\n"
      ],
      "text/plain": [
       "<graphviz.dot.Digraph at 0x7fb71b744850>"
      ]
     },
     "execution_count": 23,
     "metadata": {},
     "output_type": "execute_result"
    }
   ],
   "source": [
    "apple(1)"
   ]
  },
  {
   "cell_type": "markdown",
   "metadata": {},
   "source": [
    "| Node | Best in edge |\n",
    "| :-: | :-: |\n",
    "| I | d |\n",
    "| like | g |\n",
    "| apples | f |\n",
    "| l_a | __b__ |\n",
    "\n",
    "We no longer need contraction! l_a => like + apples\n",
    "\n",
    "| Edge | Kicks out |\n",
    "| :-: | :-: |\n",
    "| a |  |\n",
    "| b | __g__ |\n",
    "| c | f |\n",
    "| d |  |\n",
    "| e | g |\n",
    "| f |  |\n",
    "| g |  |\n",
    "| h | f |\n",
    "| i |  |"
   ]
  },
  {
   "cell_type": "code",
   "execution_count": 24,
   "metadata": {},
   "outputs": [
    {
     "data": {
      "image/svg+xml": [
       "<?xml version=\"1.0\" encoding=\"UTF-8\" standalone=\"no\"?>\n",
       "<!DOCTYPE svg PUBLIC \"-//W3C//DTD SVG 1.1//EN\"\n",
       " \"http://www.w3.org/Graphics/SVG/1.1/DTD/svg11.dtd\">\n",
       "<!-- Generated by graphviz version 2.43.0 (0)\n",
       " -->\n",
       "<!-- Title: %3 Pages: 1 -->\n",
       "<svg width=\"257pt\" height=\"305pt\"\n",
       " viewBox=\"0.00 0.00 257.31 305.00\" xmlns=\"http://www.w3.org/2000/svg\" xmlns:xlink=\"http://www.w3.org/1999/xlink\">\n",
       "<g id=\"graph0\" class=\"graph\" transform=\"scale(1 1) rotate(0) translate(4 301)\">\n",
       "<title>%3</title>\n",
       "<polygon fill=\"white\" stroke=\"transparent\" points=\"-4,4 -4,-301 253.31,-301 253.31,4 -4,4\"/>\n",
       "<!-- ROOT -->\n",
       "<g id=\"node1\" class=\"node\">\n",
       "<title>ROOT</title>\n",
       "<ellipse fill=\"none\" stroke=\"black\" cx=\"198.31\" cy=\"-279\" rx=\"38.19\" ry=\"18\"/>\n",
       "<text text-anchor=\"middle\" x=\"198.31\" y=\"-275.3\" font-family=\"Times,serif\" font-size=\"14.00\">ROOT</text>\n",
       "</g>\n",
       "<!-- I -->\n",
       "<g id=\"node2\" class=\"node\">\n",
       "<title>I</title>\n",
       "<ellipse fill=\"none\" stroke=\"black\" cx=\"95.31\" cy=\"-192\" rx=\"27\" ry=\"18\"/>\n",
       "<text text-anchor=\"middle\" x=\"95.31\" y=\"-188.3\" font-family=\"Times,serif\" font-size=\"14.00\">I</text>\n",
       "</g>\n",
       "<!-- ROOT&#45;&gt;I -->\n",
       "<g id=\"edge1\" class=\"edge\">\n",
       "<title>ROOT&#45;&gt;I</title>\n",
       "<path fill=\"none\" stroke=\"black\" d=\"M179.36,-263.14C171.56,-256.96 162.45,-249.69 154.31,-243 142.57,-233.36 129.68,-222.47 118.95,-213.32\"/>\n",
       "<polygon fill=\"black\" stroke=\"black\" points=\"121.1,-210.56 111.22,-206.72 116.55,-215.88 121.1,-210.56\"/>\n",
       "<text text-anchor=\"middle\" x=\"169.31\" y=\"-231.8\" font-family=\"Times,serif\" font-size=\"14.00\">a=2</text>\n",
       "</g>\n",
       "<!-- like -->\n",
       "<g id=\"node3\" class=\"node\">\n",
       "<title>like</title>\n",
       "<ellipse fill=\"none\" stroke=\"black\" cx=\"150.31\" cy=\"-105\" rx=\"27.1\" ry=\"18\"/>\n",
       "<text text-anchor=\"middle\" x=\"150.31\" y=\"-101.3\" font-family=\"Times,serif\" font-size=\"14.00\">like</text>\n",
       "</g>\n",
       "<!-- ROOT&#45;&gt;like -->\n",
       "<g id=\"edge2\" class=\"edge\">\n",
       "<title>ROOT&#45;&gt;like</title>\n",
       "<path fill=\"none\" stroke=\"blue\" d=\"M197.12,-260.99C194.83,-234.52 188.51,-182.23 172.31,-141 170.84,-137.27 168.97,-133.51 166.94,-129.9\"/>\n",
       "<polygon fill=\"blue\" stroke=\"blue\" points=\"169.92,-128.06 161.71,-121.36 163.95,-131.72 169.92,-128.06\"/>\n",
       "<text text-anchor=\"middle\" x=\"204.81\" y=\"-188.3\" font-family=\"Times,serif\" font-size=\"14.00\">b=4</text>\n",
       "</g>\n",
       "<!-- apples -->\n",
       "<g id=\"node4\" class=\"node\">\n",
       "<title>apples</title>\n",
       "<ellipse fill=\"none\" stroke=\"black\" cx=\"96.31\" cy=\"-18\" rx=\"40.89\" ry=\"18\"/>\n",
       "<text text-anchor=\"middle\" x=\"96.31\" y=\"-14.3\" font-family=\"Times,serif\" font-size=\"14.00\">apples</text>\n",
       "</g>\n",
       "<!-- ROOT&#45;&gt;apples -->\n",
       "<g id=\"edge5\" class=\"edge\">\n",
       "<title>ROOT&#45;&gt;apples</title>\n",
       "<path fill=\"none\" stroke=\"black\" d=\"M207.33,-261.16C217.19,-240.67 230.78,-204.97 224.31,-174 212.24,-116.2 210.38,-94.38 167.31,-54 158.62,-45.86 147.69,-39.22 137.02,-34\"/>\n",
       "<polygon fill=\"black\" stroke=\"black\" points=\"138.32,-30.74 127.77,-29.77 135.41,-37.11 138.32,-30.74\"/>\n",
       "<text text-anchor=\"middle\" x=\"234.81\" y=\"-144.8\" font-family=\"Times,serif\" font-size=\"14.00\">c=2</text>\n",
       "</g>\n",
       "<!-- I&#45;&gt;like -->\n",
       "<g id=\"edge6\" class=\"edge\">\n",
       "<title>I&#45;&gt;like</title>\n",
       "<path fill=\"none\" stroke=\"black\" d=\"M89.91,-174.21C87.64,-163.98 86.66,-151 92.31,-141 97.83,-131.22 107.3,-123.87 117.01,-118.49\"/>\n",
       "<polygon fill=\"black\" stroke=\"black\" points=\"118.84,-121.49 126.26,-113.93 115.75,-115.21 118.84,-121.49\"/>\n",
       "<text text-anchor=\"middle\" x=\"109.31\" y=\"-144.8\" font-family=\"Times,serif\" font-size=\"14.00\">e=&#45;1</text>\n",
       "</g>\n",
       "<!-- I&#45;&gt;apples -->\n",
       "<g id=\"edge8\" class=\"edge\">\n",
       "<title>I&#45;&gt;apples</title>\n",
       "<path fill=\"none\" stroke=\"black\" d=\"M73.08,-181.54C51.25,-170.88 19.25,-151.28 5.31,-123 -1.77,-108.65 -1.77,-101.35 5.31,-87 16.43,-64.45 39.04,-47.5 58.94,-36.16\"/>\n",
       "<polygon fill=\"black\" stroke=\"black\" points=\"60.71,-39.18 67.84,-31.34 57.38,-33.02 60.71,-39.18\"/>\n",
       "<text text-anchor=\"middle\" x=\"22.81\" y=\"-101.3\" font-family=\"Times,serif\" font-size=\"14.00\">h=&#45;1</text>\n",
       "</g>\n",
       "<!-- like&#45;&gt;I -->\n",
       "<g id=\"edge3\" class=\"edge\">\n",
       "<title>like&#45;&gt;I</title>\n",
       "<path fill=\"none\" stroke=\"blue\" d=\"M145.4,-123.04C142.05,-133.12 137,-145.85 130.31,-156 126.97,-161.06 122.82,-165.98 118.56,-170.46\"/>\n",
       "<polygon fill=\"blue\" stroke=\"blue\" points=\"116.05,-168.02 111.4,-177.53 120.97,-173 116.05,-168.02\"/>\n",
       "<text text-anchor=\"middle\" x=\"152.81\" y=\"-144.8\" font-family=\"Times,serif\" font-size=\"14.00\">d=3</text>\n",
       "</g>\n",
       "<!-- like&#45;&gt;apples -->\n",
       "<g id=\"edge4\" class=\"edge\">\n",
       "<title>like&#45;&gt;apples</title>\n",
       "<path fill=\"none\" stroke=\"blue\" d=\"M144.46,-87.09C140.61,-77.06 135.04,-64.33 128.31,-54 125.76,-50.09 122.77,-46.2 119.67,-42.51\"/>\n",
       "<polygon fill=\"blue\" stroke=\"blue\" points=\"122.07,-39.94 112.79,-34.81 116.85,-44.6 122.07,-39.94\"/>\n",
       "<text text-anchor=\"middle\" x=\"149.81\" y=\"-57.8\" font-family=\"Times,serif\" font-size=\"14.00\">f=6</text>\n",
       "</g>\n",
       "<!-- apples&#45;&gt;I -->\n",
       "<g id=\"edge9\" class=\"edge\">\n",
       "<title>apples&#45;&gt;I</title>\n",
       "<path fill=\"none\" stroke=\"black\" d=\"M90.09,-35.88C88.24,-41.56 86.42,-47.99 85.31,-54 77.08,-98.59 75.85,-111.27 83.31,-156 83.79,-158.91 84.49,-161.9 85.31,-164.86\"/>\n",
       "<polygon fill=\"black\" stroke=\"black\" points=\"82.03,-166.1 88.42,-174.56 88.7,-163.97 82.03,-166.1\"/>\n",
       "<text text-anchor=\"middle\" x=\"94.81\" y=\"-101.3\" font-family=\"Times,serif\" font-size=\"14.00\">i=&#45;4</text>\n",
       "</g>\n",
       "<!-- apples&#45;&gt;like -->\n",
       "<g id=\"edge7\" class=\"edge\">\n",
       "<title>apples&#45;&gt;like</title>\n",
       "<path fill=\"none\" stroke=\"black\" d=\"M90.83,-36.24C88.65,-46.39 87.79,-59.13 93.31,-69 98.72,-78.68 108.03,-86 117.57,-91.39\"/>\n",
       "<polygon fill=\"black\" stroke=\"black\" points=\"116.16,-94.6 126.67,-95.97 119.31,-88.35 116.16,-94.6\"/>\n",
       "<text text-anchor=\"middle\" x=\"108.81\" y=\"-57.8\" font-family=\"Times,serif\" font-size=\"14.00\">g=5</text>\n",
       "</g>\n",
       "</g>\n",
       "</svg>\n"
      ],
      "text/plain": [
       "<graphviz.dot.Digraph at 0x7fb71b7446d0>"
      ]
     },
     "execution_count": 24,
     "metadata": {},
     "output_type": "execute_result"
    }
   ],
   "source": [
    "apple(2)"
   ]
  },
  {
   "cell_type": "markdown",
   "metadata": {},
   "source": [
    "#### Transition based dependency parsing using Shift-Reduce\n",
    "|   | Stack | Buffer | Transition |\n",
    "| :-: | :-: | :-: | :-: |\n",
    "| 1 | root | I, like, apples | SHIFT |\n",
    "| 2 | root, I | like, apples | SHIFT |\n",
    "| 3 | root, I, like | apples | LEFT-ARC |\n",
    "| 4 | root, like | apples | SHIFT |\n",
    "| 5 | root, like, apples |  | RIGHT-ARC |\n",
    "| 6 | root, like |  | RIGHT-ARC |"
   ]
  },
  {
   "cell_type": "code",
   "execution_count": 25,
   "metadata": {},
   "outputs": [
    {
     "data": {
      "image/svg+xml": [
       "<?xml version=\"1.0\" encoding=\"UTF-8\" standalone=\"no\"?>\n",
       "<!DOCTYPE svg PUBLIC \"-//W3C//DTD SVG 1.1//EN\"\n",
       " \"http://www.w3.org/Graphics/SVG/1.1/DTD/svg11.dtd\">\n",
       "<!-- Generated by graphviz version 2.43.0 (0)\n",
       " -->\n",
       "<!-- Title: %3 Pages: 1 -->\n",
       "<svg width=\"162pt\" height=\"218pt\"\n",
       " viewBox=\"0.00 0.00 161.95 218.00\" xmlns=\"http://www.w3.org/2000/svg\" xmlns:xlink=\"http://www.w3.org/1999/xlink\">\n",
       "<g id=\"graph0\" class=\"graph\" transform=\"scale(1 1) rotate(0) translate(4 214)\">\n",
       "<title>%3</title>\n",
       "<polygon fill=\"white\" stroke=\"transparent\" points=\"-4,4 -4,-214 157.95,-214 157.95,4 -4,4\"/>\n",
       "<!-- like -->\n",
       "<g id=\"node1\" class=\"node\">\n",
       "<title>like</title>\n",
       "<ellipse fill=\"none\" stroke=\"black\" cx=\"70\" cy=\"-105\" rx=\"27.1\" ry=\"18\"/>\n",
       "<text text-anchor=\"middle\" x=\"70\" y=\"-101.3\" font-family=\"Times,serif\" font-size=\"14.00\">like</text>\n",
       "</g>\n",
       "<!-- I -->\n",
       "<g id=\"node2\" class=\"node\">\n",
       "<title>I</title>\n",
       "<ellipse fill=\"none\" stroke=\"black\" cx=\"27\" cy=\"-18\" rx=\"27\" ry=\"18\"/>\n",
       "<text text-anchor=\"middle\" x=\"27\" y=\"-14.3\" font-family=\"Times,serif\" font-size=\"14.00\">I</text>\n",
       "</g>\n",
       "<!-- like&#45;&gt;I -->\n",
       "<g id=\"edge1\" class=\"edge\">\n",
       "<title>like&#45;&gt;I</title>\n",
       "<path fill=\"none\" stroke=\"black\" d=\"M57.26,-89.01C52.64,-83.05 47.66,-75.97 44,-69 40.21,-61.77 37,-53.53 34.42,-45.85\"/>\n",
       "<polygon fill=\"black\" stroke=\"black\" points=\"37.73,-44.71 31.41,-36.21 31.05,-46.8 37.73,-44.71\"/>\n",
       "<text text-anchor=\"middle\" x=\"67.5\" y=\"-57.8\" font-family=\"Times,serif\" font-size=\"14.00\">Step 3</text>\n",
       "</g>\n",
       "<!-- apples -->\n",
       "<g id=\"node3\" class=\"node\">\n",
       "<title>apples</title>\n",
       "<ellipse fill=\"none\" stroke=\"black\" cx=\"113\" cy=\"-18\" rx=\"40.89\" ry=\"18\"/>\n",
       "<text text-anchor=\"middle\" x=\"113\" y=\"-14.3\" font-family=\"Times,serif\" font-size=\"14.00\">apples</text>\n",
       "</g>\n",
       "<!-- like&#45;&gt;apples -->\n",
       "<g id=\"edge2\" class=\"edge\">\n",
       "<title>like&#45;&gt;apples</title>\n",
       "<path fill=\"none\" stroke=\"black\" d=\"M80.05,-88.21C83.67,-82.28 87.68,-75.42 91,-69 94.92,-61.42 98.81,-52.99 102.19,-45.24\"/>\n",
       "<polygon fill=\"black\" stroke=\"black\" points=\"105.47,-46.48 106.18,-35.91 99.03,-43.73 105.47,-46.48\"/>\n",
       "<text text-anchor=\"middle\" x=\"122.5\" y=\"-57.8\" font-family=\"Times,serif\" font-size=\"14.00\">Step 5</text>\n",
       "</g>\n",
       "<!-- ROOT -->\n",
       "<g id=\"node4\" class=\"node\">\n",
       "<title>ROOT</title>\n",
       "<ellipse fill=\"none\" stroke=\"black\" cx=\"70\" cy=\"-192\" rx=\"38.19\" ry=\"18\"/>\n",
       "<text text-anchor=\"middle\" x=\"70\" y=\"-188.3\" font-family=\"Times,serif\" font-size=\"14.00\">ROOT</text>\n",
       "</g>\n",
       "<!-- ROOT&#45;&gt;like -->\n",
       "<g id=\"edge3\" class=\"edge\">\n",
       "<title>ROOT&#45;&gt;like</title>\n",
       "<path fill=\"none\" stroke=\"black\" d=\"M70,-173.8C70,-162.16 70,-146.55 70,-133.24\"/>\n",
       "<polygon fill=\"black\" stroke=\"black\" points=\"73.5,-133.18 70,-123.18 66.5,-133.18 73.5,-133.18\"/>\n",
       "<text text-anchor=\"middle\" x=\"93.5\" y=\"-144.8\" font-family=\"Times,serif\" font-size=\"14.00\">Step 6</text>\n",
       "</g>\n",
       "</g>\n",
       "</svg>\n"
      ],
      "text/plain": [
       "<graphviz.dot.Digraph at 0x7fb71b744f70>"
      ]
     },
     "execution_count": 25,
     "metadata": {},
     "output_type": "execute_result"
    }
   ],
   "source": [
    "apple = graphviz.Digraph()\n",
    "apple.edge(\"like\", \"I\", label=\"Step 3\")\n",
    "apple.edge(\"like\", \"apples\", label=\"Step 5\")\n",
    "apple.edge(\"ROOT\", \"like\", label=\"Step 6\")\n",
    "apple"
   ]
  },
  {
   "cell_type": "markdown",
   "metadata": {},
   "source": [
    "#### Pretrained models"
   ]
  },
  {
   "cell_type": "code",
   "execution_count": 26,
   "metadata": {},
   "outputs": [],
   "source": [
    "sentence = \"One morning I shot an elephant in my pajamas.\""
   ]
  },
  {
   "cell_type": "code",
   "execution_count": 27,
   "metadata": {},
   "outputs": [
    {
     "name": "stdout",
     "output_type": "stream",
     "text": [
      "1\tOne\tNUM\tmorning\tnummod\n",
      "2\tmorning\tNOUN\tshot\tnpadvmod\n",
      "3\tI\tPRON\tshot\tnsubj\n",
      "4\tshot\tVERB\tshot\tROOT\n",
      "5\tan\tDET\telephant\tdet\n",
      "6\telephant\tNOUN\tshot\tdobj\n",
      "7\tin\tADP\telephant\tprep\n",
      "8\tmy\tPRON\tpajamas\tposs\n",
      "9\tpajamas\tNOUN\tin\tpobj\n",
      "10\t.\tPUNCT\tshot\tpunct\n"
     ]
    },
    {
     "data": {
      "image/svg+xml": [
       "<?xml version=\"1.0\" encoding=\"UTF-8\" standalone=\"no\"?>\n",
       "<!DOCTYPE svg PUBLIC \"-//W3C//DTD SVG 1.1//EN\"\n",
       " \"http://www.w3.org/Graphics/SVG/1.1/DTD/svg11.dtd\">\n",
       "<!-- Generated by graphviz version 2.43.0 (0)\n",
       " -->\n",
       "<!-- Title: %3 Pages: 1 -->\n",
       "<svg width=\"373pt\" height=\"479pt\"\n",
       " viewBox=\"0.00 0.00 373.05 479.00\" xmlns=\"http://www.w3.org/2000/svg\" xmlns:xlink=\"http://www.w3.org/1999/xlink\">\n",
       "<g id=\"graph0\" class=\"graph\" transform=\"scale(1 1) rotate(0) translate(4 475)\">\n",
       "<title>%3</title>\n",
       "<polygon fill=\"white\" stroke=\"transparent\" points=\"-4,4 -4,-475 369.05,-475 369.05,4 -4,4\"/>\n",
       "<!-- 0 -->\n",
       "<g id=\"node1\" class=\"node\">\n",
       "<title>0</title>\n",
       "<polygon fill=\"none\" stroke=\"black\" points=\"216.55,-471 157.55,-471 157.55,-435 216.55,-435 216.55,-471\"/>\n",
       "<text text-anchor=\"middle\" x=\"187.05\" y=\"-449.3\" font-family=\"Times,serif\" font-size=\"14.00\">ROOT</text>\n",
       "</g>\n",
       "<!-- 4 -->\n",
       "<g id=\"node4\" class=\"node\">\n",
       "<title>4</title>\n",
       "<ellipse fill=\"none\" stroke=\"black\" cx=\"187.05\" cy=\"-366\" rx=\"30.59\" ry=\"18\"/>\n",
       "<text text-anchor=\"middle\" x=\"187.05\" y=\"-362.3\" font-family=\"Times,serif\" font-size=\"14.00\">shot</text>\n",
       "</g>\n",
       "<!-- 0&#45;&gt;4 -->\n",
       "<g id=\"edge4\" class=\"edge\">\n",
       "<title>0&#45;&gt;4</title>\n",
       "<path fill=\"none\" stroke=\"black\" d=\"M187.05,-434.8C187.05,-423.16 187.05,-407.55 187.05,-394.24\"/>\n",
       "<polygon fill=\"black\" stroke=\"black\" points=\"190.55,-394.18 187.05,-384.18 183.55,-394.18 190.55,-394.18\"/>\n",
       "<text text-anchor=\"middle\" x=\"208.55\" y=\"-405.8\" font-family=\"Times,serif\" font-size=\"14.00\">ROOT</text>\n",
       "</g>\n",
       "<!-- 1 -->\n",
       "<g id=\"node2\" class=\"node\">\n",
       "<title>1</title>\n",
       "<ellipse fill=\"none\" stroke=\"black\" cx=\"50.05\" cy=\"-192\" rx=\"29.5\" ry=\"18\"/>\n",
       "<text text-anchor=\"middle\" x=\"50.05\" y=\"-188.3\" font-family=\"Times,serif\" font-size=\"14.00\">One</text>\n",
       "</g>\n",
       "<!-- 2 -->\n",
       "<g id=\"node3\" class=\"node\">\n",
       "<title>2</title>\n",
       "<ellipse fill=\"none\" stroke=\"black\" cx=\"50.05\" cy=\"-279\" rx=\"50.09\" ry=\"18\"/>\n",
       "<text text-anchor=\"middle\" x=\"50.05\" y=\"-275.3\" font-family=\"Times,serif\" font-size=\"14.00\">morning</text>\n",
       "</g>\n",
       "<!-- 2&#45;&gt;1 -->\n",
       "<g id=\"edge1\" class=\"edge\">\n",
       "<title>2&#45;&gt;1</title>\n",
       "<path fill=\"none\" stroke=\"black\" d=\"M50.05,-260.8C50.05,-249.16 50.05,-233.55 50.05,-220.24\"/>\n",
       "<polygon fill=\"black\" stroke=\"black\" points=\"53.55,-220.18 50.05,-210.18 46.55,-220.18 53.55,-220.18\"/>\n",
       "<text text-anchor=\"middle\" x=\"81.55\" y=\"-231.8\" font-family=\"Times,serif\" font-size=\"14.00\">nummod</text>\n",
       "</g>\n",
       "<!-- 4&#45;&gt;2 -->\n",
       "<g id=\"edge2\" class=\"edge\">\n",
       "<title>4&#45;&gt;2</title>\n",
       "<path fill=\"none\" stroke=\"black\" d=\"M157.24,-361.27C133.85,-357.04 101.59,-348.2 79.05,-330 71.25,-323.7 65.12,-314.71 60.55,-306.08\"/>\n",
       "<polygon fill=\"black\" stroke=\"black\" points=\"63.67,-304.51 56.19,-297.01 57.36,-307.54 63.67,-304.51\"/>\n",
       "<text text-anchor=\"middle\" x=\"116.55\" y=\"-318.8\" font-family=\"Times,serif\" font-size=\"14.00\">npadvmod</text>\n",
       "</g>\n",
       "<!-- 3 -->\n",
       "<g id=\"node5\" class=\"node\">\n",
       "<title>3</title>\n",
       "<ellipse fill=\"none\" stroke=\"black\" cx=\"146.05\" cy=\"-279\" rx=\"27\" ry=\"18\"/>\n",
       "<text text-anchor=\"middle\" x=\"146.05\" y=\"-275.3\" font-family=\"Times,serif\" font-size=\"14.00\">I</text>\n",
       "</g>\n",
       "<!-- 4&#45;&gt;3 -->\n",
       "<g id=\"edge3\" class=\"edge\">\n",
       "<title>4&#45;&gt;3</title>\n",
       "<path fill=\"none\" stroke=\"black\" d=\"M175.45,-349.09C171.52,-343.27 167.3,-336.5 164.05,-330 160.37,-322.66 157.08,-314.37 154.35,-306.7\"/>\n",
       "<polygon fill=\"black\" stroke=\"black\" points=\"157.61,-305.43 151.09,-297.08 150.98,-307.67 157.61,-305.43\"/>\n",
       "<text text-anchor=\"middle\" x=\"184.05\" y=\"-318.8\" font-family=\"Times,serif\" font-size=\"14.00\">nsubj</text>\n",
       "</g>\n",
       "<!-- 6 -->\n",
       "<g id=\"node7\" class=\"node\">\n",
       "<title>6</title>\n",
       "<ellipse fill=\"none\" stroke=\"black\" cx=\"242.05\" cy=\"-279\" rx=\"51.19\" ry=\"18\"/>\n",
       "<text text-anchor=\"middle\" x=\"242.05\" y=\"-275.3\" font-family=\"Times,serif\" font-size=\"14.00\">elephant</text>\n",
       "</g>\n",
       "<!-- 4&#45;&gt;6 -->\n",
       "<g id=\"edge6\" class=\"edge\">\n",
       "<title>4&#45;&gt;6</title>\n",
       "<path fill=\"none\" stroke=\"black\" d=\"M197.39,-349.01C205.3,-336.78 216.37,-319.68 225.51,-305.56\"/>\n",
       "<polygon fill=\"black\" stroke=\"black\" points=\"228.69,-307.09 231.18,-296.79 222.81,-303.28 228.69,-307.09\"/>\n",
       "<text text-anchor=\"middle\" x=\"233.55\" y=\"-318.8\" font-family=\"Times,serif\" font-size=\"14.00\">dobj</text>\n",
       "</g>\n",
       "<!-- 10 -->\n",
       "<g id=\"node11\" class=\"node\">\n",
       "<title>10</title>\n",
       "<ellipse fill=\"none\" stroke=\"black\" cx=\"338.05\" cy=\"-279\" rx=\"27\" ry=\"18\"/>\n",
       "<text text-anchor=\"middle\" x=\"338.05\" y=\"-275.3\" font-family=\"Times,serif\" font-size=\"14.00\">.</text>\n",
       "</g>\n",
       "<!-- 4&#45;&gt;10 -->\n",
       "<g id=\"edge10\" class=\"edge\">\n",
       "<title>4&#45;&gt;10</title>\n",
       "<path fill=\"none\" stroke=\"black\" d=\"M209.18,-353.57C222.05,-346.85 238.55,-338.1 253.05,-330 272.21,-319.29 293.51,-306.76 309.99,-296.92\"/>\n",
       "<polygon fill=\"black\" stroke=\"black\" points=\"311.82,-299.9 318.61,-291.76 308.23,-293.9 311.82,-299.9\"/>\n",
       "<text text-anchor=\"middle\" x=\"298.55\" y=\"-318.8\" font-family=\"Times,serif\" font-size=\"14.00\">punct</text>\n",
       "</g>\n",
       "<!-- 5 -->\n",
       "<g id=\"node6\" class=\"node\">\n",
       "<title>5</title>\n",
       "<ellipse fill=\"none\" stroke=\"black\" cx=\"212.05\" cy=\"-192\" rx=\"27\" ry=\"18\"/>\n",
       "<text text-anchor=\"middle\" x=\"212.05\" y=\"-188.3\" font-family=\"Times,serif\" font-size=\"14.00\">an</text>\n",
       "</g>\n",
       "<!-- 6&#45;&gt;5 -->\n",
       "<g id=\"edge5\" class=\"edge\">\n",
       "<title>6&#45;&gt;5</title>\n",
       "<path fill=\"none\" stroke=\"black\" d=\"M233.69,-261.13C231.05,-255.45 228.25,-249.02 226.05,-243 223.32,-235.55 220.81,-227.31 218.7,-219.71\"/>\n",
       "<polygon fill=\"black\" stroke=\"black\" points=\"222.03,-218.63 216.07,-209.87 215.27,-220.44 222.03,-218.63\"/>\n",
       "<text text-anchor=\"middle\" x=\"238.05\" y=\"-231.8\" font-family=\"Times,serif\" font-size=\"14.00\">det</text>\n",
       "</g>\n",
       "<!-- 7 -->\n",
       "<g id=\"node8\" class=\"node\">\n",
       "<title>7</title>\n",
       "<ellipse fill=\"none\" stroke=\"black\" cx=\"284.05\" cy=\"-192\" rx=\"27\" ry=\"18\"/>\n",
       "<text text-anchor=\"middle\" x=\"284.05\" y=\"-188.3\" font-family=\"Times,serif\" font-size=\"14.00\">in</text>\n",
       "</g>\n",
       "<!-- 6&#45;&gt;7 -->\n",
       "<g id=\"edge7\" class=\"edge\">\n",
       "<title>6&#45;&gt;7</title>\n",
       "<path fill=\"none\" stroke=\"black\" d=\"M250.34,-261.21C256.36,-249.02 264.62,-232.32 271.45,-218.49\"/>\n",
       "<polygon fill=\"black\" stroke=\"black\" points=\"274.62,-219.98 275.91,-209.47 268.34,-216.88 274.62,-219.98\"/>\n",
       "<text text-anchor=\"middle\" x=\"283.05\" y=\"-231.8\" font-family=\"Times,serif\" font-size=\"14.00\">prep</text>\n",
       "</g>\n",
       "<!-- 9 -->\n",
       "<g id=\"node10\" class=\"node\">\n",
       "<title>9</title>\n",
       "<ellipse fill=\"none\" stroke=\"black\" cx=\"284.05\" cy=\"-105\" rx=\"49.29\" ry=\"18\"/>\n",
       "<text text-anchor=\"middle\" x=\"284.05\" y=\"-101.3\" font-family=\"Times,serif\" font-size=\"14.00\">pajamas</text>\n",
       "</g>\n",
       "<!-- 7&#45;&gt;9 -->\n",
       "<g id=\"edge9\" class=\"edge\">\n",
       "<title>7&#45;&gt;9</title>\n",
       "<path fill=\"none\" stroke=\"black\" d=\"M284.05,-173.8C284.05,-162.16 284.05,-146.55 284.05,-133.24\"/>\n",
       "<polygon fill=\"black\" stroke=\"black\" points=\"287.55,-133.18 284.05,-123.18 280.55,-133.18 287.55,-133.18\"/>\n",
       "<text text-anchor=\"middle\" x=\"299.55\" y=\"-144.8\" font-family=\"Times,serif\" font-size=\"14.00\">pobj</text>\n",
       "</g>\n",
       "<!-- 8 -->\n",
       "<g id=\"node9\" class=\"node\">\n",
       "<title>8</title>\n",
       "<ellipse fill=\"none\" stroke=\"black\" cx=\"284.05\" cy=\"-18\" rx=\"27\" ry=\"18\"/>\n",
       "<text text-anchor=\"middle\" x=\"284.05\" y=\"-14.3\" font-family=\"Times,serif\" font-size=\"14.00\">my</text>\n",
       "</g>\n",
       "<!-- 9&#45;&gt;8 -->\n",
       "<g id=\"edge8\" class=\"edge\">\n",
       "<title>9&#45;&gt;8</title>\n",
       "<path fill=\"none\" stroke=\"black\" d=\"M284.05,-86.8C284.05,-75.16 284.05,-59.55 284.05,-46.24\"/>\n",
       "<polygon fill=\"black\" stroke=\"black\" points=\"287.55,-46.18 284.05,-36.18 280.55,-46.18 287.55,-46.18\"/>\n",
       "<text text-anchor=\"middle\" x=\"300.55\" y=\"-57.8\" font-family=\"Times,serif\" font-size=\"14.00\">poss</text>\n",
       "</g>\n",
       "</g>\n",
       "</svg>\n"
      ],
      "text/plain": [
       "<graphviz.dot.Digraph at 0x7fb76d4c6c40>"
      ]
     },
     "execution_count": 27,
     "metadata": {},
     "output_type": "execute_result"
    }
   ],
   "source": [
    "spacy_doc = spacy_nlp(sentence)\n",
    "for token in spacy_doc:\n",
    "    print(f\"{token.i+1}\\t{token.text}\\t{token.pos_}\\t{token.head.text}\\t{token.dep_}\")\n",
    "visualize_spacy(spacy_doc)\n",
    "#displacy.serve(spacy_doc, style=\"dep\")"
   ]
  },
  {
   "cell_type": "code",
   "execution_count": 28,
   "metadata": {},
   "outputs": [
    {
     "name": "stdout",
     "output_type": "stream",
     "text": [
      "1\tOne\tNUM\tmorning\tnummod\n",
      "2\tmorning\tNOUN\tshot\tobl:tmod\n",
      "3\tI\tPRON\tshot\tnsubj\n",
      "4\tshot\tVERB\tROOT\troot\n",
      "5\tan\tDET\telephant\tdet\n",
      "6\telephant\tNOUN\tshot\tobj\n",
      "7\tin\tADP\tpajamas\tcase\n",
      "8\tmy\tPRON\tpajamas\tnmod:poss\n",
      "9\tpajamas\tNOUN\tshot\tobl\n",
      "10\t.\tPUNCT\tshot\tpunct\n"
     ]
    },
    {
     "data": {
      "image/svg+xml": [
       "<?xml version=\"1.0\" encoding=\"UTF-8\" standalone=\"no\"?>\n",
       "<!DOCTYPE svg PUBLIC \"-//W3C//DTD SVG 1.1//EN\"\n",
       " \"http://www.w3.org/Graphics/SVG/1.1/DTD/svg11.dtd\">\n",
       "<!-- Generated by graphviz version 2.43.0 (0)\n",
       " -->\n",
       "<!-- Title: %3 Pages: 1 -->\n",
       "<svg width=\"489pt\" height=\"305pt\"\n",
       " viewBox=\"0.00 0.00 489.05 305.00\" xmlns=\"http://www.w3.org/2000/svg\" xmlns:xlink=\"http://www.w3.org/1999/xlink\">\n",
       "<g id=\"graph0\" class=\"graph\" transform=\"scale(1 1) rotate(0) translate(4 301)\">\n",
       "<title>%3</title>\n",
       "<polygon fill=\"white\" stroke=\"transparent\" points=\"-4,4 -4,-301 485.05,-301 485.05,4 -4,4\"/>\n",
       "<!-- 0 -->\n",
       "<g id=\"node1\" class=\"node\">\n",
       "<title>0</title>\n",
       "<polygon fill=\"none\" stroke=\"black\" points=\"270.55,-297 211.55,-297 211.55,-261 270.55,-261 270.55,-297\"/>\n",
       "<text text-anchor=\"middle\" x=\"241.05\" y=\"-275.3\" font-family=\"Times,serif\" font-size=\"14.00\">ROOT</text>\n",
       "</g>\n",
       "<!-- 4 -->\n",
       "<g id=\"node4\" class=\"node\">\n",
       "<title>4</title>\n",
       "<ellipse fill=\"none\" stroke=\"black\" cx=\"241.05\" cy=\"-192\" rx=\"30.59\" ry=\"18\"/>\n",
       "<text text-anchor=\"middle\" x=\"241.05\" y=\"-188.3\" font-family=\"Times,serif\" font-size=\"14.00\">shot</text>\n",
       "</g>\n",
       "<!-- 0&#45;&gt;4 -->\n",
       "<g id=\"edge4\" class=\"edge\">\n",
       "<title>0&#45;&gt;4</title>\n",
       "<path fill=\"none\" stroke=\"black\" d=\"M241.05,-260.8C241.05,-249.16 241.05,-233.55 241.05,-220.24\"/>\n",
       "<polygon fill=\"black\" stroke=\"black\" points=\"244.55,-220.18 241.05,-210.18 237.55,-220.18 244.55,-220.18\"/>\n",
       "<text text-anchor=\"middle\" x=\"256.05\" y=\"-231.8\" font-family=\"Times,serif\" font-size=\"14.00\">root</text>\n",
       "</g>\n",
       "<!-- 1 -->\n",
       "<g id=\"node2\" class=\"node\">\n",
       "<title>1</title>\n",
       "<ellipse fill=\"none\" stroke=\"black\" cx=\"50.05\" cy=\"-18\" rx=\"29.5\" ry=\"18\"/>\n",
       "<text text-anchor=\"middle\" x=\"50.05\" y=\"-14.3\" font-family=\"Times,serif\" font-size=\"14.00\">One</text>\n",
       "</g>\n",
       "<!-- 2 -->\n",
       "<g id=\"node3\" class=\"node\">\n",
       "<title>2</title>\n",
       "<ellipse fill=\"none\" stroke=\"black\" cx=\"50.05\" cy=\"-105\" rx=\"50.09\" ry=\"18\"/>\n",
       "<text text-anchor=\"middle\" x=\"50.05\" y=\"-101.3\" font-family=\"Times,serif\" font-size=\"14.00\">morning</text>\n",
       "</g>\n",
       "<!-- 2&#45;&gt;1 -->\n",
       "<g id=\"edge1\" class=\"edge\">\n",
       "<title>2&#45;&gt;1</title>\n",
       "<path fill=\"none\" stroke=\"black\" d=\"M50.05,-86.8C50.05,-75.16 50.05,-59.55 50.05,-46.24\"/>\n",
       "<polygon fill=\"black\" stroke=\"black\" points=\"53.55,-46.18 50.05,-36.18 46.55,-46.18 53.55,-46.18\"/>\n",
       "<text text-anchor=\"middle\" x=\"81.55\" y=\"-57.8\" font-family=\"Times,serif\" font-size=\"14.00\">nummod</text>\n",
       "</g>\n",
       "<!-- 4&#45;&gt;2 -->\n",
       "<g id=\"edge2\" class=\"edge\">\n",
       "<title>4&#45;&gt;2</title>\n",
       "<path fill=\"none\" stroke=\"black\" d=\"M211.87,-186.49C185.1,-181.56 144.9,-172.14 113.05,-156 99.01,-148.89 85.13,-138.36 73.98,-128.79\"/>\n",
       "<polygon fill=\"black\" stroke=\"black\" points=\"76.19,-126.07 66.39,-122.05 71.55,-131.31 76.19,-126.07\"/>\n",
       "<text text-anchor=\"middle\" x=\"145.05\" y=\"-144.8\" font-family=\"Times,serif\" font-size=\"14.00\">obl:tmod</text>\n",
       "</g>\n",
       "<!-- 3 -->\n",
       "<g id=\"node5\" class=\"node\">\n",
       "<title>3</title>\n",
       "<ellipse fill=\"none\" stroke=\"black\" cx=\"145.05\" cy=\"-105\" rx=\"27\" ry=\"18\"/>\n",
       "<text text-anchor=\"middle\" x=\"145.05\" y=\"-101.3\" font-family=\"Times,serif\" font-size=\"14.00\">I</text>\n",
       "</g>\n",
       "<!-- 4&#45;&gt;3 -->\n",
       "<g id=\"edge3\" class=\"edge\">\n",
       "<title>4&#45;&gt;3</title>\n",
       "<path fill=\"none\" stroke=\"black\" d=\"M222.75,-177.07C214.72,-170.8 205.27,-163.2 197.05,-156 186.74,-146.98 175.75,-136.54 166.54,-127.54\"/>\n",
       "<polygon fill=\"black\" stroke=\"black\" points=\"168.85,-124.91 159.27,-120.38 163.94,-129.89 168.85,-124.91\"/>\n",
       "<text text-anchor=\"middle\" x=\"217.05\" y=\"-144.8\" font-family=\"Times,serif\" font-size=\"14.00\">nsubj</text>\n",
       "</g>\n",
       "<!-- 6 -->\n",
       "<g id=\"node7\" class=\"node\">\n",
       "<title>6</title>\n",
       "<ellipse fill=\"none\" stroke=\"black\" cx=\"241.05\" cy=\"-105\" rx=\"51.19\" ry=\"18\"/>\n",
       "<text text-anchor=\"middle\" x=\"241.05\" y=\"-101.3\" font-family=\"Times,serif\" font-size=\"14.00\">elephant</text>\n",
       "</g>\n",
       "<!-- 4&#45;&gt;6 -->\n",
       "<g id=\"edge6\" class=\"edge\">\n",
       "<title>4&#45;&gt;6</title>\n",
       "<path fill=\"none\" stroke=\"black\" d=\"M241.05,-173.8C241.05,-162.16 241.05,-146.55 241.05,-133.24\"/>\n",
       "<polygon fill=\"black\" stroke=\"black\" points=\"244.55,-133.18 241.05,-123.18 237.55,-133.18 244.55,-133.18\"/>\n",
       "<text text-anchor=\"middle\" x=\"252.05\" y=\"-144.8\" font-family=\"Times,serif\" font-size=\"14.00\">obj</text>\n",
       "</g>\n",
       "<!-- 9 -->\n",
       "<g id=\"node9\" class=\"node\">\n",
       "<title>9</title>\n",
       "<ellipse fill=\"none\" stroke=\"black\" cx=\"360.05\" cy=\"-105\" rx=\"49.29\" ry=\"18\"/>\n",
       "<text text-anchor=\"middle\" x=\"360.05\" y=\"-101.3\" font-family=\"Times,serif\" font-size=\"14.00\">pajamas</text>\n",
       "</g>\n",
       "<!-- 4&#45;&gt;9 -->\n",
       "<g id=\"edge9\" class=\"edge\">\n",
       "<title>4&#45;&gt;9</title>\n",
       "<path fill=\"none\" stroke=\"black\" d=\"M259.9,-177.53C278.76,-164.06 308.06,-143.13 330.1,-127.39\"/>\n",
       "<polygon fill=\"black\" stroke=\"black\" points=\"332.35,-130.08 338.46,-121.42 328.29,-124.38 332.35,-130.08\"/>\n",
       "<text text-anchor=\"middle\" x=\"319.05\" y=\"-144.8\" font-family=\"Times,serif\" font-size=\"14.00\">obl</text>\n",
       "</g>\n",
       "<!-- 10 -->\n",
       "<g id=\"node11\" class=\"node\">\n",
       "<title>10</title>\n",
       "<ellipse fill=\"none\" stroke=\"black\" cx=\"454.05\" cy=\"-105\" rx=\"27\" ry=\"18\"/>\n",
       "<text text-anchor=\"middle\" x=\"454.05\" y=\"-101.3\" font-family=\"Times,serif\" font-size=\"14.00\">.</text>\n",
       "</g>\n",
       "<!-- 4&#45;&gt;10 -->\n",
       "<g id=\"edge10\" class=\"edge\">\n",
       "<title>4&#45;&gt;10</title>\n",
       "<path fill=\"none\" stroke=\"black\" d=\"M266.52,-181.96C301.14,-169.5 364.86,-145.98 418.05,-123 419.85,-122.22 421.71,-121.4 423.57,-120.56\"/>\n",
       "<polygon fill=\"black\" stroke=\"black\" points=\"425.21,-123.66 432.83,-116.31 422.28,-117.3 425.21,-123.66\"/>\n",
       "<text text-anchor=\"middle\" x=\"390.55\" y=\"-144.8\" font-family=\"Times,serif\" font-size=\"14.00\">punct</text>\n",
       "</g>\n",
       "<!-- 5 -->\n",
       "<g id=\"node6\" class=\"node\">\n",
       "<title>5</title>\n",
       "<ellipse fill=\"none\" stroke=\"black\" cx=\"241.05\" cy=\"-18\" rx=\"27\" ry=\"18\"/>\n",
       "<text text-anchor=\"middle\" x=\"241.05\" y=\"-14.3\" font-family=\"Times,serif\" font-size=\"14.00\">an</text>\n",
       "</g>\n",
       "<!-- 6&#45;&gt;5 -->\n",
       "<g id=\"edge5\" class=\"edge\">\n",
       "<title>6&#45;&gt;5</title>\n",
       "<path fill=\"none\" stroke=\"black\" d=\"M241.05,-86.8C241.05,-75.16 241.05,-59.55 241.05,-46.24\"/>\n",
       "<polygon fill=\"black\" stroke=\"black\" points=\"244.55,-46.18 241.05,-36.18 237.55,-46.18 244.55,-46.18\"/>\n",
       "<text text-anchor=\"middle\" x=\"253.05\" y=\"-57.8\" font-family=\"Times,serif\" font-size=\"14.00\">det</text>\n",
       "</g>\n",
       "<!-- 7 -->\n",
       "<g id=\"node8\" class=\"node\">\n",
       "<title>7</title>\n",
       "<ellipse fill=\"none\" stroke=\"black\" cx=\"336.05\" cy=\"-18\" rx=\"27\" ry=\"18\"/>\n",
       "<text text-anchor=\"middle\" x=\"336.05\" y=\"-14.3\" font-family=\"Times,serif\" font-size=\"14.00\">in</text>\n",
       "</g>\n",
       "<!-- 9&#45;&gt;7 -->\n",
       "<g id=\"edge7\" class=\"edge\">\n",
       "<title>9&#45;&gt;7</title>\n",
       "<path fill=\"none\" stroke=\"black\" d=\"M355.19,-86.8C351.85,-74.97 347.35,-59.03 343.55,-45.58\"/>\n",
       "<polygon fill=\"black\" stroke=\"black\" points=\"346.9,-44.56 340.81,-35.89 340.16,-46.46 346.9,-44.56\"/>\n",
       "<text text-anchor=\"middle\" x=\"366.05\" y=\"-57.8\" font-family=\"Times,serif\" font-size=\"14.00\">case</text>\n",
       "</g>\n",
       "<!-- 8 -->\n",
       "<g id=\"node10\" class=\"node\">\n",
       "<title>8</title>\n",
       "<ellipse fill=\"none\" stroke=\"black\" cx=\"408.05\" cy=\"-18\" rx=\"27\" ry=\"18\"/>\n",
       "<text text-anchor=\"middle\" x=\"408.05\" y=\"-14.3\" font-family=\"Times,serif\" font-size=\"14.00\">my</text>\n",
       "</g>\n",
       "<!-- 9&#45;&gt;8 -->\n",
       "<g id=\"edge8\" class=\"edge\">\n",
       "<title>9&#45;&gt;8</title>\n",
       "<path fill=\"none\" stroke=\"black\" d=\"M373.54,-87.44C377.82,-81.77 382.39,-75.28 386.05,-69 390.4,-61.51 394.45,-52.99 397.86,-45.14\"/>\n",
       "<polygon fill=\"black\" stroke=\"black\" points=\"401.19,-46.25 401.81,-35.67 394.73,-43.55 401.19,-46.25\"/>\n",
       "<text text-anchor=\"middle\" x=\"432.55\" y=\"-57.8\" font-family=\"Times,serif\" font-size=\"14.00\">nmod:poss</text>\n",
       "</g>\n",
       "</g>\n",
       "</svg>\n"
      ],
      "text/plain": [
       "<graphviz.dot.Digraph at 0x7fb71b8e3c70>"
      ]
     },
     "execution_count": 28,
     "metadata": {},
     "output_type": "execute_result"
    }
   ],
   "source": [
    "stanza_doc = stanza_nlp(sentence)\n",
    "#print_conllu(stanza_doc)\n",
    "for sent in stanza_doc.sentences:\n",
    "    word_dict = {word.id: word.text for word in sent.words}\n",
    "    word_dict[0] = 'ROOT'\n",
    "    for word in sent.words:\n",
    "        print(f'{word.id}\\t{word.text}\\t{word.upos}\\t{word_dict[word.head]}\\t{word.deprel}')\n",
    "visualize(stanza_doc)"
   ]
  },
  {
   "cell_type": "code",
   "execution_count": 29,
   "metadata": {},
   "outputs": [
    {
     "name": "stderr",
     "output_type": "stream",
     "text": [
      "Your label namespace was 'pos'. We recommend you use a namespace ending with 'labels' or 'tags', so we don't add UNK and PAD tokens by default to your vocabulary.  See documentation for `non_padded_namespaces` parameter in Vocabulary.\n"
     ]
    },
    {
     "name": "stdout",
     "output_type": "stream",
     "text": [
      "1\tOne\tNUM\tshot\tnsubj\n",
      "2\tmorning\tNOUN\tshot\ttmod\n",
      "3\tI\tPRON\tshot\tnsubj\n",
      "4\tshot\tVERB\tROOT\troot\n",
      "5\tan\tDET\telephant\tdet\n",
      "6\telephant\tNOUN\tshot\tdobj\n",
      "7\tin\tADP\tshot\tprep\n",
      "8\tmy\tPRON\tpajamas\tdep\n",
      "9\tpajamas\tNOUN\tin\tdep\n",
      "10\t.\tPUNCT\tshot\tpunct\n"
     ]
    },
    {
     "data": {
      "image/svg+xml": [
       "<?xml version=\"1.0\" encoding=\"UTF-8\" standalone=\"no\"?>\n",
       "<!DOCTYPE svg PUBLIC \"-//W3C//DTD SVG 1.1//EN\"\n",
       " \"http://www.w3.org/Graphics/SVG/1.1/DTD/svg11.dtd\">\n",
       "<!-- Generated by graphviz version 2.43.0 (0)\n",
       " -->\n",
       "<!-- Title: %3 Pages: 1 -->\n",
       "<svg width=\"520pt\" height=\"392pt\"\n",
       " viewBox=\"0.00 0.00 520.25 392.00\" xmlns=\"http://www.w3.org/2000/svg\" xmlns:xlink=\"http://www.w3.org/1999/xlink\">\n",
       "<g id=\"graph0\" class=\"graph\" transform=\"scale(1 1) rotate(0) translate(4 388)\">\n",
       "<title>%3</title>\n",
       "<polygon fill=\"white\" stroke=\"transparent\" points=\"-4,4 -4,-388 516.25,-388 516.25,4 -4,4\"/>\n",
       "<!-- 0 -->\n",
       "<g id=\"node1\" class=\"node\">\n",
       "<title>0</title>\n",
       "<polygon fill=\"none\" stroke=\"black\" points=\"289.75,-384 230.75,-384 230.75,-348 289.75,-348 289.75,-384\"/>\n",
       "<text text-anchor=\"middle\" x=\"260.25\" y=\"-362.3\" font-family=\"Times,serif\" font-size=\"14.00\">ROOT</text>\n",
       "</g>\n",
       "<!-- 4 -->\n",
       "<g id=\"node3\" class=\"node\">\n",
       "<title>4</title>\n",
       "<ellipse fill=\"none\" stroke=\"black\" cx=\"260.25\" cy=\"-279\" rx=\"30.59\" ry=\"18\"/>\n",
       "<text text-anchor=\"middle\" x=\"260.25\" y=\"-275.3\" font-family=\"Times,serif\" font-size=\"14.00\">shot</text>\n",
       "</g>\n",
       "<!-- 0&#45;&gt;4 -->\n",
       "<g id=\"edge4\" class=\"edge\">\n",
       "<title>0&#45;&gt;4</title>\n",
       "<path fill=\"none\" stroke=\"black\" d=\"M260.25,-347.8C260.25,-336.16 260.25,-320.55 260.25,-307.24\"/>\n",
       "<polygon fill=\"black\" stroke=\"black\" points=\"263.75,-307.18 260.25,-297.18 256.75,-307.18 263.75,-307.18\"/>\n",
       "<text text-anchor=\"middle\" x=\"275.25\" y=\"-318.8\" font-family=\"Times,serif\" font-size=\"14.00\">root</text>\n",
       "</g>\n",
       "<!-- 1 -->\n",
       "<g id=\"node2\" class=\"node\">\n",
       "<title>1</title>\n",
       "<ellipse fill=\"none\" stroke=\"black\" cx=\"29.25\" cy=\"-192\" rx=\"29.5\" ry=\"18\"/>\n",
       "<text text-anchor=\"middle\" x=\"29.25\" y=\"-188.3\" font-family=\"Times,serif\" font-size=\"14.00\">One</text>\n",
       "</g>\n",
       "<!-- 4&#45;&gt;1 -->\n",
       "<g id=\"edge1\" class=\"edge\">\n",
       "<title>4&#45;&gt;1</title>\n",
       "<path fill=\"none\" stroke=\"black\" d=\"M231.67,-272.34C204.36,-266.5 162.27,-256.36 127.25,-243 103.32,-233.87 77.58,-220.59 58.49,-210.01\"/>\n",
       "<polygon fill=\"black\" stroke=\"black\" points=\"60.11,-206.91 49.68,-205.06 56.69,-213.01 60.11,-206.91\"/>\n",
       "<text text-anchor=\"middle\" x=\"147.25\" y=\"-231.8\" font-family=\"Times,serif\" font-size=\"14.00\">nsubj</text>\n",
       "</g>\n",
       "<!-- 2 -->\n",
       "<g id=\"node4\" class=\"node\">\n",
       "<title>2</title>\n",
       "<ellipse fill=\"none\" stroke=\"black\" cx=\"126.25\" cy=\"-192\" rx=\"50.09\" ry=\"18\"/>\n",
       "<text text-anchor=\"middle\" x=\"126.25\" y=\"-188.3\" font-family=\"Times,serif\" font-size=\"14.00\">morning</text>\n",
       "</g>\n",
       "<!-- 4&#45;&gt;2 -->\n",
       "<g id=\"edge2\" class=\"edge\">\n",
       "<title>4&#45;&gt;2</title>\n",
       "<path fill=\"none\" stroke=\"black\" d=\"M236.66,-267.38C223.04,-260.92 205.79,-252.17 191.25,-243 178.07,-234.69 164.28,-224.35 152.81,-215.23\"/>\n",
       "<polygon fill=\"black\" stroke=\"black\" points=\"154.89,-212.41 144.91,-208.85 150.49,-217.86 154.89,-212.41\"/>\n",
       "<text text-anchor=\"middle\" x=\"209.75\" y=\"-231.8\" font-family=\"Times,serif\" font-size=\"14.00\">tmod</text>\n",
       "</g>\n",
       "<!-- 3 -->\n",
       "<g id=\"node5\" class=\"node\">\n",
       "<title>3</title>\n",
       "<ellipse fill=\"none\" stroke=\"black\" cx=\"221.25\" cy=\"-192\" rx=\"27\" ry=\"18\"/>\n",
       "<text text-anchor=\"middle\" x=\"221.25\" y=\"-188.3\" font-family=\"Times,serif\" font-size=\"14.00\">I</text>\n",
       "</g>\n",
       "<!-- 4&#45;&gt;3 -->\n",
       "<g id=\"edge3\" class=\"edge\">\n",
       "<title>4&#45;&gt;3</title>\n",
       "<path fill=\"none\" stroke=\"black\" d=\"M249.13,-262.07C245.37,-256.24 241.33,-249.48 238.25,-243 234.74,-235.63 231.62,-227.34 229.03,-219.67\"/>\n",
       "<polygon fill=\"black\" stroke=\"black\" points=\"232.34,-218.51 225.96,-210.05 225.67,-220.64 232.34,-218.51\"/>\n",
       "<text text-anchor=\"middle\" x=\"258.25\" y=\"-231.8\" font-family=\"Times,serif\" font-size=\"14.00\">nsubj</text>\n",
       "</g>\n",
       "<!-- 6 -->\n",
       "<g id=\"node7\" class=\"node\">\n",
       "<title>6</title>\n",
       "<ellipse fill=\"none\" stroke=\"black\" cx=\"317.25\" cy=\"-192\" rx=\"51.19\" ry=\"18\"/>\n",
       "<text text-anchor=\"middle\" x=\"317.25\" y=\"-188.3\" font-family=\"Times,serif\" font-size=\"14.00\">elephant</text>\n",
       "</g>\n",
       "<!-- 4&#45;&gt;6 -->\n",
       "<g id=\"edge6\" class=\"edge\">\n",
       "<title>4&#45;&gt;6</title>\n",
       "<path fill=\"none\" stroke=\"black\" d=\"M270.97,-262.01C279.25,-249.67 290.86,-232.35 300.38,-218.15\"/>\n",
       "<polygon fill=\"black\" stroke=\"black\" points=\"303.33,-220.04 305.99,-209.79 297.51,-216.14 303.33,-220.04\"/>\n",
       "<text text-anchor=\"middle\" x=\"307.75\" y=\"-231.8\" font-family=\"Times,serif\" font-size=\"14.00\">dobj</text>\n",
       "</g>\n",
       "<!-- 7 -->\n",
       "<g id=\"node8\" class=\"node\">\n",
       "<title>7</title>\n",
       "<ellipse fill=\"none\" stroke=\"black\" cx=\"413.25\" cy=\"-192\" rx=\"27\" ry=\"18\"/>\n",
       "<text text-anchor=\"middle\" x=\"413.25\" y=\"-188.3\" font-family=\"Times,serif\" font-size=\"14.00\">in</text>\n",
       "</g>\n",
       "<!-- 4&#45;&gt;7 -->\n",
       "<g id=\"edge7\" class=\"edge\">\n",
       "<title>4&#45;&gt;7</title>\n",
       "<path fill=\"none\" stroke=\"black\" d=\"M282.72,-266.58C295.79,-259.86 312.54,-251.11 327.25,-243 346.77,-232.23 368.47,-219.61 385.19,-209.74\"/>\n",
       "<polygon fill=\"black\" stroke=\"black\" points=\"387.1,-212.68 393.92,-204.57 383.53,-206.66 387.1,-212.68\"/>\n",
       "<text text-anchor=\"middle\" x=\"371.25\" y=\"-231.8\" font-family=\"Times,serif\" font-size=\"14.00\">prep</text>\n",
       "</g>\n",
       "<!-- 10 -->\n",
       "<g id=\"node11\" class=\"node\">\n",
       "<title>10</title>\n",
       "<ellipse fill=\"none\" stroke=\"black\" cx=\"485.25\" cy=\"-192\" rx=\"27\" ry=\"18\"/>\n",
       "<text text-anchor=\"middle\" x=\"485.25\" y=\"-188.3\" font-family=\"Times,serif\" font-size=\"14.00\">.</text>\n",
       "</g>\n",
       "<!-- 4&#45;&gt;10 -->\n",
       "<g id=\"edge10\" class=\"edge\">\n",
       "<title>4&#45;&gt;10</title>\n",
       "<path fill=\"none\" stroke=\"black\" d=\"M288.93,-272.43C316.09,-266.68 357.74,-256.63 392.25,-243 415.04,-233.99 439.39,-220.76 457.46,-210.17\"/>\n",
       "<polygon fill=\"black\" stroke=\"black\" points=\"459.49,-213.03 466.29,-204.9 455.91,-207.02 459.49,-213.03\"/>\n",
       "<text text-anchor=\"middle\" x=\"444.75\" y=\"-231.8\" font-family=\"Times,serif\" font-size=\"14.00\">punct</text>\n",
       "</g>\n",
       "<!-- 5 -->\n",
       "<g id=\"node6\" class=\"node\">\n",
       "<title>5</title>\n",
       "<ellipse fill=\"none\" stroke=\"black\" cx=\"317.25\" cy=\"-105\" rx=\"27\" ry=\"18\"/>\n",
       "<text text-anchor=\"middle\" x=\"317.25\" y=\"-101.3\" font-family=\"Times,serif\" font-size=\"14.00\">an</text>\n",
       "</g>\n",
       "<!-- 6&#45;&gt;5 -->\n",
       "<g id=\"edge5\" class=\"edge\">\n",
       "<title>6&#45;&gt;5</title>\n",
       "<path fill=\"none\" stroke=\"black\" d=\"M317.25,-173.8C317.25,-162.16 317.25,-146.55 317.25,-133.24\"/>\n",
       "<polygon fill=\"black\" stroke=\"black\" points=\"320.75,-133.18 317.25,-123.18 313.75,-133.18 320.75,-133.18\"/>\n",
       "<text text-anchor=\"middle\" x=\"329.25\" y=\"-144.8\" font-family=\"Times,serif\" font-size=\"14.00\">det</text>\n",
       "</g>\n",
       "<!-- 9 -->\n",
       "<g id=\"node10\" class=\"node\">\n",
       "<title>9</title>\n",
       "<ellipse fill=\"none\" stroke=\"black\" cx=\"413.25\" cy=\"-105\" rx=\"49.29\" ry=\"18\"/>\n",
       "<text text-anchor=\"middle\" x=\"413.25\" y=\"-101.3\" font-family=\"Times,serif\" font-size=\"14.00\">pajamas</text>\n",
       "</g>\n",
       "<!-- 7&#45;&gt;9 -->\n",
       "<g id=\"edge9\" class=\"edge\">\n",
       "<title>7&#45;&gt;9</title>\n",
       "<path fill=\"none\" stroke=\"black\" d=\"M413.25,-173.8C413.25,-162.16 413.25,-146.55 413.25,-133.24\"/>\n",
       "<polygon fill=\"black\" stroke=\"black\" points=\"416.75,-133.18 413.25,-123.18 409.75,-133.18 416.75,-133.18\"/>\n",
       "<text text-anchor=\"middle\" x=\"426.75\" y=\"-144.8\" font-family=\"Times,serif\" font-size=\"14.00\">dep</text>\n",
       "</g>\n",
       "<!-- 8 -->\n",
       "<g id=\"node9\" class=\"node\">\n",
       "<title>8</title>\n",
       "<ellipse fill=\"none\" stroke=\"black\" cx=\"413.25\" cy=\"-18\" rx=\"27\" ry=\"18\"/>\n",
       "<text text-anchor=\"middle\" x=\"413.25\" y=\"-14.3\" font-family=\"Times,serif\" font-size=\"14.00\">my</text>\n",
       "</g>\n",
       "<!-- 9&#45;&gt;8 -->\n",
       "<g id=\"edge8\" class=\"edge\">\n",
       "<title>9&#45;&gt;8</title>\n",
       "<path fill=\"none\" stroke=\"black\" d=\"M413.25,-86.8C413.25,-75.16 413.25,-59.55 413.25,-46.24\"/>\n",
       "<polygon fill=\"black\" stroke=\"black\" points=\"416.75,-46.18 413.25,-36.18 409.75,-46.18 416.75,-46.18\"/>\n",
       "<text text-anchor=\"middle\" x=\"426.75\" y=\"-57.8\" font-family=\"Times,serif\" font-size=\"14.00\">dep</text>\n",
       "</g>\n",
       "</g>\n",
       "</svg>\n"
      ],
      "text/plain": [
       "<graphviz.dot.Digraph at 0x7fb77a4c9e20>"
      ]
     },
     "execution_count": 29,
     "metadata": {},
     "output_type": "execute_result"
    }
   ],
   "source": [
    "predictor = Predictor.from_path(\"https://storage.googleapis.com/allennlp-public-models/biaffine-dependency-parser-ptb-2020.04.06.tar.gz\")\n",
    "predicted = predictor.predict(sentence=sentence)\n",
    "for i, (word, dep, head, pos) in \\\n",
    "    enumerate(zip(predicted['words'], \n",
    "                  predicted['predicted_dependencies'], \n",
    "                  predicted['predicted_heads'], \n",
    "                  predicted['pos'])):\n",
    "    head_text = \"ROOT\" if head == 0 else predicted[\"words\"][head-1]\n",
    "    print(f'{i+1}\\t{word}\\t{pos}\\t{head_text}\\t{dep}')\n",
    "visualize_allen(predicted)"
   ]
  },
  {
   "cell_type": "markdown",
   "metadata": {
    "id": "Dr13kKrWanPB"
   },
   "source": [
    "# Knowledge bases"
   ]
  },
  {
   "cell_type": "markdown",
   "metadata": {
    "id": "a070w4vkSzSR"
   },
   "source": [
    "## Wordnet\n",
    "\n",
    "- Separates words into synsets\n",
    "- Hand-crafted database (begun in 1985)\n",
    "- Definitions and examples are also provided\n",
    "- Includes Nouns, verbs, adjectives, adverbs..\n",
    "\n",
    "Contains also:\n",
    "- Hyponyms: e.g. dog-canine (IsA)\n",
    "- Hypernyms: (reverse IsA)\n",
    "- Coordinate terms with same parents\n",
    "- Meronyms: Window - building (partOf)\n",
    "- Entailment\n",
    "\n",
    "- Structured into trees\n",
    "\n",
    "There are many WordNets available in many languages"
   ]
  },
  {
   "cell_type": "markdown",
   "metadata": {
    "id": "vPurOHWWEejv"
   },
   "source": [
    "Looking up a word"
   ]
  },
  {
   "cell_type": "code",
   "execution_count": 30,
   "metadata": {
    "colab": {
     "base_uri": "https://localhost:8080/"
    },
    "id": "lQfRz6qs1lOd",
    "outputId": "dabb1a05-75ce-4018-cc2b-2fe91ba2f521"
   },
   "outputs": [
    {
     "data": {
      "text/plain": [
       "[Synset('dog.n.01'),\n",
       " Synset('frump.n.01'),\n",
       " Synset('dog.n.03'),\n",
       " Synset('cad.n.01'),\n",
       " Synset('frank.n.02'),\n",
       " Synset('pawl.n.01'),\n",
       " Synset('andiron.n.01'),\n",
       " Synset('chase.v.01')]"
      ]
     },
     "execution_count": 30,
     "metadata": {},
     "output_type": "execute_result"
    }
   ],
   "source": [
    "wn.synsets(\"dog\")"
   ]
  },
  {
   "cell_type": "markdown",
   "metadata": {
    "id": "x6VgtEX3Ekva"
   },
   "source": [
    "A synset is identfied with a 3part name of the form:'word.pos.nn'"
   ]
  },
  {
   "cell_type": "code",
   "execution_count": 31,
   "metadata": {
    "colab": {
     "base_uri": "https://localhost:8080/"
    },
    "id": "Ayx-Sf5U1rAD",
    "outputId": "892e6f45-81bc-4268-e2da-fdf69b6c1daa"
   },
   "outputs": [
    {
     "data": {
      "text/plain": [
       "[Synset('chase.v.01')]"
      ]
     },
     "execution_count": 31,
     "metadata": {},
     "output_type": "execute_result"
    }
   ],
   "source": [
    "wn.synsets(\"dog\", pos=wn.VERB)"
   ]
  },
  {
   "cell_type": "code",
   "execution_count": 32,
   "metadata": {
    "colab": {
     "base_uri": "https://localhost:8080/"
    },
    "id": "eUTyCiu02UOS",
    "outputId": "a07e6aac-fe8a-4caf-93e7-4e97ab5bad35"
   },
   "outputs": [
    {
     "data": {
      "text/plain": [
       "Synset('dog.n.01')"
      ]
     },
     "execution_count": 32,
     "metadata": {},
     "output_type": "execute_result"
    }
   ],
   "source": [
    "wn.synset('dog.n.01')"
   ]
  },
  {
   "cell_type": "markdown",
   "metadata": {
    "id": "rdsuJQPREv0i"
   },
   "source": [
    "We can also query definitions, examples and lemmas of the synsets.."
   ]
  },
  {
   "cell_type": "code",
   "execution_count": 33,
   "metadata": {
    "colab": {
     "base_uri": "https://localhost:8080/",
     "height": 35
    },
    "id": "zxJ8VWit2cHC",
    "outputId": "9ebf58c7-56d4-4651-d8c9-c8f1c8989111"
   },
   "outputs": [
    {
     "data": {
      "text/plain": [
       "'a member of the genus Canis (probably descended from the common wolf) that has been domesticated by man since prehistoric times; occurs in many breeds'"
      ]
     },
     "execution_count": 33,
     "metadata": {},
     "output_type": "execute_result"
    }
   ],
   "source": [
    "wn.synset('dog.n.01').definition()"
   ]
  },
  {
   "cell_type": "code",
   "execution_count": 34,
   "metadata": {
    "colab": {
     "base_uri": "https://localhost:8080/"
    },
    "id": "brTcD_Qd2i0y",
    "outputId": "c3a62f4d-55c6-44d7-b38c-7758cb154599"
   },
   "outputs": [
    {
     "data": {
      "text/plain": [
       "['the dog barked all night']"
      ]
     },
     "execution_count": 34,
     "metadata": {},
     "output_type": "execute_result"
    }
   ],
   "source": [
    "wn.synset('dog.n.01').examples()"
   ]
  },
  {
   "cell_type": "code",
   "execution_count": 35,
   "metadata": {
    "colab": {
     "base_uri": "https://localhost:8080/"
    },
    "id": "qApjBumu2lTq",
    "outputId": "b0c41830-d9a3-4a36-9039-293826dc0122"
   },
   "outputs": [
    {
     "data": {
      "text/plain": [
       "[Lemma('dog.n.01.dog'),\n",
       " Lemma('dog.n.01.domestic_dog'),\n",
       " Lemma('dog.n.01.Canis_familiaris')]"
      ]
     },
     "execution_count": 35,
     "metadata": {},
     "output_type": "execute_result"
    }
   ],
   "source": [
    "wn.synset('dog.n.01').lemmas()"
   ]
  },
  {
   "cell_type": "markdown",
   "metadata": {
    "id": "gl6I6F5XE3CZ"
   },
   "source": [
    "We can iterate through all of WordNet or just from a synset"
   ]
  },
  {
   "cell_type": "code",
   "execution_count": 36,
   "metadata": {
    "colab": {
     "base_uri": "https://localhost:8080/"
    },
    "id": "cr8psJqJ3Wgy",
    "outputId": "fdde2115-6107-40d7-e14d-f2a8fd9fa1e1"
   },
   "outputs": [
    {
     "name": "stdout",
     "output_type": "stream",
     "text": [
      "dog\n",
      "domestic_dog\n",
      "Canis_familiaris\n"
     ]
    }
   ],
   "source": [
    "for lemma in wn.synset(\"dog.n.01\").lemmas():\n",
    "    print(lemma.name())"
   ]
  },
  {
   "cell_type": "code",
   "execution_count": 37,
   "metadata": {
    "colab": {
     "base_uri": "https://localhost:8080/"
    },
    "id": "TmWw9_3t3drh",
    "outputId": "bc397d79-3645-4053-8bcc-253f534f9afd"
   },
   "outputs": [
    {
     "name": "stdout",
     "output_type": "stream",
     "text": [
      "Synset('entity.n.01')\n",
      "Synset('physical_entity.n.01')\n",
      "Synset('abstraction.n.06')\n",
      "Synset('thing.n.12')\n",
      "Synset('object.n.01')\n",
      "Synset('whole.n.02')\n",
      "Synset('congener.n.03')\n",
      "Synset('living_thing.n.01')\n",
      "Synset('organism.n.01')\n",
      "Synset('benthos.n.02')\n"
     ]
    }
   ],
   "source": [
    "for synset in list(wn.all_synsets(\"n\"))[:10]:\n",
    "    print(synset)"
   ]
  },
  {
   "cell_type": "markdown",
   "metadata": {
    "id": "hc6ohrLuE9P8"
   },
   "source": [
    "We can get the relationships:"
   ]
  },
  {
   "cell_type": "code",
   "execution_count": 38,
   "metadata": {
    "colab": {
     "base_uri": "https://localhost:8080/"
    },
    "id": "si-4Sco63pYp",
    "outputId": "885f21d4-3b0a-48ee-e04b-feaaa532bba4"
   },
   "outputs": [
    {
     "data": {
      "text/plain": [
       "[Synset('canine.n.02'), Synset('domestic_animal.n.01')]"
      ]
     },
     "execution_count": 38,
     "metadata": {},
     "output_type": "execute_result"
    }
   ],
   "source": [
    "dog = wn.synset(\"dog.n.01\")\n",
    "dog.hypernyms()"
   ]
  },
  {
   "cell_type": "code",
   "execution_count": 39,
   "metadata": {
    "colab": {
     "base_uri": "https://localhost:8080/"
    },
    "id": "J-deShj_30kJ",
    "outputId": "8fd46047-aac2-4255-c81b-ff176c84cf93"
   },
   "outputs": [
    {
     "data": {
      "text/plain": [
       "[Synset('basenji.n.01'),\n",
       " Synset('corgi.n.01'),\n",
       " Synset('cur.n.01'),\n",
       " Synset('dalmatian.n.02'),\n",
       " Synset('great_pyrenees.n.01'),\n",
       " Synset('griffon.n.02'),\n",
       " Synset('hunting_dog.n.01'),\n",
       " Synset('lapdog.n.01'),\n",
       " Synset('leonberg.n.01'),\n",
       " Synset('mexican_hairless.n.01'),\n",
       " Synset('newfoundland.n.01'),\n",
       " Synset('pooch.n.01'),\n",
       " Synset('poodle.n.01'),\n",
       " Synset('pug.n.01'),\n",
       " Synset('puppy.n.01'),\n",
       " Synset('spitz.n.01'),\n",
       " Synset('toy_dog.n.01'),\n",
       " Synset('working_dog.n.01')]"
      ]
     },
     "execution_count": 39,
     "metadata": {},
     "output_type": "execute_result"
    }
   ],
   "source": [
    "dog.hyponyms()"
   ]
  },
  {
   "cell_type": "code",
   "execution_count": 40,
   "metadata": {
    "colab": {
     "base_uri": "https://localhost:8080/"
    },
    "id": "1dENJcEh32EQ",
    "outputId": "8436d7a1-029a-4290-ba5a-d6beccdb02ec"
   },
   "outputs": [
    {
     "data": {
      "text/plain": [
       "[Synset('canis.n.01'), Synset('pack.n.06')]"
      ]
     },
     "execution_count": 40,
     "metadata": {},
     "output_type": "execute_result"
    }
   ],
   "source": [
    "dog.member_holonyms()"
   ]
  },
  {
   "cell_type": "code",
   "execution_count": 41,
   "metadata": {
    "colab": {
     "base_uri": "https://localhost:8080/"
    },
    "id": "zYgeJ4pB33vA",
    "outputId": "a2e9a1ef-54bc-499a-b711-7d20bbd3eb19"
   },
   "outputs": [
    {
     "data": {
      "text/plain": [
       "[Synset('entity.n.01')]"
      ]
     },
     "execution_count": 41,
     "metadata": {},
     "output_type": "execute_result"
    }
   ],
   "source": [
    "dog.root_hypernyms()"
   ]
  },
  {
   "cell_type": "code",
   "execution_count": 42,
   "metadata": {
    "colab": {
     "base_uri": "https://localhost:8080/"
    },
    "id": "rhA6sgKs35EQ",
    "outputId": "5d10e79a-147e-41c4-e5ad-04c6db9e66c3"
   },
   "outputs": [
    {
     "data": {
      "text/plain": [
       "[Lemma('bad.a.01.bad')]"
      ]
     },
     "execution_count": 42,
     "metadata": {},
     "output_type": "execute_result"
    }
   ],
   "source": [
    "good = wn.synset(\"good.a.01\")\n",
    "good.lemmas()[0].antonyms()"
   ]
  },
  {
   "cell_type": "markdown",
   "metadata": {
    "id": "TvBc24E1FHDo"
   },
   "source": [
    "We can also measure similarity between synsets. There are many different measures:"
   ]
  },
  {
   "cell_type": "code",
   "execution_count": 43,
   "metadata": {
    "colab": {
     "base_uri": "https://localhost:8080/"
    },
    "id": "OEdk9Q943_qo",
    "outputId": "e8dc6f32-6471-4e11-a3ba-484009291394"
   },
   "outputs": [
    {
     "data": {
      "text/plain": [
       "0.2"
      ]
     },
     "execution_count": 43,
     "metadata": {},
     "output_type": "execute_result"
    }
   ],
   "source": [
    "wn.path_similarity(wn.synsets(\"dog\")[0], wn.synsets(\"cat\")[0])"
   ]
  },
  {
   "cell_type": "code",
   "execution_count": 44,
   "metadata": {
    "colab": {
     "base_uri": "https://localhost:8080/"
    },
    "id": "CX4SjhjZ4Wl4",
    "outputId": "eb6757fd-7d4e-43b5-896d-14f5aaf93424"
   },
   "outputs": [
    {
     "data": {
      "text/plain": [
       "0.8571428571428571"
      ]
     },
     "execution_count": 44,
     "metadata": {},
     "output_type": "execute_result"
    }
   ],
   "source": [
    "wn.wup_similarity(wn.synsets(\"dog\")[0], wn.synsets(\"cat\")[0])"
   ]
  },
  {
   "cell_type": "markdown",
   "metadata": {
    "id": "DXfwO9QmFQ02"
   },
   "source": [
    "- WordNet can be great for a lot of simple baselines \n",
    "- But many relations are missing from wordnet\n",
    "- Can be also used alongside with Deep models\n"
   ]
  },
  {
   "cell_type": "markdown",
   "metadata": {
    "id": "-UlGiak6asNQ"
   },
   "source": [
    "## ConceptNet [Liu et al 2004,](https://link.springer.com/article/10.1023/B:BTTJ.0000047600.45421.6d)\n",
    "\n",
    "- Created with lexical patterns\n",
    "- Consists of relations that connects concepts"
   ]
  },
  {
   "cell_type": "markdown",
   "metadata": {
    "id": "yDl5fdncFph8"
   },
   "source": [
    "![conceptnet.PNG](data:image/png;base64,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)"
   ]
  },
  {
   "cell_type": "code",
   "execution_count": 45,
   "metadata": {
    "colab": {
     "base_uri": "https://localhost:8080/"
    },
    "id": "XiyPWeL54-LC",
    "outputId": "c22b6143-e2bd-4531-d26f-6fa9dc873caf"
   },
   "outputs": [
    {
     "data": {
      "text/plain": [
       "dict_keys(['@context', '@id', 'edges', 'version', 'view'])"
      ]
     },
     "execution_count": 45,
     "metadata": {},
     "output_type": "execute_result"
    }
   ],
   "source": [
    "obj = requests.get('http://api.conceptnet.io/c/en/dog').json()\n",
    "obj.keys()"
   ]
  },
  {
   "cell_type": "code",
   "execution_count": 46,
   "metadata": {},
   "outputs": [
    {
     "data": {
      "text/plain": [
       "20"
      ]
     },
     "execution_count": 46,
     "metadata": {},
     "output_type": "execute_result"
    }
   ],
   "source": [
    "len(obj[\"edges\"])"
   ]
  },
  {
   "cell_type": "code",
   "execution_count": 47,
   "metadata": {
    "colab": {
     "base_uri": "https://localhost:8080/"
    },
    "id": "kjR_ce9n5pKo",
    "outputId": "74925670-87af-4e1b-8805-f3212244d746"
   },
   "outputs": [
    {
     "data": {
      "text/plain": [
       "dict_keys(['@id', '@type', 'dataset', 'end', 'license', 'rel', 'sources', 'start', 'surfaceText', 'weight'])"
      ]
     },
     "execution_count": 47,
     "metadata": {},
     "output_type": "execute_result"
    }
   ],
   "source": [
    "obj[\"edges\"][0].keys()"
   ]
  },
  {
   "cell_type": "code",
   "execution_count": 48,
   "metadata": {},
   "outputs": [
    {
     "data": {
      "text/plain": [
       "{'@id': '/r/CapableOf', '@type': 'Relation', 'label': 'CapableOf'}"
      ]
     },
     "execution_count": 48,
     "metadata": {},
     "output_type": "execute_result"
    }
   ],
   "source": [
    "obj[\"edges\"][0][\"rel\"]"
   ]
  },
  {
   "cell_type": "code",
   "execution_count": 49,
   "metadata": {},
   "outputs": [
    {
     "data": {
      "text/plain": [
       "63"
      ]
     },
     "execution_count": 49,
     "metadata": {},
     "output_type": "execute_result"
    }
   ],
   "source": [
    "len(obj[\"edges\"][0][\"sources\"])"
   ]
  },
  {
   "cell_type": "code",
   "execution_count": 50,
   "metadata": {},
   "outputs": [
    {
     "data": {
      "text/plain": [
       "'[[dog]] can [[bark]]'"
      ]
     },
     "execution_count": 50,
     "metadata": {},
     "output_type": "execute_result"
    }
   ],
   "source": [
    "obj[\"edges\"][0][\"surfaceText\"]"
   ]
  },
  {
   "cell_type": "code",
   "execution_count": 51,
   "metadata": {},
   "outputs": [
    {
     "data": {
      "text/plain": [
       "({'@id': '/c/en/dog',\n",
       "  '@type': 'Node',\n",
       "  'label': 'dog',\n",
       "  'language': 'en',\n",
       "  'term': '/c/en/dog'},\n",
       " {'@id': '/c/en/bark',\n",
       "  '@type': 'Node',\n",
       "  'label': 'bark',\n",
       "  'language': 'en',\n",
       "  'term': '/c/en/bark'})"
      ]
     },
     "execution_count": 51,
     "metadata": {},
     "output_type": "execute_result"
    }
   ],
   "source": [
    "obj[\"edges\"][0][\"start\"], obj[\"edges\"][0][\"end\"]"
   ]
  },
  {
   "cell_type": "code",
   "execution_count": 52,
   "metadata": {
    "colab": {
     "base_uri": "https://localhost:8080/"
    },
    "id": "xC2kNxwb5zsv",
    "outputId": "f1652147-8d86-46f1-bd5a-8720b7600781"
   },
   "outputs": [
    {
     "data": {
      "text/plain": [
       "dict_keys(['@id', 'related'])"
      ]
     },
     "execution_count": 52,
     "metadata": {},
     "output_type": "execute_result"
    }
   ],
   "source": [
    "obj = requests.get('http://api.conceptnet.io/related/c/en/dog').json()\n",
    "obj.keys()"
   ]
  },
  {
   "cell_type": "code",
   "execution_count": 53,
   "metadata": {},
   "outputs": [
    {
     "data": {
      "text/plain": [
       "50"
      ]
     },
     "execution_count": 53,
     "metadata": {},
     "output_type": "execute_result"
    }
   ],
   "source": [
    "len(obj[\"related\"])"
   ]
  },
  {
   "cell_type": "code",
   "execution_count": 54,
   "metadata": {
    "colab": {
     "base_uri": "https://localhost:8080/"
    },
    "id": "bJ7tcwX06QEW",
    "outputId": "aee23320-cb2e-4b34-e17a-a973a240aaff",
    "scrolled": true
   },
   "outputs": [
    {
     "data": {
      "text/plain": [
       "[{'@id': '/c/en/dog', 'weight': 1.0},\n",
       " {'@id': '/c/es/perrote', 'weight': 1.0},\n",
       " {'@id': '/c/it/cagnolone', 'weight': 1.0},\n",
       " {'@id': '/c/ja/わん公', 'weight': 1.0},\n",
       " {'@id': '/c/ja/ワン公', 'weight': 1.0},\n",
       " {'@id': '/c/ja/猫嫌い', 'weight': 1.0},\n",
       " {'@id': '/c/ja/死んだ振り', 'weight': 0.992},\n",
       " {'@id': '/c/ja/洋犬', 'weight': 0.992},\n",
       " {'@id': '/c/es/perrada', 'weight': 0.979},\n",
       " {'@id': '/c/pt/cães', 'weight': 0.976}]"
      ]
     },
     "execution_count": 54,
     "metadata": {},
     "output_type": "execute_result"
    }
   ],
   "source": [
    "obj[\"related\"][:10]"
   ]
  },
  {
   "cell_type": "markdown",
   "metadata": {
    "id": "g0aX8tMP6ovo"
   },
   "source": [
    "## Fourlang [Recski et al 2018](https://academic.oup.com/ijl/article/31/3/274/3835852?guestAccessKey=9f090231-2795-47af-aa44-5fb15d4df0d8) [Kovács et al 2020](https://www.aclweb.org/anthology/2020.semeval-1.15/)\n",
    "- Can be used as a graph representation of a text\n",
    "- Can be used as a knowledge base using dictionaries\n",
    "\n",
    "Demo: https://ir-group.ec.tuwien.ac.at/fourlang/\n",
    "\n",
    "Fourlang graph of the sentence: \"People love dogs.\""
   ]
  },
  {
   "cell_type": "markdown",
   "metadata": {
    "id": "72NlBa7HGmwH"
   },
   "source": [
    "![fourlang.PNG](data:image/png;base64,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)"
   ]
  },
  {
   "cell_type": "markdown",
   "metadata": {
    "id": "Im_TQ7nRG-iq"
   },
   "source": [
    "Can be \"Expanded\":\n",
    "\n",
    "![expanded.PNG](data:image/png;base64,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)"
   ]
  }
 ],
 "metadata": {
  "accelerator": "GPU",
  "colab": {
   "collapsed_sections": [
    "WTV--CWTbBlg",
    "skJSOCVBZksG",
    "mgqEId2Rhk-e",
    "Dr13kKrWanPB"
   ],
   "name": "PYNLP-NLP_applications.ipynb",
   "provenance": []
  },
  "kernelspec": {
   "display_name": "Python 3",
   "language": "python",
   "name": "python3"
  },
  "language_info": {
   "codemirror_mode": {
    "name": "ipython",
    "version": 3
   },
   "file_extension": ".py",
   "mimetype": "text/x-python",
   "name": "python",
   "nbconvert_exporter": "python",
   "pygments_lexer": "ipython3",
   "version": "3.8.5"
  },
  "widgets": {
   "application/vnd.jupyter.widget-state+json": {
    "00e684c72ce24c3c95b5372939a76228": {
     "model_module": "@jupyter-widgets/base",
     "model_name": "LayoutModel",
     "state": {
      "_model_module": "@jupyter-widgets/base",
      "_model_module_version": "1.2.0",
      "_model_name": "LayoutModel",
      "_view_count": null,
      "_view_module": "@jupyter-widgets/base",
      "_view_module_version": "1.2.0",
      "_view_name": "LayoutView",
      "align_content": null,
      "align_items": null,
      "align_self": null,
      "border": null,
      "bottom": null,
      "display": null,
      "flex": null,
      "flex_flow": null,
      "grid_area": null,
      "grid_auto_columns": null,
      "grid_auto_flow": null,
      "grid_auto_rows": null,
      "grid_column": null,
      "grid_gap": null,
      "grid_row": null,
      "grid_template_areas": null,
      "grid_template_columns": null,
      "grid_template_rows": null,
      "height": null,
      "justify_content": null,
      "justify_items": null,
      "left": null,
      "margin": null,
      "max_height": null,
      "max_width": null,
      "min_height": null,
      "min_width": null,
      "object_fit": null,
      "object_position": null,
      "order": null,
      "overflow": null,
      "overflow_x": null,
      "overflow_y": null,
      "padding": null,
      "right": null,
      "top": null,
      "visibility": null,
      "width": null
     }
    },
    "033f3e0053c3427aa43201858c168408": {
     "model_module": "@jupyter-widgets/base",
     "model_name": "LayoutModel",
     "state": {
      "_model_module": "@jupyter-widgets/base",
      "_model_module_version": "1.2.0",
      "_model_name": "LayoutModel",
      "_view_count": null,
      "_view_module": "@jupyter-widgets/base",
      "_view_module_version": "1.2.0",
      "_view_name": "LayoutView",
      "align_content": null,
      "align_items": null,
      "align_self": null,
      "border": null,
      "bottom": null,
      "display": null,
      "flex": null,
      "flex_flow": null,
      "grid_area": null,
      "grid_auto_columns": null,
      "grid_auto_flow": null,
      "grid_auto_rows": null,
      "grid_column": null,
      "grid_gap": null,
      "grid_row": null,
      "grid_template_areas": null,
      "grid_template_columns": null,
      "grid_template_rows": null,
      "height": null,
      "justify_content": null,
      "justify_items": null,
      "left": null,
      "margin": null,
      "max_height": null,
      "max_width": null,
      "min_height": null,
      "min_width": null,
      "object_fit": null,
      "object_position": null,
      "order": null,
      "overflow": null,
      "overflow_x": null,
      "overflow_y": null,
      "padding": null,
      "right": null,
      "top": null,
      "visibility": null,
      "width": null
     }
    },
    "0350a96b8aa54502bb09f279bbb3f865": {
     "model_module": "@jupyter-widgets/base",
     "model_name": "LayoutModel",
     "state": {
      "_model_module": "@jupyter-widgets/base",
      "_model_module_version": "1.2.0",
      "_model_name": "LayoutModel",
      "_view_count": null,
      "_view_module": "@jupyter-widgets/base",
      "_view_module_version": "1.2.0",
      "_view_name": "LayoutView",
      "align_content": null,
      "align_items": null,
      "align_self": null,
      "border": null,
      "bottom": null,
      "display": null,
      "flex": null,
      "flex_flow": null,
      "grid_area": null,
      "grid_auto_columns": null,
      "grid_auto_flow": null,
      "grid_auto_rows": null,
      "grid_column": null,
      "grid_gap": null,
      "grid_row": null,
      "grid_template_areas": null,
      "grid_template_columns": null,
      "grid_template_rows": null,
      "height": null,
      "justify_content": null,
      "justify_items": null,
      "left": null,
      "margin": null,
      "max_height": null,
      "max_width": null,
      "min_height": null,
      "min_width": null,
      "object_fit": null,
      "object_position": null,
      "order": null,
      "overflow": null,
      "overflow_x": null,
      "overflow_y": null,
      "padding": null,
      "right": null,
      "top": null,
      "visibility": null,
      "width": null
     }
    },
    "03c6f6779ba64fada02a3005dbcacc7a": {
     "model_module": "@jupyter-widgets/controls",
     "model_name": "ProgressStyleModel",
     "state": {
      "_model_module": "@jupyter-widgets/controls",
      "_model_module_version": "1.5.0",
      "_model_name": "ProgressStyleModel",
      "_view_count": null,
      "_view_module": "@jupyter-widgets/base",
      "_view_module_version": "1.2.0",
      "_view_name": "StyleView",
      "bar_color": null,
      "description_width": "initial"
     }
    },
    "04151018ca1b403b8e83808281d63805": {
     "model_module": "@jupyter-widgets/controls",
     "model_name": "HBoxModel",
     "state": {
      "_dom_classes": [],
      "_model_module": "@jupyter-widgets/controls",
      "_model_module_version": "1.5.0",
      "_model_name": "HBoxModel",
      "_view_count": null,
      "_view_module": "@jupyter-widgets/controls",
      "_view_module_version": "1.5.0",
      "_view_name": "HBoxView",
      "box_style": "",
      "children": [
       "IPY_MODEL_5c16c4febd8d420880ce89a6f96c543e",
       "IPY_MODEL_18bc6f76d9f042c69b5c16526412332e"
      ],
      "layout": "IPY_MODEL_9fe34a2700234e16bac940b2b3916b51"
     }
    },
    "067e0b0452af4a8faa6622b2f5baa0dd": {
     "model_module": "@jupyter-widgets/controls",
     "model_name": "HBoxModel",
     "state": {
      "_dom_classes": [],
      "_model_module": "@jupyter-widgets/controls",
      "_model_module_version": "1.5.0",
      "_model_name": "HBoxModel",
      "_view_count": null,
      "_view_module": "@jupyter-widgets/controls",
      "_view_module_version": "1.5.0",
      "_view_name": "HBoxView",
      "box_style": "",
      "children": [
       "IPY_MODEL_e506c3d7bc144a60b94a0d4df09f4c72",
       "IPY_MODEL_06e3bd8276264deca3d21cad08de9c49"
      ],
      "layout": "IPY_MODEL_7507f31dcc7d4b9789b2c647118d5e9a"
     }
    },
    "06e3bd8276264deca3d21cad08de9c49": {
     "model_module": "@jupyter-widgets/controls",
     "model_name": "HTMLModel",
     "state": {
      "_dom_classes": [],
      "_model_module": "@jupyter-widgets/controls",
      "_model_module_version": "1.5.0",
      "_model_name": "HTMLModel",
      "_view_count": null,
      "_view_module": "@jupyter-widgets/controls",
      "_view_module_version": "1.5.0",
      "_view_name": "HTMLView",
      "description": "",
      "description_tooltip": null,
      "layout": "IPY_MODEL_955f30671bd2455d98453574bb170e8a",
      "placeholder": "​",
      "style": "IPY_MODEL_9825a71f8da7425896248e608276ae61",
      "value": " 230/230 [00:00&lt;00:00, 314B/s]"
     }
    },
    "083e8a577d8a4a619f285545b73c5db6": {
     "model_module": "@jupyter-widgets/base",
     "model_name": "LayoutModel",
     "state": {
      "_model_module": "@jupyter-widgets/base",
      "_model_module_version": "1.2.0",
      "_model_name": "LayoutModel",
      "_view_count": null,
      "_view_module": "@jupyter-widgets/base",
      "_view_module_version": "1.2.0",
      "_view_name": "LayoutView",
      "align_content": null,
      "align_items": null,
      "align_self": null,
      "border": null,
      "bottom": null,
      "display": null,
      "flex": null,
      "flex_flow": null,
      "grid_area": null,
      "grid_auto_columns": null,
      "grid_auto_flow": null,
      "grid_auto_rows": null,
      "grid_column": null,
      "grid_gap": null,
      "grid_row": null,
      "grid_template_areas": null,
      "grid_template_columns": null,
      "grid_template_rows": null,
      "height": null,
      "justify_content": null,
      "justify_items": null,
      "left": null,
      "margin": null,
      "max_height": null,
      "max_width": null,
      "min_height": null,
      "min_width": null,
      "object_fit": null,
      "object_position": null,
      "order": null,
      "overflow": null,
      "overflow_x": null,
      "overflow_y": null,
      "padding": null,
      "right": null,
      "top": null,
      "visibility": null,
      "width": null
     }
    },
    "089a01ace9fa4d309379ed48c03ee64f": {
     "model_module": "@jupyter-widgets/controls",
     "model_name": "FloatProgressModel",
     "state": {
      "_dom_classes": [],
      "_model_module": "@jupyter-widgets/controls",
      "_model_module_version": "1.5.0",
      "_model_name": "FloatProgressModel",
      "_view_count": null,
      "_view_module": "@jupyter-widgets/controls",
      "_view_module_version": "1.5.0",
      "_view_name": "ProgressView",
      "bar_style": "success",
      "description": "Downloading: 100%",
      "description_tooltip": null,
      "layout": "IPY_MODEL_8df0be3f7f504dacb20dcc2da14a0fee",
      "max": 898822,
      "min": 0,
      "orientation": "horizontal",
      "style": "IPY_MODEL_9d2bb106292b4d8bbea0154315a759b9",
      "value": 898822
     }
    },
    "08b8b564042042209a501a7ba131d164": {
     "model_module": "@jupyter-widgets/controls",
     "model_name": "DescriptionStyleModel",
     "state": {
      "_model_module": "@jupyter-widgets/controls",
      "_model_module_version": "1.5.0",
      "_model_name": "DescriptionStyleModel",
      "_view_count": null,
      "_view_module": "@jupyter-widgets/base",
      "_view_module_version": "1.2.0",
      "_view_name": "StyleView",
      "description_width": ""
     }
    },
    "09e84e2b7b24405ba3f2a4cd43bc3fc2": {
     "model_module": "@jupyter-widgets/controls",
     "model_name": "ProgressStyleModel",
     "state": {
      "_model_module": "@jupyter-widgets/controls",
      "_model_module_version": "1.5.0",
      "_model_name": "ProgressStyleModel",
      "_view_count": null,
      "_view_module": "@jupyter-widgets/base",
      "_view_module_version": "1.2.0",
      "_view_name": "StyleView",
      "bar_color": null,
      "description_width": "initial"
     }
    },
    "0be4423d9cef4fe28ed06a2c1ab7e300": {
     "model_module": "@jupyter-widgets/controls",
     "model_name": "ProgressStyleModel",
     "state": {
      "_model_module": "@jupyter-widgets/controls",
      "_model_module_version": "1.5.0",
      "_model_name": "ProgressStyleModel",
      "_view_count": null,
      "_view_module": "@jupyter-widgets/base",
      "_view_module_version": "1.2.0",
      "_view_name": "StyleView",
      "bar_color": null,
      "description_width": "initial"
     }
    },
    "0c0d320e021a40fc94ec53c4b2c23ae9": {
     "model_module": "@jupyter-widgets/base",
     "model_name": "LayoutModel",
     "state": {
      "_model_module": "@jupyter-widgets/base",
      "_model_module_version": "1.2.0",
      "_model_name": "LayoutModel",
      "_view_count": null,
      "_view_module": "@jupyter-widgets/base",
      "_view_module_version": "1.2.0",
      "_view_name": "LayoutView",
      "align_content": null,
      "align_items": null,
      "align_self": null,
      "border": null,
      "bottom": null,
      "display": null,
      "flex": null,
      "flex_flow": null,
      "grid_area": null,
      "grid_auto_columns": null,
      "grid_auto_flow": null,
      "grid_auto_rows": null,
      "grid_column": null,
      "grid_gap": null,
      "grid_row": null,
      "grid_template_areas": null,
      "grid_template_columns": null,
      "grid_template_rows": null,
      "height": null,
      "justify_content": null,
      "justify_items": null,
      "left": null,
      "margin": null,
      "max_height": null,
      "max_width": null,
      "min_height": null,
      "min_width": null,
      "object_fit": null,
      "object_position": null,
      "order": null,
      "overflow": null,
      "overflow_x": null,
      "overflow_y": null,
      "padding": null,
      "right": null,
      "top": null,
      "visibility": null,
      "width": null
     }
    },
    "0d0fae031a71499dac12c192257b64ba": {
     "model_module": "@jupyter-widgets/base",
     "model_name": "LayoutModel",
     "state": {
      "_model_module": "@jupyter-widgets/base",
      "_model_module_version": "1.2.0",
      "_model_name": "LayoutModel",
      "_view_count": null,
      "_view_module": "@jupyter-widgets/base",
      "_view_module_version": "1.2.0",
      "_view_name": "LayoutView",
      "align_content": null,
      "align_items": null,
      "align_self": null,
      "border": null,
      "bottom": null,
      "display": null,
      "flex": null,
      "flex_flow": null,
      "grid_area": null,
      "grid_auto_columns": null,
      "grid_auto_flow": null,
      "grid_auto_rows": null,
      "grid_column": null,
      "grid_gap": null,
      "grid_row": null,
      "grid_template_areas": null,
      "grid_template_columns": null,
      "grid_template_rows": null,
      "height": null,
      "justify_content": null,
      "justify_items": null,
      "left": null,
      "margin": null,
      "max_height": null,
      "max_width": null,
      "min_height": null,
      "min_width": null,
      "object_fit": null,
      "object_position": null,
      "order": null,
      "overflow": null,
      "overflow_x": null,
      "overflow_y": null,
      "padding": null,
      "right": null,
      "top": null,
      "visibility": null,
      "width": null
     }
    },
    "0ef5eb90d0fc46a9b8e2b8536afa4750": {
     "model_module": "@jupyter-widgets/controls",
     "model_name": "FloatProgressModel",
     "state": {
      "_dom_classes": [],
      "_model_module": "@jupyter-widgets/controls",
      "_model_module_version": "1.5.0",
      "_model_name": "FloatProgressModel",
      "_view_count": null,
      "_view_module": "@jupyter-widgets/controls",
      "_view_module_version": "1.5.0",
      "_view_name": "ProgressView",
      "bar_style": "success",
      "description": "Downloading: 100%",
      "description_tooltip": null,
      "layout": "IPY_MODEL_f7f0961e2c7e48eda6f60e31aadd6245",
      "max": 230,
      "min": 0,
      "orientation": "horizontal",
      "style": "IPY_MODEL_8bd8d349e0c244d7b5089ac003b5ec44",
      "value": 230
     }
    },
    "0f8e0e941e504e69a9656360c8cd91e0": {
     "model_module": "@jupyter-widgets/controls",
     "model_name": "HBoxModel",
     "state": {
      "_dom_classes": [],
      "_model_module": "@jupyter-widgets/controls",
      "_model_module_version": "1.5.0",
      "_model_name": "HBoxModel",
      "_view_count": null,
      "_view_module": "@jupyter-widgets/controls",
      "_view_module_version": "1.5.0",
      "_view_name": "HBoxView",
      "box_style": "",
      "children": [
       "IPY_MODEL_18177819a9f649ac9d213d3c525aa620",
       "IPY_MODEL_29b10fe951624ddb893d60637b804be8"
      ],
      "layout": "IPY_MODEL_ad01f0008cd84adca4896d39f0169e3a"
     }
    },
    "0fa0418a84f04c7f9870ad1d172e118d": {
     "model_module": "@jupyter-widgets/base",
     "model_name": "LayoutModel",
     "state": {
      "_model_module": "@jupyter-widgets/base",
      "_model_module_version": "1.2.0",
      "_model_name": "LayoutModel",
      "_view_count": null,
      "_view_module": "@jupyter-widgets/base",
      "_view_module_version": "1.2.0",
      "_view_name": "LayoutView",
      "align_content": null,
      "align_items": null,
      "align_self": null,
      "border": null,
      "bottom": null,
      "display": null,
      "flex": null,
      "flex_flow": null,
      "grid_area": null,
      "grid_auto_columns": null,
      "grid_auto_flow": null,
      "grid_auto_rows": null,
      "grid_column": null,
      "grid_gap": null,
      "grid_row": null,
      "grid_template_areas": null,
      "grid_template_columns": null,
      "grid_template_rows": null,
      "height": null,
      "justify_content": null,
      "justify_items": null,
      "left": null,
      "margin": null,
      "max_height": null,
      "max_width": null,
      "min_height": null,
      "min_width": null,
      "object_fit": null,
      "object_position": null,
      "order": null,
      "overflow": null,
      "overflow_x": null,
      "overflow_y": null,
      "padding": null,
      "right": null,
      "top": null,
      "visibility": null,
      "width": null
     }
    },
    "0fbecdc4b0b04831b074f7852401d941": {
     "model_module": "@jupyter-widgets/base",
     "model_name": "LayoutModel",
     "state": {
      "_model_module": "@jupyter-widgets/base",
      "_model_module_version": "1.2.0",
      "_model_name": "LayoutModel",
      "_view_count": null,
      "_view_module": "@jupyter-widgets/base",
      "_view_module_version": "1.2.0",
      "_view_name": "LayoutView",
      "align_content": null,
      "align_items": null,
      "align_self": null,
      "border": null,
      "bottom": null,
      "display": null,
      "flex": null,
      "flex_flow": null,
      "grid_area": null,
      "grid_auto_columns": null,
      "grid_auto_flow": null,
      "grid_auto_rows": null,
      "grid_column": null,
      "grid_gap": null,
      "grid_row": null,
      "grid_template_areas": null,
      "grid_template_columns": null,
      "grid_template_rows": null,
      "height": null,
      "justify_content": null,
      "justify_items": null,
      "left": null,
      "margin": null,
      "max_height": null,
      "max_width": null,
      "min_height": null,
      "min_width": null,
      "object_fit": null,
      "object_position": null,
      "order": null,
      "overflow": null,
      "overflow_x": null,
      "overflow_y": null,
      "padding": null,
      "right": null,
      "top": null,
      "visibility": null,
      "width": null
     }
    },
    "141a8f804d0f475a9ba18345519755ae": {
     "model_module": "@jupyter-widgets/controls",
     "model_name": "HTMLModel",
     "state": {
      "_dom_classes": [],
      "_model_module": "@jupyter-widgets/controls",
      "_model_module_version": "1.5.0",
      "_model_name": "HTMLModel",
      "_view_count": null,
      "_view_module": "@jupyter-widgets/controls",
      "_view_module_version": "1.5.0",
      "_view_name": "HTMLView",
      "description": "",
      "description_tooltip": null,
      "layout": "IPY_MODEL_2ba09062cfd54d1694ea5863afecb72f",
      "placeholder": "​",
      "style": "IPY_MODEL_8b8c4b3c29ce44b3a8bf3a33276755d4",
      "value": " 792k/792k [00:01&lt;00:00, 451kB/s]"
     }
    },
    "14cf0bfb2d3f4ec6b142989fb7d44551": {
     "model_module": "@jupyter-widgets/base",
     "model_name": "LayoutModel",
     "state": {
      "_model_module": "@jupyter-widgets/base",
      "_model_module_version": "1.2.0",
      "_model_name": "LayoutModel",
      "_view_count": null,
      "_view_module": "@jupyter-widgets/base",
      "_view_module_version": "1.2.0",
      "_view_name": "LayoutView",
      "align_content": null,
      "align_items": null,
      "align_self": null,
      "border": null,
      "bottom": null,
      "display": null,
      "flex": null,
      "flex_flow": null,
      "grid_area": null,
      "grid_auto_columns": null,
      "grid_auto_flow": null,
      "grid_auto_rows": null,
      "grid_column": null,
      "grid_gap": null,
      "grid_row": null,
      "grid_template_areas": null,
      "grid_template_columns": null,
      "grid_template_rows": null,
      "height": null,
      "justify_content": null,
      "justify_items": null,
      "left": null,
      "margin": null,
      "max_height": null,
      "max_width": null,
      "min_height": null,
      "min_width": null,
      "object_fit": null,
      "object_position": null,
      "order": null,
      "overflow": null,
      "overflow_x": null,
      "overflow_y": null,
      "padding": null,
      "right": null,
      "top": null,
      "visibility": null,
      "width": null
     }
    },
    "1603208ab31041dfa72960a54b7be569": {
     "model_module": "@jupyter-widgets/base",
     "model_name": "LayoutModel",
     "state": {
      "_model_module": "@jupyter-widgets/base",
      "_model_module_version": "1.2.0",
      "_model_name": "LayoutModel",
      "_view_count": null,
      "_view_module": "@jupyter-widgets/base",
      "_view_module_version": "1.2.0",
      "_view_name": "LayoutView",
      "align_content": null,
      "align_items": null,
      "align_self": null,
      "border": null,
      "bottom": null,
      "display": null,
      "flex": null,
      "flex_flow": null,
      "grid_area": null,
      "grid_auto_columns": null,
      "grid_auto_flow": null,
      "grid_auto_rows": null,
      "grid_column": null,
      "grid_gap": null,
      "grid_row": null,
      "grid_template_areas": null,
      "grid_template_columns": null,
      "grid_template_rows": null,
      "height": null,
      "justify_content": null,
      "justify_items": null,
      "left": null,
      "margin": null,
      "max_height": null,
      "max_width": null,
      "min_height": null,
      "min_width": null,
      "object_fit": null,
      "object_position": null,
      "order": null,
      "overflow": null,
      "overflow_x": null,
      "overflow_y": null,
      "padding": null,
      "right": null,
      "top": null,
      "visibility": null,
      "width": null
     }
    },
    "18177819a9f649ac9d213d3c525aa620": {
     "model_module": "@jupyter-widgets/controls",
     "model_name": "FloatProgressModel",
     "state": {
      "_dom_classes": [],
      "_model_module": "@jupyter-widgets/controls",
      "_model_module_version": "1.5.0",
      "_model_name": "FloatProgressModel",
      "_view_count": null,
      "_view_module": "@jupyter-widgets/controls",
      "_view_module_version": "1.5.0",
      "_view_name": "ProgressView",
      "bar_style": "success",
      "description": "Downloading: 100%",
      "description_tooltip": null,
      "layout": "IPY_MODEL_2b10b247d6c947269155b7e5dbc39e7a",
      "max": 435797,
      "min": 0,
      "orientation": "horizontal",
      "style": "IPY_MODEL_1d06c34083804e4fafc6f5713db31713",
      "value": 435797
     }
    },
    "188faa8ad3144019b2596417be5edeff": {
     "model_module": "@jupyter-widgets/controls",
     "model_name": "HBoxModel",
     "state": {
      "_dom_classes": [],
      "_model_module": "@jupyter-widgets/controls",
      "_model_module_version": "1.5.0",
      "_model_name": "HBoxModel",
      "_view_count": null,
      "_view_module": "@jupyter-widgets/controls",
      "_view_module_version": "1.5.0",
      "_view_name": "HBoxView",
      "box_style": "",
      "children": [
       "IPY_MODEL_bae7ca28db0949a8b749e1f94e5b12e6",
       "IPY_MODEL_464ba1d18f0540d4a5d8e9d13ace60ea"
      ],
      "layout": "IPY_MODEL_e874133d32734e8387d4ed2be26749d7"
     }
    },
    "18bc6f76d9f042c69b5c16526412332e": {
     "model_module": "@jupyter-widgets/controls",
     "model_name": "HTMLModel",
     "state": {
      "_dom_classes": [],
      "_model_module": "@jupyter-widgets/controls",
      "_model_module_version": "1.5.0",
      "_model_name": "HTMLModel",
      "_view_count": null,
      "_view_module": "@jupyter-widgets/controls",
      "_view_module_version": "1.5.0",
      "_view_name": "HTMLView",
      "description": "",
      "description_tooltip": null,
      "layout": "IPY_MODEL_cb042101be51435586822e7082ffd346",
      "placeholder": "​",
      "style": "IPY_MODEL_3a4593b7e83f449593d6d22ce3927c35",
      "value": " 213k/213k [00:01&lt;00:00, 144kB/s]"
     }
    },
    "19450cddea8845509ae726e2a011469c": {
     "model_module": "@jupyter-widgets/base",
     "model_name": "LayoutModel",
     "state": {
      "_model_module": "@jupyter-widgets/base",
      "_model_module_version": "1.2.0",
      "_model_name": "LayoutModel",
      "_view_count": null,
      "_view_module": "@jupyter-widgets/base",
      "_view_module_version": "1.2.0",
      "_view_name": "LayoutView",
      "align_content": null,
      "align_items": null,
      "align_self": null,
      "border": null,
      "bottom": null,
      "display": null,
      "flex": null,
      "flex_flow": null,
      "grid_area": null,
      "grid_auto_columns": null,
      "grid_auto_flow": null,
      "grid_auto_rows": null,
      "grid_column": null,
      "grid_gap": null,
      "grid_row": null,
      "grid_template_areas": null,
      "grid_template_columns": null,
      "grid_template_rows": null,
      "height": null,
      "justify_content": null,
      "justify_items": null,
      "left": null,
      "margin": null,
      "max_height": null,
      "max_width": null,
      "min_height": null,
      "min_width": null,
      "object_fit": null,
      "object_position": null,
      "order": null,
      "overflow": null,
      "overflow_x": null,
      "overflow_y": null,
      "padding": null,
      "right": null,
      "top": null,
      "visibility": null,
      "width": null
     }
    },
    "1ae5a6c4aa2b446fbd841d7c4ea3e2b5": {
     "model_module": "@jupyter-widgets/controls",
     "model_name": "HTMLModel",
     "state": {
      "_dom_classes": [],
      "_model_module": "@jupyter-widgets/controls",
      "_model_module_version": "1.5.0",
      "_model_name": "HTMLModel",
      "_view_count": null,
      "_view_module": "@jupyter-widgets/controls",
      "_view_module_version": "1.5.0",
      "_view_name": "HTMLView",
      "description": "",
      "description_tooltip": null,
      "layout": "IPY_MODEL_0d0fae031a71499dac12c192257b64ba",
      "placeholder": "​",
      "style": "IPY_MODEL_e585d1d1af23458faf8f27baeb0113f7",
      "value": " 629/629 [00:00&lt;00:00, 2.61kB/s]"
     }
    },
    "1b699ff009984d44b8a07e672c769a8d": {
     "model_module": "@jupyter-widgets/base",
     "model_name": "LayoutModel",
     "state": {
      "_model_module": "@jupyter-widgets/base",
      "_model_module_version": "1.2.0",
      "_model_name": "LayoutModel",
      "_view_count": null,
      "_view_module": "@jupyter-widgets/base",
      "_view_module_version": "1.2.0",
      "_view_name": "LayoutView",
      "align_content": null,
      "align_items": null,
      "align_self": null,
      "border": null,
      "bottom": null,
      "display": null,
      "flex": null,
      "flex_flow": null,
      "grid_area": null,
      "grid_auto_columns": null,
      "grid_auto_flow": null,
      "grid_auto_rows": null,
      "grid_column": null,
      "grid_gap": null,
      "grid_row": null,
      "grid_template_areas": null,
      "grid_template_columns": null,
      "grid_template_rows": null,
      "height": null,
      "justify_content": null,
      "justify_items": null,
      "left": null,
      "margin": null,
      "max_height": null,
      "max_width": null,
      "min_height": null,
      "min_width": null,
      "object_fit": null,
      "object_position": null,
      "order": null,
      "overflow": null,
      "overflow_x": null,
      "overflow_y": null,
      "padding": null,
      "right": null,
      "top": null,
      "visibility": null,
      "width": null
     }
    },
    "1cb292a30ac24ae990ce09027ed14178": {
     "model_module": "@jupyter-widgets/base",
     "model_name": "LayoutModel",
     "state": {
      "_model_module": "@jupyter-widgets/base",
      "_model_module_version": "1.2.0",
      "_model_name": "LayoutModel",
      "_view_count": null,
      "_view_module": "@jupyter-widgets/base",
      "_view_module_version": "1.2.0",
      "_view_name": "LayoutView",
      "align_content": null,
      "align_items": null,
      "align_self": null,
      "border": null,
      "bottom": null,
      "display": null,
      "flex": null,
      "flex_flow": null,
      "grid_area": null,
      "grid_auto_columns": null,
      "grid_auto_flow": null,
      "grid_auto_rows": null,
      "grid_column": null,
      "grid_gap": null,
      "grid_row": null,
      "grid_template_areas": null,
      "grid_template_columns": null,
      "grid_template_rows": null,
      "height": null,
      "justify_content": null,
      "justify_items": null,
      "left": null,
      "margin": null,
      "max_height": null,
      "max_width": null,
      "min_height": null,
      "min_width": null,
      "object_fit": null,
      "object_position": null,
      "order": null,
      "overflow": null,
      "overflow_x": null,
      "overflow_y": null,
      "padding": null,
      "right": null,
      "top": null,
      "visibility": null,
      "width": null
     }
    },
    "1d06c34083804e4fafc6f5713db31713": {
     "model_module": "@jupyter-widgets/controls",
     "model_name": "ProgressStyleModel",
     "state": {
      "_model_module": "@jupyter-widgets/controls",
      "_model_module_version": "1.5.0",
      "_model_name": "ProgressStyleModel",
      "_view_count": null,
      "_view_module": "@jupyter-widgets/base",
      "_view_module_version": "1.2.0",
      "_view_name": "StyleView",
      "bar_color": null,
      "description_width": "initial"
     }
    },
    "1ea30a2c33434160957f4fdd535686b0": {
     "model_module": "@jupyter-widgets/base",
     "model_name": "LayoutModel",
     "state": {
      "_model_module": "@jupyter-widgets/base",
      "_model_module_version": "1.2.0",
      "_model_name": "LayoutModel",
      "_view_count": null,
      "_view_module": "@jupyter-widgets/base",
      "_view_module_version": "1.2.0",
      "_view_name": "LayoutView",
      "align_content": null,
      "align_items": null,
      "align_self": null,
      "border": null,
      "bottom": null,
      "display": null,
      "flex": null,
      "flex_flow": null,
      "grid_area": null,
      "grid_auto_columns": null,
      "grid_auto_flow": null,
      "grid_auto_rows": null,
      "grid_column": null,
      "grid_gap": null,
      "grid_row": null,
      "grid_template_areas": null,
      "grid_template_columns": null,
      "grid_template_rows": null,
      "height": null,
      "justify_content": null,
      "justify_items": null,
      "left": null,
      "margin": null,
      "max_height": null,
      "max_width": null,
      "min_height": null,
      "min_width": null,
      "object_fit": null,
      "object_position": null,
      "order": null,
      "overflow": null,
      "overflow_x": null,
      "overflow_y": null,
      "padding": null,
      "right": null,
      "top": null,
      "visibility": null,
      "width": null
     }
    },
    "1ff47706095a47d7af1a2ae6df457bd5": {
     "model_module": "@jupyter-widgets/base",
     "model_name": "LayoutModel",
     "state": {
      "_model_module": "@jupyter-widgets/base",
      "_model_module_version": "1.2.0",
      "_model_name": "LayoutModel",
      "_view_count": null,
      "_view_module": "@jupyter-widgets/base",
      "_view_module_version": "1.2.0",
      "_view_name": "LayoutView",
      "align_content": null,
      "align_items": null,
      "align_self": null,
      "border": null,
      "bottom": null,
      "display": null,
      "flex": null,
      "flex_flow": null,
      "grid_area": null,
      "grid_auto_columns": null,
      "grid_auto_flow": null,
      "grid_auto_rows": null,
      "grid_column": null,
      "grid_gap": null,
      "grid_row": null,
      "grid_template_areas": null,
      "grid_template_columns": null,
      "grid_template_rows": null,
      "height": null,
      "justify_content": null,
      "justify_items": null,
      "left": null,
      "margin": null,
      "max_height": null,
      "max_width": null,
      "min_height": null,
      "min_width": null,
      "object_fit": null,
      "object_position": null,
      "order": null,
      "overflow": null,
      "overflow_x": null,
      "overflow_y": null,
      "padding": null,
      "right": null,
      "top": null,
      "visibility": null,
      "width": null
     }
    },
    "204a364f6400444baf54a2dd52a2fd16": {
     "model_module": "@jupyter-widgets/controls",
     "model_name": "DescriptionStyleModel",
     "state": {
      "_model_module": "@jupyter-widgets/controls",
      "_model_module_version": "1.5.0",
      "_model_name": "DescriptionStyleModel",
      "_view_count": null,
      "_view_module": "@jupyter-widgets/base",
      "_view_module_version": "1.2.0",
      "_view_name": "StyleView",
      "description_width": ""
     }
    },
    "21b94d40a7de45a083278484183252bc": {
     "model_module": "@jupyter-widgets/controls",
     "model_name": "FloatProgressModel",
     "state": {
      "_dom_classes": [],
      "_model_module": "@jupyter-widgets/controls",
      "_model_module_version": "1.5.0",
      "_model_name": "FloatProgressModel",
      "_view_count": null,
      "_view_module": "@jupyter-widgets/controls",
      "_view_module_version": "1.5.0",
      "_view_name": "ProgressView",
      "bar_style": "success",
      "description": "Downloading: 100%",
      "description_tooltip": null,
      "layout": "IPY_MODEL_d30edb3ce29f4acba482021fcf0c071e",
      "max": 629,
      "min": 0,
      "orientation": "horizontal",
      "style": "IPY_MODEL_d17901280a67414bb45be6b5f1b8db30",
      "value": 629
     }
    },
    "22279a2b08474b63aa487b8902fadf86": {
     "model_module": "@jupyter-widgets/controls",
     "model_name": "HTMLModel",
     "state": {
      "_dom_classes": [],
      "_model_module": "@jupyter-widgets/controls",
      "_model_module_version": "1.5.0",
      "_model_name": "HTMLModel",
      "_view_count": null,
      "_view_module": "@jupyter-widgets/controls",
      "_view_module_version": "1.5.0",
      "_view_name": "HTMLView",
      "description": "",
      "description_tooltip": null,
      "layout": "IPY_MODEL_0fbecdc4b0b04831b074f7852401d941",
      "placeholder": "​",
      "style": "IPY_MODEL_989a8b9532cd43bb89bc47270dee1e35",
      "value": " 230/230 [00:01&lt;00:00, 196B/s]"
     }
    },
    "223e5f372d114d27a77962c5e2740623": {
     "model_module": "@jupyter-widgets/controls",
     "model_name": "DescriptionStyleModel",
     "state": {
      "_model_module": "@jupyter-widgets/controls",
      "_model_module_version": "1.5.0",
      "_model_name": "DescriptionStyleModel",
      "_view_count": null,
      "_view_module": "@jupyter-widgets/base",
      "_view_module_version": "1.2.0",
      "_view_name": "StyleView",
      "description_width": ""
     }
    },
    "2320f4e3b4074163a60bb17b59d238d8": {
     "model_module": "@jupyter-widgets/controls",
     "model_name": "ProgressStyleModel",
     "state": {
      "_model_module": "@jupyter-widgets/controls",
      "_model_module_version": "1.5.0",
      "_model_name": "ProgressStyleModel",
      "_view_count": null,
      "_view_module": "@jupyter-widgets/base",
      "_view_module_version": "1.2.0",
      "_view_name": "StyleView",
      "bar_color": null,
      "description_width": "initial"
     }
    },
    "26df443d7b7645c8acbd6ffa53510b00": {
     "model_module": "@jupyter-widgets/base",
     "model_name": "LayoutModel",
     "state": {
      "_model_module": "@jupyter-widgets/base",
      "_model_module_version": "1.2.0",
      "_model_name": "LayoutModel",
      "_view_count": null,
      "_view_module": "@jupyter-widgets/base",
      "_view_module_version": "1.2.0",
      "_view_name": "LayoutView",
      "align_content": null,
      "align_items": null,
      "align_self": null,
      "border": null,
      "bottom": null,
      "display": null,
      "flex": null,
      "flex_flow": null,
      "grid_area": null,
      "grid_auto_columns": null,
      "grid_auto_flow": null,
      "grid_auto_rows": null,
      "grid_column": null,
      "grid_gap": null,
      "grid_row": null,
      "grid_template_areas": null,
      "grid_template_columns": null,
      "grid_template_rows": null,
      "height": null,
      "justify_content": null,
      "justify_items": null,
      "left": null,
      "margin": null,
      "max_height": null,
      "max_width": null,
      "min_height": null,
      "min_width": null,
      "object_fit": null,
      "object_position": null,
      "order": null,
      "overflow": null,
      "overflow_x": null,
      "overflow_y": null,
      "padding": null,
      "right": null,
      "top": null,
      "visibility": null,
      "width": null
     }
    },
    "281463ea32e54905a0f1016705808c4d": {
     "model_module": "@jupyter-widgets/controls",
     "model_name": "DescriptionStyleModel",
     "state": {
      "_model_module": "@jupyter-widgets/controls",
      "_model_module_version": "1.5.0",
      "_model_name": "DescriptionStyleModel",
      "_view_count": null,
      "_view_module": "@jupyter-widgets/base",
      "_view_module_version": "1.2.0",
      "_view_name": "StyleView",
      "description_width": ""
     }
    },
    "29b10fe951624ddb893d60637b804be8": {
     "model_module": "@jupyter-widgets/controls",
     "model_name": "HTMLModel",
     "state": {
      "_dom_classes": [],
      "_model_module": "@jupyter-widgets/controls",
      "_model_module_version": "1.5.0",
      "_model_name": "HTMLModel",
      "_view_count": null,
      "_view_module": "@jupyter-widgets/controls",
      "_view_module_version": "1.5.0",
      "_view_name": "HTMLView",
      "description": "",
      "description_tooltip": null,
      "layout": "IPY_MODEL_c6db452bc213453f8ddddfb398e73bf8",
      "placeholder": "​",
      "style": "IPY_MODEL_b78be6eb1a6b42318d5ba55179acd9e3",
      "value": " 436k/436k [00:00&lt;00:00, 540kB/s]"
     }
    },
    "2b10b247d6c947269155b7e5dbc39e7a": {
     "model_module": "@jupyter-widgets/base",
     "model_name": "LayoutModel",
     "state": {
      "_model_module": "@jupyter-widgets/base",
      "_model_module_version": "1.2.0",
      "_model_name": "LayoutModel",
      "_view_count": null,
      "_view_module": "@jupyter-widgets/base",
      "_view_module_version": "1.2.0",
      "_view_name": "LayoutView",
      "align_content": null,
      "align_items": null,
      "align_self": null,
      "border": null,
      "bottom": null,
      "display": null,
      "flex": null,
      "flex_flow": null,
      "grid_area": null,
      "grid_auto_columns": null,
      "grid_auto_flow": null,
      "grid_auto_rows": null,
      "grid_column": null,
      "grid_gap": null,
      "grid_row": null,
      "grid_template_areas": null,
      "grid_template_columns": null,
      "grid_template_rows": null,
      "height": null,
      "justify_content": null,
      "justify_items": null,
      "left": null,
      "margin": null,
      "max_height": null,
      "max_width": null,
      "min_height": null,
      "min_width": null,
      "object_fit": null,
      "object_position": null,
      "order": null,
      "overflow": null,
      "overflow_x": null,
      "overflow_y": null,
      "padding": null,
      "right": null,
      "top": null,
      "visibility": null,
      "width": null
     }
    },
    "2b5804def2474af88c74f85157c94994": {
     "model_module": "@jupyter-widgets/controls",
     "model_name": "HBoxModel",
     "state": {
      "_dom_classes": [],
      "_model_module": "@jupyter-widgets/controls",
      "_model_module_version": "1.5.0",
      "_model_name": "HBoxModel",
      "_view_count": null,
      "_view_module": "@jupyter-widgets/controls",
      "_view_module_version": "1.5.0",
      "_view_name": "HBoxView",
      "box_style": "",
      "children": [
       "IPY_MODEL_e093a3b211be440da45b12e2ca7ccf12",
       "IPY_MODEL_ef562db6031449f2bdba55424401fcfe"
      ],
      "layout": "IPY_MODEL_8d3d8230f65f49d48f0a652d3d072c6b"
     }
    },
    "2ba09062cfd54d1694ea5863afecb72f": {
     "model_module": "@jupyter-widgets/base",
     "model_name": "LayoutModel",
     "state": {
      "_model_module": "@jupyter-widgets/base",
      "_model_module_version": "1.2.0",
      "_model_name": "LayoutModel",
      "_view_count": null,
      "_view_module": "@jupyter-widgets/base",
      "_view_module_version": "1.2.0",
      "_view_name": "LayoutView",
      "align_content": null,
      "align_items": null,
      "align_self": null,
      "border": null,
      "bottom": null,
      "display": null,
      "flex": null,
      "flex_flow": null,
      "grid_area": null,
      "grid_auto_columns": null,
      "grid_auto_flow": null,
      "grid_auto_rows": null,
      "grid_column": null,
      "grid_gap": null,
      "grid_row": null,
      "grid_template_areas": null,
      "grid_template_columns": null,
      "grid_template_rows": null,
      "height": null,
      "justify_content": null,
      "justify_items": null,
      "left": null,
      "margin": null,
      "max_height": null,
      "max_width": null,
      "min_height": null,
      "min_width": null,
      "object_fit": null,
      "object_position": null,
      "order": null,
      "overflow": null,
      "overflow_x": null,
      "overflow_y": null,
      "padding": null,
      "right": null,
      "top": null,
      "visibility": null,
      "width": null
     }
    },
    "2bf4a62663ab45969363c3e550d0441f": {
     "model_module": "@jupyter-widgets/controls",
     "model_name": "HBoxModel",
     "state": {
      "_dom_classes": [],
      "_model_module": "@jupyter-widgets/controls",
      "_model_module_version": "1.5.0",
      "_model_name": "HBoxModel",
      "_view_count": null,
      "_view_module": "@jupyter-widgets/controls",
      "_view_module_version": "1.5.0",
      "_view_name": "HBoxView",
      "box_style": "",
      "children": [
       "IPY_MODEL_9248c3ab7199424f8e3666c197fc481a",
       "IPY_MODEL_b1577ecfc7654a319e210a792b403384"
      ],
      "layout": "IPY_MODEL_a6f924a9b89847f2bab4e79443cc6e72"
     }
    },
    "2c8eb31a267049b7a1bae47a7e32cd23": {
     "model_module": "@jupyter-widgets/controls",
     "model_name": "FloatProgressModel",
     "state": {
      "_dom_classes": [],
      "_model_module": "@jupyter-widgets/controls",
      "_model_module_version": "1.5.0",
      "_model_name": "FloatProgressModel",
      "_view_count": null,
      "_view_module": "@jupyter-widgets/controls",
      "_view_module_version": "1.5.0",
      "_view_name": "ProgressView",
      "bar_style": "success",
      "description": "Downloading: 100%",
      "description_tooltip": null,
      "layout": "IPY_MODEL_97c2ec39597a4a2b8df32609aa1e8a16",
      "max": 548118077,
      "min": 0,
      "orientation": "horizontal",
      "style": "IPY_MODEL_0be4423d9cef4fe28ed06a2c1ab7e300",
      "value": 548118077
     }
    },
    "2ecd487aad514a3db7add2b7562d88e3": {
     "model_module": "@jupyter-widgets/controls",
     "model_name": "HBoxModel",
     "state": {
      "_dom_classes": [],
      "_model_module": "@jupyter-widgets/controls",
      "_model_module_version": "1.5.0",
      "_model_name": "HBoxModel",
      "_view_count": null,
      "_view_module": "@jupyter-widgets/controls",
      "_view_module_version": "1.5.0",
      "_view_name": "HBoxView",
      "box_style": "",
      "children": [
       "IPY_MODEL_9e19d05ec354464bb09c696e9bb0487e",
       "IPY_MODEL_f76e18189b9e48a38c835d4e1739145c"
      ],
      "layout": "IPY_MODEL_1ff47706095a47d7af1a2ae6df457bd5"
     }
    },
    "2f04a3af8b814495a3c3683eba31b26a": {
     "model_module": "@jupyter-widgets/controls",
     "model_name": "FloatProgressModel",
     "state": {
      "_dom_classes": [],
      "_model_module": "@jupyter-widgets/controls",
      "_model_module_version": "1.5.0",
      "_model_name": "FloatProgressModel",
      "_view_count": null,
      "_view_module": "@jupyter-widgets/controls",
      "_view_module_version": "1.5.0",
      "_view_name": "ProgressView",
      "bar_style": "success",
      "description": "Downloading: 100%",
      "description_tooltip": null,
      "layout": "IPY_MODEL_e1ecc4ed2e48460c8bee6ee8780c0744",
      "max": 891691430,
      "min": 0,
      "orientation": "horizontal",
      "style": "IPY_MODEL_72e229f76aac4a46945b2000af4af73f",
      "value": 891691430
     }
    },
    "2f93e4161fed446e9ebecee99c748def": {
     "model_module": "@jupyter-widgets/base",
     "model_name": "LayoutModel",
     "state": {
      "_model_module": "@jupyter-widgets/base",
      "_model_module_version": "1.2.0",
      "_model_name": "LayoutModel",
      "_view_count": null,
      "_view_module": "@jupyter-widgets/base",
      "_view_module_version": "1.2.0",
      "_view_name": "LayoutView",
      "align_content": null,
      "align_items": null,
      "align_self": null,
      "border": null,
      "bottom": null,
      "display": null,
      "flex": null,
      "flex_flow": null,
      "grid_area": null,
      "grid_auto_columns": null,
      "grid_auto_flow": null,
      "grid_auto_rows": null,
      "grid_column": null,
      "grid_gap": null,
      "grid_row": null,
      "grid_template_areas": null,
      "grid_template_columns": null,
      "grid_template_rows": null,
      "height": null,
      "justify_content": null,
      "justify_items": null,
      "left": null,
      "margin": null,
      "max_height": null,
      "max_width": null,
      "min_height": null,
      "min_width": null,
      "object_fit": null,
      "object_position": null,
      "order": null,
      "overflow": null,
      "overflow_x": null,
      "overflow_y": null,
      "padding": null,
      "right": null,
      "top": null,
      "visibility": null,
      "width": null
     }
    },
    "33184ed92a684f30bd0235e4fa8b011b": {
     "model_module": "@jupyter-widgets/controls",
     "model_name": "HBoxModel",
     "state": {
      "_dom_classes": [],
      "_model_module": "@jupyter-widgets/controls",
      "_model_module_version": "1.5.0",
      "_model_name": "HBoxModel",
      "_view_count": null,
      "_view_module": "@jupyter-widgets/controls",
      "_view_module_version": "1.5.0",
      "_view_name": "HBoxView",
      "box_style": "",
      "children": [
       "IPY_MODEL_7ed281a8a8134f9d845a9f9803f57624",
       "IPY_MODEL_faa0ad5f8afd42ed84ad206bc9226774"
      ],
      "layout": "IPY_MODEL_7d3de57007b547cd9f65ee9639185496"
     }
    },
    "352e152e946c49c2948659bd9bb3b5c5": {
     "model_module": "@jupyter-widgets/controls",
     "model_name": "FloatProgressModel",
     "state": {
      "_dom_classes": [],
      "_model_module": "@jupyter-widgets/controls",
      "_model_module_version": "1.5.0",
      "_model_name": "FloatProgressModel",
      "_view_count": null,
      "_view_module": "@jupyter-widgets/controls",
      "_view_module_version": "1.5.0",
      "_view_name": "ProgressView",
      "bar_style": "success",
      "description": "Downloading: 100%",
      "description_tooltip": null,
      "layout": "IPY_MODEL_f2dca8dd2ded40728cb038d66692551e",
      "max": 231508,
      "min": 0,
      "orientation": "horizontal",
      "style": "IPY_MODEL_9c96bdd6b37e47d985e99b7ff31b9ffb",
      "value": 231508
     }
    },
    "372a52cf96224606ac91536b3c66633f": {
     "model_module": "@jupyter-widgets/controls",
     "model_name": "DescriptionStyleModel",
     "state": {
      "_model_module": "@jupyter-widgets/controls",
      "_model_module_version": "1.5.0",
      "_model_name": "DescriptionStyleModel",
      "_view_count": null,
      "_view_module": "@jupyter-widgets/base",
      "_view_module_version": "1.2.0",
      "_view_name": "StyleView",
      "description_width": ""
     }
    },
    "3a4593b7e83f449593d6d22ce3927c35": {
     "model_module": "@jupyter-widgets/controls",
     "model_name": "DescriptionStyleModel",
     "state": {
      "_model_module": "@jupyter-widgets/controls",
      "_model_module_version": "1.5.0",
      "_model_name": "DescriptionStyleModel",
      "_view_count": null,
      "_view_module": "@jupyter-widgets/base",
      "_view_module_version": "1.2.0",
      "_view_name": "StyleView",
      "description_width": ""
     }
    },
    "3b9b1fa99e404f7399e8e170f6d6c9c4": {
     "model_module": "@jupyter-widgets/controls",
     "model_name": "ProgressStyleModel",
     "state": {
      "_model_module": "@jupyter-widgets/controls",
      "_model_module_version": "1.5.0",
      "_model_name": "ProgressStyleModel",
      "_view_count": null,
      "_view_module": "@jupyter-widgets/base",
      "_view_module_version": "1.2.0",
      "_view_name": "StyleView",
      "bar_color": null,
      "description_width": "initial"
     }
    },
    "3b9c7d1ac2494ae4a670f25ff01bea7b": {
     "model_module": "@jupyter-widgets/base",
     "model_name": "LayoutModel",
     "state": {
      "_model_module": "@jupyter-widgets/base",
      "_model_module_version": "1.2.0",
      "_model_name": "LayoutModel",
      "_view_count": null,
      "_view_module": "@jupyter-widgets/base",
      "_view_module_version": "1.2.0",
      "_view_name": "LayoutView",
      "align_content": null,
      "align_items": null,
      "align_self": null,
      "border": null,
      "bottom": null,
      "display": null,
      "flex": null,
      "flex_flow": null,
      "grid_area": null,
      "grid_auto_columns": null,
      "grid_auto_flow": null,
      "grid_auto_rows": null,
      "grid_column": null,
      "grid_gap": null,
      "grid_row": null,
      "grid_template_areas": null,
      "grid_template_columns": null,
      "grid_template_rows": null,
      "height": null,
      "justify_content": null,
      "justify_items": null,
      "left": null,
      "margin": null,
      "max_height": null,
      "max_width": null,
      "min_height": null,
      "min_width": null,
      "object_fit": null,
      "object_position": null,
      "order": null,
      "overflow": null,
      "overflow_x": null,
      "overflow_y": null,
      "padding": null,
      "right": null,
      "top": null,
      "visibility": null,
      "width": null
     }
    },
    "3c4fe1d595d04498ae93e97445f4a70f": {
     "model_module": "@jupyter-widgets/controls",
     "model_name": "ProgressStyleModel",
     "state": {
      "_model_module": "@jupyter-widgets/controls",
      "_model_module_version": "1.5.0",
      "_model_name": "ProgressStyleModel",
      "_view_count": null,
      "_view_module": "@jupyter-widgets/base",
      "_view_module_version": "1.2.0",
      "_view_name": "StyleView",
      "bar_color": null,
      "description_width": "initial"
     }
    },
    "42408cf451ab4b3d8ef0ed568f4d4dc3": {
     "model_module": "@jupyter-widgets/controls",
     "model_name": "ProgressStyleModel",
     "state": {
      "_model_module": "@jupyter-widgets/controls",
      "_model_module_version": "1.5.0",
      "_model_name": "ProgressStyleModel",
      "_view_count": null,
      "_view_module": "@jupyter-widgets/base",
      "_view_module_version": "1.2.0",
      "_view_name": "StyleView",
      "bar_color": null,
      "description_width": "initial"
     }
    },
    "42ca272de98742e5b9db7d1e7e832202": {
     "model_module": "@jupyter-widgets/base",
     "model_name": "LayoutModel",
     "state": {
      "_model_module": "@jupyter-widgets/base",
      "_model_module_version": "1.2.0",
      "_model_name": "LayoutModel",
      "_view_count": null,
      "_view_module": "@jupyter-widgets/base",
      "_view_module_version": "1.2.0",
      "_view_name": "LayoutView",
      "align_content": null,
      "align_items": null,
      "align_self": null,
      "border": null,
      "bottom": null,
      "display": null,
      "flex": null,
      "flex_flow": null,
      "grid_area": null,
      "grid_auto_columns": null,
      "grid_auto_flow": null,
      "grid_auto_rows": null,
      "grid_column": null,
      "grid_gap": null,
      "grid_row": null,
      "grid_template_areas": null,
      "grid_template_columns": null,
      "grid_template_rows": null,
      "height": null,
      "justify_content": null,
      "justify_items": null,
      "left": null,
      "margin": null,
      "max_height": null,
      "max_width": null,
      "min_height": null,
      "min_width": null,
      "object_fit": null,
      "object_position": null,
      "order": null,
      "overflow": null,
      "overflow_x": null,
      "overflow_y": null,
      "padding": null,
      "right": null,
      "top": null,
      "visibility": null,
      "width": null
     }
    },
    "4325afbed9f7463ebebb4adb945c1257": {
     "model_module": "@jupyter-widgets/controls",
     "model_name": "FloatProgressModel",
     "state": {
      "_dom_classes": [],
      "_model_module": "@jupyter-widgets/controls",
      "_model_module_version": "1.5.0",
      "_model_name": "FloatProgressModel",
      "_view_count": null,
      "_view_module": "@jupyter-widgets/controls",
      "_view_module_version": "1.5.0",
      "_view_name": "ProgressView",
      "bar_style": "success",
      "description": "Downloading: 100%",
      "description_tooltip": null,
      "layout": "IPY_MODEL_1cb292a30ac24ae990ce09027ed14178",
      "max": 1389353,
      "min": 0,
      "orientation": "horizontal",
      "style": "IPY_MODEL_5bbf4d3aa35143ce9c8e8eec1f008980",
      "value": 1389353
     }
    },
    "4345ddf615f14df08d84cd1389116786": {
     "model_module": "@jupyter-widgets/controls",
     "model_name": "HTMLModel",
     "state": {
      "_dom_classes": [],
      "_model_module": "@jupyter-widgets/controls",
      "_model_module_version": "1.5.0",
      "_model_name": "HTMLModel",
      "_view_count": null,
      "_view_module": "@jupyter-widgets/controls",
      "_view_module_version": "1.5.0",
      "_view_name": "HTMLView",
      "description": "",
      "description_tooltip": null,
      "layout": "IPY_MODEL_ce21bd73dce146869d7e73556a5d768a",
      "placeholder": "​",
      "style": "IPY_MODEL_597e83a8a5b147bb91d48643a0fb1bcb",
      "value": " 1.39M/1.39M [00:00&lt;00:00, 1.43MB/s]"
     }
    },
    "436d01b2af2f46d69af897df64fe90fa": {
     "model_module": "@jupyter-widgets/controls",
     "model_name": "HBoxModel",
     "state": {
      "_dom_classes": [],
      "_model_module": "@jupyter-widgets/controls",
      "_model_module_version": "1.5.0",
      "_model_name": "HBoxModel",
      "_view_count": null,
      "_view_module": "@jupyter-widgets/controls",
      "_view_module_version": "1.5.0",
      "_view_name": "HBoxView",
      "box_style": "",
      "children": [
       "IPY_MODEL_2f04a3af8b814495a3c3683eba31b26a",
       "IPY_MODEL_5f1f881969a14ed49ae6183ca62d2bb8"
      ],
      "layout": "IPY_MODEL_6c415b60693e43718e17b9be1387503b"
     }
    },
    "443c1788161b4537a0a76dc711d253d9": {
     "model_module": "@jupyter-widgets/controls",
     "model_name": "FloatProgressModel",
     "state": {
      "_dom_classes": [],
      "_model_module": "@jupyter-widgets/controls",
      "_model_module_version": "1.5.0",
      "_model_name": "FloatProgressModel",
      "_view_count": null,
      "_view_module": "@jupyter-widgets/controls",
      "_view_module_version": "1.5.0",
      "_view_name": "ProgressView",
      "bar_style": "success",
      "description": "Downloading: 100%",
      "description_tooltip": null,
      "layout": "IPY_MODEL_3b9c7d1ac2494ae4a670f25ff01bea7b",
      "max": 1199,
      "min": 0,
      "orientation": "horizontal",
      "style": "IPY_MODEL_d68eb237ffc646a9acec6574cd3e88c6",
      "value": 1199
     }
    },
    "452bc843dc6d4c60829c456bba1cb789": {
     "model_module": "@jupyter-widgets/base",
     "model_name": "LayoutModel",
     "state": {
      "_model_module": "@jupyter-widgets/base",
      "_model_module_version": "1.2.0",
      "_model_name": "LayoutModel",
      "_view_count": null,
      "_view_module": "@jupyter-widgets/base",
      "_view_module_version": "1.2.0",
      "_view_name": "LayoutView",
      "align_content": null,
      "align_items": null,
      "align_self": null,
      "border": null,
      "bottom": null,
      "display": null,
      "flex": null,
      "flex_flow": null,
      "grid_area": null,
      "grid_auto_columns": null,
      "grid_auto_flow": null,
      "grid_auto_rows": null,
      "grid_column": null,
      "grid_gap": null,
      "grid_row": null,
      "grid_template_areas": null,
      "grid_template_columns": null,
      "grid_template_rows": null,
      "height": null,
      "justify_content": null,
      "justify_items": null,
      "left": null,
      "margin": null,
      "max_height": null,
      "max_width": null,
      "min_height": null,
      "min_width": null,
      "object_fit": null,
      "object_position": null,
      "order": null,
      "overflow": null,
      "overflow_x": null,
      "overflow_y": null,
      "padding": null,
      "right": null,
      "top": null,
      "visibility": null,
      "width": null
     }
    },
    "45eeb6cfa68d44c78d9e6e9e09ed29b4": {
     "model_module": "@jupyter-widgets/base",
     "model_name": "LayoutModel",
     "state": {
      "_model_module": "@jupyter-widgets/base",
      "_model_module_version": "1.2.0",
      "_model_name": "LayoutModel",
      "_view_count": null,
      "_view_module": "@jupyter-widgets/base",
      "_view_module_version": "1.2.0",
      "_view_name": "LayoutView",
      "align_content": null,
      "align_items": null,
      "align_self": null,
      "border": null,
      "bottom": null,
      "display": null,
      "flex": null,
      "flex_flow": null,
      "grid_area": null,
      "grid_auto_columns": null,
      "grid_auto_flow": null,
      "grid_auto_rows": null,
      "grid_column": null,
      "grid_gap": null,
      "grid_row": null,
      "grid_template_areas": null,
      "grid_template_columns": null,
      "grid_template_rows": null,
      "height": null,
      "justify_content": null,
      "justify_items": null,
      "left": null,
      "margin": null,
      "max_height": null,
      "max_width": null,
      "min_height": null,
      "min_width": null,
      "object_fit": null,
      "object_position": null,
      "order": null,
      "overflow": null,
      "overflow_x": null,
      "overflow_y": null,
      "padding": null,
      "right": null,
      "top": null,
      "visibility": null,
      "width": null
     }
    },
    "464ba1d18f0540d4a5d8e9d13ace60ea": {
     "model_module": "@jupyter-widgets/controls",
     "model_name": "HTMLModel",
     "state": {
      "_dom_classes": [],
      "_model_module": "@jupyter-widgets/controls",
      "_model_module_version": "1.5.0",
      "_model_name": "HTMLModel",
      "_view_count": null,
      "_view_module": "@jupyter-widgets/controls",
      "_view_module_version": "1.5.0",
      "_view_name": "HTMLView",
      "description": "",
      "description_tooltip": null,
      "layout": "IPY_MODEL_654c302d54a44303869ec20ebcf2c196",
      "placeholder": "​",
      "style": "IPY_MODEL_b8471a09a5fc4bef908205f0319ddc1a",
      "value": " 261M/261M [00:12&lt;00:00, 20.8MB/s]"
     }
    },
    "49f886c021bc4fc28dc732cfc27b7ebb": {
     "model_module": "@jupyter-widgets/base",
     "model_name": "LayoutModel",
     "state": {
      "_model_module": "@jupyter-widgets/base",
      "_model_module_version": "1.2.0",
      "_model_name": "LayoutModel",
      "_view_count": null,
      "_view_module": "@jupyter-widgets/base",
      "_view_module_version": "1.2.0",
      "_view_name": "LayoutView",
      "align_content": null,
      "align_items": null,
      "align_self": null,
      "border": null,
      "bottom": null,
      "display": null,
      "flex": null,
      "flex_flow": null,
      "grid_area": null,
      "grid_auto_columns": null,
      "grid_auto_flow": null,
      "grid_auto_rows": null,
      "grid_column": null,
      "grid_gap": null,
      "grid_row": null,
      "grid_template_areas": null,
      "grid_template_columns": null,
      "grid_template_rows": null,
      "height": null,
      "justify_content": null,
      "justify_items": null,
      "left": null,
      "margin": null,
      "max_height": null,
      "max_width": null,
      "min_height": null,
      "min_width": null,
      "object_fit": null,
      "object_position": null,
      "order": null,
      "overflow": null,
      "overflow_x": null,
      "overflow_y": null,
      "padding": null,
      "right": null,
      "top": null,
      "visibility": null,
      "width": null
     }
    },
    "4ef8d92f2b6a4f5ab8a60f2b300686eb": {
     "model_module": "@jupyter-widgets/controls",
     "model_name": "HTMLModel",
     "state": {
      "_dom_classes": [],
      "_model_module": "@jupyter-widgets/controls",
      "_model_module_version": "1.5.0",
      "_model_name": "HTMLModel",
      "_view_count": null,
      "_view_module": "@jupyter-widgets/controls",
      "_view_module_version": "1.5.0",
      "_view_name": "HTMLView",
      "description": "",
      "description_tooltip": null,
      "layout": "IPY_MODEL_9bdf6adf9be74d03b4e986f1194fa7e8",
      "placeholder": "​",
      "style": "IPY_MODEL_969e60239d1e4055858669e7ba756cef",
      "value": " 1.36M/1.36M [00:19&lt;00:00, 68.1kB/s]"
     }
    },
    "4f397fa027134568b687d7bbe310cd95": {
     "model_module": "@jupyter-widgets/base",
     "model_name": "LayoutModel",
     "state": {
      "_model_module": "@jupyter-widgets/base",
      "_model_module_version": "1.2.0",
      "_model_name": "LayoutModel",
      "_view_count": null,
      "_view_module": "@jupyter-widgets/base",
      "_view_module_version": "1.2.0",
      "_view_name": "LayoutView",
      "align_content": null,
      "align_items": null,
      "align_self": null,
      "border": null,
      "bottom": null,
      "display": null,
      "flex": null,
      "flex_flow": null,
      "grid_area": null,
      "grid_auto_columns": null,
      "grid_auto_flow": null,
      "grid_auto_rows": null,
      "grid_column": null,
      "grid_gap": null,
      "grid_row": null,
      "grid_template_areas": null,
      "grid_template_columns": null,
      "grid_template_rows": null,
      "height": null,
      "justify_content": null,
      "justify_items": null,
      "left": null,
      "margin": null,
      "max_height": null,
      "max_width": null,
      "min_height": null,
      "min_width": null,
      "object_fit": null,
      "object_position": null,
      "order": null,
      "overflow": null,
      "overflow_x": null,
      "overflow_y": null,
      "padding": null,
      "right": null,
      "top": null,
      "visibility": null,
      "width": null
     }
    },
    "521441ca29094734ade05d40d80b183d": {
     "model_module": "@jupyter-widgets/base",
     "model_name": "LayoutModel",
     "state": {
      "_model_module": "@jupyter-widgets/base",
      "_model_module_version": "1.2.0",
      "_model_name": "LayoutModel",
      "_view_count": null,
      "_view_module": "@jupyter-widgets/base",
      "_view_module_version": "1.2.0",
      "_view_name": "LayoutView",
      "align_content": null,
      "align_items": null,
      "align_self": null,
      "border": null,
      "bottom": null,
      "display": null,
      "flex": null,
      "flex_flow": null,
      "grid_area": null,
      "grid_auto_columns": null,
      "grid_auto_flow": null,
      "grid_auto_rows": null,
      "grid_column": null,
      "grid_gap": null,
      "grid_row": null,
      "grid_template_areas": null,
      "grid_template_columns": null,
      "grid_template_rows": null,
      "height": null,
      "justify_content": null,
      "justify_items": null,
      "left": null,
      "margin": null,
      "max_height": null,
      "max_width": null,
      "min_height": null,
      "min_width": null,
      "object_fit": null,
      "object_position": null,
      "order": null,
      "overflow": null,
      "overflow_x": null,
      "overflow_y": null,
      "padding": null,
      "right": null,
      "top": null,
      "visibility": null,
      "width": null
     }
    },
    "5670777d94e74bf8ab2eda5783715a6b": {
     "model_module": "@jupyter-widgets/controls",
     "model_name": "HBoxModel",
     "state": {
      "_dom_classes": [],
      "_model_module": "@jupyter-widgets/controls",
      "_model_module_version": "1.5.0",
      "_model_name": "HBoxModel",
      "_view_count": null,
      "_view_module": "@jupyter-widgets/controls",
      "_view_module_version": "1.5.0",
      "_view_name": "HBoxView",
      "box_style": "",
      "children": [
       "IPY_MODEL_8e8cc49dce0d4ebba618a8ca63a59173",
       "IPY_MODEL_9b35197093624e7baf2aea0f9ffef8cb"
      ],
      "layout": "IPY_MODEL_95b8f0003b7244a6a0d28ae98bcb47c5"
     }
    },
    "597e83a8a5b147bb91d48643a0fb1bcb": {
     "model_module": "@jupyter-widgets/controls",
     "model_name": "DescriptionStyleModel",
     "state": {
      "_model_module": "@jupyter-widgets/controls",
      "_model_module_version": "1.5.0",
      "_model_name": "DescriptionStyleModel",
      "_view_count": null,
      "_view_module": "@jupyter-widgets/base",
      "_view_module_version": "1.2.0",
      "_view_name": "StyleView",
      "description_width": ""
     }
    },
    "5acd92a3243c44d1a2363783e55edfed": {
     "model_module": "@jupyter-widgets/controls",
     "model_name": "HBoxModel",
     "state": {
      "_dom_classes": [],
      "_model_module": "@jupyter-widgets/controls",
      "_model_module_version": "1.5.0",
      "_model_name": "HBoxModel",
      "_view_count": null,
      "_view_module": "@jupyter-widgets/controls",
      "_view_module_version": "1.5.0",
      "_view_name": "HBoxView",
      "box_style": "",
      "children": [
       "IPY_MODEL_443c1788161b4537a0a76dc711d253d9",
       "IPY_MODEL_e294cc37192f4f70a157b823fb259ac6"
      ],
      "layout": "IPY_MODEL_ea220d8392ec4c449f9f63c90632d842"
     }
    },
    "5b5532f61e054884a8b29e2d480a8906": {
     "model_module": "@jupyter-widgets/controls",
     "model_name": "DescriptionStyleModel",
     "state": {
      "_model_module": "@jupyter-widgets/controls",
      "_model_module_version": "1.5.0",
      "_model_name": "DescriptionStyleModel",
      "_view_count": null,
      "_view_module": "@jupyter-widgets/base",
      "_view_module_version": "1.2.0",
      "_view_name": "StyleView",
      "description_width": ""
     }
    },
    "5bbf4d3aa35143ce9c8e8eec1f008980": {
     "model_module": "@jupyter-widgets/controls",
     "model_name": "ProgressStyleModel",
     "state": {
      "_model_module": "@jupyter-widgets/controls",
      "_model_module_version": "1.5.0",
      "_model_name": "ProgressStyleModel",
      "_view_count": null,
      "_view_module": "@jupyter-widgets/base",
      "_view_module_version": "1.2.0",
      "_view_name": "StyleView",
      "bar_color": null,
      "description_width": "initial"
     }
    },
    "5c16c4febd8d420880ce89a6f96c543e": {
     "model_module": "@jupyter-widgets/controls",
     "model_name": "FloatProgressModel",
     "state": {
      "_dom_classes": [],
      "_model_module": "@jupyter-widgets/controls",
      "_model_module_version": "1.5.0",
      "_model_name": "FloatProgressModel",
      "_view_count": null,
      "_view_module": "@jupyter-widgets/controls",
      "_view_module_version": "1.5.0",
      "_view_name": "ProgressView",
      "bar_style": "success",
      "description": "Downloading: 100%",
      "description_tooltip": null,
      "layout": "IPY_MODEL_a12142496bdb4dc08feec1126cd35ef9",
      "max": 213450,
      "min": 0,
      "orientation": "horizontal",
      "style": "IPY_MODEL_42408cf451ab4b3d8ef0ed568f4d4dc3",
      "value": 213450
     }
    },
    "5f1f881969a14ed49ae6183ca62d2bb8": {
     "model_module": "@jupyter-widgets/controls",
     "model_name": "HTMLModel",
     "state": {
      "_dom_classes": [],
      "_model_module": "@jupyter-widgets/controls",
      "_model_module_version": "1.5.0",
      "_model_name": "HTMLModel",
      "_view_count": null,
      "_view_module": "@jupyter-widgets/controls",
      "_view_module_version": "1.5.0",
      "_view_name": "HTMLView",
      "description": "",
      "description_tooltip": null,
      "layout": "IPY_MODEL_8bc3e95dbcb14ed3be68e6289dedcb60",
      "placeholder": "​",
      "style": "IPY_MODEL_e56f2f6f612a45218037388da3283db5",
      "value": " 892M/892M [00:35&lt;00:00, 25.4MB/s]"
     }
    },
    "603025401dce4d55a08ec49571932868": {
     "model_module": "@jupyter-widgets/controls",
     "model_name": "HBoxModel",
     "state": {
      "_dom_classes": [],
      "_model_module": "@jupyter-widgets/controls",
      "_model_module_version": "1.5.0",
      "_model_name": "HBoxModel",
      "_view_count": null,
      "_view_module": "@jupyter-widgets/controls",
      "_view_module_version": "1.5.0",
      "_view_name": "HBoxView",
      "box_style": "",
      "children": [
       "IPY_MODEL_ca1b5481966e402f86e1420210806010",
       "IPY_MODEL_a7a37f4036184cd38bbb6e539e251650"
      ],
      "layout": "IPY_MODEL_b231551b5d14479cbd7f741da2e2672f"
     }
    },
    "60b4181d4f884dd1af9d6a1c6785e1e7": {
     "model_module": "@jupyter-widgets/controls",
     "model_name": "ProgressStyleModel",
     "state": {
      "_model_module": "@jupyter-widgets/controls",
      "_model_module_version": "1.5.0",
      "_model_name": "ProgressStyleModel",
      "_view_count": null,
      "_view_module": "@jupyter-widgets/base",
      "_view_module_version": "1.2.0",
      "_view_name": "StyleView",
      "bar_color": null,
      "description_width": "initial"
     }
    },
    "6138492c1c0240ab8430bdfdeb7e3945": {
     "model_module": "@jupyter-widgets/controls",
     "model_name": "DescriptionStyleModel",
     "state": {
      "_model_module": "@jupyter-widgets/controls",
      "_model_module_version": "1.5.0",
      "_model_name": "DescriptionStyleModel",
      "_view_count": null,
      "_view_module": "@jupyter-widgets/base",
      "_view_module_version": "1.2.0",
      "_view_name": "StyleView",
      "description_width": ""
     }
    },
    "62fc1eb504624ebc96bf17f8f2d87452": {
     "model_module": "@jupyter-widgets/controls",
     "model_name": "FloatProgressModel",
     "state": {
      "_dom_classes": [],
      "_model_module": "@jupyter-widgets/controls",
      "_model_module_version": "1.5.0",
      "_model_name": "FloatProgressModel",
      "_view_count": null,
      "_view_module": "@jupyter-widgets/controls",
      "_view_module_version": "1.5.0",
      "_view_name": "ProgressView",
      "bar_style": "success",
      "description": "Downloading: 100%",
      "description_tooltip": null,
      "layout": "IPY_MODEL_7caf48ac13484eb884b9b4f2dec5375d",
      "max": 1355256,
      "min": 0,
      "orientation": "horizontal",
      "style": "IPY_MODEL_f987ddd021554a3a8581643d280ec254",
      "value": 1355256
     }
    },
    "649ec9d0808f4af5a1a49202e6f87dda": {
     "model_module": "@jupyter-widgets/base",
     "model_name": "LayoutModel",
     "state": {
      "_model_module": "@jupyter-widgets/base",
      "_model_module_version": "1.2.0",
      "_model_name": "LayoutModel",
      "_view_count": null,
      "_view_module": "@jupyter-widgets/base",
      "_view_module_version": "1.2.0",
      "_view_name": "LayoutView",
      "align_content": null,
      "align_items": null,
      "align_self": null,
      "border": null,
      "bottom": null,
      "display": null,
      "flex": null,
      "flex_flow": null,
      "grid_area": null,
      "grid_auto_columns": null,
      "grid_auto_flow": null,
      "grid_auto_rows": null,
      "grid_column": null,
      "grid_gap": null,
      "grid_row": null,
      "grid_template_areas": null,
      "grid_template_columns": null,
      "grid_template_rows": null,
      "height": null,
      "justify_content": null,
      "justify_items": null,
      "left": null,
      "margin": null,
      "max_height": null,
      "max_width": null,
      "min_height": null,
      "min_width": null,
      "object_fit": null,
      "object_position": null,
      "order": null,
      "overflow": null,
      "overflow_x": null,
      "overflow_y": null,
      "padding": null,
      "right": null,
      "top": null,
      "visibility": null,
      "width": null
     }
    },
    "654c302d54a44303869ec20ebcf2c196": {
     "model_module": "@jupyter-widgets/base",
     "model_name": "LayoutModel",
     "state": {
      "_model_module": "@jupyter-widgets/base",
      "_model_module_version": "1.2.0",
      "_model_name": "LayoutModel",
      "_view_count": null,
      "_view_module": "@jupyter-widgets/base",
      "_view_module_version": "1.2.0",
      "_view_name": "LayoutView",
      "align_content": null,
      "align_items": null,
      "align_self": null,
      "border": null,
      "bottom": null,
      "display": null,
      "flex": null,
      "flex_flow": null,
      "grid_area": null,
      "grid_auto_columns": null,
      "grid_auto_flow": null,
      "grid_auto_rows": null,
      "grid_column": null,
      "grid_gap": null,
      "grid_row": null,
      "grid_template_areas": null,
      "grid_template_columns": null,
      "grid_template_rows": null,
      "height": null,
      "justify_content": null,
      "justify_items": null,
      "left": null,
      "margin": null,
      "max_height": null,
      "max_width": null,
      "min_height": null,
      "min_width": null,
      "object_fit": null,
      "object_position": null,
      "order": null,
      "overflow": null,
      "overflow_x": null,
      "overflow_y": null,
      "padding": null,
      "right": null,
      "top": null,
      "visibility": null,
      "width": null
     }
    },
    "65d019c9dab94dc5879071d40ff2934e": {
     "model_module": "@jupyter-widgets/controls",
     "model_name": "ProgressStyleModel",
     "state": {
      "_model_module": "@jupyter-widgets/controls",
      "_model_module_version": "1.5.0",
      "_model_name": "ProgressStyleModel",
      "_view_count": null,
      "_view_module": "@jupyter-widgets/base",
      "_view_module_version": "1.2.0",
      "_view_name": "StyleView",
      "bar_color": null,
      "description_width": "initial"
     }
    },
    "668c9c235a4c4f699407b90d20ad98b0": {
     "model_module": "@jupyter-widgets/controls",
     "model_name": "DescriptionStyleModel",
     "state": {
      "_model_module": "@jupyter-widgets/controls",
      "_model_module_version": "1.5.0",
      "_model_name": "DescriptionStyleModel",
      "_view_count": null,
      "_view_module": "@jupyter-widgets/base",
      "_view_module_version": "1.2.0",
      "_view_name": "StyleView",
      "description_width": ""
     }
    },
    "6695bbbdebdb49c4acdcca585ff7d134": {
     "model_module": "@jupyter-widgets/base",
     "model_name": "LayoutModel",
     "state": {
      "_model_module": "@jupyter-widgets/base",
      "_model_module_version": "1.2.0",
      "_model_name": "LayoutModel",
      "_view_count": null,
      "_view_module": "@jupyter-widgets/base",
      "_view_module_version": "1.2.0",
      "_view_name": "LayoutView",
      "align_content": null,
      "align_items": null,
      "align_self": null,
      "border": null,
      "bottom": null,
      "display": null,
      "flex": null,
      "flex_flow": null,
      "grid_area": null,
      "grid_auto_columns": null,
      "grid_auto_flow": null,
      "grid_auto_rows": null,
      "grid_column": null,
      "grid_gap": null,
      "grid_row": null,
      "grid_template_areas": null,
      "grid_template_columns": null,
      "grid_template_rows": null,
      "height": null,
      "justify_content": null,
      "justify_items": null,
      "left": null,
      "margin": null,
      "max_height": null,
      "max_width": null,
      "min_height": null,
      "min_width": null,
      "object_fit": null,
      "object_position": null,
      "order": null,
      "overflow": null,
      "overflow_x": null,
      "overflow_y": null,
      "padding": null,
      "right": null,
      "top": null,
      "visibility": null,
      "width": null
     }
    },
    "6bdc4417d8674294b7ba77d929b769e3": {
     "model_module": "@jupyter-widgets/controls",
     "model_name": "ProgressStyleModel",
     "state": {
      "_model_module": "@jupyter-widgets/controls",
      "_model_module_version": "1.5.0",
      "_model_name": "ProgressStyleModel",
      "_view_count": null,
      "_view_module": "@jupyter-widgets/base",
      "_view_module_version": "1.2.0",
      "_view_name": "StyleView",
      "bar_color": null,
      "description_width": "initial"
     }
    },
    "6c415b60693e43718e17b9be1387503b": {
     "model_module": "@jupyter-widgets/base",
     "model_name": "LayoutModel",
     "state": {
      "_model_module": "@jupyter-widgets/base",
      "_model_module_version": "1.2.0",
      "_model_name": "LayoutModel",
      "_view_count": null,
      "_view_module": "@jupyter-widgets/base",
      "_view_module_version": "1.2.0",
      "_view_name": "LayoutView",
      "align_content": null,
      "align_items": null,
      "align_self": null,
      "border": null,
      "bottom": null,
      "display": null,
      "flex": null,
      "flex_flow": null,
      "grid_area": null,
      "grid_auto_columns": null,
      "grid_auto_flow": null,
      "grid_auto_rows": null,
      "grid_column": null,
      "grid_gap": null,
      "grid_row": null,
      "grid_template_areas": null,
      "grid_template_columns": null,
      "grid_template_rows": null,
      "height": null,
      "justify_content": null,
      "justify_items": null,
      "left": null,
      "margin": null,
      "max_height": null,
      "max_width": null,
      "min_height": null,
      "min_width": null,
      "object_fit": null,
      "object_position": null,
      "order": null,
      "overflow": null,
      "overflow_x": null,
      "overflow_y": null,
      "padding": null,
      "right": null,
      "top": null,
      "visibility": null,
      "width": null
     }
    },
    "6c82d1ad6e65475d879364ae28b113e8": {
     "model_module": "@jupyter-widgets/controls",
     "model_name": "DescriptionStyleModel",
     "state": {
      "_model_module": "@jupyter-widgets/controls",
      "_model_module_version": "1.5.0",
      "_model_name": "DescriptionStyleModel",
      "_view_count": null,
      "_view_module": "@jupyter-widgets/base",
      "_view_module_version": "1.2.0",
      "_view_name": "StyleView",
      "description_width": ""
     }
    },
    "6e6544730a364cd2b6b61b670dfec124": {
     "model_module": "@jupyter-widgets/base",
     "model_name": "LayoutModel",
     "state": {
      "_model_module": "@jupyter-widgets/base",
      "_model_module_version": "1.2.0",
      "_model_name": "LayoutModel",
      "_view_count": null,
      "_view_module": "@jupyter-widgets/base",
      "_view_module_version": "1.2.0",
      "_view_name": "LayoutView",
      "align_content": null,
      "align_items": null,
      "align_self": null,
      "border": null,
      "bottom": null,
      "display": null,
      "flex": null,
      "flex_flow": null,
      "grid_area": null,
      "grid_auto_columns": null,
      "grid_auto_flow": null,
      "grid_auto_rows": null,
      "grid_column": null,
      "grid_gap": null,
      "grid_row": null,
      "grid_template_areas": null,
      "grid_template_columns": null,
      "grid_template_rows": null,
      "height": null,
      "justify_content": null,
      "justify_items": null,
      "left": null,
      "margin": null,
      "max_height": null,
      "max_width": null,
      "min_height": null,
      "min_width": null,
      "object_fit": null,
      "object_position": null,
      "order": null,
      "overflow": null,
      "overflow_x": null,
      "overflow_y": null,
      "padding": null,
      "right": null,
      "top": null,
      "visibility": null,
      "width": null
     }
    },
    "6f33c8fc98e548d591ddf79ea4031f15": {
     "model_module": "@jupyter-widgets/controls",
     "model_name": "FloatProgressModel",
     "state": {
      "_dom_classes": [],
      "_model_module": "@jupyter-widgets/controls",
      "_model_module_version": "1.5.0",
      "_model_name": "FloatProgressModel",
      "_view_count": null,
      "_view_module": "@jupyter-widgets/controls",
      "_view_module_version": "1.5.0",
      "_view_name": "ProgressView",
      "bar_style": "success",
      "description": "Downloading: 100%",
      "description_tooltip": null,
      "layout": "IPY_MODEL_452bc843dc6d4c60829c456bba1cb789",
      "max": 230,
      "min": 0,
      "orientation": "horizontal",
      "style": "IPY_MODEL_3c4fe1d595d04498ae93e97445f4a70f",
      "value": 230
     }
    },
    "71761c00862b421db4650e9e93a23aa0": {
     "model_module": "@jupyter-widgets/controls",
     "model_name": "DescriptionStyleModel",
     "state": {
      "_model_module": "@jupyter-widgets/controls",
      "_model_module_version": "1.5.0",
      "_model_name": "DescriptionStyleModel",
      "_view_count": null,
      "_view_module": "@jupyter-widgets/base",
      "_view_module_version": "1.2.0",
      "_view_name": "StyleView",
      "description_width": ""
     }
    },
    "72587ff2941b462a8e66cf578050c92f": {
     "model_module": "@jupyter-widgets/base",
     "model_name": "LayoutModel",
     "state": {
      "_model_module": "@jupyter-widgets/base",
      "_model_module_version": "1.2.0",
      "_model_name": "LayoutModel",
      "_view_count": null,
      "_view_module": "@jupyter-widgets/base",
      "_view_module_version": "1.2.0",
      "_view_name": "LayoutView",
      "align_content": null,
      "align_items": null,
      "align_self": null,
      "border": null,
      "bottom": null,
      "display": null,
      "flex": null,
      "flex_flow": null,
      "grid_area": null,
      "grid_auto_columns": null,
      "grid_auto_flow": null,
      "grid_auto_rows": null,
      "grid_column": null,
      "grid_gap": null,
      "grid_row": null,
      "grid_template_areas": null,
      "grid_template_columns": null,
      "grid_template_rows": null,
      "height": null,
      "justify_content": null,
      "justify_items": null,
      "left": null,
      "margin": null,
      "max_height": null,
      "max_width": null,
      "min_height": null,
      "min_width": null,
      "object_fit": null,
      "object_position": null,
      "order": null,
      "overflow": null,
      "overflow_x": null,
      "overflow_y": null,
      "padding": null,
      "right": null,
      "top": null,
      "visibility": null,
      "width": null
     }
    },
    "72e229f76aac4a46945b2000af4af73f": {
     "model_module": "@jupyter-widgets/controls",
     "model_name": "ProgressStyleModel",
     "state": {
      "_model_module": "@jupyter-widgets/controls",
      "_model_module_version": "1.5.0",
      "_model_name": "ProgressStyleModel",
      "_view_count": null,
      "_view_module": "@jupyter-widgets/base",
      "_view_module_version": "1.2.0",
      "_view_name": "StyleView",
      "bar_color": null,
      "description_width": "initial"
     }
    },
    "7507f31dcc7d4b9789b2c647118d5e9a": {
     "model_module": "@jupyter-widgets/base",
     "model_name": "LayoutModel",
     "state": {
      "_model_module": "@jupyter-widgets/base",
      "_model_module_version": "1.2.0",
      "_model_name": "LayoutModel",
      "_view_count": null,
      "_view_module": "@jupyter-widgets/base",
      "_view_module_version": "1.2.0",
      "_view_name": "LayoutView",
      "align_content": null,
      "align_items": null,
      "align_self": null,
      "border": null,
      "bottom": null,
      "display": null,
      "flex": null,
      "flex_flow": null,
      "grid_area": null,
      "grid_auto_columns": null,
      "grid_auto_flow": null,
      "grid_auto_rows": null,
      "grid_column": null,
      "grid_gap": null,
      "grid_row": null,
      "grid_template_areas": null,
      "grid_template_columns": null,
      "grid_template_rows": null,
      "height": null,
      "justify_content": null,
      "justify_items": null,
      "left": null,
      "margin": null,
      "max_height": null,
      "max_width": null,
      "min_height": null,
      "min_width": null,
      "object_fit": null,
      "object_position": null,
      "order": null,
      "overflow": null,
      "overflow_x": null,
      "overflow_y": null,
      "padding": null,
      "right": null,
      "top": null,
      "visibility": null,
      "width": null
     }
    },
    "7694d962870e451291e752c9fb63d092": {
     "model_module": "@jupyter-widgets/controls",
     "model_name": "HBoxModel",
     "state": {
      "_dom_classes": [],
      "_model_module": "@jupyter-widgets/controls",
      "_model_module_version": "1.5.0",
      "_model_name": "HBoxModel",
      "_view_count": null,
      "_view_module": "@jupyter-widgets/controls",
      "_view_module_version": "1.5.0",
      "_view_name": "HBoxView",
      "box_style": "",
      "children": [
       "IPY_MODEL_95ce1e8b7a1742b6b0adc65e3982bcce",
       "IPY_MODEL_bfbef03e393b4f258fb2ed7f487c2bba"
      ],
      "layout": "IPY_MODEL_19450cddea8845509ae726e2a011469c"
     }
    },
    "780879deb0824b0a943e8e81c0a9e44d": {
     "model_module": "@jupyter-widgets/controls",
     "model_name": "HBoxModel",
     "state": {
      "_dom_classes": [],
      "_model_module": "@jupyter-widgets/controls",
      "_model_module_version": "1.5.0",
      "_model_name": "HBoxModel",
      "_view_count": null,
      "_view_module": "@jupyter-widgets/controls",
      "_view_module_version": "1.5.0",
      "_view_name": "HBoxView",
      "box_style": "",
      "children": [
       "IPY_MODEL_786971d470a0426cbdf8234799cf0c89",
       "IPY_MODEL_bf1e6638b5dc44dbbc72ae5695d8f204"
      ],
      "layout": "IPY_MODEL_42ca272de98742e5b9db7d1e7e832202"
     }
    },
    "786971d470a0426cbdf8234799cf0c89": {
     "model_module": "@jupyter-widgets/controls",
     "model_name": "FloatProgressModel",
     "state": {
      "_dom_classes": [],
      "_model_module": "@jupyter-widgets/controls",
      "_model_module_version": "1.5.0",
      "_model_name": "FloatProgressModel",
      "_view_count": null,
      "_view_module": "@jupyter-widgets/controls",
      "_view_module_version": "1.5.0",
      "_view_name": "ProgressView",
      "bar_style": "success",
      "description": "Downloading: 100%",
      "description_tooltip": null,
      "layout": "IPY_MODEL_c290ef1b28594f66a1f1fd88393f49e1",
      "max": 456318,
      "min": 0,
      "orientation": "horizontal",
      "style": "IPY_MODEL_2320f4e3b4074163a60bb17b59d238d8",
      "value": 456318
     }
    },
    "79a4799eed224d4ab0443a3b61845cb1": {
     "model_module": "@jupyter-widgets/controls",
     "model_name": "FloatProgressModel",
     "state": {
      "_dom_classes": [],
      "_model_module": "@jupyter-widgets/controls",
      "_model_module_version": "1.5.0",
      "_model_name": "FloatProgressModel",
      "_view_count": null,
      "_view_module": "@jupyter-widgets/controls",
      "_view_module_version": "1.5.0",
      "_view_name": "ProgressView",
      "bar_style": "success",
      "description": "Downloading: 100%",
      "description_tooltip": null,
      "layout": "IPY_MODEL_9a8d1350159f435d8133c11eceafd70b",
      "max": 473,
      "min": 0,
      "orientation": "horizontal",
      "style": "IPY_MODEL_924e2530b5d44b118ae2b4d1a0a24abb",
      "value": 473
     }
    },
    "7caf48ac13484eb884b9b4f2dec5375d": {
     "model_module": "@jupyter-widgets/base",
     "model_name": "LayoutModel",
     "state": {
      "_model_module": "@jupyter-widgets/base",
      "_model_module_version": "1.2.0",
      "_model_name": "LayoutModel",
      "_view_count": null,
      "_view_module": "@jupyter-widgets/base",
      "_view_module_version": "1.2.0",
      "_view_name": "LayoutView",
      "align_content": null,
      "align_items": null,
      "align_self": null,
      "border": null,
      "bottom": null,
      "display": null,
      "flex": null,
      "flex_flow": null,
      "grid_area": null,
      "grid_auto_columns": null,
      "grid_auto_flow": null,
      "grid_auto_rows": null,
      "grid_column": null,
      "grid_gap": null,
      "grid_row": null,
      "grid_template_areas": null,
      "grid_template_columns": null,
      "grid_template_rows": null,
      "height": null,
      "justify_content": null,
      "justify_items": null,
      "left": null,
      "margin": null,
      "max_height": null,
      "max_width": null,
      "min_height": null,
      "min_width": null,
      "object_fit": null,
      "object_position": null,
      "order": null,
      "overflow": null,
      "overflow_x": null,
      "overflow_y": null,
      "padding": null,
      "right": null,
      "top": null,
      "visibility": null,
      "width": null
     }
    },
    "7d3de57007b547cd9f65ee9639185496": {
     "model_module": "@jupyter-widgets/base",
     "model_name": "LayoutModel",
     "state": {
      "_model_module": "@jupyter-widgets/base",
      "_model_module_version": "1.2.0",
      "_model_name": "LayoutModel",
      "_view_count": null,
      "_view_module": "@jupyter-widgets/base",
      "_view_module_version": "1.2.0",
      "_view_name": "LayoutView",
      "align_content": null,
      "align_items": null,
      "align_self": null,
      "border": null,
      "bottom": null,
      "display": null,
      "flex": null,
      "flex_flow": null,
      "grid_area": null,
      "grid_auto_columns": null,
      "grid_auto_flow": null,
      "grid_auto_rows": null,
      "grid_column": null,
      "grid_gap": null,
      "grid_row": null,
      "grid_template_areas": null,
      "grid_template_columns": null,
      "grid_template_rows": null,
      "height": null,
      "justify_content": null,
      "justify_items": null,
      "left": null,
      "margin": null,
      "max_height": null,
      "max_width": null,
      "min_height": null,
      "min_width": null,
      "object_fit": null,
      "object_position": null,
      "order": null,
      "overflow": null,
      "overflow_x": null,
      "overflow_y": null,
      "padding": null,
      "right": null,
      "top": null,
      "visibility": null,
      "width": null
     }
    },
    "7ed281a8a8134f9d845a9f9803f57624": {
     "model_module": "@jupyter-widgets/controls",
     "model_name": "FloatProgressModel",
     "state": {
      "_dom_classes": [],
      "_model_module": "@jupyter-widgets/controls",
      "_model_module_version": "1.5.0",
      "_model_name": "FloatProgressModel",
      "_view_count": null,
      "_view_module": "@jupyter-widgets/controls",
      "_view_module_version": "1.5.0",
      "_view_name": "ProgressView",
      "bar_style": "success",
      "description": "Downloading: 100%",
      "description_tooltip": null,
      "layout": "IPY_MODEL_0fa0418a84f04c7f9870ad1d172e118d",
      "max": 1621,
      "min": 0,
      "orientation": "horizontal",
      "style": "IPY_MODEL_03c6f6779ba64fada02a3005dbcacc7a",
      "value": 1621
     }
    },
    "80a74b4098b440dc9260f1e2b1e39b0e": {
     "model_module": "@jupyter-widgets/controls",
     "model_name": "DescriptionStyleModel",
     "state": {
      "_model_module": "@jupyter-widgets/controls",
      "_model_module_version": "1.5.0",
      "_model_name": "DescriptionStyleModel",
      "_view_count": null,
      "_view_module": "@jupyter-widgets/base",
      "_view_module_version": "1.2.0",
      "_view_name": "StyleView",
      "description_width": ""
     }
    },
    "821cf5b29a6f4bb791d64f4342e21c59": {
     "model_module": "@jupyter-widgets/base",
     "model_name": "LayoutModel",
     "state": {
      "_model_module": "@jupyter-widgets/base",
      "_model_module_version": "1.2.0",
      "_model_name": "LayoutModel",
      "_view_count": null,
      "_view_module": "@jupyter-widgets/base",
      "_view_module_version": "1.2.0",
      "_view_name": "LayoutView",
      "align_content": null,
      "align_items": null,
      "align_self": null,
      "border": null,
      "bottom": null,
      "display": null,
      "flex": null,
      "flex_flow": null,
      "grid_area": null,
      "grid_auto_columns": null,
      "grid_auto_flow": null,
      "grid_auto_rows": null,
      "grid_column": null,
      "grid_gap": null,
      "grid_row": null,
      "grid_template_areas": null,
      "grid_template_columns": null,
      "grid_template_rows": null,
      "height": null,
      "justify_content": null,
      "justify_items": null,
      "left": null,
      "margin": null,
      "max_height": null,
      "max_width": null,
      "min_height": null,
      "min_width": null,
      "object_fit": null,
      "object_position": null,
      "order": null,
      "overflow": null,
      "overflow_x": null,
      "overflow_y": null,
      "padding": null,
      "right": null,
      "top": null,
      "visibility": null,
      "width": null
     }
    },
    "82388758e1bb4842b5a87e1172ebeac6": {
     "model_module": "@jupyter-widgets/base",
     "model_name": "LayoutModel",
     "state": {
      "_model_module": "@jupyter-widgets/base",
      "_model_module_version": "1.2.0",
      "_model_name": "LayoutModel",
      "_view_count": null,
      "_view_module": "@jupyter-widgets/base",
      "_view_module_version": "1.2.0",
      "_view_name": "LayoutView",
      "align_content": null,
      "align_items": null,
      "align_self": null,
      "border": null,
      "bottom": null,
      "display": null,
      "flex": null,
      "flex_flow": null,
      "grid_area": null,
      "grid_auto_columns": null,
      "grid_auto_flow": null,
      "grid_auto_rows": null,
      "grid_column": null,
      "grid_gap": null,
      "grid_row": null,
      "grid_template_areas": null,
      "grid_template_columns": null,
      "grid_template_rows": null,
      "height": null,
      "justify_content": null,
      "justify_items": null,
      "left": null,
      "margin": null,
      "max_height": null,
      "max_width": null,
      "min_height": null,
      "min_width": null,
      "object_fit": null,
      "object_position": null,
      "order": null,
      "overflow": null,
      "overflow_x": null,
      "overflow_y": null,
      "padding": null,
      "right": null,
      "top": null,
      "visibility": null,
      "width": null
     }
    },
    "8346fcafdbc04951af6ded3b56be1165": {
     "model_module": "@jupyter-widgets/base",
     "model_name": "LayoutModel",
     "state": {
      "_model_module": "@jupyter-widgets/base",
      "_model_module_version": "1.2.0",
      "_model_name": "LayoutModel",
      "_view_count": null,
      "_view_module": "@jupyter-widgets/base",
      "_view_module_version": "1.2.0",
      "_view_name": "LayoutView",
      "align_content": null,
      "align_items": null,
      "align_self": null,
      "border": null,
      "bottom": null,
      "display": null,
      "flex": null,
      "flex_flow": null,
      "grid_area": null,
      "grid_auto_columns": null,
      "grid_auto_flow": null,
      "grid_auto_rows": null,
      "grid_column": null,
      "grid_gap": null,
      "grid_row": null,
      "grid_template_areas": null,
      "grid_template_columns": null,
      "grid_template_rows": null,
      "height": null,
      "justify_content": null,
      "justify_items": null,
      "left": null,
      "margin": null,
      "max_height": null,
      "max_width": null,
      "min_height": null,
      "min_width": null,
      "object_fit": null,
      "object_position": null,
      "order": null,
      "overflow": null,
      "overflow_x": null,
      "overflow_y": null,
      "padding": null,
      "right": null,
      "top": null,
      "visibility": null,
      "width": null
     }
    },
    "86d8f58e294445428c92ea114652cc25": {
     "model_module": "@jupyter-widgets/base",
     "model_name": "LayoutModel",
     "state": {
      "_model_module": "@jupyter-widgets/base",
      "_model_module_version": "1.2.0",
      "_model_name": "LayoutModel",
      "_view_count": null,
      "_view_module": "@jupyter-widgets/base",
      "_view_module_version": "1.2.0",
      "_view_name": "LayoutView",
      "align_content": null,
      "align_items": null,
      "align_self": null,
      "border": null,
      "bottom": null,
      "display": null,
      "flex": null,
      "flex_flow": null,
      "grid_area": null,
      "grid_auto_columns": null,
      "grid_auto_flow": null,
      "grid_auto_rows": null,
      "grid_column": null,
      "grid_gap": null,
      "grid_row": null,
      "grid_template_areas": null,
      "grid_template_columns": null,
      "grid_template_rows": null,
      "height": null,
      "justify_content": null,
      "justify_items": null,
      "left": null,
      "margin": null,
      "max_height": null,
      "max_width": null,
      "min_height": null,
      "min_width": null,
      "object_fit": null,
      "object_position": null,
      "order": null,
      "overflow": null,
      "overflow_x": null,
      "overflow_y": null,
      "padding": null,
      "right": null,
      "top": null,
      "visibility": null,
      "width": null
     }
    },
    "88d10766d6c74b45b68b626d7ac147a4": {
     "model_module": "@jupyter-widgets/base",
     "model_name": "LayoutModel",
     "state": {
      "_model_module": "@jupyter-widgets/base",
      "_model_module_version": "1.2.0",
      "_model_name": "LayoutModel",
      "_view_count": null,
      "_view_module": "@jupyter-widgets/base",
      "_view_module_version": "1.2.0",
      "_view_name": "LayoutView",
      "align_content": null,
      "align_items": null,
      "align_self": null,
      "border": null,
      "bottom": null,
      "display": null,
      "flex": null,
      "flex_flow": null,
      "grid_area": null,
      "grid_auto_columns": null,
      "grid_auto_flow": null,
      "grid_auto_rows": null,
      "grid_column": null,
      "grid_gap": null,
      "grid_row": null,
      "grid_template_areas": null,
      "grid_template_columns": null,
      "grid_template_rows": null,
      "height": null,
      "justify_content": null,
      "justify_items": null,
      "left": null,
      "margin": null,
      "max_height": null,
      "max_width": null,
      "min_height": null,
      "min_width": null,
      "object_fit": null,
      "object_position": null,
      "order": null,
      "overflow": null,
      "overflow_x": null,
      "overflow_y": null,
      "padding": null,
      "right": null,
      "top": null,
      "visibility": null,
      "width": null
     }
    },
    "8b8c4b3c29ce44b3a8bf3a33276755d4": {
     "model_module": "@jupyter-widgets/controls",
     "model_name": "DescriptionStyleModel",
     "state": {
      "_model_module": "@jupyter-widgets/controls",
      "_model_module_version": "1.5.0",
      "_model_name": "DescriptionStyleModel",
      "_view_count": null,
      "_view_module": "@jupyter-widgets/base",
      "_view_module_version": "1.2.0",
      "_view_name": "StyleView",
      "description_width": ""
     }
    },
    "8bc3e95dbcb14ed3be68e6289dedcb60": {
     "model_module": "@jupyter-widgets/base",
     "model_name": "LayoutModel",
     "state": {
      "_model_module": "@jupyter-widgets/base",
      "_model_module_version": "1.2.0",
      "_model_name": "LayoutModel",
      "_view_count": null,
      "_view_module": "@jupyter-widgets/base",
      "_view_module_version": "1.2.0",
      "_view_name": "LayoutView",
      "align_content": null,
      "align_items": null,
      "align_self": null,
      "border": null,
      "bottom": null,
      "display": null,
      "flex": null,
      "flex_flow": null,
      "grid_area": null,
      "grid_auto_columns": null,
      "grid_auto_flow": null,
      "grid_auto_rows": null,
      "grid_column": null,
      "grid_gap": null,
      "grid_row": null,
      "grid_template_areas": null,
      "grid_template_columns": null,
      "grid_template_rows": null,
      "height": null,
      "justify_content": null,
      "justify_items": null,
      "left": null,
      "margin": null,
      "max_height": null,
      "max_width": null,
      "min_height": null,
      "min_width": null,
      "object_fit": null,
      "object_position": null,
      "order": null,
      "overflow": null,
      "overflow_x": null,
      "overflow_y": null,
      "padding": null,
      "right": null,
      "top": null,
      "visibility": null,
      "width": null
     }
    },
    "8bd8d349e0c244d7b5089ac003b5ec44": {
     "model_module": "@jupyter-widgets/controls",
     "model_name": "ProgressStyleModel",
     "state": {
      "_model_module": "@jupyter-widgets/controls",
      "_model_module_version": "1.5.0",
      "_model_name": "ProgressStyleModel",
      "_view_count": null,
      "_view_module": "@jupyter-widgets/base",
      "_view_module_version": "1.2.0",
      "_view_name": "StyleView",
      "bar_color": null,
      "description_width": "initial"
     }
    },
    "8c7b9873f16e4ddf91c7897de6b18aaf": {
     "model_module": "@jupyter-widgets/controls",
     "model_name": "HTMLModel",
     "state": {
      "_dom_classes": [],
      "_model_module": "@jupyter-widgets/controls",
      "_model_module_version": "1.5.0",
      "_model_name": "HTMLModel",
      "_view_count": null,
      "_view_module": "@jupyter-widgets/controls",
      "_view_module_version": "1.5.0",
      "_view_name": "HTMLView",
      "description": "",
      "description_tooltip": null,
      "layout": "IPY_MODEL_d8bf4445fb6044c1b8bc705707f2f834",
      "placeholder": "​",
      "style": "IPY_MODEL_6138492c1c0240ab8430bdfdeb7e3945",
      "value": " 268M/268M [00:04&lt;00:00, 59.2MB/s]"
     }
    },
    "8d3d8230f65f49d48f0a652d3d072c6b": {
     "model_module": "@jupyter-widgets/base",
     "model_name": "LayoutModel",
     "state": {
      "_model_module": "@jupyter-widgets/base",
      "_model_module_version": "1.2.0",
      "_model_name": "LayoutModel",
      "_view_count": null,
      "_view_module": "@jupyter-widgets/base",
      "_view_module_version": "1.2.0",
      "_view_name": "LayoutView",
      "align_content": null,
      "align_items": null,
      "align_self": null,
      "border": null,
      "bottom": null,
      "display": null,
      "flex": null,
      "flex_flow": null,
      "grid_area": null,
      "grid_auto_columns": null,
      "grid_auto_flow": null,
      "grid_auto_rows": null,
      "grid_column": null,
      "grid_gap": null,
      "grid_row": null,
      "grid_template_areas": null,
      "grid_template_columns": null,
      "grid_template_rows": null,
      "height": null,
      "justify_content": null,
      "justify_items": null,
      "left": null,
      "margin": null,
      "max_height": null,
      "max_width": null,
      "min_height": null,
      "min_width": null,
      "object_fit": null,
      "object_position": null,
      "order": null,
      "overflow": null,
      "overflow_x": null,
      "overflow_y": null,
      "padding": null,
      "right": null,
      "top": null,
      "visibility": null,
      "width": null
     }
    },
    "8df0be3f7f504dacb20dcc2da14a0fee": {
     "model_module": "@jupyter-widgets/base",
     "model_name": "LayoutModel",
     "state": {
      "_model_module": "@jupyter-widgets/base",
      "_model_module_version": "1.2.0",
      "_model_name": "LayoutModel",
      "_view_count": null,
      "_view_module": "@jupyter-widgets/base",
      "_view_module_version": "1.2.0",
      "_view_name": "LayoutView",
      "align_content": null,
      "align_items": null,
      "align_self": null,
      "border": null,
      "bottom": null,
      "display": null,
      "flex": null,
      "flex_flow": null,
      "grid_area": null,
      "grid_auto_columns": null,
      "grid_auto_flow": null,
      "grid_auto_rows": null,
      "grid_column": null,
      "grid_gap": null,
      "grid_row": null,
      "grid_template_areas": null,
      "grid_template_columns": null,
      "grid_template_rows": null,
      "height": null,
      "justify_content": null,
      "justify_items": null,
      "left": null,
      "margin": null,
      "max_height": null,
      "max_width": null,
      "min_height": null,
      "min_width": null,
      "object_fit": null,
      "object_position": null,
      "order": null,
      "overflow": null,
      "overflow_x": null,
      "overflow_y": null,
      "padding": null,
      "right": null,
      "top": null,
      "visibility": null,
      "width": null
     }
    },
    "8e8cc49dce0d4ebba618a8ca63a59173": {
     "model_module": "@jupyter-widgets/controls",
     "model_name": "FloatProgressModel",
     "state": {
      "_dom_classes": [],
      "_model_module": "@jupyter-widgets/controls",
      "_model_module_version": "1.5.0",
      "_model_name": "FloatProgressModel",
      "_view_count": null,
      "_view_module": "@jupyter-widgets/controls",
      "_view_module_version": "1.5.0",
      "_view_name": "ProgressView",
      "bar_style": "success",
      "description": "Downloading: 100%",
      "description_tooltip": null,
      "layout": "IPY_MODEL_f7b018c0559640189cc3ce596c955de6",
      "max": 665,
      "min": 0,
      "orientation": "horizontal",
      "style": "IPY_MODEL_65d019c9dab94dc5879071d40ff2934e",
      "value": 665
     }
    },
    "900d038c79994e8abde3293d6f21e4c2": {
     "model_module": "@jupyter-widgets/controls",
     "model_name": "HBoxModel",
     "state": {
      "_dom_classes": [],
      "_model_module": "@jupyter-widgets/controls",
      "_model_module_version": "1.5.0",
      "_model_name": "HBoxModel",
      "_view_count": null,
      "_view_module": "@jupyter-widgets/controls",
      "_view_module_version": "1.5.0",
      "_view_name": "HBoxView",
      "box_style": "",
      "children": [
       "IPY_MODEL_089a01ace9fa4d309379ed48c03ee64f",
       "IPY_MODEL_bc99f3fd8eea4149af1c8ff82578a3f0"
      ],
      "layout": "IPY_MODEL_649ec9d0808f4af5a1a49202e6f87dda"
     }
    },
    "90b429e06d0b461294df856e94e5f2a2": {
     "model_module": "@jupyter-widgets/controls",
     "model_name": "HBoxModel",
     "state": {
      "_dom_classes": [],
      "_model_module": "@jupyter-widgets/controls",
      "_model_module_version": "1.5.0",
      "_model_name": "HBoxModel",
      "_view_count": null,
      "_view_module": "@jupyter-widgets/controls",
      "_view_module_version": "1.5.0",
      "_view_name": "HBoxView",
      "box_style": "",
      "children": [
       "IPY_MODEL_6f33c8fc98e548d591ddf79ea4031f15",
       "IPY_MODEL_22279a2b08474b63aa487b8902fadf86"
      ],
      "layout": "IPY_MODEL_6695bbbdebdb49c4acdcca585ff7d134"
     }
    },
    "91efab3a2e174b13a02f2eab74bd624a": {
     "model_module": "@jupyter-widgets/controls",
     "model_name": "HBoxModel",
     "state": {
      "_dom_classes": [],
      "_model_module": "@jupyter-widgets/controls",
      "_model_module_version": "1.5.0",
      "_model_name": "HBoxModel",
      "_view_count": null,
      "_view_module": "@jupyter-widgets/controls",
      "_view_module_version": "1.5.0",
      "_view_name": "HBoxView",
      "box_style": "",
      "children": [
       "IPY_MODEL_eb2139d62b774a4c91e4e3d22c3882a5",
       "IPY_MODEL_141a8f804d0f475a9ba18345519755ae"
      ],
      "layout": "IPY_MODEL_0350a96b8aa54502bb09f279bbb3f865"
     }
    },
    "9248c3ab7199424f8e3666c197fc481a": {
     "model_module": "@jupyter-widgets/controls",
     "model_name": "FloatProgressModel",
     "state": {
      "_dom_classes": [],
      "_model_module": "@jupyter-widgets/controls",
      "_model_module_version": "1.5.0",
      "_model_name": "FloatProgressModel",
      "_view_count": null,
      "_view_module": "@jupyter-widgets/controls",
      "_view_module_version": "1.5.0",
      "_view_name": "ProgressView",
      "bar_style": "success",
      "description": "Downloading: 100%",
      "description_tooltip": null,
      "layout": "IPY_MODEL_083e8a577d8a4a619f285545b73c5db6",
      "max": 1042301,
      "min": 0,
      "orientation": "horizontal",
      "style": "IPY_MODEL_3b9b1fa99e404f7399e8e170f6d6c9c4",
      "value": 1042301
     }
    },
    "924e2530b5d44b118ae2b4d1a0a24abb": {
     "model_module": "@jupyter-widgets/controls",
     "model_name": "ProgressStyleModel",
     "state": {
      "_model_module": "@jupyter-widgets/controls",
      "_model_module_version": "1.5.0",
      "_model_name": "ProgressStyleModel",
      "_view_count": null,
      "_view_module": "@jupyter-widgets/base",
      "_view_module_version": "1.2.0",
      "_view_name": "StyleView",
      "bar_color": null,
      "description_width": "initial"
     }
    },
    "9438297009ea4cf7a30757fabc7a92c8": {
     "model_module": "@jupyter-widgets/controls",
     "model_name": "HBoxModel",
     "state": {
      "_dom_classes": [],
      "_model_module": "@jupyter-widgets/controls",
      "_model_module_version": "1.5.0",
      "_model_name": "HBoxModel",
      "_view_count": null,
      "_view_module": "@jupyter-widgets/controls",
      "_view_module_version": "1.5.0",
      "_view_name": "HBoxView",
      "box_style": "",
      "children": [
       "IPY_MODEL_2c8eb31a267049b7a1bae47a7e32cd23",
       "IPY_MODEL_c0954692847f48ef832bb95a07598422"
      ],
      "layout": "IPY_MODEL_8346fcafdbc04951af6ded3b56be1165"
     }
    },
    "955f30671bd2455d98453574bb170e8a": {
     "model_module": "@jupyter-widgets/base",
     "model_name": "LayoutModel",
     "state": {
      "_model_module": "@jupyter-widgets/base",
      "_model_module_version": "1.2.0",
      "_model_name": "LayoutModel",
      "_view_count": null,
      "_view_module": "@jupyter-widgets/base",
      "_view_module_version": "1.2.0",
      "_view_name": "LayoutView",
      "align_content": null,
      "align_items": null,
      "align_self": null,
      "border": null,
      "bottom": null,
      "display": null,
      "flex": null,
      "flex_flow": null,
      "grid_area": null,
      "grid_auto_columns": null,
      "grid_auto_flow": null,
      "grid_auto_rows": null,
      "grid_column": null,
      "grid_gap": null,
      "grid_row": null,
      "grid_template_areas": null,
      "grid_template_columns": null,
      "grid_template_rows": null,
      "height": null,
      "justify_content": null,
      "justify_items": null,
      "left": null,
      "margin": null,
      "max_height": null,
      "max_width": null,
      "min_height": null,
      "min_width": null,
      "object_fit": null,
      "object_position": null,
      "order": null,
      "overflow": null,
      "overflow_x": null,
      "overflow_y": null,
      "padding": null,
      "right": null,
      "top": null,
      "visibility": null,
      "width": null
     }
    },
    "95b8f0003b7244a6a0d28ae98bcb47c5": {
     "model_module": "@jupyter-widgets/base",
     "model_name": "LayoutModel",
     "state": {
      "_model_module": "@jupyter-widgets/base",
      "_model_module_version": "1.2.0",
      "_model_name": "LayoutModel",
      "_view_count": null,
      "_view_module": "@jupyter-widgets/base",
      "_view_module_version": "1.2.0",
      "_view_name": "LayoutView",
      "align_content": null,
      "align_items": null,
      "align_self": null,
      "border": null,
      "bottom": null,
      "display": null,
      "flex": null,
      "flex_flow": null,
      "grid_area": null,
      "grid_auto_columns": null,
      "grid_auto_flow": null,
      "grid_auto_rows": null,
      "grid_column": null,
      "grid_gap": null,
      "grid_row": null,
      "grid_template_areas": null,
      "grid_template_columns": null,
      "grid_template_rows": null,
      "height": null,
      "justify_content": null,
      "justify_items": null,
      "left": null,
      "margin": null,
      "max_height": null,
      "max_width": null,
      "min_height": null,
      "min_width": null,
      "object_fit": null,
      "object_position": null,
      "order": null,
      "overflow": null,
      "overflow_x": null,
      "overflow_y": null,
      "padding": null,
      "right": null,
      "top": null,
      "visibility": null,
      "width": null
     }
    },
    "95ce1e8b7a1742b6b0adc65e3982bcce": {
     "model_module": "@jupyter-widgets/controls",
     "model_name": "FloatProgressModel",
     "state": {
      "_dom_classes": [],
      "_model_module": "@jupyter-widgets/controls",
      "_model_module_version": "1.5.0",
      "_model_name": "FloatProgressModel",
      "_view_count": null,
      "_view_module": "@jupyter-widgets/controls",
      "_view_module_version": "1.5.0",
      "_view_name": "ProgressView",
      "bar_style": "success",
      "description": "Downloading: 100%",
      "description_tooltip": null,
      "layout": "IPY_MODEL_26df443d7b7645c8acbd6ffa53510b00",
      "max": 26,
      "min": 0,
      "orientation": "horizontal",
      "style": "IPY_MODEL_b8450d9f9ba947cdb05a8e717a964f96",
      "value": 26
     }
    },
    "969e60239d1e4055858669e7ba756cef": {
     "model_module": "@jupyter-widgets/controls",
     "model_name": "DescriptionStyleModel",
     "state": {
      "_model_module": "@jupyter-widgets/controls",
      "_model_module_version": "1.5.0",
      "_model_name": "DescriptionStyleModel",
      "_view_count": null,
      "_view_module": "@jupyter-widgets/base",
      "_view_module_version": "1.2.0",
      "_view_name": "StyleView",
      "description_width": ""
     }
    },
    "9757fe3eda5e415f92d4c7770ccbf77a": {
     "model_module": "@jupyter-widgets/base",
     "model_name": "LayoutModel",
     "state": {
      "_model_module": "@jupyter-widgets/base",
      "_model_module_version": "1.2.0",
      "_model_name": "LayoutModel",
      "_view_count": null,
      "_view_module": "@jupyter-widgets/base",
      "_view_module_version": "1.2.0",
      "_view_name": "LayoutView",
      "align_content": null,
      "align_items": null,
      "align_self": null,
      "border": null,
      "bottom": null,
      "display": null,
      "flex": null,
      "flex_flow": null,
      "grid_area": null,
      "grid_auto_columns": null,
      "grid_auto_flow": null,
      "grid_auto_rows": null,
      "grid_column": null,
      "grid_gap": null,
      "grid_row": null,
      "grid_template_areas": null,
      "grid_template_columns": null,
      "grid_template_rows": null,
      "height": null,
      "justify_content": null,
      "justify_items": null,
      "left": null,
      "margin": null,
      "max_height": null,
      "max_width": null,
      "min_height": null,
      "min_width": null,
      "object_fit": null,
      "object_position": null,
      "order": null,
      "overflow": null,
      "overflow_x": null,
      "overflow_y": null,
      "padding": null,
      "right": null,
      "top": null,
      "visibility": null,
      "width": null
     }
    },
    "97c2ec39597a4a2b8df32609aa1e8a16": {
     "model_module": "@jupyter-widgets/base",
     "model_name": "LayoutModel",
     "state": {
      "_model_module": "@jupyter-widgets/base",
      "_model_module_version": "1.2.0",
      "_model_name": "LayoutModel",
      "_view_count": null,
      "_view_module": "@jupyter-widgets/base",
      "_view_module_version": "1.2.0",
      "_view_name": "LayoutView",
      "align_content": null,
      "align_items": null,
      "align_self": null,
      "border": null,
      "bottom": null,
      "display": null,
      "flex": null,
      "flex_flow": null,
      "grid_area": null,
      "grid_auto_columns": null,
      "grid_auto_flow": null,
      "grid_auto_rows": null,
      "grid_column": null,
      "grid_gap": null,
      "grid_row": null,
      "grid_template_areas": null,
      "grid_template_columns": null,
      "grid_template_rows": null,
      "height": null,
      "justify_content": null,
      "justify_items": null,
      "left": null,
      "margin": null,
      "max_height": null,
      "max_width": null,
      "min_height": null,
      "min_width": null,
      "object_fit": null,
      "object_position": null,
      "order": null,
      "overflow": null,
      "overflow_x": null,
      "overflow_y": null,
      "padding": null,
      "right": null,
      "top": null,
      "visibility": null,
      "width": null
     }
    },
    "9825a71f8da7425896248e608276ae61": {
     "model_module": "@jupyter-widgets/controls",
     "model_name": "DescriptionStyleModel",
     "state": {
      "_model_module": "@jupyter-widgets/controls",
      "_model_module_version": "1.5.0",
      "_model_name": "DescriptionStyleModel",
      "_view_count": null,
      "_view_module": "@jupyter-widgets/base",
      "_view_module_version": "1.2.0",
      "_view_name": "StyleView",
      "description_width": ""
     }
    },
    "989a8b9532cd43bb89bc47270dee1e35": {
     "model_module": "@jupyter-widgets/controls",
     "model_name": "DescriptionStyleModel",
     "state": {
      "_model_module": "@jupyter-widgets/controls",
      "_model_module_version": "1.5.0",
      "_model_name": "DescriptionStyleModel",
      "_view_count": null,
      "_view_module": "@jupyter-widgets/base",
      "_view_module_version": "1.2.0",
      "_view_name": "StyleView",
      "description_width": ""
     }
    },
    "9a8d1350159f435d8133c11eceafd70b": {
     "model_module": "@jupyter-widgets/base",
     "model_name": "LayoutModel",
     "state": {
      "_model_module": "@jupyter-widgets/base",
      "_model_module_version": "1.2.0",
      "_model_name": "LayoutModel",
      "_view_count": null,
      "_view_module": "@jupyter-widgets/base",
      "_view_module_version": "1.2.0",
      "_view_name": "LayoutView",
      "align_content": null,
      "align_items": null,
      "align_self": null,
      "border": null,
      "bottom": null,
      "display": null,
      "flex": null,
      "flex_flow": null,
      "grid_area": null,
      "grid_auto_columns": null,
      "grid_auto_flow": null,
      "grid_auto_rows": null,
      "grid_column": null,
      "grid_gap": null,
      "grid_row": null,
      "grid_template_areas": null,
      "grid_template_columns": null,
      "grid_template_rows": null,
      "height": null,
      "justify_content": null,
      "justify_items": null,
      "left": null,
      "margin": null,
      "max_height": null,
      "max_width": null,
      "min_height": null,
      "min_width": null,
      "object_fit": null,
      "object_position": null,
      "order": null,
      "overflow": null,
      "overflow_x": null,
      "overflow_y": null,
      "padding": null,
      "right": null,
      "top": null,
      "visibility": null,
      "width": null
     }
    },
    "9b35197093624e7baf2aea0f9ffef8cb": {
     "model_module": "@jupyter-widgets/controls",
     "model_name": "HTMLModel",
     "state": {
      "_dom_classes": [],
      "_model_module": "@jupyter-widgets/controls",
      "_model_module_version": "1.5.0",
      "_model_name": "HTMLModel",
      "_view_count": null,
      "_view_module": "@jupyter-widgets/controls",
      "_view_module_version": "1.5.0",
      "_view_name": "HTMLView",
      "description": "",
      "description_tooltip": null,
      "layout": "IPY_MODEL_cc6d9b958c4942e4a26d7e76ecade8e6",
      "placeholder": "​",
      "style": "IPY_MODEL_baa5603b238847239c59ed9e17f24f64",
      "value": " 665/665 [00:00&lt;00:00, 670B/s]"
     }
    },
    "9bdf6adf9be74d03b4e986f1194fa7e8": {
     "model_module": "@jupyter-widgets/base",
     "model_name": "LayoutModel",
     "state": {
      "_model_module": "@jupyter-widgets/base",
      "_model_module_version": "1.2.0",
      "_model_name": "LayoutModel",
      "_view_count": null,
      "_view_module": "@jupyter-widgets/base",
      "_view_module_version": "1.2.0",
      "_view_name": "LayoutView",
      "align_content": null,
      "align_items": null,
      "align_self": null,
      "border": null,
      "bottom": null,
      "display": null,
      "flex": null,
      "flex_flow": null,
      "grid_area": null,
      "grid_auto_columns": null,
      "grid_auto_flow": null,
      "grid_auto_rows": null,
      "grid_column": null,
      "grid_gap": null,
      "grid_row": null,
      "grid_template_areas": null,
      "grid_template_columns": null,
      "grid_template_rows": null,
      "height": null,
      "justify_content": null,
      "justify_items": null,
      "left": null,
      "margin": null,
      "max_height": null,
      "max_width": null,
      "min_height": null,
      "min_width": null,
      "object_fit": null,
      "object_position": null,
      "order": null,
      "overflow": null,
      "overflow_x": null,
      "overflow_y": null,
      "padding": null,
      "right": null,
      "top": null,
      "visibility": null,
      "width": null
     }
    },
    "9c96bdd6b37e47d985e99b7ff31b9ffb": {
     "model_module": "@jupyter-widgets/controls",
     "model_name": "ProgressStyleModel",
     "state": {
      "_model_module": "@jupyter-widgets/controls",
      "_model_module_version": "1.5.0",
      "_model_name": "ProgressStyleModel",
      "_view_count": null,
      "_view_module": "@jupyter-widgets/base",
      "_view_module_version": "1.2.0",
      "_view_name": "StyleView",
      "bar_color": null,
      "description_width": "initial"
     }
    },
    "9d2bb106292b4d8bbea0154315a759b9": {
     "model_module": "@jupyter-widgets/controls",
     "model_name": "ProgressStyleModel",
     "state": {
      "_model_module": "@jupyter-widgets/controls",
      "_model_module_version": "1.5.0",
      "_model_name": "ProgressStyleModel",
      "_view_count": null,
      "_view_module": "@jupyter-widgets/base",
      "_view_module_version": "1.2.0",
      "_view_name": "StyleView",
      "bar_color": null,
      "description_width": "initial"
     }
    },
    "9e19d05ec354464bb09c696e9bb0487e": {
     "model_module": "@jupyter-widgets/controls",
     "model_name": "FloatProgressModel",
     "state": {
      "_dom_classes": [],
      "_model_module": "@jupyter-widgets/controls",
      "_model_module_version": "1.5.0",
      "_model_name": "FloatProgressModel",
      "_view_count": null,
      "_view_module": "@jupyter-widgets/controls",
      "_view_module_version": "1.5.0",
      "_view_name": "ProgressView",
      "bar_style": "success",
      "description": "Downloading: 100%",
      "description_tooltip": null,
      "layout": "IPY_MODEL_fb03daedca36485598fe337e67709685",
      "max": 1222317369,
      "min": 0,
      "orientation": "horizontal",
      "style": "IPY_MODEL_f91d9186d93043dba64114b3b7eb60e8",
      "value": 1222317369
     }
    },
    "9e1e992178dc4a28aea0ae2943f645c0": {
     "model_module": "@jupyter-widgets/controls",
     "model_name": "HTMLModel",
     "state": {
      "_dom_classes": [],
      "_model_module": "@jupyter-widgets/controls",
      "_model_module_version": "1.5.0",
      "_model_name": "HTMLModel",
      "_view_count": null,
      "_view_module": "@jupyter-widgets/controls",
      "_view_module_version": "1.5.0",
      "_view_name": "HTMLView",
      "description": "",
      "description_tooltip": null,
      "layout": "IPY_MODEL_9757fe3eda5e415f92d4c7770ccbf77a",
      "placeholder": "​",
      "style": "IPY_MODEL_372a52cf96224606ac91536b3c66633f",
      "value": " 232k/232k [00:01&lt;00:00, 185kB/s]"
     }
    },
    "9e815b859537476390b94a9eff58197f": {
     "model_module": "@jupyter-widgets/controls",
     "model_name": "HBoxModel",
     "state": {
      "_dom_classes": [],
      "_model_module": "@jupyter-widgets/controls",
      "_model_module_version": "1.5.0",
      "_model_name": "HBoxModel",
      "_view_count": null,
      "_view_module": "@jupyter-widgets/controls",
      "_view_module_version": "1.5.0",
      "_view_name": "HBoxView",
      "box_style": "",
      "children": [
       "IPY_MODEL_4325afbed9f7463ebebb4adb945c1257",
       "IPY_MODEL_4345ddf615f14df08d84cd1389116786"
      ],
      "layout": "IPY_MODEL_0c0d320e021a40fc94ec53c4b2c23ae9"
     }
    },
    "9fe34a2700234e16bac940b2b3916b51": {
     "model_module": "@jupyter-widgets/base",
     "model_name": "LayoutModel",
     "state": {
      "_model_module": "@jupyter-widgets/base",
      "_model_module_version": "1.2.0",
      "_model_name": "LayoutModel",
      "_view_count": null,
      "_view_module": "@jupyter-widgets/base",
      "_view_module_version": "1.2.0",
      "_view_name": "LayoutView",
      "align_content": null,
      "align_items": null,
      "align_self": null,
      "border": null,
      "bottom": null,
      "display": null,
      "flex": null,
      "flex_flow": null,
      "grid_area": null,
      "grid_auto_columns": null,
      "grid_auto_flow": null,
      "grid_auto_rows": null,
      "grid_column": null,
      "grid_gap": null,
      "grid_row": null,
      "grid_template_areas": null,
      "grid_template_columns": null,
      "grid_template_rows": null,
      "height": null,
      "justify_content": null,
      "justify_items": null,
      "left": null,
      "margin": null,
      "max_height": null,
      "max_width": null,
      "min_height": null,
      "min_width": null,
      "object_fit": null,
      "object_position": null,
      "order": null,
      "overflow": null,
      "overflow_x": null,
      "overflow_y": null,
      "padding": null,
      "right": null,
      "top": null,
      "visibility": null,
      "width": null
     }
    },
    "a0002ad227b448fcbc4ce014c25df34d": {
     "model_module": "@jupyter-widgets/controls",
     "model_name": "HBoxModel",
     "state": {
      "_dom_classes": [],
      "_model_module": "@jupyter-widgets/controls",
      "_model_module_version": "1.5.0",
      "_model_name": "HBoxModel",
      "_view_count": null,
      "_view_module": "@jupyter-widgets/controls",
      "_view_module_version": "1.5.0",
      "_view_name": "HBoxView",
      "box_style": "",
      "children": [
       "IPY_MODEL_62fc1eb504624ebc96bf17f8f2d87452",
       "IPY_MODEL_4ef8d92f2b6a4f5ab8a60f2b300686eb"
      ],
      "layout": "IPY_MODEL_d5063035a2d64b09824dfc33cfc013dd"
     }
    },
    "a12142496bdb4dc08feec1126cd35ef9": {
     "model_module": "@jupyter-widgets/base",
     "model_name": "LayoutModel",
     "state": {
      "_model_module": "@jupyter-widgets/base",
      "_model_module_version": "1.2.0",
      "_model_name": "LayoutModel",
      "_view_count": null,
      "_view_module": "@jupyter-widgets/base",
      "_view_module_version": "1.2.0",
      "_view_name": "LayoutView",
      "align_content": null,
      "align_items": null,
      "align_self": null,
      "border": null,
      "bottom": null,
      "display": null,
      "flex": null,
      "flex_flow": null,
      "grid_area": null,
      "grid_auto_columns": null,
      "grid_auto_flow": null,
      "grid_auto_rows": null,
      "grid_column": null,
      "grid_gap": null,
      "grid_row": null,
      "grid_template_areas": null,
      "grid_template_columns": null,
      "grid_template_rows": null,
      "height": null,
      "justify_content": null,
      "justify_items": null,
      "left": null,
      "margin": null,
      "max_height": null,
      "max_width": null,
      "min_height": null,
      "min_width": null,
      "object_fit": null,
      "object_position": null,
      "order": null,
      "overflow": null,
      "overflow_x": null,
      "overflow_y": null,
      "padding": null,
      "right": null,
      "top": null,
      "visibility": null,
      "width": null
     }
    },
    "a38eb93c2af741a1b7e041311c690529": {
     "model_module": "@jupyter-widgets/controls",
     "model_name": "ProgressStyleModel",
     "state": {
      "_model_module": "@jupyter-widgets/controls",
      "_model_module_version": "1.5.0",
      "_model_name": "ProgressStyleModel",
      "_view_count": null,
      "_view_module": "@jupyter-widgets/base",
      "_view_module_version": "1.2.0",
      "_view_name": "StyleView",
      "bar_color": null,
      "description_width": "initial"
     }
    },
    "a6f924a9b89847f2bab4e79443cc6e72": {
     "model_module": "@jupyter-widgets/base",
     "model_name": "LayoutModel",
     "state": {
      "_model_module": "@jupyter-widgets/base",
      "_model_module_version": "1.2.0",
      "_model_name": "LayoutModel",
      "_view_count": null,
      "_view_module": "@jupyter-widgets/base",
      "_view_module_version": "1.2.0",
      "_view_name": "LayoutView",
      "align_content": null,
      "align_items": null,
      "align_self": null,
      "border": null,
      "bottom": null,
      "display": null,
      "flex": null,
      "flex_flow": null,
      "grid_area": null,
      "grid_auto_columns": null,
      "grid_auto_flow": null,
      "grid_auto_rows": null,
      "grid_column": null,
      "grid_gap": null,
      "grid_row": null,
      "grid_template_areas": null,
      "grid_template_columns": null,
      "grid_template_rows": null,
      "height": null,
      "justify_content": null,
      "justify_items": null,
      "left": null,
      "margin": null,
      "max_height": null,
      "max_width": null,
      "min_height": null,
      "min_width": null,
      "object_fit": null,
      "object_position": null,
      "order": null,
      "overflow": null,
      "overflow_x": null,
      "overflow_y": null,
      "padding": null,
      "right": null,
      "top": null,
      "visibility": null,
      "width": null
     }
    },
    "a7277978f85b4ed7bcc2026bd27291d7": {
     "model_module": "@jupyter-widgets/base",
     "model_name": "LayoutModel",
     "state": {
      "_model_module": "@jupyter-widgets/base",
      "_model_module_version": "1.2.0",
      "_model_name": "LayoutModel",
      "_view_count": null,
      "_view_module": "@jupyter-widgets/base",
      "_view_module_version": "1.2.0",
      "_view_name": "LayoutView",
      "align_content": null,
      "align_items": null,
      "align_self": null,
      "border": null,
      "bottom": null,
      "display": null,
      "flex": null,
      "flex_flow": null,
      "grid_area": null,
      "grid_auto_columns": null,
      "grid_auto_flow": null,
      "grid_auto_rows": null,
      "grid_column": null,
      "grid_gap": null,
      "grid_row": null,
      "grid_template_areas": null,
      "grid_template_columns": null,
      "grid_template_rows": null,
      "height": null,
      "justify_content": null,
      "justify_items": null,
      "left": null,
      "margin": null,
      "max_height": null,
      "max_width": null,
      "min_height": null,
      "min_width": null,
      "object_fit": null,
      "object_position": null,
      "order": null,
      "overflow": null,
      "overflow_x": null,
      "overflow_y": null,
      "padding": null,
      "right": null,
      "top": null,
      "visibility": null,
      "width": null
     }
    },
    "a7a37f4036184cd38bbb6e539e251650": {
     "model_module": "@jupyter-widgets/controls",
     "model_name": "HTMLModel",
     "state": {
      "_dom_classes": [],
      "_model_module": "@jupyter-widgets/controls",
      "_model_module_version": "1.5.0",
      "_model_name": "HTMLModel",
      "_view_count": null,
      "_view_module": "@jupyter-widgets/controls",
      "_view_module_version": "1.5.0",
      "_view_name": "HTMLView",
      "description": "",
      "description_tooltip": null,
      "layout": "IPY_MODEL_1b699ff009984d44b8a07e672c769a8d",
      "placeholder": "​",
      "style": "IPY_MODEL_281463ea32e54905a0f1016705808c4d",
      "value": " 230/230 [00:01&lt;00:00, 140B/s]"
     }
    },
    "ad01f0008cd84adca4896d39f0169e3a": {
     "model_module": "@jupyter-widgets/base",
     "model_name": "LayoutModel",
     "state": {
      "_model_module": "@jupyter-widgets/base",
      "_model_module_version": "1.2.0",
      "_model_name": "LayoutModel",
      "_view_count": null,
      "_view_module": "@jupyter-widgets/base",
      "_view_module_version": "1.2.0",
      "_view_name": "LayoutView",
      "align_content": null,
      "align_items": null,
      "align_self": null,
      "border": null,
      "bottom": null,
      "display": null,
      "flex": null,
      "flex_flow": null,
      "grid_area": null,
      "grid_auto_columns": null,
      "grid_auto_flow": null,
      "grid_auto_rows": null,
      "grid_column": null,
      "grid_gap": null,
      "grid_row": null,
      "grid_template_areas": null,
      "grid_template_columns": null,
      "grid_template_rows": null,
      "height": null,
      "justify_content": null,
      "justify_items": null,
      "left": null,
      "margin": null,
      "max_height": null,
      "max_width": null,
      "min_height": null,
      "min_width": null,
      "object_fit": null,
      "object_position": null,
      "order": null,
      "overflow": null,
      "overflow_x": null,
      "overflow_y": null,
      "padding": null,
      "right": null,
      "top": null,
      "visibility": null,
      "width": null
     }
    },
    "b1577ecfc7654a319e210a792b403384": {
     "model_module": "@jupyter-widgets/controls",
     "model_name": "HTMLModel",
     "state": {
      "_dom_classes": [],
      "_model_module": "@jupyter-widgets/controls",
      "_model_module_version": "1.5.0",
      "_model_name": "HTMLModel",
      "_view_count": null,
      "_view_module": "@jupyter-widgets/controls",
      "_view_module_version": "1.5.0",
      "_view_name": "HTMLView",
      "description": "",
      "description_tooltip": null,
      "layout": "IPY_MODEL_ce93d3cde8e0449d97da29d338305dc2",
      "placeholder": "​",
      "style": "IPY_MODEL_204a364f6400444baf54a2dd52a2fd16",
      "value": " 1.04M/1.04M [00:01&lt;00:00, 594kB/s]"
     }
    },
    "b231551b5d14479cbd7f741da2e2672f": {
     "model_module": "@jupyter-widgets/base",
     "model_name": "LayoutModel",
     "state": {
      "_model_module": "@jupyter-widgets/base",
      "_model_module_version": "1.2.0",
      "_model_name": "LayoutModel",
      "_view_count": null,
      "_view_module": "@jupyter-widgets/base",
      "_view_module_version": "1.2.0",
      "_view_name": "LayoutView",
      "align_content": null,
      "align_items": null,
      "align_self": null,
      "border": null,
      "bottom": null,
      "display": null,
      "flex": null,
      "flex_flow": null,
      "grid_area": null,
      "grid_auto_columns": null,
      "grid_auto_flow": null,
      "grid_auto_rows": null,
      "grid_column": null,
      "grid_gap": null,
      "grid_row": null,
      "grid_template_areas": null,
      "grid_template_columns": null,
      "grid_template_rows": null,
      "height": null,
      "justify_content": null,
      "justify_items": null,
      "left": null,
      "margin": null,
      "max_height": null,
      "max_width": null,
      "min_height": null,
      "min_width": null,
      "object_fit": null,
      "object_position": null,
      "order": null,
      "overflow": null,
      "overflow_x": null,
      "overflow_y": null,
      "padding": null,
      "right": null,
      "top": null,
      "visibility": null,
      "width": null
     }
    },
    "b6cb5309e97d48b092662e098f59bf08": {
     "model_module": "@jupyter-widgets/controls",
     "model_name": "HBoxModel",
     "state": {
      "_dom_classes": [],
      "_model_module": "@jupyter-widgets/controls",
      "_model_module_version": "1.5.0",
      "_model_name": "HBoxModel",
      "_view_count": null,
      "_view_module": "@jupyter-widgets/controls",
      "_view_module_version": "1.5.0",
      "_view_name": "HBoxView",
      "box_style": "",
      "children": [
       "IPY_MODEL_21b94d40a7de45a083278484183252bc",
       "IPY_MODEL_1ae5a6c4aa2b446fbd841d7c4ea3e2b5"
      ],
      "layout": "IPY_MODEL_a7277978f85b4ed7bcc2026bd27291d7"
     }
    },
    "b78be6eb1a6b42318d5ba55179acd9e3": {
     "model_module": "@jupyter-widgets/controls",
     "model_name": "DescriptionStyleModel",
     "state": {
      "_model_module": "@jupyter-widgets/controls",
      "_model_module_version": "1.5.0",
      "_model_name": "DescriptionStyleModel",
      "_view_count": null,
      "_view_module": "@jupyter-widgets/base",
      "_view_module_version": "1.2.0",
      "_view_name": "StyleView",
      "description_width": ""
     }
    },
    "b8450d9f9ba947cdb05a8e717a964f96": {
     "model_module": "@jupyter-widgets/controls",
     "model_name": "ProgressStyleModel",
     "state": {
      "_model_module": "@jupyter-widgets/controls",
      "_model_module_version": "1.5.0",
      "_model_name": "ProgressStyleModel",
      "_view_count": null,
      "_view_module": "@jupyter-widgets/base",
      "_view_module_version": "1.2.0",
      "_view_name": "StyleView",
      "bar_color": null,
      "description_width": "initial"
     }
    },
    "b8471a09a5fc4bef908205f0319ddc1a": {
     "model_module": "@jupyter-widgets/controls",
     "model_name": "DescriptionStyleModel",
     "state": {
      "_model_module": "@jupyter-widgets/controls",
      "_model_module_version": "1.5.0",
      "_model_name": "DescriptionStyleModel",
      "_view_count": null,
      "_view_module": "@jupyter-widgets/base",
      "_view_module_version": "1.2.0",
      "_view_name": "StyleView",
      "description_width": ""
     }
    },
    "baa5603b238847239c59ed9e17f24f64": {
     "model_module": "@jupyter-widgets/controls",
     "model_name": "DescriptionStyleModel",
     "state": {
      "_model_module": "@jupyter-widgets/controls",
      "_model_module_version": "1.5.0",
      "_model_name": "DescriptionStyleModel",
      "_view_count": null,
      "_view_module": "@jupyter-widgets/base",
      "_view_module_version": "1.2.0",
      "_view_name": "StyleView",
      "description_width": ""
     }
    },
    "bae7ca28db0949a8b749e1f94e5b12e6": {
     "model_module": "@jupyter-widgets/controls",
     "model_name": "FloatProgressModel",
     "state": {
      "_dom_classes": [],
      "_model_module": "@jupyter-widgets/controls",
      "_model_module_version": "1.5.0",
      "_model_name": "FloatProgressModel",
      "_view_count": null,
      "_view_module": "@jupyter-widgets/controls",
      "_view_module_version": "1.5.0",
      "_view_name": "ProgressView",
      "bar_style": "success",
      "description": "Downloading: 100%",
      "description_tooltip": null,
      "layout": "IPY_MODEL_c3145fa206854f26beff21ccbd95808c",
      "max": 260793700,
      "min": 0,
      "orientation": "horizontal",
      "style": "IPY_MODEL_09e84e2b7b24405ba3f2a4cd43bc3fc2",
      "value": 260793700
     }
    },
    "bc99f3fd8eea4149af1c8ff82578a3f0": {
     "model_module": "@jupyter-widgets/controls",
     "model_name": "HTMLModel",
     "state": {
      "_dom_classes": [],
      "_model_module": "@jupyter-widgets/controls",
      "_model_module_version": "1.5.0",
      "_model_name": "HTMLModel",
      "_view_count": null,
      "_view_module": "@jupyter-widgets/controls",
      "_view_module_version": "1.5.0",
      "_view_name": "HTMLView",
      "description": "",
      "description_tooltip": null,
      "layout": "IPY_MODEL_ee63e6bd46e6419e8aff291f292a3083",
      "placeholder": "​",
      "style": "IPY_MODEL_80a74b4098b440dc9260f1e2b1e39b0e",
      "value": " 899k/899k [00:02&lt;00:00, 408kB/s]"
     }
    },
    "bf1e6638b5dc44dbbc72ae5695d8f204": {
     "model_module": "@jupyter-widgets/controls",
     "model_name": "HTMLModel",
     "state": {
      "_dom_classes": [],
      "_model_module": "@jupyter-widgets/controls",
      "_model_module_version": "1.5.0",
      "_model_name": "HTMLModel",
      "_view_count": null,
      "_view_module": "@jupyter-widgets/controls",
      "_view_module_version": "1.5.0",
      "_view_name": "HTMLView",
      "description": "",
      "description_tooltip": null,
      "layout": "IPY_MODEL_1ea30a2c33434160957f4fdd535686b0",
      "placeholder": "​",
      "style": "IPY_MODEL_5b5532f61e054884a8b29e2d480a8906",
      "value": " 456k/456k [00:01&lt;00:00, 334kB/s]"
     }
    },
    "bfbef03e393b4f258fb2ed7f487c2bba": {
     "model_module": "@jupyter-widgets/controls",
     "model_name": "HTMLModel",
     "state": {
      "_dom_classes": [],
      "_model_module": "@jupyter-widgets/controls",
      "_model_module_version": "1.5.0",
      "_model_name": "HTMLModel",
      "_view_count": null,
      "_view_module": "@jupyter-widgets/controls",
      "_view_module_version": "1.5.0",
      "_view_name": "HTMLView",
      "description": "",
      "description_tooltip": null,
      "layout": "IPY_MODEL_521441ca29094734ade05d40d80b183d",
      "placeholder": "​",
      "style": "IPY_MODEL_c6b0a7a105cf4eb18d3d680667032418",
      "value": " 26.0/26.0 [00:00&lt;00:00, 267B/s]"
     }
    },
    "c004dad262114153925af5ffa13f84eb": {
     "model_module": "@jupyter-widgets/controls",
     "model_name": "FloatProgressModel",
     "state": {
      "_dom_classes": [],
      "_model_module": "@jupyter-widgets/controls",
      "_model_module_version": "1.5.0",
      "_model_name": "FloatProgressModel",
      "_view_count": null,
      "_view_module": "@jupyter-widgets/controls",
      "_view_module_version": "1.5.0",
      "_view_name": "ProgressView",
      "bar_style": "success",
      "description": "Downloading: 100%",
      "description_tooltip": null,
      "layout": "IPY_MODEL_033f3e0053c3427aa43201858c168408",
      "max": 267844284,
      "min": 0,
      "orientation": "horizontal",
      "style": "IPY_MODEL_6bdc4417d8674294b7ba77d929b769e3",
      "value": 267844284
     }
    },
    "c0954692847f48ef832bb95a07598422": {
     "model_module": "@jupyter-widgets/controls",
     "model_name": "HTMLModel",
     "state": {
      "_dom_classes": [],
      "_model_module": "@jupyter-widgets/controls",
      "_model_module_version": "1.5.0",
      "_model_name": "HTMLModel",
      "_view_count": null,
      "_view_module": "@jupyter-widgets/controls",
      "_view_module_version": "1.5.0",
      "_view_name": "HTMLView",
      "description": "",
      "description_tooltip": null,
      "layout": "IPY_MODEL_4f397fa027134568b687d7bbe310cd95",
      "placeholder": "​",
      "style": "IPY_MODEL_223e5f372d114d27a77962c5e2740623",
      "value": " 548M/548M [00:22&lt;00:00, 24.6MB/s]"
     }
    },
    "c151a3907a1b47fb997f84912abfd86d": {
     "model_module": "@jupyter-widgets/controls",
     "model_name": "DescriptionStyleModel",
     "state": {
      "_model_module": "@jupyter-widgets/controls",
      "_model_module_version": "1.5.0",
      "_model_name": "DescriptionStyleModel",
      "_view_count": null,
      "_view_module": "@jupyter-widgets/base",
      "_view_module_version": "1.2.0",
      "_view_name": "StyleView",
      "description_width": ""
     }
    },
    "c262a53bf11248cd975be343e64730f6": {
     "model_module": "@jupyter-widgets/controls",
     "model_name": "HBoxModel",
     "state": {
      "_dom_classes": [],
      "_model_module": "@jupyter-widgets/controls",
      "_model_module_version": "1.5.0",
      "_model_name": "HBoxModel",
      "_view_count": null,
      "_view_module": "@jupyter-widgets/controls",
      "_view_module_version": "1.5.0",
      "_view_name": "HBoxView",
      "box_style": "",
      "children": [
       "IPY_MODEL_0ef5eb90d0fc46a9b8e2b8536afa4750",
       "IPY_MODEL_cf53afad1c34420280cc6cd719add3ea"
      ],
      "layout": "IPY_MODEL_e7e7e12415e240e58d9cd796e741ab93"
     }
    },
    "c290ef1b28594f66a1f1fd88393f49e1": {
     "model_module": "@jupyter-widgets/base",
     "model_name": "LayoutModel",
     "state": {
      "_model_module": "@jupyter-widgets/base",
      "_model_module_version": "1.2.0",
      "_model_name": "LayoutModel",
      "_view_count": null,
      "_view_module": "@jupyter-widgets/base",
      "_view_module_version": "1.2.0",
      "_view_name": "LayoutView",
      "align_content": null,
      "align_items": null,
      "align_self": null,
      "border": null,
      "bottom": null,
      "display": null,
      "flex": null,
      "flex_flow": null,
      "grid_area": null,
      "grid_auto_columns": null,
      "grid_auto_flow": null,
      "grid_auto_rows": null,
      "grid_column": null,
      "grid_gap": null,
      "grid_row": null,
      "grid_template_areas": null,
      "grid_template_columns": null,
      "grid_template_rows": null,
      "height": null,
      "justify_content": null,
      "justify_items": null,
      "left": null,
      "margin": null,
      "max_height": null,
      "max_width": null,
      "min_height": null,
      "min_width": null,
      "object_fit": null,
      "object_position": null,
      "order": null,
      "overflow": null,
      "overflow_x": null,
      "overflow_y": null,
      "padding": null,
      "right": null,
      "top": null,
      "visibility": null,
      "width": null
     }
    },
    "c3145fa206854f26beff21ccbd95808c": {
     "model_module": "@jupyter-widgets/base",
     "model_name": "LayoutModel",
     "state": {
      "_model_module": "@jupyter-widgets/base",
      "_model_module_version": "1.2.0",
      "_model_name": "LayoutModel",
      "_view_count": null,
      "_view_module": "@jupyter-widgets/base",
      "_view_module_version": "1.2.0",
      "_view_name": "LayoutView",
      "align_content": null,
      "align_items": null,
      "align_self": null,
      "border": null,
      "bottom": null,
      "display": null,
      "flex": null,
      "flex_flow": null,
      "grid_area": null,
      "grid_auto_columns": null,
      "grid_auto_flow": null,
      "grid_auto_rows": null,
      "grid_column": null,
      "grid_gap": null,
      "grid_row": null,
      "grid_template_areas": null,
      "grid_template_columns": null,
      "grid_template_rows": null,
      "height": null,
      "justify_content": null,
      "justify_items": null,
      "left": null,
      "margin": null,
      "max_height": null,
      "max_width": null,
      "min_height": null,
      "min_width": null,
      "object_fit": null,
      "object_position": null,
      "order": null,
      "overflow": null,
      "overflow_x": null,
      "overflow_y": null,
      "padding": null,
      "right": null,
      "top": null,
      "visibility": null,
      "width": null
     }
    },
    "c6b0a7a105cf4eb18d3d680667032418": {
     "model_module": "@jupyter-widgets/controls",
     "model_name": "DescriptionStyleModel",
     "state": {
      "_model_module": "@jupyter-widgets/controls",
      "_model_module_version": "1.5.0",
      "_model_name": "DescriptionStyleModel",
      "_view_count": null,
      "_view_module": "@jupyter-widgets/base",
      "_view_module_version": "1.2.0",
      "_view_name": "StyleView",
      "description_width": ""
     }
    },
    "c6db452bc213453f8ddddfb398e73bf8": {
     "model_module": "@jupyter-widgets/base",
     "model_name": "LayoutModel",
     "state": {
      "_model_module": "@jupyter-widgets/base",
      "_model_module_version": "1.2.0",
      "_model_name": "LayoutModel",
      "_view_count": null,
      "_view_module": "@jupyter-widgets/base",
      "_view_module_version": "1.2.0",
      "_view_name": "LayoutView",
      "align_content": null,
      "align_items": null,
      "align_self": null,
      "border": null,
      "bottom": null,
      "display": null,
      "flex": null,
      "flex_flow": null,
      "grid_area": null,
      "grid_auto_columns": null,
      "grid_auto_flow": null,
      "grid_auto_rows": null,
      "grid_column": null,
      "grid_gap": null,
      "grid_row": null,
      "grid_template_areas": null,
      "grid_template_columns": null,
      "grid_template_rows": null,
      "height": null,
      "justify_content": null,
      "justify_items": null,
      "left": null,
      "margin": null,
      "max_height": null,
      "max_width": null,
      "min_height": null,
      "min_width": null,
      "object_fit": null,
      "object_position": null,
      "order": null,
      "overflow": null,
      "overflow_x": null,
      "overflow_y": null,
      "padding": null,
      "right": null,
      "top": null,
      "visibility": null,
      "width": null
     }
    },
    "c865d21f29a748e6b360a8e2c151b676": {
     "model_module": "@jupyter-widgets/controls",
     "model_name": "HBoxModel",
     "state": {
      "_dom_classes": [],
      "_model_module": "@jupyter-widgets/controls",
      "_model_module_version": "1.5.0",
      "_model_name": "HBoxModel",
      "_view_count": null,
      "_view_module": "@jupyter-widgets/controls",
      "_view_module_version": "1.5.0",
      "_view_name": "HBoxView",
      "box_style": "",
      "children": [
       "IPY_MODEL_c004dad262114153925af5ffa13f84eb",
       "IPY_MODEL_8c7b9873f16e4ddf91c7897de6b18aaf"
      ],
      "layout": "IPY_MODEL_45eeb6cfa68d44c78d9e6e9e09ed29b4"
     }
    },
    "c988cb5791734723b262769ffb1d4a8f": {
     "model_module": "@jupyter-widgets/base",
     "model_name": "LayoutModel",
     "state": {
      "_model_module": "@jupyter-widgets/base",
      "_model_module_version": "1.2.0",
      "_model_name": "LayoutModel",
      "_view_count": null,
      "_view_module": "@jupyter-widgets/base",
      "_view_module_version": "1.2.0",
      "_view_name": "LayoutView",
      "align_content": null,
      "align_items": null,
      "align_self": null,
      "border": null,
      "bottom": null,
      "display": null,
      "flex": null,
      "flex_flow": null,
      "grid_area": null,
      "grid_auto_columns": null,
      "grid_auto_flow": null,
      "grid_auto_rows": null,
      "grid_column": null,
      "grid_gap": null,
      "grid_row": null,
      "grid_template_areas": null,
      "grid_template_columns": null,
      "grid_template_rows": null,
      "height": null,
      "justify_content": null,
      "justify_items": null,
      "left": null,
      "margin": null,
      "max_height": null,
      "max_width": null,
      "min_height": null,
      "min_width": null,
      "object_fit": null,
      "object_position": null,
      "order": null,
      "overflow": null,
      "overflow_x": null,
      "overflow_y": null,
      "padding": null,
      "right": null,
      "top": null,
      "visibility": null,
      "width": null
     }
    },
    "ca1b5481966e402f86e1420210806010": {
     "model_module": "@jupyter-widgets/controls",
     "model_name": "FloatProgressModel",
     "state": {
      "_dom_classes": [],
      "_model_module": "@jupyter-widgets/controls",
      "_model_module_version": "1.5.0",
      "_model_name": "FloatProgressModel",
      "_view_count": null,
      "_view_module": "@jupyter-widgets/controls",
      "_view_module_version": "1.5.0",
      "_view_name": "ProgressView",
      "bar_style": "success",
      "description": "Downloading: 100%",
      "description_tooltip": null,
      "layout": "IPY_MODEL_88d10766d6c74b45b68b626d7ac147a4",
      "max": 230,
      "min": 0,
      "orientation": "horizontal",
      "style": "IPY_MODEL_f81d84801b8b481b807bdd89adabccbc",
      "value": 230
     }
    },
    "cb042101be51435586822e7082ffd346": {
     "model_module": "@jupyter-widgets/base",
     "model_name": "LayoutModel",
     "state": {
      "_model_module": "@jupyter-widgets/base",
      "_model_module_version": "1.2.0",
      "_model_name": "LayoutModel",
      "_view_count": null,
      "_view_module": "@jupyter-widgets/base",
      "_view_module_version": "1.2.0",
      "_view_name": "LayoutView",
      "align_content": null,
      "align_items": null,
      "align_self": null,
      "border": null,
      "bottom": null,
      "display": null,
      "flex": null,
      "flex_flow": null,
      "grid_area": null,
      "grid_auto_columns": null,
      "grid_auto_flow": null,
      "grid_auto_rows": null,
      "grid_column": null,
      "grid_gap": null,
      "grid_row": null,
      "grid_template_areas": null,
      "grid_template_columns": null,
      "grid_template_rows": null,
      "height": null,
      "justify_content": null,
      "justify_items": null,
      "left": null,
      "margin": null,
      "max_height": null,
      "max_width": null,
      "min_height": null,
      "min_width": null,
      "object_fit": null,
      "object_position": null,
      "order": null,
      "overflow": null,
      "overflow_x": null,
      "overflow_y": null,
      "padding": null,
      "right": null,
      "top": null,
      "visibility": null,
      "width": null
     }
    },
    "cc6d9b958c4942e4a26d7e76ecade8e6": {
     "model_module": "@jupyter-widgets/base",
     "model_name": "LayoutModel",
     "state": {
      "_model_module": "@jupyter-widgets/base",
      "_model_module_version": "1.2.0",
      "_model_name": "LayoutModel",
      "_view_count": null,
      "_view_module": "@jupyter-widgets/base",
      "_view_module_version": "1.2.0",
      "_view_name": "LayoutView",
      "align_content": null,
      "align_items": null,
      "align_self": null,
      "border": null,
      "bottom": null,
      "display": null,
      "flex": null,
      "flex_flow": null,
      "grid_area": null,
      "grid_auto_columns": null,
      "grid_auto_flow": null,
      "grid_auto_rows": null,
      "grid_column": null,
      "grid_gap": null,
      "grid_row": null,
      "grid_template_areas": null,
      "grid_template_columns": null,
      "grid_template_rows": null,
      "height": null,
      "justify_content": null,
      "justify_items": null,
      "left": null,
      "margin": null,
      "max_height": null,
      "max_width": null,
      "min_height": null,
      "min_width": null,
      "object_fit": null,
      "object_position": null,
      "order": null,
      "overflow": null,
      "overflow_x": null,
      "overflow_y": null,
      "padding": null,
      "right": null,
      "top": null,
      "visibility": null,
      "width": null
     }
    },
    "ce21bd73dce146869d7e73556a5d768a": {
     "model_module": "@jupyter-widgets/base",
     "model_name": "LayoutModel",
     "state": {
      "_model_module": "@jupyter-widgets/base",
      "_model_module_version": "1.2.0",
      "_model_name": "LayoutModel",
      "_view_count": null,
      "_view_module": "@jupyter-widgets/base",
      "_view_module_version": "1.2.0",
      "_view_name": "LayoutView",
      "align_content": null,
      "align_items": null,
      "align_self": null,
      "border": null,
      "bottom": null,
      "display": null,
      "flex": null,
      "flex_flow": null,
      "grid_area": null,
      "grid_auto_columns": null,
      "grid_auto_flow": null,
      "grid_auto_rows": null,
      "grid_column": null,
      "grid_gap": null,
      "grid_row": null,
      "grid_template_areas": null,
      "grid_template_columns": null,
      "grid_template_rows": null,
      "height": null,
      "justify_content": null,
      "justify_items": null,
      "left": null,
      "margin": null,
      "max_height": null,
      "max_width": null,
      "min_height": null,
      "min_width": null,
      "object_fit": null,
      "object_position": null,
      "order": null,
      "overflow": null,
      "overflow_x": null,
      "overflow_y": null,
      "padding": null,
      "right": null,
      "top": null,
      "visibility": null,
      "width": null
     }
    },
    "ce93d3cde8e0449d97da29d338305dc2": {
     "model_module": "@jupyter-widgets/base",
     "model_name": "LayoutModel",
     "state": {
      "_model_module": "@jupyter-widgets/base",
      "_model_module_version": "1.2.0",
      "_model_name": "LayoutModel",
      "_view_count": null,
      "_view_module": "@jupyter-widgets/base",
      "_view_module_version": "1.2.0",
      "_view_name": "LayoutView",
      "align_content": null,
      "align_items": null,
      "align_self": null,
      "border": null,
      "bottom": null,
      "display": null,
      "flex": null,
      "flex_flow": null,
      "grid_area": null,
      "grid_auto_columns": null,
      "grid_auto_flow": null,
      "grid_auto_rows": null,
      "grid_column": null,
      "grid_gap": null,
      "grid_row": null,
      "grid_template_areas": null,
      "grid_template_columns": null,
      "grid_template_rows": null,
      "height": null,
      "justify_content": null,
      "justify_items": null,
      "left": null,
      "margin": null,
      "max_height": null,
      "max_width": null,
      "min_height": null,
      "min_width": null,
      "object_fit": null,
      "object_position": null,
      "order": null,
      "overflow": null,
      "overflow_x": null,
      "overflow_y": null,
      "padding": null,
      "right": null,
      "top": null,
      "visibility": null,
      "width": null
     }
    },
    "cf53afad1c34420280cc6cd719add3ea": {
     "model_module": "@jupyter-widgets/controls",
     "model_name": "HTMLModel",
     "state": {
      "_dom_classes": [],
      "_model_module": "@jupyter-widgets/controls",
      "_model_module_version": "1.5.0",
      "_model_name": "HTMLModel",
      "_view_count": null,
      "_view_module": "@jupyter-widgets/controls",
      "_view_module_version": "1.5.0",
      "_view_name": "HTMLView",
      "description": "",
      "description_tooltip": null,
      "layout": "IPY_MODEL_14cf0bfb2d3f4ec6b142989fb7d44551",
      "placeholder": "​",
      "style": "IPY_MODEL_668c9c235a4c4f699407b90d20ad98b0",
      "value": " 230/230 [00:01&lt;00:00, 221B/s]"
     }
    },
    "d17901280a67414bb45be6b5f1b8db30": {
     "model_module": "@jupyter-widgets/controls",
     "model_name": "ProgressStyleModel",
     "state": {
      "_model_module": "@jupyter-widgets/controls",
      "_model_module_version": "1.5.0",
      "_model_name": "ProgressStyleModel",
      "_view_count": null,
      "_view_module": "@jupyter-widgets/base",
      "_view_module_version": "1.2.0",
      "_view_name": "StyleView",
      "bar_color": null,
      "description_width": "initial"
     }
    },
    "d1b0e838189d40cea7ec0da695c9e052": {
     "model_module": "@jupyter-widgets/controls",
     "model_name": "DescriptionStyleModel",
     "state": {
      "_model_module": "@jupyter-widgets/controls",
      "_model_module_version": "1.5.0",
      "_model_name": "DescriptionStyleModel",
      "_view_count": null,
      "_view_module": "@jupyter-widgets/base",
      "_view_module_version": "1.2.0",
      "_view_name": "StyleView",
      "description_width": ""
     }
    },
    "d30edb3ce29f4acba482021fcf0c071e": {
     "model_module": "@jupyter-widgets/base",
     "model_name": "LayoutModel",
     "state": {
      "_model_module": "@jupyter-widgets/base",
      "_model_module_version": "1.2.0",
      "_model_name": "LayoutModel",
      "_view_count": null,
      "_view_module": "@jupyter-widgets/base",
      "_view_module_version": "1.2.0",
      "_view_name": "LayoutView",
      "align_content": null,
      "align_items": null,
      "align_self": null,
      "border": null,
      "bottom": null,
      "display": null,
      "flex": null,
      "flex_flow": null,
      "grid_area": null,
      "grid_auto_columns": null,
      "grid_auto_flow": null,
      "grid_auto_rows": null,
      "grid_column": null,
      "grid_gap": null,
      "grid_row": null,
      "grid_template_areas": null,
      "grid_template_columns": null,
      "grid_template_rows": null,
      "height": null,
      "justify_content": null,
      "justify_items": null,
      "left": null,
      "margin": null,
      "max_height": null,
      "max_width": null,
      "min_height": null,
      "min_width": null,
      "object_fit": null,
      "object_position": null,
      "order": null,
      "overflow": null,
      "overflow_x": null,
      "overflow_y": null,
      "padding": null,
      "right": null,
      "top": null,
      "visibility": null,
      "width": null
     }
    },
    "d5063035a2d64b09824dfc33cfc013dd": {
     "model_module": "@jupyter-widgets/base",
     "model_name": "LayoutModel",
     "state": {
      "_model_module": "@jupyter-widgets/base",
      "_model_module_version": "1.2.0",
      "_model_name": "LayoutModel",
      "_view_count": null,
      "_view_module": "@jupyter-widgets/base",
      "_view_module_version": "1.2.0",
      "_view_name": "LayoutView",
      "align_content": null,
      "align_items": null,
      "align_self": null,
      "border": null,
      "bottom": null,
      "display": null,
      "flex": null,
      "flex_flow": null,
      "grid_area": null,
      "grid_auto_columns": null,
      "grid_auto_flow": null,
      "grid_auto_rows": null,
      "grid_column": null,
      "grid_gap": null,
      "grid_row": null,
      "grid_template_areas": null,
      "grid_template_columns": null,
      "grid_template_rows": null,
      "height": null,
      "justify_content": null,
      "justify_items": null,
      "left": null,
      "margin": null,
      "max_height": null,
      "max_width": null,
      "min_height": null,
      "min_width": null,
      "object_fit": null,
      "object_position": null,
      "order": null,
      "overflow": null,
      "overflow_x": null,
      "overflow_y": null,
      "padding": null,
      "right": null,
      "top": null,
      "visibility": null,
      "width": null
     }
    },
    "d68eb237ffc646a9acec6574cd3e88c6": {
     "model_module": "@jupyter-widgets/controls",
     "model_name": "ProgressStyleModel",
     "state": {
      "_model_module": "@jupyter-widgets/controls",
      "_model_module_version": "1.5.0",
      "_model_name": "ProgressStyleModel",
      "_view_count": null,
      "_view_module": "@jupyter-widgets/base",
      "_view_module_version": "1.2.0",
      "_view_name": "StyleView",
      "bar_color": null,
      "description_width": "initial"
     }
    },
    "d8bf4445fb6044c1b8bc705707f2f834": {
     "model_module": "@jupyter-widgets/base",
     "model_name": "LayoutModel",
     "state": {
      "_model_module": "@jupyter-widgets/base",
      "_model_module_version": "1.2.0",
      "_model_name": "LayoutModel",
      "_view_count": null,
      "_view_module": "@jupyter-widgets/base",
      "_view_module_version": "1.2.0",
      "_view_name": "LayoutView",
      "align_content": null,
      "align_items": null,
      "align_self": null,
      "border": null,
      "bottom": null,
      "display": null,
      "flex": null,
      "flex_flow": null,
      "grid_area": null,
      "grid_auto_columns": null,
      "grid_auto_flow": null,
      "grid_auto_rows": null,
      "grid_column": null,
      "grid_gap": null,
      "grid_row": null,
      "grid_template_areas": null,
      "grid_template_columns": null,
      "grid_template_rows": null,
      "height": null,
      "justify_content": null,
      "justify_items": null,
      "left": null,
      "margin": null,
      "max_height": null,
      "max_width": null,
      "min_height": null,
      "min_width": null,
      "object_fit": null,
      "object_position": null,
      "order": null,
      "overflow": null,
      "overflow_x": null,
      "overflow_y": null,
      "padding": null,
      "right": null,
      "top": null,
      "visibility": null,
      "width": null
     }
    },
    "ddd5ccdc731c44e591993a730c520d61": {
     "model_module": "@jupyter-widgets/controls",
     "model_name": "HBoxModel",
     "state": {
      "_dom_classes": [],
      "_model_module": "@jupyter-widgets/controls",
      "_model_module_version": "1.5.0",
      "_model_name": "HBoxModel",
      "_view_count": null,
      "_view_module": "@jupyter-widgets/controls",
      "_view_module_version": "1.5.0",
      "_view_name": "HBoxView",
      "box_style": "",
      "children": [
       "IPY_MODEL_352e152e946c49c2948659bd9bb3b5c5",
       "IPY_MODEL_9e1e992178dc4a28aea0ae2943f645c0"
      ],
      "layout": "IPY_MODEL_49f886c021bc4fc28dc732cfc27b7ebb"
     }
    },
    "e093a3b211be440da45b12e2ca7ccf12": {
     "model_module": "@jupyter-widgets/controls",
     "model_name": "FloatProgressModel",
     "state": {
      "_dom_classes": [],
      "_model_module": "@jupyter-widgets/controls",
      "_model_module_version": "1.5.0",
      "_model_name": "FloatProgressModel",
      "_view_count": null,
      "_view_module": "@jupyter-widgets/controls",
      "_view_module_version": "1.5.0",
      "_view_name": "ProgressView",
      "bar_style": "success",
      "description": "Downloading: 100%",
      "description_tooltip": null,
      "layout": "IPY_MODEL_72587ff2941b462a8e66cf578050c92f",
      "max": 456318,
      "min": 0,
      "orientation": "horizontal",
      "style": "IPY_MODEL_a38eb93c2af741a1b7e041311c690529",
      "value": 456318
     }
    },
    "e10cd52886d44f67b38132468988fc3e": {
     "model_module": "@jupyter-widgets/controls",
     "model_name": "HTMLModel",
     "state": {
      "_dom_classes": [],
      "_model_module": "@jupyter-widgets/controls",
      "_model_module_version": "1.5.0",
      "_model_name": "HTMLModel",
      "_view_count": null,
      "_view_module": "@jupyter-widgets/controls",
      "_view_module_version": "1.5.0",
      "_view_name": "HTMLView",
      "description": "",
      "description_tooltip": null,
      "layout": "IPY_MODEL_821cf5b29a6f4bb791d64f4342e21c59",
      "placeholder": "​",
      "style": "IPY_MODEL_d1b0e838189d40cea7ec0da695c9e052",
      "value": " 473/473 [00:00&lt;00:00, 1.83kB/s]"
     }
    },
    "e1ecc4ed2e48460c8bee6ee8780c0744": {
     "model_module": "@jupyter-widgets/base",
     "model_name": "LayoutModel",
     "state": {
      "_model_module": "@jupyter-widgets/base",
      "_model_module_version": "1.2.0",
      "_model_name": "LayoutModel",
      "_view_count": null,
      "_view_module": "@jupyter-widgets/base",
      "_view_module_version": "1.2.0",
      "_view_name": "LayoutView",
      "align_content": null,
      "align_items": null,
      "align_self": null,
      "border": null,
      "bottom": null,
      "display": null,
      "flex": null,
      "flex_flow": null,
      "grid_area": null,
      "grid_auto_columns": null,
      "grid_auto_flow": null,
      "grid_auto_rows": null,
      "grid_column": null,
      "grid_gap": null,
      "grid_row": null,
      "grid_template_areas": null,
      "grid_template_columns": null,
      "grid_template_rows": null,
      "height": null,
      "justify_content": null,
      "justify_items": null,
      "left": null,
      "margin": null,
      "max_height": null,
      "max_width": null,
      "min_height": null,
      "min_width": null,
      "object_fit": null,
      "object_position": null,
      "order": null,
      "overflow": null,
      "overflow_x": null,
      "overflow_y": null,
      "padding": null,
      "right": null,
      "top": null,
      "visibility": null,
      "width": null
     }
    },
    "e294cc37192f4f70a157b823fb259ac6": {
     "model_module": "@jupyter-widgets/controls",
     "model_name": "HTMLModel",
     "state": {
      "_dom_classes": [],
      "_model_module": "@jupyter-widgets/controls",
      "_model_module_version": "1.5.0",
      "_model_name": "HTMLModel",
      "_view_count": null,
      "_view_module": "@jupyter-widgets/controls",
      "_view_module_version": "1.5.0",
      "_view_name": "HTMLView",
      "description": "",
      "description_tooltip": null,
      "layout": "IPY_MODEL_c988cb5791734723b262769ffb1d4a8f",
      "placeholder": "​",
      "style": "IPY_MODEL_6c82d1ad6e65475d879364ae28b113e8",
      "value": " 1.20k/1.20k [00:35&lt;00:00, 33.8B/s]"
     }
    },
    "e506c3d7bc144a60b94a0d4df09f4c72": {
     "model_module": "@jupyter-widgets/controls",
     "model_name": "FloatProgressModel",
     "state": {
      "_dom_classes": [],
      "_model_module": "@jupyter-widgets/controls",
      "_model_module_version": "1.5.0",
      "_model_name": "FloatProgressModel",
      "_view_count": null,
      "_view_module": "@jupyter-widgets/controls",
      "_view_module_version": "1.5.0",
      "_view_name": "ProgressView",
      "bar_style": "success",
      "description": "Downloading: 100%",
      "description_tooltip": null,
      "layout": "IPY_MODEL_1603208ab31041dfa72960a54b7be569",
      "max": 230,
      "min": 0,
      "orientation": "horizontal",
      "style": "IPY_MODEL_f13bf2af688c429f8275d031df2b8834",
      "value": 230
     }
    },
    "e56f2f6f612a45218037388da3283db5": {
     "model_module": "@jupyter-widgets/controls",
     "model_name": "DescriptionStyleModel",
     "state": {
      "_model_module": "@jupyter-widgets/controls",
      "_model_module_version": "1.5.0",
      "_model_name": "DescriptionStyleModel",
      "_view_count": null,
      "_view_module": "@jupyter-widgets/base",
      "_view_module_version": "1.2.0",
      "_view_name": "StyleView",
      "description_width": ""
     }
    },
    "e585d1d1af23458faf8f27baeb0113f7": {
     "model_module": "@jupyter-widgets/controls",
     "model_name": "DescriptionStyleModel",
     "state": {
      "_model_module": "@jupyter-widgets/controls",
      "_model_module_version": "1.5.0",
      "_model_name": "DescriptionStyleModel",
      "_view_count": null,
      "_view_module": "@jupyter-widgets/base",
      "_view_module_version": "1.2.0",
      "_view_name": "StyleView",
      "description_width": ""
     }
    },
    "e7e7e12415e240e58d9cd796e741ab93": {
     "model_module": "@jupyter-widgets/base",
     "model_name": "LayoutModel",
     "state": {
      "_model_module": "@jupyter-widgets/base",
      "_model_module_version": "1.2.0",
      "_model_name": "LayoutModel",
      "_view_count": null,
      "_view_module": "@jupyter-widgets/base",
      "_view_module_version": "1.2.0",
      "_view_name": "LayoutView",
      "align_content": null,
      "align_items": null,
      "align_self": null,
      "border": null,
      "bottom": null,
      "display": null,
      "flex": null,
      "flex_flow": null,
      "grid_area": null,
      "grid_auto_columns": null,
      "grid_auto_flow": null,
      "grid_auto_rows": null,
      "grid_column": null,
      "grid_gap": null,
      "grid_row": null,
      "grid_template_areas": null,
      "grid_template_columns": null,
      "grid_template_rows": null,
      "height": null,
      "justify_content": null,
      "justify_items": null,
      "left": null,
      "margin": null,
      "max_height": null,
      "max_width": null,
      "min_height": null,
      "min_width": null,
      "object_fit": null,
      "object_position": null,
      "order": null,
      "overflow": null,
      "overflow_x": null,
      "overflow_y": null,
      "padding": null,
      "right": null,
      "top": null,
      "visibility": null,
      "width": null
     }
    },
    "e874133d32734e8387d4ed2be26749d7": {
     "model_module": "@jupyter-widgets/base",
     "model_name": "LayoutModel",
     "state": {
      "_model_module": "@jupyter-widgets/base",
      "_model_module_version": "1.2.0",
      "_model_name": "LayoutModel",
      "_view_count": null,
      "_view_module": "@jupyter-widgets/base",
      "_view_module_version": "1.2.0",
      "_view_name": "LayoutView",
      "align_content": null,
      "align_items": null,
      "align_self": null,
      "border": null,
      "bottom": null,
      "display": null,
      "flex": null,
      "flex_flow": null,
      "grid_area": null,
      "grid_auto_columns": null,
      "grid_auto_flow": null,
      "grid_auto_rows": null,
      "grid_column": null,
      "grid_gap": null,
      "grid_row": null,
      "grid_template_areas": null,
      "grid_template_columns": null,
      "grid_template_rows": null,
      "height": null,
      "justify_content": null,
      "justify_items": null,
      "left": null,
      "margin": null,
      "max_height": null,
      "max_width": null,
      "min_height": null,
      "min_width": null,
      "object_fit": null,
      "object_position": null,
      "order": null,
      "overflow": null,
      "overflow_x": null,
      "overflow_y": null,
      "padding": null,
      "right": null,
      "top": null,
      "visibility": null,
      "width": null
     }
    },
    "ea220d8392ec4c449f9f63c90632d842": {
     "model_module": "@jupyter-widgets/base",
     "model_name": "LayoutModel",
     "state": {
      "_model_module": "@jupyter-widgets/base",
      "_model_module_version": "1.2.0",
      "_model_name": "LayoutModel",
      "_view_count": null,
      "_view_module": "@jupyter-widgets/base",
      "_view_module_version": "1.2.0",
      "_view_name": "LayoutView",
      "align_content": null,
      "align_items": null,
      "align_self": null,
      "border": null,
      "bottom": null,
      "display": null,
      "flex": null,
      "flex_flow": null,
      "grid_area": null,
      "grid_auto_columns": null,
      "grid_auto_flow": null,
      "grid_auto_rows": null,
      "grid_column": null,
      "grid_gap": null,
      "grid_row": null,
      "grid_template_areas": null,
      "grid_template_columns": null,
      "grid_template_rows": null,
      "height": null,
      "justify_content": null,
      "justify_items": null,
      "left": null,
      "margin": null,
      "max_height": null,
      "max_width": null,
      "min_height": null,
      "min_width": null,
      "object_fit": null,
      "object_position": null,
      "order": null,
      "overflow": null,
      "overflow_x": null,
      "overflow_y": null,
      "padding": null,
      "right": null,
      "top": null,
      "visibility": null,
      "width": null
     }
    },
    "eb2139d62b774a4c91e4e3d22c3882a5": {
     "model_module": "@jupyter-widgets/controls",
     "model_name": "FloatProgressModel",
     "state": {
      "_dom_classes": [],
      "_model_module": "@jupyter-widgets/controls",
      "_model_module_version": "1.5.0",
      "_model_name": "FloatProgressModel",
      "_view_count": null,
      "_view_module": "@jupyter-widgets/controls",
      "_view_module_version": "1.5.0",
      "_view_name": "ProgressView",
      "bar_style": "success",
      "description": "Downloading: 100%",
      "description_tooltip": null,
      "layout": "IPY_MODEL_86d8f58e294445428c92ea114652cc25",
      "max": 791656,
      "min": 0,
      "orientation": "horizontal",
      "style": "IPY_MODEL_60b4181d4f884dd1af9d6a1c6785e1e7",
      "value": 791656
     }
    },
    "ee63e6bd46e6419e8aff291f292a3083": {
     "model_module": "@jupyter-widgets/base",
     "model_name": "LayoutModel",
     "state": {
      "_model_module": "@jupyter-widgets/base",
      "_model_module_version": "1.2.0",
      "_model_name": "LayoutModel",
      "_view_count": null,
      "_view_module": "@jupyter-widgets/base",
      "_view_module_version": "1.2.0",
      "_view_name": "LayoutView",
      "align_content": null,
      "align_items": null,
      "align_self": null,
      "border": null,
      "bottom": null,
      "display": null,
      "flex": null,
      "flex_flow": null,
      "grid_area": null,
      "grid_auto_columns": null,
      "grid_auto_flow": null,
      "grid_auto_rows": null,
      "grid_column": null,
      "grid_gap": null,
      "grid_row": null,
      "grid_template_areas": null,
      "grid_template_columns": null,
      "grid_template_rows": null,
      "height": null,
      "justify_content": null,
      "justify_items": null,
      "left": null,
      "margin": null,
      "max_height": null,
      "max_width": null,
      "min_height": null,
      "min_width": null,
      "object_fit": null,
      "object_position": null,
      "order": null,
      "overflow": null,
      "overflow_x": null,
      "overflow_y": null,
      "padding": null,
      "right": null,
      "top": null,
      "visibility": null,
      "width": null
     }
    },
    "ef562db6031449f2bdba55424401fcfe": {
     "model_module": "@jupyter-widgets/controls",
     "model_name": "HTMLModel",
     "state": {
      "_dom_classes": [],
      "_model_module": "@jupyter-widgets/controls",
      "_model_module_version": "1.5.0",
      "_model_name": "HTMLModel",
      "_view_count": null,
      "_view_module": "@jupyter-widgets/controls",
      "_view_module_version": "1.5.0",
      "_view_name": "HTMLView",
      "description": "",
      "description_tooltip": null,
      "layout": "IPY_MODEL_6e6544730a364cd2b6b61b670dfec124",
      "placeholder": "​",
      "style": "IPY_MODEL_c151a3907a1b47fb997f84912abfd86d",
      "value": " 456k/456k [00:00&lt;00:00, 599kB/s]"
     }
    },
    "f13bf2af688c429f8275d031df2b8834": {
     "model_module": "@jupyter-widgets/controls",
     "model_name": "ProgressStyleModel",
     "state": {
      "_model_module": "@jupyter-widgets/controls",
      "_model_module_version": "1.5.0",
      "_model_name": "ProgressStyleModel",
      "_view_count": null,
      "_view_module": "@jupyter-widgets/base",
      "_view_module_version": "1.2.0",
      "_view_name": "StyleView",
      "bar_color": null,
      "description_width": "initial"
     }
    },
    "f2dca8dd2ded40728cb038d66692551e": {
     "model_module": "@jupyter-widgets/base",
     "model_name": "LayoutModel",
     "state": {
      "_model_module": "@jupyter-widgets/base",
      "_model_module_version": "1.2.0",
      "_model_name": "LayoutModel",
      "_view_count": null,
      "_view_module": "@jupyter-widgets/base",
      "_view_module_version": "1.2.0",
      "_view_name": "LayoutView",
      "align_content": null,
      "align_items": null,
      "align_self": null,
      "border": null,
      "bottom": null,
      "display": null,
      "flex": null,
      "flex_flow": null,
      "grid_area": null,
      "grid_auto_columns": null,
      "grid_auto_flow": null,
      "grid_auto_rows": null,
      "grid_column": null,
      "grid_gap": null,
      "grid_row": null,
      "grid_template_areas": null,
      "grid_template_columns": null,
      "grid_template_rows": null,
      "height": null,
      "justify_content": null,
      "justify_items": null,
      "left": null,
      "margin": null,
      "max_height": null,
      "max_width": null,
      "min_height": null,
      "min_width": null,
      "object_fit": null,
      "object_position": null,
      "order": null,
      "overflow": null,
      "overflow_x": null,
      "overflow_y": null,
      "padding": null,
      "right": null,
      "top": null,
      "visibility": null,
      "width": null
     }
    },
    "f76e18189b9e48a38c835d4e1739145c": {
     "model_module": "@jupyter-widgets/controls",
     "model_name": "HTMLModel",
     "state": {
      "_dom_classes": [],
      "_model_module": "@jupyter-widgets/controls",
      "_model_module_version": "1.5.0",
      "_model_name": "HTMLModel",
      "_view_count": null,
      "_view_module": "@jupyter-widgets/controls",
      "_view_module_version": "1.5.0",
      "_view_name": "HTMLView",
      "description": "",
      "description_tooltip": null,
      "layout": "IPY_MODEL_00e684c72ce24c3c95b5372939a76228",
      "placeholder": "​",
      "style": "IPY_MODEL_71761c00862b421db4650e9e93a23aa0",
      "value": " 1.22G/1.22G [00:23&lt;00:00, 51.6MB/s]"
     }
    },
    "f7b018c0559640189cc3ce596c955de6": {
     "model_module": "@jupyter-widgets/base",
     "model_name": "LayoutModel",
     "state": {
      "_model_module": "@jupyter-widgets/base",
      "_model_module_version": "1.2.0",
      "_model_name": "LayoutModel",
      "_view_count": null,
      "_view_module": "@jupyter-widgets/base",
      "_view_module_version": "1.2.0",
      "_view_name": "LayoutView",
      "align_content": null,
      "align_items": null,
      "align_self": null,
      "border": null,
      "bottom": null,
      "display": null,
      "flex": null,
      "flex_flow": null,
      "grid_area": null,
      "grid_auto_columns": null,
      "grid_auto_flow": null,
      "grid_auto_rows": null,
      "grid_column": null,
      "grid_gap": null,
      "grid_row": null,
      "grid_template_areas": null,
      "grid_template_columns": null,
      "grid_template_rows": null,
      "height": null,
      "justify_content": null,
      "justify_items": null,
      "left": null,
      "margin": null,
      "max_height": null,
      "max_width": null,
      "min_height": null,
      "min_width": null,
      "object_fit": null,
      "object_position": null,
      "order": null,
      "overflow": null,
      "overflow_x": null,
      "overflow_y": null,
      "padding": null,
      "right": null,
      "top": null,
      "visibility": null,
      "width": null
     }
    },
    "f7f0961e2c7e48eda6f60e31aadd6245": {
     "model_module": "@jupyter-widgets/base",
     "model_name": "LayoutModel",
     "state": {
      "_model_module": "@jupyter-widgets/base",
      "_model_module_version": "1.2.0",
      "_model_name": "LayoutModel",
      "_view_count": null,
      "_view_module": "@jupyter-widgets/base",
      "_view_module_version": "1.2.0",
      "_view_name": "LayoutView",
      "align_content": null,
      "align_items": null,
      "align_self": null,
      "border": null,
      "bottom": null,
      "display": null,
      "flex": null,
      "flex_flow": null,
      "grid_area": null,
      "grid_auto_columns": null,
      "grid_auto_flow": null,
      "grid_auto_rows": null,
      "grid_column": null,
      "grid_gap": null,
      "grid_row": null,
      "grid_template_areas": null,
      "grid_template_columns": null,
      "grid_template_rows": null,
      "height": null,
      "justify_content": null,
      "justify_items": null,
      "left": null,
      "margin": null,
      "max_height": null,
      "max_width": null,
      "min_height": null,
      "min_width": null,
      "object_fit": null,
      "object_position": null,
      "order": null,
      "overflow": null,
      "overflow_x": null,
      "overflow_y": null,
      "padding": null,
      "right": null,
      "top": null,
      "visibility": null,
      "width": null
     }
    },
    "f81d84801b8b481b807bdd89adabccbc": {
     "model_module": "@jupyter-widgets/controls",
     "model_name": "ProgressStyleModel",
     "state": {
      "_model_module": "@jupyter-widgets/controls",
      "_model_module_version": "1.5.0",
      "_model_name": "ProgressStyleModel",
      "_view_count": null,
      "_view_module": "@jupyter-widgets/base",
      "_view_module_version": "1.2.0",
      "_view_name": "StyleView",
      "bar_color": null,
      "description_width": "initial"
     }
    },
    "f91d9186d93043dba64114b3b7eb60e8": {
     "model_module": "@jupyter-widgets/controls",
     "model_name": "ProgressStyleModel",
     "state": {
      "_model_module": "@jupyter-widgets/controls",
      "_model_module_version": "1.5.0",
      "_model_name": "ProgressStyleModel",
      "_view_count": null,
      "_view_module": "@jupyter-widgets/base",
      "_view_module_version": "1.2.0",
      "_view_name": "StyleView",
      "bar_color": null,
      "description_width": "initial"
     }
    },
    "f987ddd021554a3a8581643d280ec254": {
     "model_module": "@jupyter-widgets/controls",
     "model_name": "ProgressStyleModel",
     "state": {
      "_model_module": "@jupyter-widgets/controls",
      "_model_module_version": "1.5.0",
      "_model_name": "ProgressStyleModel",
      "_view_count": null,
      "_view_module": "@jupyter-widgets/base",
      "_view_module_version": "1.2.0",
      "_view_name": "StyleView",
      "bar_color": null,
      "description_width": "initial"
     }
    },
    "faa0ad5f8afd42ed84ad206bc9226774": {
     "model_module": "@jupyter-widgets/controls",
     "model_name": "HTMLModel",
     "state": {
      "_dom_classes": [],
      "_model_module": "@jupyter-widgets/controls",
      "_model_module_version": "1.5.0",
      "_model_name": "HTMLModel",
      "_view_count": null,
      "_view_module": "@jupyter-widgets/controls",
      "_view_module_version": "1.5.0",
      "_view_name": "HTMLView",
      "description": "",
      "description_tooltip": null,
      "layout": "IPY_MODEL_82388758e1bb4842b5a87e1172ebeac6",
      "placeholder": "​",
      "style": "IPY_MODEL_08b8b564042042209a501a7ba131d164",
      "value": " 1.62k/1.62k [00:00&lt;00:00, 3.39kB/s]"
     }
    },
    "fb03daedca36485598fe337e67709685": {
     "model_module": "@jupyter-widgets/base",
     "model_name": "LayoutModel",
     "state": {
      "_model_module": "@jupyter-widgets/base",
      "_model_module_version": "1.2.0",
      "_model_name": "LayoutModel",
      "_view_count": null,
      "_view_module": "@jupyter-widgets/base",
      "_view_module_version": "1.2.0",
      "_view_name": "LayoutView",
      "align_content": null,
      "align_items": null,
      "align_self": null,
      "border": null,
      "bottom": null,
      "display": null,
      "flex": null,
      "flex_flow": null,
      "grid_area": null,
      "grid_auto_columns": null,
      "grid_auto_flow": null,
      "grid_auto_rows": null,
      "grid_column": null,
      "grid_gap": null,
      "grid_row": null,
      "grid_template_areas": null,
      "grid_template_columns": null,
      "grid_template_rows": null,
      "height": null,
      "justify_content": null,
      "justify_items": null,
      "left": null,
      "margin": null,
      "max_height": null,
      "max_width": null,
      "min_height": null,
      "min_width": null,
      "object_fit": null,
      "object_position": null,
      "order": null,
      "overflow": null,
      "overflow_x": null,
      "overflow_y": null,
      "padding": null,
      "right": null,
      "top": null,
      "visibility": null,
      "width": null
     }
    },
    "fca319d94a4c4ef98347c6a7b280f06f": {
     "model_module": "@jupyter-widgets/controls",
     "model_name": "HBoxModel",
     "state": {
      "_dom_classes": [],
      "_model_module": "@jupyter-widgets/controls",
      "_model_module_version": "1.5.0",
      "_model_name": "HBoxModel",
      "_view_count": null,
      "_view_module": "@jupyter-widgets/controls",
      "_view_module_version": "1.5.0",
      "_view_name": "HBoxView",
      "box_style": "",
      "children": [
       "IPY_MODEL_79a4799eed224d4ab0443a3b61845cb1",
       "IPY_MODEL_e10cd52886d44f67b38132468988fc3e"
      ],
      "layout": "IPY_MODEL_2f93e4161fed446e9ebecee99c748def"
     }
    }
   }
  }
 },
 "nbformat": 4,
 "nbformat_minor": 1
}
