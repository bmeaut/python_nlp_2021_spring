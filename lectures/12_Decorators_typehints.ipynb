{
 "cells": [
  {
   "cell_type": "markdown",
   "metadata": {
    "slideshow": {
     "slide_type": "slide"
    }
   },
   "source": [
    "# Introduction to Python and Natural Language Technologies\n",
    "\n",
    "__Lecture 12, Decorators, Packaging, Type hints__\n",
    "\n",
    "__May 4, 2021__\n",
    "\n",
    "__Judit Ács__"
   ]
  },
  {
   "cell_type": "markdown",
   "metadata": {
    "slideshow": {
     "slide_type": "slide"
    }
   },
   "source": [
    "# Decorators\n",
    "\n",
    "## Introduction\n",
    "\n",
    "Let's define a function that\n",
    "- takes another function as a parameter\n",
    "- greets the caller before calling the function"
   ]
  },
  {
   "cell_type": "code",
   "execution_count": null,
   "metadata": {
    "slideshow": {
     "slide_type": "fragment"
    }
   },
   "outputs": [],
   "source": [
    "def greeter(func):\n",
    "    print(\"Hello\")\n",
    "    func()\n",
    "    \n",
    "def say_something():\n",
    "    print(\"Let's learn some Python.\")\n",
    "    \n",
    "greeter(say_something)\n",
    "# greeter(12)  # raises TypeError"
   ]
  },
  {
   "cell_type": "markdown",
   "metadata": {
    "slideshow": {
     "slide_type": "fragment"
    }
   },
   "source": [
    "### Functions are first class objects\n",
    "\n",
    "- they can be passed as arguments\n",
    "- they can be returned from other functions (example later)"
   ]
  },
  {
   "cell_type": "markdown",
   "metadata": {
    "slideshow": {
     "slide_type": "slide"
    }
   },
   "source": [
    "Let's create a `count_predicate` function\n",
    "\n",
    "- takes a iterable and a predicate (yes-no function)\n",
    "- calls the predicate on each element\n",
    "- counts how many times it returns True\n",
    "- same as `std::count` in C++"
   ]
  },
  {
   "cell_type": "code",
   "execution_count": null,
   "metadata": {
    "slideshow": {
     "slide_type": "fragment"
    }
   },
   "outputs": [],
   "source": [
    "def count_predicate(predicate, iterable):\n",
    "    true_count = 0\n",
    "    for element in iterable:\n",
    "        if predicate(element) is True:\n",
    "            true_count += 1\n",
    "    return true_count"
   ]
  },
  {
   "cell_type": "markdown",
   "metadata": {
    "slideshow": {
     "slide_type": "fragment"
    }
   },
   "source": [
    "We can write this function in fewer lines:"
   ]
  },
  {
   "cell_type": "code",
   "execution_count": null,
   "metadata": {},
   "outputs": [],
   "source": [
    "def count_predicate(predicate, iterable):\n",
    "    return sum(predicate(e) for e in iterable)"
   ]
  },
  {
   "cell_type": "markdown",
   "metadata": {
    "slideshow": {
     "slide_type": "slide"
    }
   },
   "source": [
    "The predicate parameter it can be anything 'callable'\n",
    "\n",
    "a function:"
   ]
  },
  {
   "cell_type": "code",
   "execution_count": null,
   "metadata": {
    "slideshow": {
     "slide_type": "-"
    }
   },
   "outputs": [],
   "source": [
    "def is_even(number):\n",
    "    return number % 2 == 0\n",
    "\n",
    "numbers = [1, 3, 2, -5, 0, 0]\n",
    "\n",
    "count_predicate(is_even, numbers)"
   ]
  },
  {
   "cell_type": "markdown",
   "metadata": {
    "slideshow": {
     "slide_type": "subslide"
    }
   },
   "source": [
    "an instance of a class that implements `__call__` (functor):"
   ]
  },
  {
   "cell_type": "code",
   "execution_count": null,
   "metadata": {},
   "outputs": [],
   "source": [
    "class IsEven(object):\n",
    "    def __call__(self, number):\n",
    "        return number % 2 == 0\n",
    "    \n",
    "count_predicate(IsEven(), numbers)"
   ]
  },
  {
   "cell_type": "code",
   "execution_count": null,
   "metadata": {},
   "outputs": [],
   "source": [
    "# Other ways of using IsEven:\n",
    "IsEven()(123)\n",
    "i = IsEven()\n",
    "i(11)"
   ]
  },
  {
   "cell_type": "markdown",
   "metadata": {
    "slideshow": {
     "slide_type": "fragment"
    }
   },
   "source": [
    "or a lambda expression:"
   ]
  },
  {
   "cell_type": "code",
   "execution_count": null,
   "metadata": {},
   "outputs": [],
   "source": [
    "count_predicate(lambda x: x % 2 == 0, numbers)"
   ]
  },
  {
   "cell_type": "markdown",
   "metadata": {
    "slideshow": {
     "slide_type": "slide"
    }
   },
   "source": [
    "### Functions can be nested"
   ]
  },
  {
   "cell_type": "code",
   "execution_count": null,
   "metadata": {},
   "outputs": [],
   "source": [
    "def parent():\n",
    "    print(\"I'm the parent function\")\n",
    "    \n",
    "    def child():\n",
    "        print(\"I'm the child function\")\n",
    "        \n",
    "parent()"
   ]
  },
  {
   "cell_type": "markdown",
   "metadata": {
    "slideshow": {
     "slide_type": "subslide"
    }
   },
   "source": [
    "the nested function is only accessible from the parent"
   ]
  },
  {
   "cell_type": "code",
   "execution_count": null,
   "metadata": {},
   "outputs": [],
   "source": [
    "def parent():\n",
    "    print(\"I'm the parent function\")\n",
    "    \n",
    "    def child():\n",
    "        print(\"I'm the child function\")\n",
    "    \n",
    "    print(\"Calling the nested function\")\n",
    "    child()\n",
    "        \n",
    "parent()\n",
    "# parent.child  # raises AttributeError"
   ]
  },
  {
   "cell_type": "markdown",
   "metadata": {
    "slideshow": {
     "slide_type": "slide"
    }
   },
   "source": [
    "### Functions can be return values"
   ]
  },
  {
   "cell_type": "code",
   "execution_count": null,
   "metadata": {},
   "outputs": [],
   "source": [
    "def parent():\n",
    "    print(\"I'm the parent function\")\n",
    "    \n",
    "    def child():\n",
    "        print(\"I'm the child function\")\n",
    "        \n",
    "    return child\n",
    "\n",
    "child_func = parent()\n",
    "\n",
    "print(\"Calling child\")\n",
    "child_func()\n",
    "child_func()\n",
    "child_func()\n",
    "child_func()\n",
    "\n",
    "print(\"\\nUsing parent's return value right away\")\n",
    "parent()()"
   ]
  },
  {
   "cell_type": "markdown",
   "metadata": {
    "slideshow": {
     "slide_type": "slide"
    }
   },
   "source": [
    "## Closure: nested functions have access to the parent's scope"
   ]
  },
  {
   "cell_type": "code",
   "execution_count": null,
   "metadata": {},
   "outputs": [],
   "source": [
    "def parent(value):\n",
    "    \n",
    "    def child():\n",
    "        print(f\"I'm the nested function. The parent's value is {value}\")\n",
    "        \n",
    "    return child\n",
    "        \n",
    "child_func = parent(42)\n",
    "\n",
    "print(\"Calling child_func\")\n",
    "child_func()"
   ]
  },
  {
   "cell_type": "markdown",
   "metadata": {},
   "source": [
    "Calling the `parent` returns a new function object each time:"
   ]
  },
  {
   "cell_type": "code",
   "execution_count": null,
   "metadata": {},
   "outputs": [],
   "source": [
    "f1 = parent(\"abc\")\n",
    "f2 = parent(123)\n",
    "\n",
    "f1()\n",
    "f2()\n",
    "\n",
    "f1 is f2"
   ]
  },
  {
   "cell_type": "markdown",
   "metadata": {
    "slideshow": {
     "slide_type": "slide"
    }
   },
   "source": [
    "## Function factory"
   ]
  },
  {
   "cell_type": "code",
   "execution_count": null,
   "metadata": {},
   "outputs": [],
   "source": [
    "def make_func(param):\n",
    "    value = param\n",
    "    \n",
    "    def func():\n",
    "        print(f\"I'm the nested function. The parent's value is {value}\")\n",
    "        \n",
    "    return func\n",
    "\n",
    "func_11 = make_func(11)\n",
    "func_abc = make_func(\"abc\")\n",
    "\n",
    "func_11()\n",
    "func_abc()"
   ]
  },
  {
   "cell_type": "markdown",
   "metadata": {},
   "source": [
    "Calling `make_func` with the same arguments results in different functions:"
   ]
  },
  {
   "cell_type": "code",
   "execution_count": null,
   "metadata": {},
   "outputs": [],
   "source": [
    "f1 = make_func(1)\n",
    "f2 = make_func(1)\n",
    "f1()\n",
    "f2()\n",
    "\n",
    "f1 == f2, f1 is f2"
   ]
  },
  {
   "cell_type": "markdown",
   "metadata": {
    "slideshow": {
     "slide_type": "slide"
    }
   },
   "source": [
    "## Wrapper function factory\n",
    "\n",
    "- let's create a function that takes a function return an almost identical function\n",
    "- the returned function adds some logging"
   ]
  },
  {
   "cell_type": "code",
   "execution_count": null,
   "metadata": {},
   "outputs": [],
   "source": [
    "def add_noise(func):\n",
    "    \n",
    "    def wrapped_with_noise():\n",
    "        print(f\"Calling function {func.__name__}\")\n",
    "        func()\n",
    "        print(f\"{func.__name__} finished.\")\n",
    "        \n",
    "    return wrapped_with_noise"
   ]
  },
  {
   "cell_type": "markdown",
   "metadata": {
    "slideshow": {
     "slide_type": "subslide"
    }
   },
   "source": [
    "The function we are going to wrap:"
   ]
  },
  {
   "cell_type": "code",
   "execution_count": null,
   "metadata": {
    "slideshow": {
     "slide_type": "-"
    }
   },
   "outputs": [],
   "source": [
    "def noiseless_function():\n",
    "    print(\"This is not noise\")\n",
    "    \n",
    "noiseless_function()"
   ]
  },
  {
   "cell_type": "markdown",
   "metadata": {
    "slideshow": {
     "slide_type": "fragment"
    }
   },
   "source": [
    "Now add some noise:"
   ]
  },
  {
   "cell_type": "code",
   "execution_count": null,
   "metadata": {},
   "outputs": [],
   "source": [
    "noisy_function = add_noise(noiseless_function)\n",
    "\n",
    "noisy_function()"
   ]
  },
  {
   "cell_type": "markdown",
   "metadata": {
    "slideshow": {
     "slide_type": "subslide"
    }
   },
   "source": [
    "We often want to bind the wrapped function to the original reference:\n",
    "\n",
    "- i.e. `greeter` should refer to the wrapped function\n",
    "- we don't need the original function"
   ]
  },
  {
   "cell_type": "code",
   "execution_count": null,
   "metadata": {},
   "outputs": [],
   "source": [
    "def greeter():\n",
    "    print(\"Hello\")\n",
    "    \n",
    "print(id(greeter))\n",
    "   \n",
    "greeter = add_noise(greeter)\n",
    "greeter()\n",
    "print(id(greeter))"
   ]
  },
  {
   "cell_type": "markdown",
   "metadata": {
    "slideshow": {
     "slide_type": "slide"
    }
   },
   "source": [
    "This turns out to be a frequent operation:"
   ]
  },
  {
   "cell_type": "code",
   "execution_count": null,
   "metadata": {},
   "outputs": [],
   "source": [
    "def friendly_greeter():\n",
    "    print(\"Hello friend\")\n",
    "    \n",
    "def rude_greeter():\n",
    "    print(\"Hey you\")\n",
    "    \n",
    "friendly_greeter = add_noise(friendly_greeter)\n",
    "rude_greeter = add_noise(rude_greeter)\n",
    "friendly_greeter()\n",
    "\n",
    "rude_greeter()"
   ]
  },
  {
   "cell_type": "markdown",
   "metadata": {
    "slideshow": {
     "slide_type": "slide"
    }
   },
   "source": [
    "## Decorator syntax\n",
    "\n",
    "- a decorator is a function\n",
    "  - that takes a function as an argument\n",
    "  - returns a wrapped version of the function\n",
    "- the decorator syntax is just __syntactic sugar__ (shorthand) for:\n",
    "\n",
    "```python\n",
    "func = decorator(func)\n",
    "```"
   ]
  },
  {
   "cell_type": "code",
   "execution_count": null,
   "metadata": {
    "slideshow": {
     "slide_type": "fragment"
    }
   },
   "outputs": [],
   "source": [
    "@add_noise\n",
    "def informal_greeter():\n",
    "    print(\"Yo\")\n",
    "    \n",
    "# informal_greeter = add_noise(informal_greeter)\n",
    "    \n",
    "informal_greeter()"
   ]
  },
  {
   "cell_type": "markdown",
   "metadata": {
    "slideshow": {
     "slide_type": "subslide"
    }
   },
   "source": [
    "__Pie syntax__\n",
    "\n",
    "- introduced in [PEP318](https://www.python.org/dev/peps/pep-0318/) in Python 2.4\n",
    "- various syntax proposals were suggested, summarized [here](https://wiki.python.org/moin/PythonDecorators#A1._pie_decorator_syntax)"
   ]
  },
  {
   "cell_type": "markdown",
   "metadata": {
    "slideshow": {
     "slide_type": "slide"
    }
   },
   "source": [
    "## Problems\n",
    "\n",
    "### Function metadata is lost"
   ]
  },
  {
   "cell_type": "code",
   "execution_count": null,
   "metadata": {},
   "outputs": [],
   "source": [
    "informal_greeter.__name__"
   ]
  },
  {
   "cell_type": "markdown",
   "metadata": {
    "slideshow": {
     "slide_type": "subslide"
    }
   },
   "source": [
    "__Solution 1. Copy manually__"
   ]
  },
  {
   "cell_type": "code",
   "execution_count": null,
   "metadata": {},
   "outputs": [],
   "source": [
    "def add_noise(func):\n",
    "    \n",
    "    def wrapped_with_noise():\n",
    "        \"\"\"Useless docstring.\"\"\"\n",
    "        print(f\"Calling {func.__name__}...\")\n",
    "        func()\n",
    "        print(f\"{func.__name__} finished.\")\n",
    "        \n",
    "    wrapped_with_noise.__name__ = func.__name__\n",
    "    return wrapped_with_noise\n",
    "\n",
    "@add_noise\n",
    "def greeter():\n",
    "    \"\"\"meaningful documentation\"\"\"\n",
    "    print(\"Hello\")\n",
    "    \n",
    "print(greeter.__name__)"
   ]
  },
  {
   "cell_type": "markdown",
   "metadata": {
    "slideshow": {
     "slide_type": "subslide"
    }
   },
   "source": [
    "What about other metadata such as the docstring?"
   ]
  },
  {
   "cell_type": "code",
   "execution_count": null,
   "metadata": {},
   "outputs": [],
   "source": [
    "print(greeter.__doc__)"
   ]
  },
  {
   "cell_type": "markdown",
   "metadata": {
    "slideshow": {
     "slide_type": "subslide"
    }
   },
   "source": [
    "__Solution 2. `functools.wraps`__"
   ]
  },
  {
   "cell_type": "code",
   "execution_count": null,
   "metadata": {},
   "outputs": [],
   "source": [
    "from functools import wraps\n",
    "\n",
    "def add_noise(func):\n",
    "    \n",
    "    @wraps(func)\n",
    "    def wrapped_with_noise():\n",
    "        print(f\"Calling {func.__name__}...\")\n",
    "        func()\n",
    "        print(f\"{func.__name__} finished.\")\n",
    "        \n",
    "    return wrapped_with_noise\n",
    "\n",
    "@add_noise\n",
    "def greeter():\n",
    "    \"\"\"function that says hello\"\"\"\n",
    "    print(\"Hello\")\n",
    "    \n",
    "print(greeter.__name__)\n",
    "print(greeter.__doc__)"
   ]
  },
  {
   "cell_type": "markdown",
   "metadata": {
    "slideshow": {
     "slide_type": "slide"
    }
   },
   "source": [
    "### Function arguments\n",
    "\n",
    "- so far we have only decorated functions without parameters\n",
    "- to wrap arbitrary functions, we need to capture a variable number of arguments\n",
    "- remember `args` and `kwargs`"
   ]
  },
  {
   "cell_type": "code",
   "execution_count": null,
   "metadata": {
    "slideshow": {
     "slide_type": "fragment"
    }
   },
   "outputs": [],
   "source": [
    "def function_with_variable_arguments(*args, **kwargs):\n",
    "    print(args)\n",
    "    print(kwargs)\n",
    "    \n",
    "function_with_variable_arguments(1, \"apple\", tree=\"peach\")"
   ]
  },
  {
   "cell_type": "markdown",
   "metadata": {
    "slideshow": {
     "slide_type": "subslide"
    }
   },
   "source": [
    "the same mechanism can be used in decorators"
   ]
  },
  {
   "cell_type": "code",
   "execution_count": null,
   "metadata": {},
   "outputs": [],
   "source": [
    "def add_noise(func):\n",
    "    \n",
    "    @wraps(func)\n",
    "    def wrapped_with_noise(*args, **kwargs):\n",
    "        print(f\"Calling {func.__name__}...\")\n",
    "        func(*args, **kwargs)\n",
    "        print(f\"{func.__name__} finished.\")\n",
    "        \n",
    "    return wrapped_with_noise"
   ]
  },
  {
   "cell_type": "markdown",
   "metadata": {
    "slideshow": {
     "slide_type": "fragment"
    }
   },
   "source": [
    "- the decorator has only one parameter: `func`, the function to wrap\n",
    "- the returned function (`wrapped_with_noise`) takes arbitrary parameters: `args`, `kwargs`\n",
    "- it calls `func`, the decorator's argument with arbitrary parameters"
   ]
  },
  {
   "cell_type": "code",
   "execution_count": null,
   "metadata": {
    "slideshow": {
     "slide_type": "subslide"
    }
   },
   "outputs": [],
   "source": [
    "@add_noise\n",
    "def personal_greeter(name):\n",
    "    print(f\"Hello {name}\")\n",
    "    \n",
    "# personal_greeter(\"John\", \"Tim\")  # raises TypeError because personal_greeter only takes one parameter\n",
    "personal_greeter(\"John\")"
   ]
  },
  {
   "cell_type": "markdown",
   "metadata": {},
   "source": [
    "### Return values\n",
    "\n",
    "Let's not forget about return values:"
   ]
  },
  {
   "cell_type": "code",
   "execution_count": null,
   "metadata": {},
   "outputs": [],
   "source": [
    "def add_noise(func):\n",
    "    \n",
    "    @wraps(func)\n",
    "    def wrapped_with_noise(*args, **kwargs):\n",
    "        print(\"Calling {func.__name__}...\")\n",
    "        ret_value = func(*args, **kwargs)\n",
    "        print(\"{func.__name__} finished.\")\n",
    "        return ret_value\n",
    "        \n",
    "    return wrapped_with_noise"
   ]
  },
  {
   "cell_type": "markdown",
   "metadata": {
    "slideshow": {
     "slide_type": "slide"
    }
   },
   "source": [
    "## Decorators can take parameters too\n",
    "\n",
    "They have to return a decorator without parameters - __decorator factory__"
   ]
  },
  {
   "cell_type": "code",
   "execution_count": null,
   "metadata": {},
   "outputs": [],
   "source": [
    "def decorator_with_param(param1, param2=None):\n",
    "    print(f\"Creating a new decorator: {param1}, {param2}\")\n",
    "    \n",
    "    def actual_decorator(func):\n",
    "        \n",
    "        @wraps(func)\n",
    "        def wrapper(*args, **kwargs):\n",
    "            print(f\"Wrapper function {func.__name__}\")\n",
    "            print(f\"Params: {param1}, {param2}\")\n",
    "            return func(*args, **kwargs)\n",
    "        \n",
    "        return wrapper\n",
    "    \n",
    "    return actual_decorator"
   ]
  },
  {
   "cell_type": "code",
   "execution_count": null,
   "metadata": {
    "slideshow": {
     "slide_type": "fragment"
    }
   },
   "outputs": [],
   "source": [
    "@decorator_with_param(42, \"abc\")\n",
    "def personal_greeter(name):\n",
    "    print(f\"Hello {name}\")\n",
    "    \n",
    "@decorator_with_param(4)\n",
    "def personal_greeter2(name):\n",
    "    print(f\"Hello {name}\")\n",
    "    \n",
    "print(\"\\nCalling personal_greeter\")\n",
    "personal_greeter(\"Mary\")"
   ]
  },
  {
   "cell_type": "code",
   "execution_count": null,
   "metadata": {},
   "outputs": [],
   "source": [
    "def hello(name):\n",
    "    print(f\"Hello {name}\")\n",
    "    \n",
    "hello = decorator_with_param(1, 2)(hello)\n",
    "hello(\"john\")"
   ]
  },
  {
   "cell_type": "markdown",
   "metadata": {
    "slideshow": {
     "slide_type": "slide"
    }
   },
   "source": [
    "## Decorators can be implemented as classes\n",
    "\n",
    "- `__call__` implements the wrapped function"
   ]
  },
  {
   "cell_type": "code",
   "execution_count": null,
   "metadata": {},
   "outputs": [],
   "source": [
    "class MyDecorator(object):\n",
    "    def __init__(self, func):\n",
    "        self.func_to_wrap = func\n",
    "        wraps(func)(self)\n",
    "        \n",
    "    def __call__(self, *args, **kwargs):\n",
    "        print(f\"before func {self.func_to_wrap.__name__}\")\n",
    "        res = self.func_to_wrap(*args, **kwargs)\n",
    "        print(f\"after func {self.func_to_wrap.__name__}\")\n",
    "        return res\n",
    "    \n",
    "@MyDecorator\n",
    "def foo():\n",
    "    print(\"bar\")\n",
    "\n",
    "foo()"
   ]
  },
  {
   "cell_type": "markdown",
   "metadata": {},
   "source": [
    "# Modules and imports\n",
    "\n",
    "- `import` statement combines two operations\n",
    "    1. it searches for the named module, \n",
    "    2. then it binds the results of that search to a name in the local scope -- [official documentation](https://docs.python.org/3/reference/import.html) (emphasis mine)\n",
    "- several formats\n",
    "\n",
    "## importing full modules"
   ]
  },
  {
   "cell_type": "code",
   "execution_count": null,
   "metadata": {},
   "outputs": [],
   "source": [
    "import sys\n",
    "\n",
    "print(\", \".join(dir(sys)))\n",
    "sys.stdout"
   ]
  },
  {
   "cell_type": "markdown",
   "metadata": {},
   "source": [
    "## importing submodules"
   ]
  },
  {
   "cell_type": "code",
   "execution_count": null,
   "metadata": {},
   "outputs": [],
   "source": [
    "from os import path\n",
    "\n",
    "try:\n",
    "    os\n",
    "except NameError:\n",
    "    print(\"os does not seem to be defined\")\n",
    "    \n",
    "try:\n",
    "    path\n",
    "    print(\"path found\")\n",
    "except NameError:\n",
    "    print(\"path does not seem to be defined\")"
   ]
  },
  {
   "cell_type": "markdown",
   "metadata": {},
   "source": [
    "the `as` keyword binds the module to a different name:"
   ]
  },
  {
   "cell_type": "code",
   "execution_count": null,
   "metadata": {},
   "outputs": [],
   "source": [
    "import os as os_module\n",
    "\n",
    "try:\n",
    "    os\n",
    "except NameError:\n",
    "    print(\"os does not seem to be defined\")\n",
    "    \n",
    "try:\n",
    "    os_module\n",
    "    print(\"os_module found\")\n",
    "except NameError:\n",
    "    print(\"os_module does not seem to be defined\")"
   ]
  },
  {
   "cell_type": "markdown",
   "metadata": {},
   "source": [
    "Some widely used convenctions are:"
   ]
  },
  {
   "cell_type": "code",
   "execution_count": null,
   "metadata": {},
   "outputs": [],
   "source": [
    "import numpy as np\n",
    "import pandas as pd"
   ]
  },
  {
   "cell_type": "markdown",
   "metadata": {},
   "source": [
    "## importing more than one module/submodule"
   ]
  },
  {
   "cell_type": "code",
   "execution_count": null,
   "metadata": {},
   "outputs": [],
   "source": [
    "# import os, sys\n",
    "from sys import stderr, stdin, stdout"
   ]
  },
  {
   "cell_type": "markdown",
   "metadata": {},
   "source": [
    "## importing functions or classes"
   ]
  },
  {
   "cell_type": "code",
   "execution_count": null,
   "metadata": {},
   "outputs": [],
   "source": [
    "from argparse import ArgumentParser\n",
    "import inspect\n",
    "\n",
    "inspect.isclass(ArgumentParser)"
   ]
  },
  {
   "cell_type": "markdown",
   "metadata": {},
   "source": [
    "## importing everything from a module\n",
    "\n",
    "**NOT** recommended because we have no way of knowing where names come from"
   ]
  },
  {
   "cell_type": "code",
   "execution_count": null,
   "metadata": {},
   "outputs": [],
   "source": [
    "len(globals())"
   ]
  },
  {
   "cell_type": "code",
   "execution_count": null,
   "metadata": {},
   "outputs": [],
   "source": [
    "from os import *\n",
    "\n",
    "try:\n",
    "    makedirs\n",
    "    stat\n",
    "    print(\"everything found\")\n",
    "except NameError:\n",
    "    print(\"Something not found\")"
   ]
  },
  {
   "cell_type": "code",
   "execution_count": null,
   "metadata": {},
   "outputs": [],
   "source": [
    "print(len(globals()))\n",
    "import os\n",
    "len(globals())"
   ]
  },
  {
   "cell_type": "code",
   "execution_count": null,
   "metadata": {},
   "outputs": [],
   "source": [
    "print(len(globals()))\n",
    "from itertools import *\n",
    "len(globals())"
   ]
  },
  {
   "cell_type": "code",
   "execution_count": null,
   "metadata": {},
   "outputs": [],
   "source": [
    "import os\n",
    "os.stat"
   ]
  },
  {
   "cell_type": "code",
   "execution_count": null,
   "metadata": {
    "scrolled": true
   },
   "outputs": [],
   "source": [
    "len(globals())"
   ]
  },
  {
   "cell_type": "markdown",
   "metadata": {},
   "source": [
    "# Packaging\n",
    "\n",
    "Python projects can be packaged and distributed.\n",
    "\n",
    "## Naming convention\n",
    "\n",
    "- all lowercase\n",
    "- underscore separated, no hyphens\n",
    "- unique on PyPI\n",
    "\n",
    "## Minimal structure\n",
    "\n",
    "~~~\n",
    "example_package/\n",
    "    example_package/\n",
    "        __init__.py\n",
    "    setup.py\n",
    "~~~\n",
    "\n",
    "- the source code is located in a separate subdirectory with the same name\n",
    "  - just a convention, not mandatory\n",
    "- `setup.py` describes how the package should be installed\n",
    "\n",
    "## Source code\n",
    "\n",
    "- each directory that has a `__init__.py` file is going to be a subpackage\n",
    "  - `__init__.py` may be empty\n",
    "  \n",
    "## setup.py\n",
    "\n",
    "A single call to `setuptools.setup`. Its arguments describe how the package should be installed.\n",
    "\n",
    "## Nice to have\n",
    "\n",
    "- licence\n",
    "- `Manifest.IN` - list of additional files\n",
    "- `setup.cfg` - option defaults for `setup.py`\n",
    "- `README.rst` - `README` using reStructuredText\n",
    "\n",
    "https://github.com/pypa/sampleproject"
   ]
  },
  {
   "cell_type": "markdown",
   "metadata": {
    "collapsed": true
   },
   "source": [
    "## See also\n",
    "\n",
    "https://packaging.python.org/tutorials/distributing-packages/"
   ]
  },
  {
   "cell_type": "markdown",
   "metadata": {},
   "source": [
    "# Pip, virtualenv, Anaconda\n",
    "\n",
    "1. Pip\n",
    "  - package installer\n",
    "2. Virtualenv\n",
    "  - Python environment manager\n",
    "  - a virtualenv is a Python environment separate from the system Python install\n",
    "  - advantages\n",
    "    - different Python version than the system default may be used\n",
    "    - different package versions may be used\n",
    "    - updates and package installs do not affect the system install\n",
    "    - no need for root/Admin access\n",
    "  - activate and deactivate\n",
    "  - virtualenvwrapper is a collection of helper scripts (mainly for Linux)\n",
    "3. Anaconda\n",
    "  - package installer and environment manager\n",
    "  - scientific packages included\n",
    "  - Miniconda is the package manager only"
   ]
  },
  {
   "cell_type": "code",
   "execution_count": null,
   "metadata": {},
   "outputs": [],
   "source": [
    "! which conda\n",
    "! which python\n",
    "! which pip\n",
    "! which ls"
   ]
  },
  {
   "cell_type": "code",
   "execution_count": null,
   "metadata": {},
   "outputs": [],
   "source": []
  },
  {
   "cell_type": "markdown",
   "metadata": {},
   "source": [
    "# Global Interpreter Lock (GIL)\n",
    "\n",
    "- CPython, the reference implementation has a reference counting garbage collector\n",
    "- reference counting GC is **not** thread-safe :(\n",
    "- \"GIL, is a mutex that protects access to Python objects, preventing multiple threads from executing Python bytecodes at once\"\n",
    "- IO, image processing and Numpy (numerical computation and matrix library) heavy lifting happens outside the GIL\n",
    "- other computations cannot fully take advantage of multithreading :(\n",
    "- Jython and IronPython do not have a GIL\n",
    "\n",
    "## See also\n",
    "\n",
    "[Python wiki page on the GIL](https://wiki.python.org/moin/GlobalInterpreterLock)\n",
    "\n",
    "[Live GIL removal (advanced)](https://www.youtube.com/watch?v=pLqv11ScGsQ)"
   ]
  },
  {
   "cell_type": "markdown",
   "metadata": {},
   "source": [
    "# Type hints\n",
    "\n",
    "[PEP 484](https://www.python.org/dev/peps/pep-0484/) defines the standard definitions, tools and some conventions for providing type information (hints) for static type analysis.\n",
    "\n",
    "A simple example of a function that takes a `str` and returns a `str` looks like this (from [here](https://www.python.org/dev/peps/pep-0484/)):"
   ]
  },
  {
   "cell_type": "code",
   "execution_count": null,
   "metadata": {},
   "outputs": [],
   "source": [
    "def greeting(name: str) -> str:\n",
    "    return 'Hello ' + name\n",
    "\n",
    "greeting(\"John\")"
   ]
  },
  {
   "cell_type": "code",
   "execution_count": null,
   "metadata": {},
   "outputs": [],
   "source": [
    "def happy_birthday(name: str, age: int) -> str:\n",
    "    return f\"Happy {age}th birthday, {name}\"\n",
    "\n",
    "happy_birthday(\"John\", 25)"
   ]
  },
  {
   "cell_type": "code",
   "execution_count": null,
   "metadata": {},
   "outputs": [],
   "source": [
    "happy_birthday(\"John\", \"def\")"
   ]
  },
  {
   "cell_type": "markdown",
   "metadata": {},
   "source": [
    "The [typing module](https://docs.python.org/3/library/typing.html) provides definitions for frequent abstract types:"
   ]
  },
  {
   "cell_type": "code",
   "execution_count": null,
   "metadata": {},
   "outputs": [],
   "source": [
    "from typing import Sequence\n",
    "\n",
    "def print_all(elements: Sequence) -> None:\n",
    "    for e in elements:\n",
    "        print(e)\n",
    "\n",
    "print_all(\"abc\")\n",
    "print_all(range(2))"
   ]
  },
  {
   "cell_type": "markdown",
   "metadata": {},
   "source": [
    "`Optional` specifies optional arguments:"
   ]
  },
  {
   "cell_type": "code",
   "execution_count": null,
   "metadata": {},
   "outputs": [],
   "source": [
    "from typing import Optional\n",
    "\n",
    "def print_all(elements: Sequence, prefix: Optional[str] = None) -> None:\n",
    "    for e in elements:\n",
    "        if prefix:\n",
    "            print(f\"{prefix}: {e}\")\n",
    "        else:\n",
    "            print(e)\n",
    "\n",
    "print_all(\"abc\", \"de\")\n",
    "print_all(range(2))"
   ]
  },
  {
   "cell_type": "markdown",
   "metadata": {},
   "source": [
    "`Union` is a collection of types. `Optional[T]` is just a shorthand for `Union[T, None]`."
   ]
  },
  {
   "cell_type": "code",
   "execution_count": null,
   "metadata": {},
   "outputs": [],
   "source": [
    "from typing import Union\n",
    "\n",
    "def happy_birthday(name: str, age: Union[int, str]) -> str:\n",
    "    return f\"Happy {age}th birthday, {name}\"\n",
    "\n",
    "happy_birthday(\"John\", 25)\n",
    "happy_birthday(\"John\", \"25\")"
   ]
  },
  {
   "cell_type": "markdown",
   "metadata": {},
   "source": [
    "# Misc topics we could not include\n",
    "\n",
    "- coroutines, `async`, `await`, more in [PEP-492](https://www.python.org/dev/peps/pep-0492/)\n",
    "- the `collections` module, container datatypes [doc](https://docs.python.org/3/library/collections.html)\n"
   ]
  },
  {
   "cell_type": "markdown",
   "metadata": {
    "slideshow": {
     "slide_type": "slide"
    }
   },
   "source": [
    "# See also\n",
    "\n",
    "Decorator overview with some advanced techniques: https://www.youtube.com/watch?v=9oyr0mocZTg\n",
    "\n",
    "A very deep dive into decorators: https://www.youtube.com/watch?v=7jGtDGxgwEY"
   ]
  }
 ],
 "metadata": {
  "kernelspec": {
   "display_name": "Python 3",
   "language": "python",
   "name": "python3"
  },
  "language_info": {
   "codemirror_mode": {
    "name": "ipython",
    "version": 3
   },
   "file_extension": ".py",
   "mimetype": "text/x-python",
   "name": "python",
   "nbconvert_exporter": "python",
   "pygments_lexer": "ipython3",
   "version": "3.8.5"
  },
  "toc": {
   "base_numbering": 1,
   "nav_menu": {},
   "number_sections": true,
   "sideBar": true,
   "skip_h1_title": false,
   "title_cell": "Table of Contents",
   "title_sidebar": "Contents",
   "toc_cell": false,
   "toc_position": {},
   "toc_section_display": true,
   "toc_window_display": true
  }
 },
 "nbformat": 4,
 "nbformat_minor": 2
}
