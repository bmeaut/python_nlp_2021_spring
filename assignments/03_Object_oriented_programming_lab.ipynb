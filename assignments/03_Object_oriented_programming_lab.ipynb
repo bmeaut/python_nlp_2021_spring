{
 "cells": [
  {
   "cell_type": "markdown",
   "metadata": {
    "deletable": false,
    "editable": false,
    "nbgrader": {
     "cell_type": "markdown",
     "checksum": "860e321d2aa525c25ae28304155087f3",
     "grade": false,
     "grade_id": "cell-ff8429d25fbc1051",
     "locked": true,
     "schema_version": 3,
     "solution": false,
     "task": false
    }
   },
   "source": [
    "# Introduction to Python and Natural Language Technologies\n",
    "\n",
    "__Laboratory 03, Object oriented programming__\n",
    "\n",
    "__Feb 24, 2021__\n",
    "\n",
    "__SUBMISSION DEADLINE: Feb 28 23:59__"
   ]
  },
  {
   "cell_type": "markdown",
   "metadata": {
    "deletable": false,
    "editable": false,
    "nbgrader": {
     "cell_type": "markdown",
     "checksum": "c63e296f82f3dbbd9c2be0d166c2eda1",
     "grade": false,
     "grade_id": "cell-63fe714ed0f893bc",
     "locked": true,
     "schema_version": 3,
     "solution": false,
     "task": false
    }
   },
   "source": [
    "# 1.1  Define a class named `A` with a 'constructor' that takes a single parameter and stores it in an attribute named `value`. Add a `print_value` method to the class.\n",
    "\n",
    "Instantiate the class and call the `print_value` method."
   ]
  },
  {
   "cell_type": "code",
   "execution_count": null,
   "metadata": {
    "deletable": false,
    "nbgrader": {
     "cell_type": "code",
     "checksum": "d3f00ed719e0a928ba290bde79dbd0f8",
     "grade": true,
     "grade_id": "cell-6c7ba38d59f0b533",
     "locked": false,
     "points": 0,
     "schema_version": 3,
     "solution": true,
     "task": false
    }
   },
   "outputs": [],
   "source": [
    "# YOUR CODE HERE\n",
    "raise NotImplementedError()"
   ]
  },
  {
   "cell_type": "code",
   "execution_count": null,
   "metadata": {},
   "outputs": [],
   "source": [
    "a = A(\"abc\")\n",
    "a.print_value()"
   ]
  },
  {
   "cell_type": "markdown",
   "metadata": {
    "deletable": false,
    "editable": false,
    "nbgrader": {
     "cell_type": "markdown",
     "checksum": "126007c51028f0ffa1e22df28a5b9249",
     "grade": false,
     "grade_id": "cell-455dea62bb20bf6e",
     "locked": true,
     "schema_version": 3,
     "solution": false,
     "task": false
    }
   },
   "source": [
    "# 1.2 Redefine the class's `__init__` so that it can be instantiated without a parameter. If it is called without a parameter, value should be 42."
   ]
  },
  {
   "cell_type": "code",
   "execution_count": null,
   "metadata": {
    "deletable": false,
    "nbgrader": {
     "cell_type": "code",
     "checksum": "91889c6130df6d7c248d3768b738cf36",
     "grade": true,
     "grade_id": "cell-1fa4f4a04cc3b613",
     "locked": false,
     "points": 0,
     "schema_version": 3,
     "solution": true,
     "task": false
    }
   },
   "outputs": [],
   "source": [
    "# YOUR CODE HERE\n",
    "raise NotImplementedError()"
   ]
  },
  {
   "cell_type": "code",
   "execution_count": null,
   "metadata": {},
   "outputs": [],
   "source": [
    "a = A(\"abc\")\n",
    "a.print_value()  # prints abc\n",
    "a = A()\n",
    "a.print_value()  # prints 42"
   ]
  },
  {
   "cell_type": "markdown",
   "metadata": {},
   "source": [
    "# 1.3 Define a class named `B`, whose `__init__` takes two parameters and stores one in a public attribute and the other in a private attribute named `this_is_public` and `__this_is_private` respectively.\n",
    "\n",
    "Check the class's __dict__ attribute and find out the mangled name of the private attribute."
   ]
  },
  {
   "cell_type": "code",
   "execution_count": null,
   "metadata": {
    "deletable": false,
    "nbgrader": {
     "cell_type": "code",
     "checksum": "a3eb8a29eecdf1d8e45e2d729e081f49",
     "grade": false,
     "grade_id": "cell-f4c8b3c52d081013",
     "locked": false,
     "schema_version": 3,
     "solution": true,
     "task": false
    }
   },
   "outputs": [],
   "source": [
    "# YOUR CODE HERE\n",
    "raise NotImplementedError()"
   ]
  },
  {
   "cell_type": "code",
   "execution_count": null,
   "metadata": {
    "deletable": false,
    "editable": false,
    "nbgrader": {
     "cell_type": "code",
     "checksum": "b6cb190b2a85627def67c637d8f7d429",
     "grade": true,
     "grade_id": "cell-6480bb6183af4ff0",
     "locked": true,
     "points": 0,
     "schema_version": 3,
     "solution": false,
     "task": false
    }
   },
   "outputs": [],
   "source": [
    "b = B(1, 2)\n",
    "assert b.this_is_public == 1\n",
    "try:\n",
    "    b.__this_is_private\n",
    "    print(\"This should not happen.\")\n",
    "except AttributeError:\n",
    "    print(\"Failed to access private attribute, this is good :)\")"
   ]
  },
  {
   "cell_type": "markdown",
   "metadata": {
    "deletable": false,
    "editable": false,
    "nbgrader": {
     "cell_type": "markdown",
     "checksum": "b9a1abc3e9173eb5ec0b8690c1e0dabb",
     "grade": false,
     "grade_id": "cell-9422317b93395ca9",
     "locked": true,
     "schema_version": 3,
     "solution": false,
     "task": false
    }
   },
   "source": [
    "# 2. Inheritance\n",
    "\n",
    "# 2.1 Guess the output without running the cell."
   ]
  },
  {
   "cell_type": "code",
   "execution_count": null,
   "metadata": {},
   "outputs": [],
   "source": [
    "class A(object): pass\n",
    "class B(A): pass\n",
    "class C(A): pass\n",
    "class D(B): pass\n",
    "\n",
    "a = A()\n",
    "b = B()\n",
    "c = C()\n",
    "d = D()\n",
    "\n",
    "print(isinstance(a, object))\n",
    "print(isinstance(b, object))\n",
    "print(isinstance(a, B))\n",
    "print(isinstance(b, A))\n",
    "print(isinstance(d, A))"
   ]
  },
  {
   "cell_type": "code",
   "execution_count": null,
   "metadata": {},
   "outputs": [],
   "source": [
    "print(issubclass(C, object))\n",
    "print(issubclass(D, B))\n",
    "print(issubclass(B, D))\n",
    "print(issubclass(B, B))"
   ]
  },
  {
   "cell_type": "markdown",
   "metadata": {
    "deletable": false,
    "editable": false,
    "nbgrader": {
     "cell_type": "markdown",
     "checksum": "1751e7adba7fb4da79d47ecd6e9d8ca0",
     "grade": false,
     "grade_id": "cell-19b4c9b97bf2c344",
     "locked": true,
     "schema_version": 3,
     "solution": false,
     "task": false
    }
   },
   "source": [
    "# 2.2 Create a Cat, a Dog, a Fish and a Eagle class.\n",
    "\n",
    "The animals have the following attributes:\n",
    "\n",
    "1. cats, dogs and eagles can make a sound (this should be a make_sound function that prints the animals sound),\n",
    "2. all animals have an age and a number_of_legs attribute,\n",
    "3. cats and dogs have a fur_color attribute. They can be instantiated with a single color or a list or tuple of colors.\n",
    "\n",
    "Use inheritance and avoid repeating code. Use default values in the constructors."
   ]
  },
  {
   "cell_type": "code",
   "execution_count": null,
   "metadata": {
    "deletable": false,
    "nbgrader": {
     "cell_type": "code",
     "checksum": "ba492ad176d178ebcd77f30de3505ef7",
     "grade": false,
     "grade_id": "cell-45b3470b12151035",
     "locked": false,
     "schema_version": 3,
     "solution": true,
     "task": false
    }
   },
   "outputs": [],
   "source": [
    "# YOUR CODE HERE\n",
    "raise NotImplementedError()"
   ]
  },
  {
   "cell_type": "code",
   "execution_count": null,
   "metadata": {
    "deletable": false,
    "editable": false,
    "nbgrader": {
     "cell_type": "code",
     "checksum": "9b91e9e029b5c9f792119c07e18b3ab6",
     "grade": true,
     "grade_id": "cell-b584e9c19590038b",
     "locked": true,
     "points": 0,
     "schema_version": 3,
     "solution": false,
     "task": false
    }
   },
   "outputs": [],
   "source": [
    "try:\n",
    "    cat = Cat(\"Fluffy\", age=3, fur=\"white\")\n",
    "    dog = Dog(\"Cherry\", age=1, fur=(\"white\", \"brown\", \"black\"))\n",
    "    fish = Fish(\"King\")\n",
    "    eagle = Eagle(\"Bruce\", age=2)\n",
    "    animals = [cat, dog, fish, eagle]\n",
    "except Exception as e:\n",
    "    print(f'Could not initialize an animal: {e}')"
   ]
  },
  {
   "cell_type": "markdown",
   "metadata": {},
   "source": [
    "Iterate over the list animals and call `make_sound` for each animal. Print either the sound the animal makes or \"XY does not make a sound\" if the animal does not make a sound (fish). This is an example of duck typing."
   ]
  },
  {
   "cell_type": "code",
   "execution_count": null,
   "metadata": {},
   "outputs": [],
   "source": [
    "for animal in animals:\n",
    "    animal.make_sound()"
   ]
  },
  {
   "cell_type": "markdown",
   "metadata": {
    "deletable": false,
    "editable": false,
    "nbgrader": {
     "cell_type": "markdown",
     "checksum": "9ab7ed96dda4b868bc7d9d6b9836dbcf",
     "grade": false,
     "grade_id": "cell-f039448e828a0b68",
     "locked": true,
     "schema_version": 3,
     "solution": false,
     "task": false
    }
   },
   "source": [
    "# ====================== PASSING LEVEL ======================"
   ]
  },
  {
   "cell_type": "markdown",
   "metadata": {
    "deletable": false,
    "editable": false,
    "nbgrader": {
     "cell_type": "markdown",
     "checksum": "560b68252115863601ffd58c2488c84a",
     "grade": false,
     "grade_id": "cell-dbca7bbfe1869f35",
     "locked": true,
     "schema_version": 3,
     "solution": false,
     "task": false
    }
   },
   "source": [
    "# 3. `RationalNumber` class\n",
    "\n",
    "Write a class that represents a rational number. A number is rational if it is can be expressed as the quotient of two integers (`p` and `q`). Define the operators seen in the tests below.\n",
    "\n",
    "Make sure that `p` and `q` are always relative primes (you can use `math.gcd` or - even better - write your own implementation of the [Euclidean algorithm](https://en.wikipedia.org/wiki/Euclidean_algorithm))."
   ]
  },
  {
   "cell_type": "code",
   "execution_count": null,
   "metadata": {
    "deletable": false,
    "nbgrader": {
     "cell_type": "code",
     "checksum": "b8d2c1f7efd1b296bcfe6b07f4f0f7a0",
     "grade": false,
     "grade_id": "cell-0e26530985fd1a9f",
     "locked": false,
     "schema_version": 3,
     "solution": true,
     "task": false
    }
   },
   "outputs": [],
   "source": [
    "# YOUR CODE HERE\n",
    "raise NotImplementedError()"
   ]
  },
  {
   "cell_type": "code",
   "execution_count": null,
   "metadata": {
    "deletable": false,
    "editable": false,
    "nbgrader": {
     "cell_type": "code",
     "checksum": "170613bd39b7654db187d31eb9c214f0",
     "grade": true,
     "grade_id": "cell-911e58f5299b4a3b",
     "locked": true,
     "points": 0,
     "schema_version": 3,
     "solution": false,
     "task": false
    }
   },
   "outputs": [],
   "source": [
    "# Test basic operators\n",
    "r = RationalNumber(43, 2)\n",
    "assert r + r == RationalNumber(43)  # q = 1 in this case\n",
    "assert r * 2 == r + r\n",
    "r1 = RationalNumber(3, 2)\n",
    "r2 = RationalNumber(4, 3)\n",
    "assert r1 * r2 == RationalNumber(12, 6)\n",
    "assert r1 / r2 == RationalNumber(9, 8)\n",
    "assert r1 == RationalNumber(6, 4)\n",
    "r4 = RationalNumber(2, 3)\n",
    "r4.p = 20 * 55\n",
    "r4.q = 55\n",
    "assert r4 == RationalNumber(20)"
   ]
  },
  {
   "cell_type": "markdown",
   "metadata": {
    "deletable": false,
    "editable": false,
    "nbgrader": {
     "cell_type": "markdown",
     "checksum": "c0c62ff4a95d6522faeedde09bff565a",
     "grade": false,
     "grade_id": "cell-98e46665dc766142",
     "locked": true,
     "schema_version": 3,
     "solution": false,
     "task": false
    }
   },
   "source": [
    "You should modify the class definition `RationalNumber` above so that the tests below pass. You do not need to modify the rest of the notebook.\n",
    "\n",
    "Make the class usable as a dictionary key."
   ]
  },
  {
   "cell_type": "code",
   "execution_count": null,
   "metadata": {
    "deletable": false,
    "editable": false,
    "nbgrader": {
     "cell_type": "code",
     "checksum": "451c29924607444770b9fba7087d54f8",
     "grade": true,
     "grade_id": "cell-272f9aac55adf7b1",
     "locked": true,
     "points": 0,
     "schema_version": 3,
     "solution": false,
     "task": false
    }
   },
   "outputs": [],
   "source": [
    "# Test whether class is usable as dict key\n",
    "r1 = RationalNumber(3)\n",
    "r2 = RationalNumber(3, 1)\n",
    "r3 = RationalNumber(3, 2)\n",
    "\n",
    "d = {r1: 1, r2: 2, r3: 12}\n",
    "assert(len(d) == 2)"
   ]
  },
  {
   "cell_type": "markdown",
   "metadata": {
    "deletable": false,
    "editable": false,
    "nbgrader": {
     "cell_type": "markdown",
     "checksum": "7cae3eea3e0554aac15b77f97943078e",
     "grade": false,
     "grade_id": "cell-9ffccc0a68408b56",
     "locked": true,
     "schema_version": 3,
     "solution": false,
     "task": false
    }
   },
   "source": [
    "`p` and `q` can only be integers. Raise a `RationalNumberValueError` if someone tries to set them to anything else."
   ]
  },
  {
   "cell_type": "code",
   "execution_count": null,
   "metadata": {
    "deletable": false,
    "editable": false,
    "nbgrader": {
     "cell_type": "code",
     "checksum": "31c92ea27c04953d775762544788a504",
     "grade": true,
     "grade_id": "cell-879048de3710da83",
     "locked": true,
     "points": 0,
     "schema_version": 3,
     "solution": false,
     "task": false
    }
   },
   "outputs": [],
   "source": [
    "# Test numerator and denominator validation\n",
    "try:\n",
    "    r1.p = 3.4\n",
    "except ValueError:\n",
    "    print(\"This should happen\")\n",
    "else:\n",
    "    print(\"This shouldn't happen\")\n",
    "    \n",
    "try:\n",
    "    r1.q = 3.4\n",
    "except ValueError:\n",
    "    print(\"This should happen\")\n",
    "else:\n",
    "    print(\"This shouldn't happen\")"
   ]
  },
  {
   "cell_type": "markdown",
   "metadata": {
    "deletable": false,
    "editable": false,
    "nbgrader": {
     "cell_type": "markdown",
     "checksum": "ede49f44280a8b01d3f61745e905e5e4",
     "grade": false,
     "grade_id": "cell-aaf983fc37bf0a01",
     "locked": true,
     "schema_version": 3,
     "solution": false,
     "task": false
    }
   },
   "source": [
    "Rational numbers may be negative. Make sure that `q` is never negative."
   ]
  },
  {
   "cell_type": "code",
   "execution_count": null,
   "metadata": {
    "deletable": false,
    "editable": false,
    "nbgrader": {
     "cell_type": "code",
     "checksum": "b47cc567a3495950a821bc94c6431f75",
     "grade": true,
     "grade_id": "cell-fe941e6b2cdbd1e7",
     "locked": true,
     "points": 0,
     "schema_version": 3,
     "solution": false,
     "task": false
    }
   },
   "outputs": [],
   "source": [
    "# Test negative number behaviour\n",
    "r = RationalNumber(3, -2)\n",
    "assert r.p == -3 and r.q == 2\n",
    "assert abs(r) == 1.5"
   ]
  },
  {
   "cell_type": "markdown",
   "metadata": {
    "deletable": false,
    "editable": false,
    "nbgrader": {
     "cell_type": "markdown",
     "checksum": "be4a48984416d689f75c3fd6b9484045",
     "grade": false,
     "grade_id": "cell-2d57c78d11a7cd63",
     "locked": true,
     "schema_version": 3,
     "solution": false,
     "task": false
    }
   },
   "source": [
    "Add a `from_str` factory method which parses the following formats:"
   ]
  },
  {
   "cell_type": "code",
   "execution_count": null,
   "metadata": {
    "deletable": false,
    "editable": false,
    "nbgrader": {
     "cell_type": "code",
     "checksum": "7026c37b61fd9c5aa69348a1d4eb57e8",
     "grade": true,
     "grade_id": "cell-a366521c21fe9379",
     "locked": true,
     "points": 0,
     "schema_version": 3,
     "solution": false,
     "task": false
    }
   },
   "outputs": [],
   "source": [
    "# Test from_str factory method\n",
    "r1 = RationalNumber(-3, 2)\n",
    "r2 = RationalNumber(12, 34)\n",
    "assert RationalNumber.from_str(\"-3/2\") == r1\n",
    "assert RationalNumber.from_str(\"-6/4\") == r1\n",
    "assert RationalNumber.from_str(\"12 / 34\") == r2\n",
    "assert RationalNumber.from_str(\"36/    102\") == r2"
   ]
  },
  {
   "cell_type": "markdown",
   "metadata": {
    "deletable": false,
    "editable": false,
    "nbgrader": {
     "cell_type": "markdown",
     "checksum": "5439f86ccd1e5acff51e196a4301768a",
     "grade": false,
     "grade_id": "cell-6ade04ebf88dd5aa",
     "locked": true,
     "schema_version": 3,
     "solution": false,
     "task": false
    }
   },
   "source": [
    "# ====================== EXTRA LEVEL ======================"
   ]
  }
 ],
 "metadata": {
  "kernelspec": {
   "display_name": "Python 3",
   "language": "python",
   "name": "python3"
  },
  "language_info": {
   "codemirror_mode": {
    "name": "ipython",
    "version": 3
   },
   "file_extension": ".py",
   "mimetype": "text/x-python",
   "name": "python",
   "nbconvert_exporter": "python",
   "pygments_lexer": "ipython3",
   "version": "3.8.5"
  },
  "toc": {
   "base_numbering": 1,
   "nav_menu": {},
   "number_sections": true,
   "sideBar": true,
   "skip_h1_title": false,
   "title_cell": "Table of Contents",
   "title_sidebar": "Contents",
   "toc_cell": false,
   "toc_position": {},
   "toc_section_display": true,
   "toc_window_display": true
  }
 },
 "nbformat": 4,
 "nbformat_minor": 2
}
