{
 "cells": [
  {
   "cell_type": "markdown",
   "metadata": {
    "deletable": false,
    "editable": false,
    "nbgrader": {
     "cell_type": "markdown",
     "checksum": "ac9d3b8df0380829f1d7ac0d9a3954f7",
     "grade": false,
     "grade_id": "cell-b3de947dfe5429b4",
     "locked": true,
     "schema_version": 3,
     "solution": false,
     "task": false
    }
   },
   "source": [
    "# Introduction to Python and Natural Language Technologies\n",
    "\n",
    "__Laboratory 12, Decorators__\n",
    "\n",
    "__May 6, 2021__\n",
    "\n",
    "__Judit Ács__\n",
    "\n",
    "\n",
    "# 1. Function factories\n",
    "\n",
    "## 1.1 Linear polynomial\n",
    "\n",
    "Write a function factory that creates linear polynomials. A linear or first degree polynomial is a function that has two unbound parameters ($a$ and $b$) and bound variable ($x$):\n",
    "\n",
    "\\begin{equation*}\n",
    "f(x) = ax + b.\n",
    "\\end{equation*}\n",
    "\n",
    "Your function factory should return $f(x)$ for fixed $a$ and $b$ values."
   ]
  },
  {
   "cell_type": "code",
   "execution_count": null,
   "metadata": {
    "deletable": false,
    "nbgrader": {
     "cell_type": "code",
     "checksum": "18534c58a5353b4d9f55afa3ce815bcd",
     "grade": false,
     "grade_id": "cell-65ef8ba699dc5597",
     "locked": false,
     "schema_version": 3,
     "solution": true,
     "task": false
    }
   },
   "outputs": [],
   "source": [
    "# YOUR CODE HERE\n",
    "raise NotImplementedError()"
   ]
  },
  {
   "cell_type": "code",
   "execution_count": null,
   "metadata": {
    "deletable": false,
    "editable": false,
    "nbgrader": {
     "cell_type": "code",
     "checksum": "17f200bc1464fa833e5517c4964a0dfa",
     "grade": true,
     "grade_id": "cell-bbfd7e104190c1e5",
     "locked": true,
     "points": 0,
     "schema_version": 3,
     "solution": false,
     "task": false
    }
   },
   "outputs": [],
   "source": [
    "f1 = create_linear_polynomial(1, 0)\n",
    "f2 = create_linear_polynomial(2, -1)\n",
    "\n",
    "assert f1(3) == 3 # 1*3+0 = 3\n",
    "assert f2(5) == 9 # 2*5-1 = 9"
   ]
  },
  {
   "cell_type": "markdown",
   "metadata": {
    "deletable": false,
    "editable": false,
    "nbgrader": {
     "cell_type": "markdown",
     "checksum": "f4b1fddc5831b1403b7c46416d01dd06",
     "grade": false,
     "grade_id": "cell-51a77b95e0aef608",
     "locked": true,
     "schema_version": 3,
     "solution": false,
     "task": false
    }
   },
   "source": [
    "## 1.2 Higher order polynomial\n",
    "\n",
    "Create a polynomial factory for arbitrary degree polynomials:\n",
    "\n",
    "\\begin{equation*}\n",
    "f(x) = a_n  x^n + a_{n-1} x^{n-1} + \\dots + a_1 x + a_0.\n",
    "\\end{equation*}\n",
    "\n",
    "An n-th order polynomial has $n+1$ coefficients including $a_0$."
   ]
  },
  {
   "cell_type": "code",
   "execution_count": null,
   "metadata": {
    "deletable": false,
    "nbgrader": {
     "cell_type": "code",
     "checksum": "f1bf27369c23654ad274daa11f5f71ce",
     "grade": false,
     "grade_id": "cell-0bf01c51186efebf",
     "locked": false,
     "schema_version": 3,
     "solution": true,
     "task": false
    }
   },
   "outputs": [],
   "source": [
    "# YOUR CODE HERE\n",
    "raise NotImplementedError()"
   ]
  },
  {
   "cell_type": "code",
   "execution_count": null,
   "metadata": {
    "deletable": false,
    "editable": false,
    "nbgrader": {
     "cell_type": "code",
     "checksum": "b4143a34d14d79e3922f46a2f355ba5d",
     "grade": true,
     "grade_id": "cell-bd9815b4e215cbcf",
     "locked": true,
     "points": 0,
     "schema_version": 3,
     "solution": false,
     "task": false
    }
   },
   "outputs": [],
   "source": [
    "f1 = create_polynomial(1, 1, 1)\n",
    "assert f1(2) == 7  # 1*x*x + 1*x + 1 = 7, if x = 2\n",
    "\n",
    "f2 = create_polynomial(3)\n",
    "assert f2(10) == 3 and f2(-100) == 3  # constant function\n",
    "\n",
    "f3 = create_polynomial(3, 2, 1, -10)\n",
    "assert f3(2) == 24  # 3*x*x*x + 2*x*x + 1*x - 10 = 24 + 8 + 2 - 10 = 24, if x=2"
   ]
  },
  {
   "cell_type": "markdown",
   "metadata": {
    "deletable": false,
    "editable": false,
    "nbgrader": {
     "cell_type": "markdown",
     "checksum": "610eb32e5ada7d6733e0649c57bf280f",
     "grade": false,
     "grade_id": "cell-3d9adcc6ad15ac47",
     "locked": true,
     "schema_version": 3,
     "solution": false,
     "task": false
    }
   },
   "source": [
    "# 2. Decorators without parameters\n",
    "\n",
    "## 2. 1 Timer decorator\n",
    "\n",
    "Write a timer decorator that prints how many seconds the wrapped function takes to finish. Make sure that the original return value is returned by the wrapped function and function metadata is kept.\n",
    "\n",
    "Create both the function (lowercase `timer`) and the class (uppercase `Timer`) version of the decorator.\n",
    "\n",
    "### function version"
   ]
  },
  {
   "cell_type": "code",
   "execution_count": null,
   "metadata": {
    "deletable": false,
    "nbgrader": {
     "cell_type": "code",
     "checksum": "8b69c2ec373ff8380e010158b418e746",
     "grade": false,
     "grade_id": "cell-6318811453fa0656",
     "locked": false,
     "schema_version": 3,
     "solution": true,
     "task": false
    }
   },
   "outputs": [],
   "source": [
    "from functools import wraps\n",
    "from datetime import datetime\n",
    "\n",
    "def timer(func):\n",
    "    # YOUR CODE HERE\n",
    "    raise NotImplementedError()\n",
    "\n",
    "@timer\n",
    "def fast_func(x, y):\n",
    "    \"\"\"Fast function\"\"\"\n",
    "    for _ in range(1000):\n",
    "        pass\n",
    "    print(x + y)\n",
    "\n",
    "@timer\n",
    "def slow_func():\n",
    "    for _ in range(10000000):\n",
    "        pass\n",
    "\n",
    "@timer\n",
    "def func_with_return(x):\n",
    "    return 2 * x\n",
    "\n",
    "fast_func(2, 3)\n",
    "slow_func()"
   ]
  },
  {
   "cell_type": "code",
   "execution_count": null,
   "metadata": {
    "deletable": false,
    "editable": false,
    "nbgrader": {
     "cell_type": "code",
     "checksum": "4ffa184db10c2f187993ea211504f5c6",
     "grade": true,
     "grade_id": "cell-148b6c1b9ca60a46",
     "locked": true,
     "points": 0,
     "schema_version": 3,
     "solution": false,
     "task": false
    }
   },
   "outputs": [],
   "source": [
    "# Function metadata should be kept intact.\n",
    "assert fast_func.__doc__ == \"Fast function\"\n",
    "\n",
    "# Check return value.\n",
    "assert func_with_return(3) == 6"
   ]
  },
  {
   "cell_type": "markdown",
   "metadata": {
    "deletable": false,
    "editable": false,
    "nbgrader": {
     "cell_type": "markdown",
     "checksum": "1744fb3b69c37ee13d5edcbac46d0f0d",
     "grade": false,
     "grade_id": "cell-7fe13a66188a0f8d",
     "locked": true,
     "schema_version": 3,
     "solution": false,
     "task": false
    }
   },
   "source": [
    "### class version"
   ]
  },
  {
   "cell_type": "code",
   "execution_count": null,
   "metadata": {
    "deletable": false,
    "nbgrader": {
     "cell_type": "code",
     "checksum": "2c4cc282745cfff86fe908c5344a145c",
     "grade": false,
     "grade_id": "cell-0d12c77dea414df3",
     "locked": false,
     "schema_version": 3,
     "solution": true,
     "task": false
    }
   },
   "outputs": [],
   "source": [
    "class Timer:\n",
    "    # YOUR CODE HERE\n",
    "    raise NotImplementedError()\n",
    "   \n",
    "@Timer\n",
    "def fast_func(x, y):\n",
    "    \"\"\"Fast function\"\"\"\n",
    "    for _ in range(1000):\n",
    "        pass\n",
    "    print(x + y)\n",
    "    \n",
    "@Timer\n",
    "def slow_func():\n",
    "    for _ in range(10000000):\n",
    "        pass\n",
    "    \n",
    "@Timer\n",
    "def func_with_return(x):\n",
    "    return 2 * x\n",
    "\n",
    "fast_func(2, 3)\n",
    "slow_func()"
   ]
  },
  {
   "cell_type": "code",
   "execution_count": null,
   "metadata": {
    "deletable": false,
    "editable": false,
    "nbgrader": {
     "cell_type": "code",
     "checksum": "4cb50bbafb01ff5af0f0983ab7fbaa93",
     "grade": true,
     "grade_id": "cell-b4599ad8f4d1ba5c",
     "locked": true,
     "points": 0,
     "schema_version": 3,
     "solution": false,
     "task": false
    }
   },
   "outputs": [],
   "source": [
    "# metadata should be kept intact\n",
    "assert fast_func.__doc__ == \"Fast function\"\n",
    "\n",
    "# check return value\n",
    "assert func_with_return(3) == 6"
   ]
  },
  {
   "cell_type": "markdown",
   "metadata": {
    "deletable": false,
    "editable": false,
    "nbgrader": {
     "cell_type": "markdown",
     "checksum": "c22cdcefb84f0438216ce5318bf354bd",
     "grade": false,
     "grade_id": "cell-73f62434744b6bf7",
     "locked": true,
     "schema_version": 3,
     "solution": false,
     "task": false
    }
   },
   "source": [
    "## 2.2 `<html>` wrapper\n",
    "\n",
    "Create a decorator that wraps a function's output between `<html>` and `</html>`. Write a function and a class version as well. You can assume that the wrapped function returns a string.\n",
    "\n",
    "### function version"
   ]
  },
  {
   "cell_type": "code",
   "execution_count": null,
   "metadata": {
    "deletable": false,
    "nbgrader": {
     "cell_type": "code",
     "checksum": "28e166054804d6cb35a306daae78bbda",
     "grade": false,
     "grade_id": "cell-ff6836aac485f05d",
     "locked": false,
     "schema_version": 3,
     "solution": true,
     "task": false
    }
   },
   "outputs": [],
   "source": [
    "# YOUR CODE HERE\n",
    "raise NotImplementedError()\n",
    "\n",
    "@html_wrapper\n",
    "def greeter(name):\n",
    "    return f\"Hello {name}\"\n",
    "\n",
    "@html_wrapper\n",
    "def greeter_fullname(firstname, lastname, order=\"western\"):\n",
    "    if order == \"western\":\n",
    "        return f\"Hello {firstname} {lastname}\"\n",
    "    elif order == \"eastern\":\n",
    "        return f\"Hello {lastname} {firstname}\""
   ]
  },
  {
   "cell_type": "code",
   "execution_count": null,
   "metadata": {
    "deletable": false,
    "editable": false,
    "nbgrader": {
     "cell_type": "code",
     "checksum": "7998b88c822325eae478032069e2a09b",
     "grade": true,
     "grade_id": "cell-37ddab99b88ebbdf",
     "locked": true,
     "points": 0,
     "schema_version": 3,
     "solution": false,
     "task": false
    }
   },
   "outputs": [],
   "source": [
    "assert greeter.__name__ == 'greeter'\n",
    "assert greeter(\"John\") == \"<html>Hello John</html>\"\n",
    "assert greeter(\"Peter\") == \"<html>Hello Peter</html>\"\n",
    "\n",
    "assert greeter_fullname(\"John\", \"Smith\") == \"<html>Hello John Smith</html>\"\n",
    "assert greeter_fullname(\"John\", \"Smith\", order=\"eastern\") == \"<html>Hello Smith John</html>\""
   ]
  },
  {
   "cell_type": "markdown",
   "metadata": {
    "deletable": false,
    "editable": false,
    "nbgrader": {
     "cell_type": "markdown",
     "checksum": "6732b578b9c44763385caa284957e7fa",
     "grade": false,
     "grade_id": "cell-6e192f4ad0387179",
     "locked": true,
     "schema_version": 3,
     "solution": false,
     "task": false
    }
   },
   "source": [
    "### class version"
   ]
  },
  {
   "cell_type": "code",
   "execution_count": null,
   "metadata": {
    "deletable": false,
    "nbgrader": {
     "cell_type": "code",
     "checksum": "5e38bbea49021a0624b3feb200a2e392",
     "grade": false,
     "grade_id": "cell-c52e9118db15eb5c",
     "locked": false,
     "schema_version": 3,
     "solution": true,
     "task": false
    }
   },
   "outputs": [],
   "source": [
    "# YOUR CODE HERE\n",
    "raise NotImplementedError()\n",
    "\n",
    "@HTMLWrapper\n",
    "def greeter(name):\n",
    "    return f\"Hello {name}\"\n",
    "\n",
    "@html_wrapper\n",
    "def greeter_fullname(firstname, lastname, order=\"western\"):\n",
    "    if order == \"western\":\n",
    "        return f\"Hello {firstname} {lastname}\"\n",
    "    elif order == \"eastern\":\n",
    "        return f\"Hello {lastname} {firstname}\""
   ]
  },
  {
   "cell_type": "code",
   "execution_count": null,
   "metadata": {
    "deletable": false,
    "editable": false,
    "nbgrader": {
     "cell_type": "code",
     "checksum": "55c6cb364ba6ea7d1482857223c98a20",
     "grade": true,
     "grade_id": "cell-d668b5334370c987",
     "locked": true,
     "points": 0,
     "schema_version": 3,
     "solution": false,
     "task": false
    }
   },
   "outputs": [],
   "source": [
    "assert greeter(\"John\") == \"<html>Hello John</html>\"\n",
    "assert greeter(\"Peter\") == \"<html>Hello Peter</html>\"\n",
    "\n",
    "assert greeter_fullname(\"John\", \"Smith\") == \"<html>Hello John Smith</html>\"\n",
    "assert greeter_fullname(\"John\", \"Smith\", order=\"eastern\") == \"<html>Hello Smith John</html>\""
   ]
  },
  {
   "cell_type": "markdown",
   "metadata": {
    "deletable": false,
    "editable": false,
    "nbgrader": {
     "cell_type": "markdown",
     "checksum": "7456de88220e7af2243a90915b9d9530",
     "grade": false,
     "grade_id": "cell-98d4baa297d6cb04",
     "locked": true,
     "schema_version": 3,
     "solution": false,
     "task": false
    }
   },
   "source": [
    "# 3. Decorators with parameters\n",
    "\n",
    "You only need to write a **function version** for the following decorators.\n",
    "\n",
    "## 3.1 Create and arbitrary tag adder.\n",
    "\n",
    "The decorator should take the `tag` as its only parameter and wrap the fuction's output between `<tag>` and `</tag>`."
   ]
  },
  {
   "cell_type": "code",
   "execution_count": null,
   "metadata": {
    "deletable": false,
    "nbgrader": {
     "cell_type": "code",
     "checksum": "e28091c1a5ba5981b75f49f91b297334",
     "grade": false,
     "grade_id": "cell-83625773b580b5f9",
     "locked": false,
     "schema_version": 3,
     "solution": true,
     "task": false
    }
   },
   "outputs": [],
   "source": [
    "# YOUR CODE HERE\n",
    "raise NotImplementedError()\n",
    "\n",
    "@tag_wrapper(\"h1\")\n",
    "def greeter(name):\n",
    "    return f\"Hello {name}\"\n",
    "\n",
    "@tag_wrapper(\"span\")\n",
    "def current_time():\n",
    "    return f\"{datetime.now()}\""
   ]
  },
  {
   "cell_type": "code",
   "execution_count": null,
   "metadata": {
    "deletable": false,
    "editable": false,
    "nbgrader": {
     "cell_type": "code",
     "checksum": "aeb2815c9d2f5f3020f7bed1459bada9",
     "grade": true,
     "grade_id": "cell-5ea808db6f5f4a59",
     "locked": true,
     "points": 0,
     "schema_version": 3,
     "solution": false,
     "task": false
    }
   },
   "outputs": [],
   "source": [
    "print(greeter(\"John\"))\n",
    "assert greeter.__name__ == 'greeter'\n",
    "assert greeter(\"John\") == \"<h1>Hello John</h1>\"\n",
    "\n",
    "ct = current_time()\n",
    "print(ct)\n",
    "\n",
    "assert ct.startswith(\"<span>\") and ct.endswith(\"</span>\")"
   ]
  },
  {
   "cell_type": "markdown",
   "metadata": {
    "deletable": false,
    "editable": false,
    "nbgrader": {
     "cell_type": "markdown",
     "checksum": "7c8387861dbc3c6d2d370df88b7c7ac1",
     "grade": false,
     "grade_id": "cell-eb23b7ee12b395cf",
     "locked": true,
     "schema_version": 3,
     "solution": false,
     "task": false
    }
   },
   "source": [
    "## 3.2 Parameter type checker\n",
    "\n",
    "Create a decorator that takes a type as its parameter and checks every argument of the wrapped function including keyword arguments. If any of them are not instances of that type, it should raise a `TypeError`."
   ]
  },
  {
   "cell_type": "code",
   "execution_count": null,
   "metadata": {
    "deletable": false,
    "nbgrader": {
     "cell_type": "code",
     "checksum": "4251345ed08eef51b4cc4beadc9910e4",
     "grade": false,
     "grade_id": "cell-0812c2e6ab3f8445",
     "locked": false,
     "schema_version": 3,
     "solution": true,
     "task": false
    }
   },
   "outputs": [],
   "source": [
    "# YOUR CODE HERE\n",
    "raise NotImplementedError()\n",
    "\n",
    "@check_type(int)\n",
    "def age_printer(age):\n",
    "    print(f\"I am {age} years old\")\n",
    "    \n",
    "@check_type(int)\n",
    "def double_age(age):\n",
    "    return age * 2\n",
    "\n",
    "@check_type(int)\n",
    "def compare_age(age1, age2=0):\n",
    "    return age1 > age2\n",
    "    \n",
    "age_printer(18)"
   ]
  },
  {
   "cell_type": "code",
   "execution_count": null,
   "metadata": {
    "deletable": false,
    "editable": false,
    "nbgrader": {
     "cell_type": "code",
     "checksum": "e4aa011087959ad556b3eacf6de475da",
     "grade": true,
     "grade_id": "cell-9334061eca3ff160",
     "locked": true,
     "points": 0,
     "schema_version": 3,
     "solution": false,
     "task": false
    }
   },
   "outputs": [],
   "source": [
    "assert age_printer.__name__ == 'age_printer'\n",
    "# return value should not change\n",
    "assert double_age(12) == 24\n",
    "\n",
    "try:\n",
    "    double_age(\"12\")\n",
    "except TypeError:  # a TypeError should be raised since the function's parameter is not an integer\n",
    "    pass\n",
    "\n",
    "assert compare_age(age2=12, age1=11) == False\n",
    "\n",
    "try:\n",
    "    compare_age(20, \"abc\")\n",
    "except TypeError:\n",
    "    pass"
   ]
  },
  {
   "cell_type": "markdown",
   "metadata": {
    "deletable": false,
    "editable": false,
    "nbgrader": {
     "cell_type": "markdown",
     "checksum": "2f4c8c9c45232d702f5682e665514631",
     "grade": false,
     "grade_id": "cell-908bb6a54c6e3866",
     "locked": true,
     "schema_version": 3,
     "solution": false,
     "task": false
    }
   },
   "source": [
    "## 3.3 Only one exception type\n",
    "\n",
    "Write a decorator that makes sure that a function only raises one type of error. If it would raise another exception, raise this type instead."
   ]
  },
  {
   "cell_type": "code",
   "execution_count": null,
   "metadata": {
    "deletable": false,
    "nbgrader": {
     "cell_type": "code",
     "checksum": "321e2bc074de0e2842ab668c08d4324f",
     "grade": false,
     "grade_id": "cell-2c36fd8922a92285",
     "locked": false,
     "schema_version": 3,
     "solution": true,
     "task": false
    }
   },
   "outputs": [],
   "source": [
    "# YOUR CODE HERE\n",
    "raise NotImplementedError()\n",
    "\n",
    "def increment_number(x):\n",
    "    return x + 1  # would raise TypeError if not a number\n",
    "\n",
    "try:\n",
    "    increment_number(\"12\")\n",
    "except TypeError:\n",
    "    print(\"TypeError raised\")\n",
    "    \n",
    "@only_one_exception(ValueError)\n",
    "def increment_number(x):\n",
    "    return x + 1  # would raise TypeError if not a number\n",
    "\n",
    "try:\n",
    "    increment_number(\"12\")\n",
    "except ValueError:\n",
    "    print(\"ValueError raised\")"
   ]
  },
  {
   "cell_type": "markdown",
   "metadata": {
    "deletable": false,
    "editable": false,
    "nbgrader": {
     "cell_type": "markdown",
     "checksum": "76baf7592e62fe412de1fab984432ac4",
     "grade": false,
     "grade_id": "cell-a76d3ffc08c8bce9",
     "locked": true,
     "schema_version": 3,
     "solution": false,
     "task": false
    }
   },
   "source": [
    "# ================= PASSING LEVEL ==================="
   ]
  },
  {
   "cell_type": "markdown",
   "metadata": {
    "deletable": false,
    "editable": false,
    "nbgrader": {
     "cell_type": "markdown",
     "checksum": "f91b09d891f2840b3502b36425b6f5d9",
     "grade": false,
     "grade_id": "cell-f7ad7f84c9b10c5a",
     "locked": true,
     "schema_version": 3,
     "solution": false,
     "task": false
    }
   },
   "source": [
    "## 3.4 Argument validator\n",
    "\n",
    "Create a decorator that takes an arbitrary callable as its parameter and wraps function with one positional parameter. The decorator should 'validate' the parameter with its callable. The callable returns `False` if an argument is invalid, your decorator should raise a `ValueError` when it happens.\n",
    "\n",
    "The decorator should raise a `TypeError` if the function takes anything other than a single positional argument."
   ]
  },
  {
   "cell_type": "code",
   "execution_count": null,
   "metadata": {
    "deletable": false,
    "nbgrader": {
     "cell_type": "code",
     "checksum": "2039a32e4107f757c4068350d21f2913",
     "grade": false,
     "grade_id": "cell-783477140305dc11",
     "locked": false,
     "schema_version": 3,
     "solution": true,
     "task": false
    }
   },
   "outputs": [],
   "source": [
    "# YOUR CODE HERE\n",
    "raise NotImplementedError()\n",
    "        \n",
    "def is_positive_int_convertible(n):\n",
    "    try:\n",
    "        n = int(n)  # raises ValueError if not possible\n",
    "    except ValueError:\n",
    "        return False\n",
    "    return n > 0\n",
    "        \n",
    "\n",
    "@check_param(is_positive_int_convertible)\n",
    "def age_printer(age):\n",
    "    print(f\"Your age is {int(age)}\")\n",
    "        \n",
    "age_printer(12)\n",
    "age_printer(12.0)\n",
    "age_printer(\"12\")"
   ]
  },
  {
   "cell_type": "code",
   "execution_count": null,
   "metadata": {
    "deletable": false,
    "editable": false,
    "nbgrader": {
     "cell_type": "code",
     "checksum": "5e5f0242d409936b25c5aecb58d61a74",
     "grade": true,
     "grade_id": "cell-783477140305dc12",
     "locked": true,
     "points": 0,
     "schema_version": 3,
     "solution": false,
     "task": false
    }
   },
   "outputs": [],
   "source": [
    "try:\n",
    "    age_printer(\"abc\")\n",
    "except ValueError:\n",
    "    print(\"ValueError raised, this should happen\")\n",
    "    \n",
    "try:\n",
    "    age_printer(12, 13)\n",
    "except TypeError:\n",
    "    print(\"TypeError raised, this should happen\")"
   ]
  },
  {
   "cell_type": "markdown",
   "metadata": {
    "deletable": false,
    "editable": false,
    "nbgrader": {
     "cell_type": "markdown",
     "checksum": "830457c97742a2ee90d2252baa5b5993",
     "grade": false,
     "grade_id": "cell-b005df847ca1f225",
     "locked": true,
     "schema_version": 3,
     "solution": false,
     "task": false
    }
   },
   "source": [
    "## 3.5 Check all arguments"
   ]
  },
  {
   "cell_type": "code",
   "execution_count": null,
   "metadata": {
    "deletable": false,
    "nbgrader": {
     "cell_type": "code",
     "checksum": "34917ce879c2ccc93c1979db8f38dff1",
     "grade": false,
     "grade_id": "cell-6236e49e197c6605",
     "locked": false,
     "schema_version": 3,
     "solution": true,
     "task": false
    }
   },
   "outputs": [],
   "source": [
    "import string\n",
    "from functools import wraps\n",
    "\n",
    "\n",
    "# YOUR CODE HERE\n",
    "raise NotImplementedError()\n",
    "        \n",
    "\n",
    "def is_positive_int_convertible(n):\n",
    "    try:\n",
    "        n = int(n)  # raises ValueError if not possible\n",
    "    except ValueError:\n",
    "        return False\n",
    "    return n > 0\n",
    "        \n",
    "    \n",
    "def is_hungarian_name(name):\n",
    "    if not name.istitle():\n",
    "        return False\n",
    "    non_ascii = set(list(\"áéíóöőúüű\")) \n",
    "    letters = non_ascii | set(string.ascii_lowercase) | set(' ')\n",
    "    name_letters = set(list(name.lower()))\n",
    "    return name_letters < letters\n",
    "        \n",
    "\n",
    "@check_all_arguments(is_hungarian_name, is_positive_int_convertible, height=is_positive_int_convertible)\n",
    "def serialize_hun_person_data(name, age, height=160):\n",
    "    return f\"Name: {name}, age: {age}, height: {height}\""
   ]
  },
  {
   "cell_type": "code",
   "execution_count": null,
   "metadata": {
    "deletable": false,
    "editable": false,
    "nbgrader": {
     "cell_type": "code",
     "checksum": "7d634881bfb62dc32bafb53563eb1c2a",
     "grade": true,
     "grade_id": "cell-c339018b03d78467",
     "locked": true,
     "points": 0,
     "schema_version": 3,
     "solution": false,
     "task": false
    }
   },
   "outputs": [],
   "source": [
    "assert serialize_hun_person_data.__name__ == 'serialize_hun_person_data'\n",
    "assert serialize_hun_person_data(\"Péter Kovács\", \"25\", height=180) == \"Name: Péter Kovács, age: 25, height: 180\"\n",
    "\n",
    "icelandic_name = \"Aðalheiður\"\n",
    "try:\n",
    "    serialize_hun_person_data(icelandic_name, \"25\", height=180)\n",
    "except ValueError:\n",
    "    pass\n",
    "else:\n",
    "    raise AssertionError(\"Expected a ValueError.\")"
   ]
  },
  {
   "cell_type": "markdown",
   "metadata": {
    "deletable": false,
    "editable": false,
    "nbgrader": {
     "cell_type": "markdown",
     "checksum": "c17492235f4114bcf43988ce2229ebb6",
     "grade": false,
     "grade_id": "cell-3924b5375ee9ce70",
     "locked": true,
     "schema_version": 3,
     "solution": false,
     "task": false
    }
   },
   "source": [
    "### 3.5.1 Using the previous decorators define a serializer function that only serializes names in your native language or another language besides English if you are Hungarian. Add tests for valid and invalid inputs."
   ]
  },
  {
   "cell_type": "code",
   "execution_count": null,
   "metadata": {
    "deletable": false,
    "nbgrader": {
     "cell_type": "code",
     "checksum": "e60d2edce3f55ad19cdf6e2f2ebb6d58",
     "grade": false,
     "grade_id": "cell-76bf99472768dde0",
     "locked": false,
     "schema_version": 3,
     "solution": true,
     "task": false
    }
   },
   "outputs": [],
   "source": [
    "# YOUR CODE HERE\n",
    "raise NotImplementedError()"
   ]
  },
  {
   "cell_type": "markdown",
   "metadata": {
    "deletable": false,
    "editable": false,
    "nbgrader": {
     "cell_type": "markdown",
     "checksum": "a7d7952f56cd94292802005f95904d2e",
     "grade": false,
     "grade_id": "cell-90e0a5e458eccf8d",
     "locked": true,
     "schema_version": 3,
     "solution": false,
     "task": false
    }
   },
   "source": [
    "# ================= EXTRA LEVEL ==================="
   ]
  },
  {
   "cell_type": "markdown",
   "metadata": {
    "deletable": false,
    "editable": false,
    "nbgrader": {
     "cell_type": "markdown",
     "checksum": "1a9235b089db820f4ec00d717b0b3739",
     "grade": false,
     "grade_id": "cell-2cf3ef32dc512c03",
     "locked": true,
     "schema_version": 3,
     "solution": false,
     "task": false
    }
   },
   "source": [
    "Some of these exercises are borrowed from these sources:\n",
    "\n",
    "- https://www.python-course.eu/python3_decorators.php\n",
    "- https://github.com/manahl/PythonTrainingExercises"
   ]
  }
 ],
 "metadata": {
  "kernelspec": {
   "display_name": "Python 3",
   "language": "python",
   "name": "python3"
  },
  "language_info": {
   "codemirror_mode": {
    "name": "ipython",
    "version": 3
   },
   "file_extension": ".py",
   "mimetype": "text/x-python",
   "name": "python",
   "nbconvert_exporter": "python",
   "pygments_lexer": "ipython3",
   "version": "3.8.8"
  },
  "toc": {
   "base_numbering": 1,
   "nav_menu": {},
   "number_sections": true,
   "sideBar": true,
   "skip_h1_title": false,
   "title_cell": "Table of Contents",
   "title_sidebar": "Contents",
   "toc_cell": false,
   "toc_position": {
    "height": "calc(100% - 180px)",
    "left": "10px",
    "top": "150px",
    "width": "384px"
   },
   "toc_section_display": true,
   "toc_window_display": true
  }
 },
 "nbformat": 4,
 "nbformat_minor": 2
}
