{
 "cells": [
  {
   "cell_type": "markdown",
   "metadata": {},
   "source": [
    "# Introduction to Python and Natural Language Technologies\n",
    "\n",
    "__Laboratory 05, Data science, Handling text data, Pandas__\n",
    "\n",
    "__March 11, 2021__\n",
    "\n",
    "__Judit Ács, Ádám Kovács__\n"
   ]
  },
  {
   "cell_type": "code",
   "execution_count": null,
   "metadata": {},
   "outputs": [],
   "source": [
    "import pandas as pd  # by convention we use the pd alias\n",
    "%matplotlib inline\n",
    "import matplotlib\n",
    "import numpy as np\n",
    "\n",
    "# make our charts pretier\n",
    "matplotlib.style.use('ggplot')\n",
    "matplotlib.pyplot.rcParams['figure.figsize'] = (15, 3)\n",
    "matplotlib.pyplot.rcParams['font.family'] = 'sans-serif'"
   ]
  },
  {
   "cell_type": "markdown",
   "metadata": {},
   "source": [
    "We are going to work with the MovieLens dataset. First, we need to download it. http://grouplens.org/datasets/movielens/\n",
    "\n",
    "Download the file only if it wasn't before."
   ]
  },
  {
   "cell_type": "code",
   "execution_count": null,
   "metadata": {},
   "outputs": [],
   "source": [
    "import os\n",
    "\n",
    "data_dir = os.getenv(\"MOVIELENS\")\n",
    "if data_dir is None:\n",
    "    data_dir = \"\"\n",
    "\n",
    "ml_path = os.path.join(data_dir, \"ml.zip\")\n",
    "\n",
    "if not os.path.exists(ml_path):\n",
    "    print(\"Download data\")\n",
    "    import urllib\n",
    "    u = urllib.request.URLopener()\n",
    "    u.retrieve(\"http://files.grouplens.org/datasets/movielens/ml-100k.zip\", ml_path)\n",
    "    print(\"Data downloaded\")"
   ]
  },
  {
   "cell_type": "code",
   "execution_count": null,
   "metadata": {},
   "outputs": [],
   "source": [
    "unzip_path = os.path.join(data_dir, \"ml-100k\")\n",
    "\n",
    "if not os.path.exists(unzip_path):\n",
    "    print(\"Extracting data\")\n",
    "    from zipfile import ZipFile\n",
    "    with ZipFile(ml_path) as myzip:\n",
    "        myzip.extractall(data_dir)\n",
    "    print(\"Data extraction done\")\n",
    "        \n",
    "data_dir = unzip_path"
   ]
  },
  {
   "cell_type": "markdown",
   "metadata": {},
   "source": [
    "## Importing and preprocessing the data"
   ]
  },
  {
   "cell_type": "code",
   "execution_count": null,
   "metadata": {},
   "outputs": [],
   "source": [
    "column_names = [\n",
    "    \"movie_id\", \"title\", \"release_date\", \"video_release_date\", \"imdb_url\", \"unknown\", \"action\", \"adventure\", \"animation\",\n",
    "    \"children\", \"comedy\", \"crime\", \"documentary\", \"drama\", \"fantasy\", \"film_noir\", \"horror\", \"musical\", \"mystery\",\n",
    "    \"romance\", \"sci_fi\", \"thriller\", \"war\", \"western\"]\n",
    "\n",
    "df = pd.read_table(\n",
    "    os.path.join(data_dir, \"u.item\"), sep=\"|\",\n",
    "    names=column_names, encoding=\"latin1\", index_col='movie_id')\n",
    "df.head()"
   ]
  },
  {
   "cell_type": "markdown",
   "metadata": {},
   "source": [
    "We have two columns representing dates: release_date, video_release_date. Pandas can parse dates in multiple ways, we only need to give the columns in the parse_dates parameter. Note that null values changed from Nan (not a number) to NaT (not a time)."
   ]
  },
  {
   "cell_type": "code",
   "execution_count": null,
   "metadata": {},
   "outputs": [],
   "source": [
    "df = pd.read_table(os.path.join(data_dir, \"u.item\"), sep=\"|\",\n",
    "                   names=column_names, encoding=\"latin1\",\n",
    "                   parse_dates=[2,3], index_col='movie_id')\n",
    "df.head()"
   ]
  },
  {
   "cell_type": "markdown",
   "metadata": {},
   "source": [
    "Our solution is still not perfect, because after the title of the movies, the date is present in parentheses. We need to get rid of them, because this information is redundant and generates noise in the DataFrame.\n",
    "\n",
    "Regular expressions can be used to delete the date between the parentheses. After we delete the remaining whitespaces as well (the strip function deletes the whitespaces in the beginning and in the end of the string as well). Finally we can use our new stripped title instead of the old one."
   ]
  },
  {
   "cell_type": "code",
   "execution_count": null,
   "metadata": {},
   "outputs": [],
   "source": [
    "df.title = df.title.str.replace(r'\\(.*\\)', '').str.strip()"
   ]
  },
  {
   "cell_type": "markdown",
   "metadata": {},
   "source": [
    "The video_release_date attribute contains invalid information in the first fields. We need to check that it contains valid information before using it. We can list those fields where the video_release value is not NaT (not invalid value)."
   ]
  },
  {
   "cell_type": "code",
   "execution_count": null,
   "metadata": {},
   "outputs": [],
   "source": [
    "df[df.video_release_date.notnull()]"
   ]
  },
  {
   "cell_type": "code",
   "execution_count": null,
   "metadata": {},
   "outputs": [],
   "source": [
    "df = df.drop('video_release_date', axis=1)\n",
    "df.head()"
   ]
  },
  {
   "cell_type": "code",
   "execution_count": null,
   "metadata": {},
   "outputs": [],
   "source": [
    "df = df.drop('unknown', axis=1)\n",
    "\n",
    "df['year'] = df.release_date.dt.year"
   ]
  },
  {
   "cell_type": "markdown",
   "metadata": {},
   "source": [
    "# 1. Simple queries"
   ]
  },
  {
   "cell_type": "markdown",
   "metadata": {},
   "source": [
    "## 1.1. How many action movies were released before 1985? How many were released in 1985 or after 1985?"
   ]
  },
  {
   "cell_type": "code",
   "execution_count": null,
   "metadata": {
    "deletable": false,
    "nbgrader": {
     "cell_type": "code",
     "checksum": "32b82f059d94cad0691056db65a34a98",
     "grade": false,
     "grade_id": "cell-a6d9f849226e84a6",
     "locked": false,
     "schema_version": 3,
     "solution": true,
     "task": false
    }
   },
   "outputs": [],
   "source": [
    "def count_movies_before_1985(df):\n",
    "    # YOUR CODE HERE\n",
    "    raise NotImplementedError()\n",
    "    \n",
    "def count_movies_after_1984(df):\n",
    "    # YOUR CODE HERE\n",
    "    raise NotImplementedError()"
   ]
  },
  {
   "cell_type": "code",
   "execution_count": null,
   "metadata": {
    "deletable": false,
    "editable": false,
    "nbgrader": {
     "cell_type": "code",
     "checksum": "67cba8b7f2d94ca20a120603835060ee",
     "grade": true,
     "grade_id": "cell-6409566728b3b404",
     "locked": true,
     "points": 0,
     "schema_version": 3,
     "solution": false,
     "task": false
    }
   },
   "outputs": [],
   "source": [
    "before = count_movies_before_1985(df)\n",
    "print(before)\n",
    "assert type(before) == int\n",
    "\n",
    "after = count_movies_after_1984(df)\n",
    "print(after)\n",
    "assert type(after) == int"
   ]
  },
  {
   "cell_type": "markdown",
   "metadata": {},
   "source": [
    "## 1.2. Is there a thriller movie for children? Search for an example and retrieve the title of the movie."
   ]
  },
  {
   "cell_type": "code",
   "execution_count": null,
   "metadata": {
    "deletable": false,
    "nbgrader": {
     "cell_type": "code",
     "checksum": "86479cebe9959f2258c8a45a8e5ffe5f",
     "grade": false,
     "grade_id": "cell-d46536497a65aae3",
     "locked": false,
     "schema_version": 3,
     "solution": true,
     "task": false
    }
   },
   "outputs": [],
   "source": [
    "def child_thriller(df):\n",
    "    # YOUR CODE HERE\n",
    "    raise NotImplementedError()"
   ]
  },
  {
   "cell_type": "code",
   "execution_count": null,
   "metadata": {
    "deletable": false,
    "editable": false,
    "nbgrader": {
     "cell_type": "code",
     "checksum": "ba3c46df47dad35cb5a2207169fc54cf",
     "grade": true,
     "grade_id": "cell-f6e7bb5685da6c75",
     "locked": true,
     "points": 0,
     "schema_version": 3,
     "solution": false,
     "task": false
    }
   },
   "outputs": [],
   "source": [
    "title = child_thriller(df)\n",
    "assert type(title) == str"
   ]
  },
  {
   "cell_type": "markdown",
   "metadata": {},
   "source": [
    "## 1.3. How many movies have longer title than 30 character?"
   ]
  },
  {
   "cell_type": "code",
   "execution_count": null,
   "metadata": {
    "deletable": false,
    "nbgrader": {
     "cell_type": "code",
     "checksum": "bccc0776d79c128c269540e3a619f420",
     "grade": false,
     "grade_id": "cell-5ae0ad5a050dba9b",
     "locked": false,
     "schema_version": 3,
     "solution": true,
     "task": false
    }
   },
   "outputs": [],
   "source": [
    "def long_titles(df):\n",
    "    # YOUR CODE HERE\n",
    "    raise NotImplementedError()"
   ]
  },
  {
   "cell_type": "code",
   "execution_count": null,
   "metadata": {
    "deletable": false,
    "editable": false,
    "nbgrader": {
     "cell_type": "code",
     "checksum": "33373f3d8569350d1b4ead7e179c0884",
     "grade": true,
     "grade_id": "cell-50de3ed55a0b6257",
     "locked": true,
     "points": 0,
     "schema_version": 3,
     "solution": false,
     "task": false
    }
   },
   "outputs": [],
   "source": [
    "title_cnt = long_titles(df)\n",
    "assert type(title_cnt) == int"
   ]
  },
  {
   "cell_type": "markdown",
   "metadata": {},
   "source": [
    "# Task 2: grouping and visualization\n",
    "\n",
    "## 2.1. Group the comedies by year. Visualize how many comedies were relesead annually in a bar chart."
   ]
  },
  {
   "cell_type": "code",
   "execution_count": null,
   "metadata": {
    "deletable": false,
    "nbgrader": {
     "cell_type": "code",
     "checksum": "fbb59e1afb4df6c6b446676e0a2fdaf9",
     "grade": false,
     "grade_id": "cell-61d50e44f83a57e3",
     "locked": false,
     "schema_version": 3,
     "solution": true,
     "task": false
    }
   },
   "outputs": [],
   "source": [
    "def comedy_by_year(df):\n",
    "    # YOUR CODE HERE\n",
    "    raise NotImplementedError()"
   ]
  },
  {
   "cell_type": "code",
   "execution_count": null,
   "metadata": {
    "deletable": false,
    "editable": false,
    "nbgrader": {
     "cell_type": "code",
     "checksum": "115de6a190e656cb2eb93c56f648e563",
     "grade": true,
     "grade_id": "cell-5bb79f5737426583",
     "locked": true,
     "points": 0,
     "schema_version": 3,
     "solution": false,
     "task": false
    }
   },
   "outputs": [],
   "source": [
    "c = comedy_by_year(df)\n",
    "assert type(c) == pd.core.groupby.DataFrameGroupBy"
   ]
  },
  {
   "cell_type": "code",
   "execution_count": null,
   "metadata": {},
   "outputs": [],
   "source": []
  },
  {
   "cell_type": "markdown",
   "metadata": {},
   "source": [
    "## 2.2. Visualize the distribution of the release days (days of the month) in a pie chart! "
   ]
  },
  {
   "cell_type": "code",
   "execution_count": null,
   "metadata": {
    "deletable": false,
    "nbgrader": {
     "cell_type": "code",
     "checksum": "a6cfe01804f17468cc65c5467f519b7e",
     "grade": false,
     "grade_id": "cell-7aaa9066956934d3",
     "locked": false,
     "schema_version": 3,
     "solution": true,
     "task": false
    }
   },
   "outputs": [],
   "source": [
    "def groupby_release_day(df):\n",
    "    # YOUR CODE HERE\n",
    "    raise NotImplementedError()"
   ]
  },
  {
   "cell_type": "code",
   "execution_count": null,
   "metadata": {
    "deletable": false,
    "editable": false,
    "nbgrader": {
     "cell_type": "code",
     "checksum": "d05584d291ff335347a1695ba465f14b",
     "grade": true,
     "grade_id": "cell-e147292555aef8bc",
     "locked": true,
     "points": 0,
     "schema_version": 3,
     "solution": false,
     "task": false
    }
   },
   "outputs": [],
   "source": [
    "by_day = groupby_release_day(df)\n",
    "assert type(by_day) == pd.core.groupby.DataFrameGroupBy\n",
    "\n",
    "# a month is 32 days at most\n",
    "assert len(by_day) < 32\n",
    "\n",
    "# don't group by the weekdays\n",
    "assert len(by_day) > 7"
   ]
  },
  {
   "cell_type": "markdown",
   "metadata": {},
   "source": [
    "## 2.3. We want to make a traditional lexicon from the movies. Count the starting letters in the titles of the movies. Visualize it in a pie chart.\n",
    "\n",
    "### Group the movies by the starting letters."
   ]
  },
  {
   "cell_type": "code",
   "execution_count": null,
   "metadata": {
    "deletable": false,
    "nbgrader": {
     "cell_type": "code",
     "checksum": "133d98f1a6e6872980bf51d9ac66159f",
     "grade": false,
     "grade_id": "cell-0609e8fff3c61e42",
     "locked": false,
     "schema_version": 3,
     "solution": true,
     "task": false
    }
   },
   "outputs": [],
   "source": [
    "def groupby_initial_letter(df):\n",
    "    # YOUR CODE HERE\n",
    "    raise NotImplementedError()"
   ]
  },
  {
   "cell_type": "code",
   "execution_count": null,
   "metadata": {
    "deletable": false,
    "editable": false,
    "nbgrader": {
     "cell_type": "code",
     "checksum": "1b5db4b444081d9cf6019d7a6e6b4604",
     "grade": true,
     "grade_id": "cell-f57633af4eaf4503",
     "locked": true,
     "points": 0,
     "schema_version": 3,
     "solution": false,
     "task": false
    }
   },
   "outputs": [],
   "source": [
    "initial = groupby_initial_letter(df)\n",
    "\n",
    "assert type(initial) == pd.core.groupby.DataFrameGroupBy"
   ]
  },
  {
   "cell_type": "code",
   "execution_count": null,
   "metadata": {},
   "outputs": [],
   "source": []
  },
  {
   "cell_type": "markdown",
   "metadata": {},
   "source": [
    "# Handling multiple dataframes, e.g.merge"
   ]
  },
  {
   "cell_type": "code",
   "execution_count": null,
   "metadata": {},
   "outputs": [],
   "source": [
    "cols = ['user', 'movie_id', 'rating', 'timestamp']\n",
    "ratings = pd.read_table(os.path.join(data_dir, \"u.data\"), names=cols)"
   ]
  },
  {
   "cell_type": "code",
   "execution_count": null,
   "metadata": {},
   "outputs": [],
   "source": [
    "ratings['timestamp'] = pd.to_datetime(ratings.timestamp, unit='s')\n",
    "ratings.head()"
   ]
  },
  {
   "cell_type": "code",
   "execution_count": null,
   "metadata": {},
   "outputs": [],
   "source": [
    "movies = df"
   ]
  },
  {
   "cell_type": "code",
   "execution_count": null,
   "metadata": {},
   "outputs": [],
   "source": [
    "ratings = pd.merge(ratings, movies, left_on='movie_id', right_index=True)\n",
    "ratings.head()"
   ]
  },
  {
   "cell_type": "markdown",
   "metadata": {},
   "source": [
    "# Task 3: merge\n",
    "\n",
    "## Q3.1. How many movies got a rating greater than 4 atleast once?\n",
    "\n",
    "WARNING! The title of a movie is not necessarily unique!"
   ]
  },
  {
   "cell_type": "code",
   "execution_count": null,
   "metadata": {
    "deletable": false,
    "nbgrader": {
     "cell_type": "code",
     "checksum": "0482757aa4e2f4d7bc3d2e721258a036",
     "grade": false,
     "grade_id": "cell-bc5b4bb056a78a8d",
     "locked": false,
     "schema_version": 3,
     "solution": true,
     "task": false
    }
   },
   "outputs": [],
   "source": [
    "def count_greater_than_4(ratings):\n",
    "    # YOUR CODE HERE\n",
    "    raise NotImplementedError()"
   ]
  },
  {
   "cell_type": "code",
   "execution_count": null,
   "metadata": {
    "deletable": false,
    "editable": false,
    "nbgrader": {
     "cell_type": "code",
     "checksum": "d86cb74cef0ebbe772673a361f19446e",
     "grade": true,
     "grade_id": "cell-5092844632321049",
     "locked": true,
     "points": 0,
     "schema_version": 3,
     "solution": false,
     "task": false
    }
   },
   "outputs": [],
   "source": [
    "greater = count_greater_than_4(ratings)\n",
    "\n",
    "assert type(greater) == int\n",
    "assert greater != 1160  # titles are NOT UNIQUE"
   ]
  },
  {
   "cell_type": "markdown",
   "metadata": {},
   "source": [
    "## Q3.2. All of the ratings contain a timestamp. What is the average of the ratings by the weekdays?\n",
    "What are the days when the people are kinder?\n",
    "\n",
    "Hint: look at the `dt` namespace (dt.weekday)."
   ]
  },
  {
   "cell_type": "code",
   "execution_count": null,
   "metadata": {
    "deletable": false,
    "nbgrader": {
     "cell_type": "code",
     "checksum": "afe2ae5694833ea849e4978088355097",
     "grade": false,
     "grade_id": "cell-370c6a5e998bf9e1",
     "locked": false,
     "schema_version": 3,
     "solution": true,
     "task": false
    }
   },
   "outputs": [],
   "source": [
    "def rating_mean_by_weekday(ratings):\n",
    "    # YOUR CODE HERE\n",
    "    raise NotImplementedError()"
   ]
  },
  {
   "cell_type": "code",
   "execution_count": null,
   "metadata": {
    "deletable": false,
    "editable": false,
    "nbgrader": {
     "cell_type": "code",
     "checksum": "13d90d2f0cbc30b0e74e877ae36f79c1",
     "grade": true,
     "grade_id": "cell-799b69f41e2fe697",
     "locked": true,
     "points": 0,
     "schema_version": 3,
     "solution": false,
     "task": false
    }
   },
   "outputs": [],
   "source": [
    "weekday_mean = rating_mean_by_weekday(ratings)\n",
    "\n",
    "assert type(weekday_mean) == pd.Series\n",
    "assert type(weekday_mean) != pd.DataFrame  # only one column is needed"
   ]
  },
  {
   "cell_type": "markdown",
   "metadata": {},
   "source": [
    "# ===================== PASSING LEVEL ======================"
   ]
  },
  {
   "cell_type": "markdown",
   "metadata": {},
   "source": [
    "## \\*2. Write function, that groups by multiple columns and returns the biggest group.\n",
    "\n",
    "Hint: the `GroupBy` object's `get_group` function returns a group."
   ]
  },
  {
   "cell_type": "code",
   "execution_count": null,
   "metadata": {
    "deletable": false,
    "nbgrader": {
     "cell_type": "code",
     "checksum": "b1e8aaeb72d417843297afd5700ee8b2",
     "grade": false,
     "grade_id": "cell-a208eb3072ce198f",
     "locked": false,
     "schema_version": 3,
     "solution": true,
     "task": false
    }
   },
   "outputs": [],
   "source": [
    "def get_largest_group(df, groupby_columns):\n",
    "    # YOUR CODE HERE\n",
    "    raise NotImplementedError()"
   ]
  },
  {
   "cell_type": "code",
   "execution_count": null,
   "metadata": {
    "deletable": false,
    "editable": false,
    "nbgrader": {
     "cell_type": "code",
     "checksum": "e9f9a0419acfad220fb86008e07056bd",
     "grade": true,
     "grade_id": "cell-f75e5f43dcc0ae2f",
     "locked": true,
     "points": 0,
     "schema_version": 3,
     "solution": false,
     "task": false
    }
   },
   "outputs": [],
   "source": [
    "genres = [\"drama\"]\n",
    "drama_largest = get_largest_group(df, genres)\n",
    "\n",
    "assert type(drama_largest) == pd.DataFrame\n",
    "assert len(drama_largest) == 957\n",
    "\n",
    "genres = [\"drama\", \"comedy\"]\n",
    "both_largest = get_largest_group(df, genres)\n",
    "\n",
    "# the labels are the same in the comedies and dramas\n",
    "assert both_largest[[\"comedy\", \"drama\"]].nunique().loc[\"comedy\"] == 1\n",
    "assert both_largest[[\"comedy\", \"drama\"]].nunique().loc[\"drama\"] == 1\n",
    "print(both_largest.shape)"
   ]
  },
  {
   "cell_type": "markdown",
   "metadata": {},
   "source": [
    "# Task 4: Users DataFrame"
   ]
  },
  {
   "cell_type": "markdown",
   "metadata": {},
   "source": [
    "## 4.1 Read in the u.user file into a DataFrame named `users`.\n",
    "\n",
    "The columns: `user_id, age, gender, occupation, zip`. The column `user_id` should be the id of the `DataFrame`."
   ]
  },
  {
   "cell_type": "code",
   "execution_count": null,
   "metadata": {
    "deletable": false,
    "nbgrader": {
     "cell_type": "code",
     "checksum": "66b2e64c6226e2d89a75fd0d8d847c9c",
     "grade": false,
     "grade_id": "cell-38df144a9d59533a",
     "locked": false,
     "schema_version": 3,
     "solution": true,
     "task": false
    }
   },
   "outputs": [],
   "source": [
    "# users = ...\n",
    "# YOUR CODE HERE\n",
    "raise NotImplementedError()"
   ]
  },
  {
   "cell_type": "code",
   "execution_count": null,
   "metadata": {
    "deletable": false,
    "editable": false,
    "nbgrader": {
     "cell_type": "code",
     "checksum": "8c8fdf927dabc7f85d85ce86770548a9",
     "grade": true,
     "grade_id": "cell-440184d32c95edab",
     "locked": true,
     "points": 0,
     "schema_version": 3,
     "solution": false,
     "task": false
    }
   },
   "outputs": [],
   "source": [
    "assert type(users) == pd.DataFrame\n",
    "\n",
    "# user_id starts from 1\n",
    "assert 0 not in users.index"
   ]
  },
  {
   "cell_type": "code",
   "execution_count": null,
   "metadata": {
    "deletable": false,
    "nbgrader": {
     "cell_type": "code",
     "checksum": "bd18c0484cfc106a5459ae8233309962",
     "grade": false,
     "grade_id": "cell-e1d138205e96f1e7",
     "locked": false,
     "schema_version": 3,
     "solution": true,
     "task": false
    }
   },
   "outputs": [],
   "source": [
    "# ratings = ratings.merge...\n",
    "# YOUR CODE HERE\n",
    "raise NotImplementedError()"
   ]
  },
  {
   "cell_type": "code",
   "execution_count": null,
   "metadata": {
    "deletable": false,
    "editable": false,
    "nbgrader": {
     "cell_type": "code",
     "checksum": "85c5baf1aace26d7d7afa0fbbf72edc7",
     "grade": true,
     "grade_id": "cell-bfa34fd228965b9d",
     "locked": true,
     "points": 0,
     "schema_version": 3,
     "solution": false,
     "task": false
    }
   },
   "outputs": [],
   "source": [
    "assert type(ratings) == pd.DataFrame\n",
    "assert ratings.shape == (100000, 30)"
   ]
  },
  {
   "cell_type": "markdown",
   "metadata": {},
   "source": [
    "## 4.2. What is the count of the ratings given by people with occupation pgrogrammer and marketing? Visualize it by the hours of a day (24h). \n",
    "\n",
    "Hint:\n",
    "\n",
    "1. use the `timestamp` field from the rating table,\n",
    "1. you can use two cells for the solution,\n",
    "1. how many slice the pie chart will have.\n",
    "\n",
    "Implement a function that returns a given occupation's ratings by hour."
   ]
  },
  {
   "cell_type": "code",
   "execution_count": null,
   "metadata": {
    "deletable": false,
    "nbgrader": {
     "cell_type": "code",
     "checksum": "716de53611a42aa734476f8c94cb0560",
     "grade": false,
     "grade_id": "cell-30df65ef05769fc9",
     "locked": false,
     "schema_version": 3,
     "solution": true,
     "task": false
    }
   },
   "outputs": [],
   "source": [
    "def occupation_cnt_by_hour(ratings, occupation):\n",
    "    # YOUR CODE HERE\n",
    "    raise NotImplementedError()"
   ]
  },
  {
   "cell_type": "code",
   "execution_count": null,
   "metadata": {
    "deletable": false,
    "editable": false,
    "nbgrader": {
     "cell_type": "code",
     "checksum": "6824ffd244b49e18d90eccdea6214b52",
     "grade": true,
     "grade_id": "cell-d841e31111855852",
     "locked": true,
     "points": 0,
     "schema_version": 3,
     "solution": false,
     "task": false
    }
   },
   "outputs": [],
   "source": [
    "marketing = occupation_cnt_by_hour(ratings, \"marketing\")\n",
    "assert type(marketing) == pd.Series\n",
    "\n",
    "# 24h is in a day\n",
    "assert len(marketing) < 25"
   ]
  },
  {
   "cell_type": "markdown",
   "metadata": {},
   "source": [
    "###  Visualize the marketers and the programmers rating hours.\n",
    "\n",
    "First the marketers:"
   ]
  },
  {
   "cell_type": "code",
   "execution_count": null,
   "metadata": {
    "deletable": false,
    "nbgrader": {
     "cell_type": "code",
     "checksum": "82cc6b89cbe4283e19fe67daf75d1471",
     "grade": true,
     "grade_id": "cell-79a5c7e0d1599929",
     "locked": false,
     "points": 0,
     "schema_version": 3,
     "solution": true,
     "task": false
    }
   },
   "outputs": [],
   "source": [
    "# YOUR CODE HERE\n",
    "raise NotImplementedError()"
   ]
  },
  {
   "cell_type": "code",
   "execution_count": null,
   "metadata": {},
   "outputs": [],
   "source": [
    "programmer = occupation_cnt_by_hour(ratings, \"programmer\")"
   ]
  },
  {
   "cell_type": "code",
   "execution_count": null,
   "metadata": {
    "deletable": false,
    "nbgrader": {
     "cell_type": "code",
     "checksum": "005ddc82b3d40392fcacfeb3b04e5d42",
     "grade": true,
     "grade_id": "cell-ced951a772a7dc0b",
     "locked": false,
     "points": 0,
     "schema_version": 3,
     "solution": true,
     "task": false
    }
   },
   "outputs": [],
   "source": [
    "# YOUR CODE HERE\n",
    "raise NotImplementedError()"
   ]
  },
  {
   "cell_type": "markdown",
   "metadata": {},
   "source": [
    "# ===================== EXTRA LEVEL ======================"
   ]
  },
  {
   "cell_type": "code",
   "execution_count": null,
   "metadata": {},
   "outputs": [],
   "source": []
  },
  {
   "cell_type": "code",
   "execution_count": null,
   "metadata": {},
   "outputs": [],
   "source": []
  },
  {
   "cell_type": "code",
   "execution_count": null,
   "metadata": {},
   "outputs": [],
   "source": []
  }
 ],
 "metadata": {
  "kernelspec": {
   "display_name": "Python 3",
   "language": "python",
   "name": "python3"
  },
  "language_info": {
   "codemirror_mode": {
    "name": "ipython",
    "version": 3
   },
   "file_extension": ".py",
   "mimetype": "text/x-python",
   "name": "python",
   "nbconvert_exporter": "python",
   "pygments_lexer": "ipython3",
   "version": "3.7.4"
  }
 },
 "nbformat": 4,
 "nbformat_minor": 4
}
