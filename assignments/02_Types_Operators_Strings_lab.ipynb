{
 "cells": [
  {
   "cell_type": "markdown",
   "metadata": {
    "deletable": false,
    "editable": false,
    "nbgrader": {
     "cell_type": "markdown",
     "checksum": "f9abbc6a547e90bc64993870bfd0179a",
     "grade": false,
     "grade_id": "cell-b32cc7a0861f7655",
     "locked": true,
     "schema_version": 3,
     "solution": false,
     "task": false
    }
   },
   "source": [
    "# Introduction to Python and Natural Language Technologies\n",
    "\n",
    "__Laboratory 02, Type system and built-in types__\n",
    "\n",
    "__Feb 18, 2021__\n",
    "\n",
    "\n",
    "We will use the wikipedia module for some exercises. It can be installed by running pip from Jupyter:\n",
    "\n",
    "The Python Standard Library has solutions for many of these tasks but you should solve them without relying on the standard library."
   ]
  },
  {
   "cell_type": "code",
   "execution_count": null,
   "metadata": {},
   "outputs": [],
   "source": [
    "! pip install wikipedia"
   ]
  },
  {
   "cell_type": "markdown",
   "metadata": {
    "deletable": false,
    "editable": false,
    "nbgrader": {
     "cell_type": "markdown",
     "checksum": "278581dc95c79f1f6dae5c7fd4e46355",
     "grade": false,
     "grade_id": "cell-76aee6a76b5a3976",
     "locked": true,
     "schema_version": 3,
     "solution": false,
     "task": false
    }
   },
   "source": [
    "# 1. Define a function that takes a sequence as its input and returns whether the sequence is symmetric. A sequence is symmetric if it is equal to its reverse."
   ]
  },
  {
   "cell_type": "code",
   "execution_count": null,
   "metadata": {
    "deletable": false,
    "nbgrader": {
     "cell_type": "code",
     "checksum": "fa5cf582d5918fcc3f83632867234881",
     "grade": false,
     "grade_id": "cell-9063e2fba9c7157d",
     "locked": false,
     "schema_version": 3,
     "solution": true,
     "task": false
    }
   },
   "outputs": [],
   "source": [
    "# YOUR CODE HERE\n",
    "raise NotImplementedError()"
   ]
  },
  {
   "cell_type": "code",
   "execution_count": null,
   "metadata": {
    "deletable": false,
    "editable": false,
    "nbgrader": {
     "cell_type": "code",
     "checksum": "84a0b7f469a1f3b112efee3cc2eb4e06",
     "grade": true,
     "grade_id": "cell-58b3ad7e361196e7",
     "locked": true,
     "points": 0,
     "schema_version": 3,
     "solution": false,
     "task": false
    }
   },
   "outputs": [],
   "source": [
    "assert is_symmetric([1]) == True\n",
    "assert is_symmetric([None, None]) == True\n",
    "assert is_symmetric([]) == True\n",
    "assert is_symmetric([1, 2, 3, 1]) == False\n",
    "assert is_symmetric([1, \"foo\", \"bar\", \"foo\", 1]) == True\n",
    "assert is_symmetric(\"abcba\") == True\n",
    "assert is_symmetric(list(range(100)) + list(range(99, -1, -1))) == True\n",
    "assert is_symmetric(list(range(100)) + list(range(100, 0, -1))) == False\n",
    "assert is_symmetric([1, \"1\"]) == False"
   ]
  },
  {
   "cell_type": "markdown",
   "metadata": {
    "deletable": false,
    "editable": false,
    "nbgrader": {
     "cell_type": "markdown",
     "checksum": "8e8695fb9e7bf170f33dd75a2ede4a43",
     "grade": false,
     "grade_id": "cell-5073d9dd17789bcf",
     "locked": true,
     "schema_version": 3,
     "solution": false,
     "task": false
    }
   },
   "source": [
    "# 2. Define a function that takes a sequence and counts the frequency of each element in the list. The function should return a dictionary of the counts.\n",
    "\n",
    "Do not use the `collections` module."
   ]
  },
  {
   "cell_type": "code",
   "execution_count": null,
   "metadata": {
    "deletable": false,
    "nbgrader": {
     "cell_type": "code",
     "checksum": "73e1b8726b322de7b0a883810749a59d",
     "grade": false,
     "grade_id": "cell-d36bfd560f1b29a3",
     "locked": false,
     "schema_version": 3,
     "solution": true,
     "task": false
    }
   },
   "outputs": [],
   "source": [
    "# YOUR CODE HERE\n",
    "raise NotImplementedError()"
   ]
  },
  {
   "cell_type": "code",
   "execution_count": null,
   "metadata": {
    "deletable": false,
    "editable": false,
    "nbgrader": {
     "cell_type": "code",
     "checksum": "6688cfa535efb65b06fec6ce820f7077",
     "grade": true,
     "grade_id": "cell-5175730489a10307",
     "locked": true,
     "points": 0,
     "schema_version": 3,
     "solution": false,
     "task": false
    }
   },
   "outputs": [],
   "source": [
    "# test for list\n",
    "assert count_elements([1, 2, 0, 1, 1]) == {1: 3, 2: 1, 0: 1}\n",
    "# test for tuple\n",
    "assert count_elements((1, 2, 0, 1, 1)) == {1: 3, 2: 1, 0: 1}\n",
    "# test empty list\n",
    "assert count_elements([]) == {}\n",
    "# test mixed types\n",
    "assert count_elements([1, \"1\", 1]) == {1: 2, \"1\": 1}"
   ]
  },
  {
   "cell_type": "markdown",
   "metadata": {
    "deletable": false,
    "editable": false,
    "nbgrader": {
     "cell_type": "markdown",
     "checksum": "a53e6eb882038523a41487839cbaf9e6",
     "grade": false,
     "grade_id": "cell-3ff21ab0f0a271e3",
     "locked": true,
     "schema_version": 3,
     "solution": false,
     "task": false
    }
   },
   "source": [
    "# 3. Define a function that takes a list of lists and decided if it is a matrix. A list of lists is a matrix if each nested list is the same length."
   ]
  },
  {
   "cell_type": "code",
   "execution_count": null,
   "metadata": {
    "deletable": false,
    "nbgrader": {
     "cell_type": "code",
     "checksum": "1e8206f402442b88e543379b500409d5",
     "grade": false,
     "grade_id": "cell-90b341f4b426d33d",
     "locked": false,
     "schema_version": 3,
     "solution": true,
     "task": false
    }
   },
   "outputs": [],
   "source": [
    "# YOUR CODE HERE\n",
    "raise NotImplementedError()"
   ]
  },
  {
   "cell_type": "code",
   "execution_count": null,
   "metadata": {
    "deletable": false,
    "editable": false,
    "nbgrader": {
     "cell_type": "code",
     "checksum": "99de1c1c141770d40e506faffc505598",
     "grade": true,
     "grade_id": "cell-218d090c410748b5",
     "locked": true,
     "points": 0,
     "schema_version": 3,
     "solution": false,
     "task": false
    }
   },
   "outputs": [],
   "source": [
    "assert is_matrix([]) == True\n",
    "assert is_matrix([[], []]) == True\n",
    "assert is_matrix([[1, 2], [2, 1]]) == True\n",
    "assert is_matrix([[1], [2, 1]]) == False\n",
    "assert is_matrix([[1, 2], [2, 1], [3, 4]]) == True\n",
    "assert is_matrix([[1, 2], [2, 1], [3, 4, 5]]) == False"
   ]
  },
  {
   "cell_type": "markdown",
   "metadata": {
    "deletable": false,
    "editable": false,
    "nbgrader": {
     "cell_type": "markdown",
     "checksum": "7db9cf61385ccac0cde013fda5bf4eb8",
     "grade": false,
     "grade_id": "cell-31ee0faefb4af111",
     "locked": true,
     "schema_version": 3,
     "solution": false,
     "task": false
    }
   },
   "source": [
    "# 4. Define a function that takes a string as its input and return a dictionary with the character frequencies.\n",
    "\n",
    "Do not use the `collections` module."
   ]
  },
  {
   "cell_type": "code",
   "execution_count": null,
   "metadata": {
    "deletable": false,
    "nbgrader": {
     "cell_type": "code",
     "checksum": "8506743122a0b94c80856ef506a52943",
     "grade": false,
     "grade_id": "cell-7fbaf8610be225a9",
     "locked": false,
     "schema_version": 3,
     "solution": true,
     "task": false
    }
   },
   "outputs": [],
   "source": [
    "# YOUR CODE HERE\n",
    "raise NotImplementedError()"
   ]
  },
  {
   "cell_type": "code",
   "execution_count": null,
   "metadata": {
    "deletable": false,
    "editable": false,
    "nbgrader": {
     "cell_type": "code",
     "checksum": "52200c9736d423d134ab3e144affca1c",
     "grade": true,
     "grade_id": "cell-ecedb93a6c391539",
     "locked": true,
     "points": 0,
     "schema_version": 3,
     "solution": false,
     "task": false
    }
   },
   "outputs": [],
   "source": [
    "assert char_freq(\"aba\") == {\"a\": 2, \"b\": 1}\n",
    "assert char_freq(\"\") == {}\n",
    "assert char_freq(\"ab\" * 100 + \"cd\") == {\"a\": 100, \"b\": 100, \"c\": 1, \"d\": 1}"
   ]
  },
  {
   "cell_type": "markdown",
   "metadata": {
    "deletable": false,
    "editable": false,
    "nbgrader": {
     "cell_type": "markdown",
     "checksum": "fe1534fd1e1311b0ad7834b5275da0bd",
     "grade": false,
     "grade_id": "cell-ec941b4366dbd59f",
     "locked": true,
     "schema_version": 3,
     "solution": false,
     "task": false
    }
   },
   "source": [
    "# 5. Define a function that computes word frequencies in a text.\n",
    "\n",
    "You can split the text with `text.split()`:"
   ]
  },
  {
   "cell_type": "code",
   "execution_count": null,
   "metadata": {
    "deletable": false,
    "nbgrader": {
     "cell_type": "code",
     "checksum": "bf8a0b5a81497db7772c518226de81b4",
     "grade": false,
     "grade_id": "cell-4d4d473dd807f962",
     "locked": false,
     "schema_version": 3,
     "solution": true,
     "task": false
    }
   },
   "outputs": [],
   "source": [
    "# YOUR CODE HERE\n",
    "raise NotImplementedError()"
   ]
  },
  {
   "cell_type": "code",
   "execution_count": null,
   "metadata": {
    "deletable": false,
    "editable": false,
    "nbgrader": {
     "cell_type": "code",
     "checksum": "31eeed51dc8875995720946b609f10f9",
     "grade": true,
     "grade_id": "cell-1c299c2c935129e7",
     "locked": true,
     "points": 0,
     "schema_version": 3,
     "solution": false,
     "task": false
    }
   },
   "outputs": [],
   "source": [
    "s = \"the green tea and the black tea\"\n",
    "assert(word_freq(s) == {\"the\": 2, \"tea\": 2, \"green\": 1, \"black\": 1, \"and\": 1})\n",
    "assert(word_freq(\"\") == {})"
   ]
  },
  {
   "cell_type": "markdown",
   "metadata": {
    "deletable": false,
    "editable": false,
    "nbgrader": {
     "cell_type": "markdown",
     "checksum": "b7a0504ee16c0ac64f74aeae3018869b",
     "grade": false,
     "grade_id": "cell-843a6eedcc531992",
     "locked": true,
     "schema_version": 3,
     "solution": false,
     "task": false
    }
   },
   "source": [
    "# Wikipedia module\n",
    "\n",
    "The following exercises use the `wikipedia` package. The basic usage is illustrated below.\n",
    "\n",
    "The documentation is available [here](https://pypi.python.org/pypi/wikipedia/).\n",
    "\n",
    "Searching for pages:"
   ]
  },
  {
   "cell_type": "code",
   "execution_count": null,
   "metadata": {},
   "outputs": [],
   "source": [
    "import wikipedia\n",
    "\n",
    "results = wikipedia.search(\"Budapest\")\n",
    "results"
   ]
  },
  {
   "cell_type": "markdown",
   "metadata": {
    "deletable": false,
    "editable": false,
    "nbgrader": {
     "cell_type": "markdown",
     "checksum": "42e7bc1a469601ae635fe2d7d8f428ac",
     "grade": false,
     "grade_id": "cell-78e29f2660bc6fbf",
     "locked": true,
     "schema_version": 3,
     "solution": false,
     "task": false
    }
   },
   "source": [
    "Downloading an article:"
   ]
  },
  {
   "cell_type": "code",
   "execution_count": null,
   "metadata": {},
   "outputs": [],
   "source": [
    "article = wikipedia.page(\"Budapest\")\n",
    "\n",
    "article.summary[:100]"
   ]
  },
  {
   "cell_type": "markdown",
   "metadata": {
    "deletable": false,
    "editable": false,
    "nbgrader": {
     "cell_type": "markdown",
     "checksum": "3b7cd156e6f361932e5cd2eafd0f3888",
     "grade": false,
     "grade_id": "cell-dc32405bbfb31d99",
     "locked": true,
     "schema_version": 3,
     "solution": false,
     "task": false
    }
   },
   "source": [
    "The content attribute contains the full text:"
   ]
  },
  {
   "cell_type": "code",
   "execution_count": null,
   "metadata": {},
   "outputs": [],
   "source": [
    "type(article.content), len(article.content)"
   ]
  },
  {
   "cell_type": "markdown",
   "metadata": {
    "deletable": false,
    "editable": false,
    "nbgrader": {
     "cell_type": "markdown",
     "checksum": "0c48587c5a71b46669047f43917b37f0",
     "grade": false,
     "grade_id": "cell-ebc4708eb9ec8edb",
     "locked": true,
     "schema_version": 3,
     "solution": false,
     "task": false
    }
   },
   "source": [
    "By default the module downloads the English Wikipedia. The language can be changed the following way:"
   ]
  },
  {
   "cell_type": "code",
   "execution_count": null,
   "metadata": {},
   "outputs": [],
   "source": [
    "wikipedia.set_lang(\"fr\")"
   ]
  },
  {
   "cell_type": "code",
   "execution_count": null,
   "metadata": {},
   "outputs": [],
   "source": [
    "wikipedia.search(\"Budapest\")"
   ]
  },
  {
   "cell_type": "code",
   "execution_count": null,
   "metadata": {},
   "outputs": [],
   "source": [
    "fr_article = wikipedia.page(\"Budapest\")\n",
    "fr_article.summary[:100]"
   ]
  },
  {
   "cell_type": "code",
   "execution_count": null,
   "metadata": {},
   "outputs": [],
   "source": [
    "wikipedia.set_lang(\"en\")"
   ]
  },
  {
   "cell_type": "markdown",
   "metadata": {
    "deletable": false,
    "editable": false,
    "nbgrader": {
     "cell_type": "markdown",
     "checksum": "9c592a30a3b33cb34d80ae5f8627e261",
     "grade": false,
     "grade_id": "cell-95be16d5cc290d23",
     "locked": true,
     "schema_version": 3,
     "solution": false,
     "task": false
    }
   },
   "source": [
    "# 6. Build a small Wikipedia corpus by downloading pages until their character count exceeds 100000. The corpus should be a list of strings.\n",
    "\n",
    "You can download arbitrary pages but some pages redirect to disambiguation pages. You should not pick these. Make sure the same page is not included multiple times."
   ]
  },
  {
   "cell_type": "code",
   "execution_count": null,
   "metadata": {
    "deletable": false,
    "nbgrader": {
     "cell_type": "code",
     "checksum": "04c921ddca419c1b935dfad982d37f2b",
     "grade": false,
     "grade_id": "cell-2e7be91b99158dca",
     "locked": false,
     "schema_version": 3,
     "solution": true,
     "task": false
    }
   },
   "outputs": [],
   "source": [
    "# YOUR CODE HERE\n",
    "raise NotImplementedError()"
   ]
  },
  {
   "cell_type": "code",
   "execution_count": null,
   "metadata": {
    "deletable": false,
    "editable": false,
    "nbgrader": {
     "cell_type": "code",
     "checksum": "8a57a47196fbde22767a5bba8d6325c6",
     "grade": true,
     "grade_id": "cell-f26aa917928c62c8",
     "locked": true,
     "points": 0,
     "schema_version": 3,
     "solution": false,
     "task": false
    }
   },
   "outputs": [],
   "source": [
    "corpus = build_wikipedia_corpus()\n",
    "# check types\n",
    "assert isinstance(corpus, list)\n",
    "assert isinstance(corpus[0], str)\n",
    "\n",
    "# check character count\n",
    "sum_length = 0\n",
    "for document in corpus:\n",
    "    sum_length += len(document)\n",
    "assert sum_length >= 100000\n",
    "\n",
    "# no duplicate pages\n",
    "assert len(set(corpus)) == len(corpus)"
   ]
  },
  {
   "cell_type": "markdown",
   "metadata": {
    "deletable": false,
    "editable": false,
    "nbgrader": {
     "cell_type": "markdown",
     "checksum": "2d7cb4ec4e169dab9b058956bd9a0896",
     "grade": false,
     "grade_id": "cell-c560b4af51f932f1",
     "locked": true,
     "schema_version": 3,
     "solution": false,
     "task": false
    }
   },
   "source": [
    "# 7. Add a `min_char` parameter to `build_wikipedia_corpus` that defaults to 10000. You should stop building the corpus when this number is reached."
   ]
  },
  {
   "cell_type": "code",
   "execution_count": null,
   "metadata": {
    "deletable": false,
    "nbgrader": {
     "cell_type": "code",
     "checksum": "84ae0263b8784b0d38ac61698af0f108",
     "grade": false,
     "grade_id": "cell-bf7ffeba0644e753",
     "locked": false,
     "schema_version": 3,
     "solution": true,
     "task": false
    }
   },
   "outputs": [],
   "source": [
    "# YOUR CODE HERE\n",
    "raise NotImplementedError()"
   ]
  },
  {
   "cell_type": "code",
   "execution_count": null,
   "metadata": {
    "deletable": false,
    "editable": false,
    "nbgrader": {
     "cell_type": "code",
     "checksum": "6387b9a5558d0727f8499e2f221a15ea",
     "grade": true,
     "grade_id": "cell-68c3de00731699f8",
     "locked": true,
     "points": 0,
     "schema_version": 3,
     "solution": false,
     "task": false
    }
   },
   "outputs": [],
   "source": [
    "corpus = build_wikipedia_corpus(1000)\n",
    "# check types\n",
    "assert isinstance(corpus, list)\n",
    "assert isinstance(corpus[0], str)\n",
    "\n",
    "# check character count\n",
    "sum_length = 0\n",
    "for document in corpus:\n",
    "    sum_length += len(document)\n",
    "assert sum_length >= 1000\n",
    "# shouldn't be too long\n",
    "assert sum_length < 100000"
   ]
  },
  {
   "cell_type": "markdown",
   "metadata": {
    "deletable": false,
    "editable": false,
    "nbgrader": {
     "cell_type": "markdown",
     "checksum": "75073ad6ba6196b4f5aaf19070d3ba80",
     "grade": false,
     "grade_id": "cell-a132e8fee5967805",
     "locked": true,
     "schema_version": 3,
     "solution": false,
     "task": false
    }
   },
   "source": [
    "# 8. Using your previously defined function compute the word frequencies of your Wikipedia corpus. Print the ten most frequent words and their frequency in the following format:\n",
    "\n",
    "```\n",
    "a<TAB>12\n",
    "an<TAB>11\n",
    "```\n",
    "\n",
    "You can use str.split() for word tokenization:"
   ]
  },
  {
   "cell_type": "code",
   "execution_count": null,
   "metadata": {},
   "outputs": [],
   "source": [
    "\"This is a short sentence\".split()"
   ]
  },
  {
   "cell_type": "markdown",
   "metadata": {},
   "source": [
    "There are no tests for this task. Try to come up with your own tests."
   ]
  },
  {
   "cell_type": "code",
   "execution_count": null,
   "metadata": {
    "deletable": false,
    "nbgrader": {
     "cell_type": "code",
     "checksum": "89d05c60444f08d053de876b028847c6",
     "grade": true,
     "grade_id": "cell-8c167ceb2a4c65f1",
     "locked": false,
     "points": 0,
     "schema_version": 3,
     "solution": true,
     "task": false
    }
   },
   "outputs": [],
   "source": [
    "# def get_corpus_word_frequencies(corpus):\n",
    "# YOUR CODE HERE\n",
    "raise NotImplementedError()"
   ]
  },
  {
   "cell_type": "markdown",
   "metadata": {},
   "source": [
    "Your own tests go here:"
   ]
  },
  {
   "cell_type": "code",
   "execution_count": null,
   "metadata": {
    "deletable": false,
    "nbgrader": {
     "cell_type": "code",
     "checksum": "47dcbb8984ee748a925c1c870e99e851",
     "grade": true,
     "grade_id": "cell-d17a9e499c13bd35",
     "locked": false,
     "points": 0,
     "schema_version": 3,
     "solution": true,
     "task": false
    }
   },
   "outputs": [],
   "source": [
    "# YOUR CODE HERE\n",
    "raise NotImplementedError()"
   ]
  },
  {
   "cell_type": "markdown",
   "metadata": {
    "deletable": false,
    "editable": false,
    "nbgrader": {
     "cell_type": "markdown",
     "checksum": "fc43c546b8282c181bae900dad5cc24a",
     "grade": false,
     "grade_id": "cell-2ff6396d150fb578",
     "locked": true,
     "schema_version": 3,
     "solution": false,
     "task": false
    }
   },
   "source": [
    "# 9. Define a function that takes a matrix as an input represented as a list of lists. Return its transpose without changing the original matrix.\n",
    "\n",
    "Raise a `ValueError` if the input is not a valid matrix. Don't forget to reuse your code."
   ]
  },
  {
   "cell_type": "code",
   "execution_count": null,
   "metadata": {
    "deletable": false,
    "nbgrader": {
     "cell_type": "code",
     "checksum": "6d72fe6b282df6792f21ba7bb1609def",
     "grade": false,
     "grade_id": "cell-adee24575dcbac8e",
     "locked": false,
     "schema_version": 3,
     "solution": true,
     "task": false
    }
   },
   "outputs": [],
   "source": [
    "# YOUR CODE HERE\n",
    "raise NotImplementedError()"
   ]
  },
  {
   "cell_type": "code",
   "execution_count": null,
   "metadata": {
    "deletable": false,
    "editable": false,
    "nbgrader": {
     "cell_type": "code",
     "checksum": "9d08fec0037fb8856de9eee735de1c41",
     "grade": true,
     "grade_id": "cell-9b412cb3d0c0506a",
     "locked": true,
     "points": 0,
     "schema_version": 3,
     "solution": false,
     "task": false
    }
   },
   "outputs": [],
   "source": [
    "m1 = [[1, 2, 3], [4, 5, 6]]\n",
    "m2 = [[1, 4], [2, 5], [3, 6]]\n",
    "\n",
    "assert transpose([[1]]) == [[1]]\n",
    "assert transpose(m1) == m2\n",
    "# m1 is unchanged\n",
    "assert m1 == [[1, 2, 3], [4, 5, 6]]\n",
    "\n",
    "# transpose is an involution (self-inverse)\n",
    "assert transpose(transpose(m1)) == m1"
   ]
  },
  {
   "cell_type": "markdown",
   "metadata": {
    "deletable": false,
    "editable": false,
    "nbgrader": {
     "cell_type": "markdown",
     "checksum": "dfedac3eb337a1aec414cfb89c03743c",
     "grade": false,
     "grade_id": "cell-c4a31f29b4440ab7",
     "locked": true,
     "schema_version": 3,
     "solution": false,
     "task": false
    }
   },
   "source": [
    "# =================== PASSING LEVEL ==================="
   ]
  },
  {
   "cell_type": "markdown",
   "metadata": {
    "deletable": false,
    "editable": false,
    "nbgrader": {
     "cell_type": "markdown",
     "checksum": "af09dfee3a45b3f12805336251b11b50",
     "grade": false,
     "grade_id": "cell-6447dbadcb503d60",
     "locked": true,
     "schema_version": 3,
     "solution": false,
     "task": false
    }
   },
   "source": [
    "# 10. Define a function that takes a matrix as its input and returns the row-wise maximum elements as a list.\n",
    "\n",
    "Raise a `ValueError` if the input is not a valid matrix. Don't forget to reuse your code."
   ]
  },
  {
   "cell_type": "code",
   "execution_count": null,
   "metadata": {
    "deletable": false,
    "nbgrader": {
     "cell_type": "code",
     "checksum": "2652c8da70bda918810c923555ce3aab",
     "grade": false,
     "grade_id": "cell-21f91aada57c0332",
     "locked": false,
     "schema_version": 3,
     "solution": true,
     "task": false
    }
   },
   "outputs": [],
   "source": [
    "# YOUR CODE HERE\n",
    "raise NotImplementedError()"
   ]
  },
  {
   "cell_type": "code",
   "execution_count": null,
   "metadata": {
    "deletable": false,
    "editable": false,
    "nbgrader": {
     "cell_type": "code",
     "checksum": "84dc281a4e151fab5cc1de34393b39fe",
     "grade": true,
     "grade_id": "cell-eb440f91ea977032",
     "locked": true,
     "points": 0,
     "schema_version": 3,
     "solution": false,
     "task": false
    }
   },
   "outputs": [],
   "source": [
    "assert rowwise_max(\n",
    "    [\n",
    "        [1, 2, 3],\n",
    "        [1, 4, 3],\n",
    "        [1, 5, 3],\n",
    "    ]\n",
    ") == [3, 4, 5]\n",
    "\n",
    "assert rowwise_max([list(range(1000))]) == [999]\n",
    "assert rowwise_max(transpose([list(range(1000))])) == list(range(1000))"
   ]
  },
  {
   "cell_type": "markdown",
   "metadata": {
    "deletable": false,
    "editable": false,
    "nbgrader": {
     "cell_type": "markdown",
     "checksum": "214a4cbebabaa0fd0654d0e9ad4dd4d8",
     "grade": false,
     "grade_id": "cell-d497ed3bf67b2435",
     "locked": true,
     "schema_version": 3,
     "solution": false,
     "task": false
    }
   },
   "source": [
    "# 11. Define a function that takes a matrix as its input and returns the column-wise maximum elements as a list.\n",
    "\n",
    "Try to reuse your previous functions."
   ]
  },
  {
   "cell_type": "code",
   "execution_count": null,
   "metadata": {
    "deletable": false,
    "nbgrader": {
     "cell_type": "code",
     "checksum": "b9ea1d5db6192330853b033b5b00ab43",
     "grade": false,
     "grade_id": "cell-bde0cb9cf8d75c89",
     "locked": false,
     "schema_version": 3,
     "solution": true,
     "task": false
    }
   },
   "outputs": [],
   "source": [
    "# YOUR CODE HERE\n",
    "raise NotImplementedError()"
   ]
  },
  {
   "cell_type": "code",
   "execution_count": null,
   "metadata": {
    "deletable": false,
    "editable": false,
    "nbgrader": {
     "cell_type": "code",
     "checksum": "67e8f62d880879ee73c971bd9e667455",
     "grade": true,
     "grade_id": "cell-142e6034ed15005b",
     "locked": true,
     "points": 0,
     "schema_version": 3,
     "solution": false,
     "task": false
    }
   },
   "outputs": [],
   "source": [
    "assert columnwise_max(\n",
    "    [\n",
    "        [1, 2, 3],\n",
    "        [1, 4, 3],\n",
    "        [1, 5, 3],\n",
    "    ]\n",
    ") == [1, 5, 3]\n",
    "\n",
    "assert columnwise_max([list(range(1000))]) == list(range(1000))\n",
    "assert columnwise_max(transpose([list(range(1000))])) == [999]"
   ]
  },
  {
   "cell_type": "markdown",
   "metadata": {
    "deletable": false,
    "editable": false,
    "nbgrader": {
     "cell_type": "markdown",
     "checksum": "c44f8deb060d1a9accc319a3137829b4",
     "grade": false,
     "grade_id": "cell-82d37f261c619b9e",
     "locked": true,
     "schema_version": 3,
     "solution": false,
     "task": false
    }
   },
   "source": [
    "# 12. Define a function that takes two strings and decides whether they are anagrams. A string is an anagram of another string if its letters can be rearranged so that it equals the other string.¶\n",
    "\n",
    "For example:\n",
    "\n",
    "```\n",
    "abc -- bac\n",
    "aabb -- abab\n",
    "```\n",
    "\n",
    "Counter examples:\n",
    "\n",
    "```\n",
    "abc -- aabc\n",
    "abab -- aaab\n",
    "```"
   ]
  },
  {
   "cell_type": "code",
   "execution_count": null,
   "metadata": {
    "deletable": false,
    "nbgrader": {
     "cell_type": "code",
     "checksum": "239926542f0f02b5b5ff53eb054593d4",
     "grade": false,
     "grade_id": "cell-7ea849b6ffc4421a",
     "locked": false,
     "schema_version": 3,
     "solution": true,
     "task": false
    }
   },
   "outputs": [],
   "source": [
    "# YOUR CODE HERE\n",
    "raise NotImplementedError()"
   ]
  },
  {
   "cell_type": "code",
   "execution_count": null,
   "metadata": {
    "deletable": false,
    "editable": false,
    "nbgrader": {
     "cell_type": "code",
     "checksum": "1480867d2f286ae588aabb1ad3764806",
     "grade": true,
     "grade_id": "cell-231f78d971a5d48b",
     "locked": true,
     "points": 0,
     "schema_version": 3,
     "solution": false,
     "task": false
    }
   },
   "outputs": [],
   "source": [
    "assert(are_anagrams(\"\", \"\") == True)\n",
    "assert(are_anagrams(\"abc\", \"bac\") == True)\n",
    "assert(are_anagrams(\"aabb\", \"abab\") == True)\n",
    "assert(are_anagrams(\"abab\", \"aaab\") == False)"
   ]
  },
  {
   "cell_type": "markdown",
   "metadata": {
    "deletable": false,
    "editable": false,
    "nbgrader": {
     "cell_type": "markdown",
     "checksum": "0a1b0ff891715aff9f4d67a39fc7ff13",
     "grade": false,
     "grade_id": "cell-cbdd6bbffa43903d",
     "locked": true,
     "schema_version": 3,
     "solution": false,
     "task": false
    }
   },
   "source": [
    "# =================== EXTRA LEVEL ==================="
   ]
  },
  {
   "cell_type": "markdown",
   "metadata": {
    "deletable": false,
    "editable": false,
    "nbgrader": {
     "cell_type": "markdown",
     "checksum": "0f4ec1c3715ae50174cff6bb47b579b1",
     "grade": false,
     "grade_id": "cell-c7ab3adcb5a39bac",
     "locked": true,
     "schema_version": 3,
     "solution": false,
     "task": false
    }
   },
   "source": [
    "# 13. Define a function that takes a string and returns its bigram frequencies as a dictionary.\n",
    "\n",
    "Character bigrams are pairs of subsequent characters. For example word apple contains the following bigrams: ap, pp, pl, le.\n",
    "\n",
    "Do not use the `collections` module."
   ]
  },
  {
   "cell_type": "code",
   "execution_count": null,
   "metadata": {
    "deletable": false,
    "nbgrader": {
     "cell_type": "code",
     "checksum": "cb4f46142309d3a4026db197d82c46db",
     "grade": false,
     "grade_id": "cell-2669edc3d29b28b6",
     "locked": false,
     "schema_version": 3,
     "solution": true,
     "task": false
    }
   },
   "outputs": [],
   "source": [
    "# YOUR CODE HERE\n",
    "raise NotImplementedError()"
   ]
  },
  {
   "cell_type": "code",
   "execution_count": null,
   "metadata": {
    "deletable": false,
    "editable": false,
    "nbgrader": {
     "cell_type": "code",
     "checksum": "ca77aa08b2033e56d518598ffa742a3e",
     "grade": true,
     "grade_id": "cell-5a3764a1d0909393",
     "locked": true,
     "points": 0,
     "schema_version": 3,
     "solution": false,
     "task": false
    }
   },
   "outputs": [],
   "source": [
    "assert get_char_bigrams(\"apple\") == {'ap': 1, 'pp': 1, 'pl': 1, 'le': 1}\n",
    "assert get_char_bigrams(\"apple apple\") == {'ap': 2, 'pp': 2, 'pl': 2, 'le': 2, 'e ': 1, ' a': 1}"
   ]
  },
  {
   "cell_type": "markdown",
   "metadata": {
    "deletable": false,
    "editable": false,
    "nbgrader": {
     "cell_type": "markdown",
     "checksum": "830214de40bd0f2c956aa356bf32bc88",
     "grade": false,
     "grade_id": "cell-6121a01202b8b3f4",
     "locked": true,
     "schema_version": 3,
     "solution": false,
     "task": false
    }
   },
   "source": [
    "# 14. Define a function that takes two vectors represented as lists and returns their L2 distance.\n",
    "\n",
    "Also called Euclidean distance."
   ]
  },
  {
   "cell_type": "code",
   "execution_count": null,
   "metadata": {
    "deletable": false,
    "nbgrader": {
     "cell_type": "code",
     "checksum": "7c89e75bbe528f9924c297e03cb3d898",
     "grade": false,
     "grade_id": "cell-849b6ea4c65f058e",
     "locked": false,
     "schema_version": 3,
     "solution": true,
     "task": false
    }
   },
   "outputs": [],
   "source": [
    "# YOUR CODE HERE\n",
    "raise NotImplementedError()"
   ]
  },
  {
   "cell_type": "code",
   "execution_count": null,
   "metadata": {
    "deletable": false,
    "editable": false,
    "nbgrader": {
     "cell_type": "code",
     "checksum": "4da5d5ec029d4be16514392c0d54bc21",
     "grade": true,
     "grade_id": "cell-4c9f06a8534cbefc",
     "locked": true,
     "points": 0,
     "schema_version": 3,
     "solution": false,
     "task": false
    }
   },
   "outputs": [],
   "source": [
    "assert abs(l2_distance([1, 0], [1, 0]) - 0) < 1e-5\n",
    "assert abs(l2_distance([1, 0], [0, 1]) - 2 ** 0.5) < 1e-5"
   ]
  },
  {
   "cell_type": "markdown",
   "metadata": {
    "deletable": false,
    "editable": false,
    "nbgrader": {
     "cell_type": "markdown",
     "checksum": "ee73ffe5a7b82e476e8db0c1d7b01937",
     "grade": false,
     "grade_id": "cell-8d38b914ec98f2be",
     "locked": true,
     "schema_version": 3,
     "solution": false,
     "task": false
    }
   },
   "source": [
    "# 15. Create a function that takes a matrix of size NxM and returns the pairwise L2 distance of each row pair.\n",
    "\n",
    "For input $A^{N \\times M}$, the output should be $D^{N \\times N}$ where: $D_{i,j} = L_2 (A_i, A_j)$"
   ]
  },
  {
   "cell_type": "code",
   "execution_count": null,
   "metadata": {
    "deletable": false,
    "nbgrader": {
     "cell_type": "code",
     "checksum": "80bcb4c2f3f8cead8816494483b6ec74",
     "grade": false,
     "grade_id": "cell-644d3391fc995ee9",
     "locked": false,
     "schema_version": 3,
     "solution": true,
     "task": false
    }
   },
   "outputs": [],
   "source": [
    "# YOUR CODE HERE\n",
    "raise NotImplementedError()"
   ]
  },
  {
   "cell_type": "code",
   "execution_count": null,
   "metadata": {
    "deletable": false,
    "editable": false,
    "nbgrader": {
     "cell_type": "code",
     "checksum": "e203069375423d4d4e03c526afac97d9",
     "grade": true,
     "grade_id": "cell-8bc3cf03b303c7c3",
     "locked": true,
     "points": 0,
     "schema_version": 3,
     "solution": false,
     "task": false
    }
   },
   "outputs": [],
   "source": [
    "D = pairwise_row_distance([[1, 0, 2], [0, 2, 1]])\n",
    "# should be a matrix\n",
    "assert is_matrix(D) == True\n",
    "assert len(D) == 2\n",
    "assert len(D[0]) == 2\n",
    "assert D[0][0] == 0\n",
    "assert abs(D[0][1] - 2.449489742783178) < 1e-3\n",
    "assert abs(D[1][0] - 2.449489742783178) < 1e-3\n",
    "assert D[1][1] == 0\n",
    "\n",
    "# should be symmetric\n",
    "assert transpose(D) == D"
   ]
  }
 ],
 "metadata": {
  "kernelspec": {
   "display_name": "Python 3",
   "language": "python",
   "name": "python3"
  },
  "language_info": {
   "codemirror_mode": {
    "name": "ipython",
    "version": 3
   },
   "file_extension": ".py",
   "mimetype": "text/x-python",
   "name": "python",
   "nbconvert_exporter": "python",
   "pygments_lexer": "ipython3",
   "version": "3.8.5"
  },
  "toc": {
   "base_numbering": 1,
   "nav_menu": {},
   "number_sections": true,
   "sideBar": true,
   "skip_h1_title": false,
   "title_cell": "Table of Contents",
   "title_sidebar": "Contents",
   "toc_cell": false,
   "toc_position": {
    "height": "calc(100% - 180px)",
    "left": "10px",
    "top": "150px",
    "width": "401px"
   },
   "toc_section_display": true,
   "toc_window_display": true
  }
 },
 "nbformat": 4,
 "nbformat_minor": 2
}
